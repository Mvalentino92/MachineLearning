{
  "nbformat": 4,
  "nbformat_minor": 0,
  "metadata": {
    "colab": {
      "name": "ScrambledPets.ipynb",
      "provenance": [],
      "collapsed_sections": []
    },
    "kernelspec": {
      "name": "python3",
      "display_name": "Python 3"
    },
    "accelerator": "GPU"
  },
  "cells": [
    {
      "cell_type": "code",
      "metadata": {
        "id": "mGjxzdsy4LJU",
        "outputId": "fffc0fd8-f91b-4ec9-8acc-8a8a984dbbca",
        "colab": {
          "base_uri": "https://localhost:8080/"
        }
      },
      "source": [
        "! [ -e /content ] && pip install -Uqq fastai"
      ],
      "execution_count": null,
      "outputs": [
        {
          "output_type": "stream",
          "text": [
            "\u001b[K     |████████████████████████████████| 194kB 10.0MB/s \n",
            "\u001b[K     |████████████████████████████████| 51kB 7.2MB/s \n",
            "\u001b[?25h"
          ],
          "name": "stdout"
        }
      ]
    },
    {
      "cell_type": "code",
      "metadata": {
        "id": "_Yhvo2YT9aRX"
      },
      "source": [
        "from fastai.vision.all import *"
      ],
      "execution_count": null,
      "outputs": []
    },
    {
      "cell_type": "code",
      "metadata": {
        "id": "VgvVBXop6mHg"
      },
      "source": [
        "import numpy as np\n",
        "import matplotlib.pyplot as plt\n",
        "import os\n",
        "import torch\n",
        "import pathlib\n",
        "import random"
      ],
      "execution_count": null,
      "outputs": []
    },
    {
      "cell_type": "code",
      "metadata": {
        "id": "L74jrWIxY0_o",
        "outputId": "a401d060-7e64-4ff7-aa7f-54bc5d70afd7",
        "colab": {
          "base_uri": "https://localhost:8080/",
          "height": 17
        }
      },
      "source": [
        "# Get the data for pets\n",
        "path = untar_data(URLs.PETS)"
      ],
      "execution_count": null,
      "outputs": [
        {
          "output_type": "display_data",
          "data": {
            "text/html": [
              ""
            ],
            "text/plain": [
              "<IPython.core.display.HTML object>"
            ]
          },
          "metadata": {
            "tags": []
          }
        }
      ]
    },
    {
      "cell_type": "code",
      "metadata": {
        "id": "gVRI93EidiZl"
      },
      "source": [
        "# Get the image files\n",
        "files = get_image_files(path/'images')"
      ],
      "execution_count": null,
      "outputs": []
    },
    {
      "cell_type": "code",
      "metadata": {
        "id": "ij6IKcoGl2Rq"
      },
      "source": [
        "# Go through and do all processesing and relabelling\n",
        "indices = np.arange(4)\n",
        "for i in range(len(files)):\n",
        "\n",
        "    # First grab the image, resize it and convery to numpy array\n",
        "    img = np.array(PILImage.create(files[i]).resize((224,224)))\n",
        "\n",
        "    # Grab data in cells, and save to list\n",
        "    cells = []\n",
        "    for row in range(2):\n",
        "        for col in range(2):\n",
        "            cells.append(img[row*112:(row+1)*112,col*112:(col+1)*112]) # No copy required, see NOTE\n",
        "    \n",
        "    # Get a permutation to shuffle the list by\n",
        "    np.random.shuffle(indices)\n",
        "    cells = np.array(cells)[indices] # NOTE: returns new, no copy above\n",
        "\n",
        "    # Go back through, and update image\n",
        "    for row in range(2):\n",
        "        for col in range(2):\n",
        "            img[row*112:(row+1)*112,col*112:(col+1)*112] = cells[row*2 + col]\n",
        "\n",
        "    # Save filename as permutation used\n",
        "    name = str(i) + '_' + '_'.join([str(c) for c in indices]) + '.jpg'\n",
        "\n",
        "    # Convert back to image and overrite current file (with old name first)\n",
        "    img = Image.fromarray(img)\n",
        "    img.save(files[i])\n",
        "\n",
        "    # Now rename with os in system, but first split string to get new name\n",
        "    path_str = files[i].as_posix().split('/')\n",
        "    new_path = '/'.join(path_str[:-1]) + '/' + name\n",
        "    os.rename(files[i],new_path)\n",
        "\n",
        "    # Finally, rename the path to match\n",
        "    files[i] = files[i].with_name(name)"
      ],
      "execution_count": null,
      "outputs": []
    },
    {
      "cell_type": "code",
      "metadata": {
        "id": "XZXBs5_h8gdF"
      },
      "source": [
        "# Create function to unshuffle image given permutation\n",
        "def unshuffle(x,mapping=None): # where x is just the Path object\n",
        "\n",
        "    if mapping is None:\n",
        "        \n",
        "        # Get the name, has the label\n",
        "        mapping = (x.name).split('_')[1:] # Exclude number\n",
        "        mapping[-1] = mapping[-1][:-4] # get rid of .jpg for last\n",
        "        mapping = np.array(mapping,np.int)\n",
        "\n",
        "    # Grab image, and turn into a numpy array \n",
        "    if type(x) == pathlib.PosixPath:\n",
        "        img = np.array(PILImage.create(x))\n",
        "    else:\n",
        "        img = np.array(x)\n",
        "\n",
        "    # Go through, and add data where it goes in array\n",
        "    cells = [None]*4\n",
        "    for row in range(2):\n",
        "        for col in range(2):\n",
        "            cells[mapping[row*2 + col]] = img[row*112:(row+1)*112,col*112:(col+1)*112].copy() # Must copy\n",
        "\n",
        "    # Second pass through, repopulate the img correctly\n",
        "    for row in range(2):\n",
        "        for col in range(2):\n",
        "            img[row*112:(row+1)*112,col*112:(col+1)*112] = cells[row*2+col]\n",
        "    \n",
        "    # Turn back into image, and return\n",
        "    return Image.fromarray(img)"
      ],
      "execution_count": null,
      "outputs": []
    },
    {
      "cell_type": "code",
      "metadata": {
        "id": "X6Lz_S6t61Jg"
      },
      "source": [
        "# Real label function\n",
        "def label_func(x):\n",
        "\n",
        "    # Grab all the numbers in an array\n",
        "    mapping = (x.name).split('_')[1:] # Exclude number\n",
        "    mapping[-1] = mapping[-1][:-4] # get rid of .jpg for last\n",
        "    mapping = np.array(mapping,np.int)\n",
        "\n",
        "    # Spread out values evenly, give enough space for landscape\n",
        "    vals = np.array([-75,-25,25,75])\n",
        "    retval = np.zeros(4)\n",
        "    for i,idx in enumerate(mapping):\n",
        "        retval[idx] = vals[i]\n",
        "    return retval"
      ],
      "execution_count": null,
      "outputs": []
    },
    {
      "cell_type": "code",
      "metadata": {
        "id": "GbpEqwTNLtMp"
      },
      "source": [
        "# Make the data loader\n",
        "pets = DataBlock(blocks = (ImageBlock,RegressionBlock(n_out=4)),\n",
        "                 get_items=get_image_files,\n",
        "                 splitter=RandomSplitter(seed=42),\n",
        "                 get_y=label_func)\n",
        "dls = pets.dataloaders(path/'images')"
      ],
      "execution_count": null,
      "outputs": []
    },
    {
      "cell_type": "code",
      "metadata": {
        "id": "srSxzEryFcX0"
      },
      "source": [
        "# Load the learner that was trained\n",
        "learn = load_learner('Unscrambler94.pkl')"
      ],
      "execution_count": null,
      "outputs": []
    },
    {
      "cell_type": "code",
      "metadata": {
        "id": "3taQcyz3SZoI"
      },
      "source": [
        "# Gets the accuracy of the validation set\n",
        "correct = 0\n",
        "total = len(dls.valid_ds)\n",
        "for valid in dls.valid_ds:\n",
        "    output = np.argsort(learn.predict(valid[0])[2])\n",
        "    target = np.argsort(valid[1])\n",
        "    correct += 1 if (output == target).all() else 0\n",
        "\n",
        "print(correct/total*100)"
      ],
      "execution_count": null,
      "outputs": []
    },
    {
      "cell_type": "code",
      "metadata": {
        "id": "vgn-sNf0wkFO"
      },
      "source": [
        "# Print out some validation set\n",
        "row,col = 100,2\n",
        "fig,axs = subplots(row,col)\n",
        "valid_subset = [dls.valid_ds[i][0] for i in random.sample(range(len(dls.valid_ds)),row)]\n",
        "for i in range(row):\n",
        "    input = valid_subset[i]\n",
        "    output = unshuffle(input,np.argsort(learn.predict(input)[2]))\n",
        "    axs[i][0].imshow(input)\n",
        "    axs[i][1].imshow(output)\n",
        "plt.show()"
      ],
      "execution_count": null,
      "outputs": []
    },
    {
      "cell_type": "code",
      "metadata": {
        "id": "ktugd8Qe5gqL"
      },
      "source": [
        "# Testing with random images\n",
        "dog1 = PILImage.create('Dog1.jpg').resize((224,224))\n",
        "cat1 = PILImage.create('Cat1.jpg').resize((224,224))\n",
        "cow1 = PILImage.create('Cow1.jpg').resize((224,224))\n",
        "rub1 = PILImage.create('Rub1.jpg').resize((224,224))\n",
        "\n",
        "test_names = ['Dog1.jpg','Cat1.jpg','Cow1.jpg','Rub1.jpg']\n",
        "test_images = [dog1,cat1,cow1,rub1]\n",
        "\n",
        "# Scramble\n",
        "indices = np.arange(4)\n",
        "for i in range(len(test_images)):\n",
        "\n",
        "    # First grab the image, resize it and convery to numpy array\n",
        "    img = np.array(test_images[i])\n",
        "\n",
        "    # Grab data in cells, and save to list\n",
        "    cells = []\n",
        "    for row in range(2):\n",
        "        for col in range(2):\n",
        "            cells.append(img[row*112:(row+1)*112,col*112:(col+1)*112]) # No copy required, see NOTE\n",
        "    \n",
        "    # Get a permutation to shuffle the list by\n",
        "    np.random.shuffle(indices)\n",
        "    cells = np.array(cells)[indices] # NOTE: returns new, no copy above\n",
        "\n",
        "    # Go back through, and update image\n",
        "    for row in range(2):\n",
        "        for col in range(2):\n",
        "            img[row*112:(row+1)*112,col*112:(col+1)*112] = cells[row*2 + col]\n",
        "\n",
        "    # Convert back to image and overrite current file (with old name first)\n",
        "    img = Image.fromarray(img)\n",
        "    img.save(test_names[i])\n",
        "    test_images[i] = PILImage.create(test_names[i])\n",
        "\n",
        "# Now plot\n",
        "row,col = len(test_images),2\n",
        "fig,axs = subplots(row,col)\n",
        "for i in range(row):\n",
        "    input_name = test_names[i]\n",
        "    input_image = test_images[i]\n",
        "    output = unshuffle(input_image,np.argsort(learn.predict(input_name)[2]))\n",
        "    axs[i][0].imshow(input_image)\n",
        "    axs[i][1].imshow(output)\n",
        "plt.show()"
      ],
      "execution_count": null,
      "outputs": []
    }
  ]
}