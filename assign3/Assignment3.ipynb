{
  "nbformat": 4,
  "nbformat_minor": 0,
  "metadata": {
    "coursera": {
      "course_slug": "neural-networks-deep-learning",
      "graded_item_id": "XHpfv",
      "launcher_item_id": "Zh0CU"
    },
    "kernelspec": {
      "display_name": "Python 3",
      "language": "python",
      "name": "python3"
    },
    "language_info": {
      "codemirror_mode": {
        "name": "ipython",
        "version": 3
      },
      "file_extension": ".py",
      "mimetype": "text/x-python",
      "name": "python",
      "nbconvert_exporter": "python",
      "pygments_lexer": "ipython3",
      "version": "3.7.6"
    },
    "colab": {
      "name": "Assignment3.ipynb",
      "provenance": []
    },
    "widgets": {
      "application/vnd.jupyter.widget-state+json": {
        "a3d21927fb924aa59dedfc353c643da8": {
          "model_module": "@jupyter-widgets/controls",
          "model_name": "VBoxModel",
          "state": {
            "_view_name": "VBoxView",
            "_dom_classes": [
              "widget-interact"
            ],
            "_model_name": "VBoxModel",
            "_view_module": "@jupyter-widgets/controls",
            "_model_module_version": "1.5.0",
            "_view_count": null,
            "_view_module_version": "1.5.0",
            "box_style": "",
            "layout": "IPY_MODEL_4542f1112f954436828370e0f03e0d2e",
            "_model_module": "@jupyter-widgets/controls",
            "children": [
              "IPY_MODEL_a62919b6e1744120ba4a106fbd9ee2f7",
              "IPY_MODEL_8d6878dbc4cf4a2bb654826faf5571de",
              "IPY_MODEL_909652450574414088fb545a1bac132f"
            ]
          }
        },
        "4542f1112f954436828370e0f03e0d2e": {
          "model_module": "@jupyter-widgets/base",
          "model_name": "LayoutModel",
          "state": {
            "_view_name": "LayoutView",
            "grid_template_rows": null,
            "right": null,
            "justify_content": null,
            "_view_module": "@jupyter-widgets/base",
            "overflow": null,
            "_model_module_version": "1.2.0",
            "_view_count": null,
            "flex_flow": null,
            "width": null,
            "min_width": null,
            "border": null,
            "align_items": null,
            "bottom": null,
            "_model_module": "@jupyter-widgets/base",
            "top": null,
            "grid_column": null,
            "overflow_y": null,
            "overflow_x": null,
            "grid_auto_flow": null,
            "grid_area": null,
            "grid_template_columns": null,
            "flex": null,
            "_model_name": "LayoutModel",
            "justify_items": null,
            "grid_row": null,
            "max_height": null,
            "align_content": null,
            "visibility": null,
            "align_self": null,
            "height": null,
            "min_height": null,
            "padding": null,
            "grid_auto_rows": null,
            "grid_gap": null,
            "max_width": null,
            "order": null,
            "_view_module_version": "1.2.0",
            "grid_template_areas": null,
            "object_position": null,
            "object_fit": null,
            "grid_auto_columns": null,
            "margin": null,
            "display": null,
            "left": null
          }
        },
        "a62919b6e1744120ba4a106fbd9ee2f7": {
          "model_module": "@jupyter-widgets/controls",
          "model_name": "IntSliderModel",
          "state": {
            "_view_name": "IntSliderView",
            "style": "IPY_MODEL_4ac332432a0d42bfbca722bd177e3477",
            "_dom_classes": [],
            "description": "angle1",
            "step": 10,
            "_model_name": "IntSliderModel",
            "orientation": "horizontal",
            "max": 180,
            "_view_module": "@jupyter-widgets/controls",
            "_model_module_version": "1.5.0",
            "value": 40,
            "_view_count": null,
            "disabled": false,
            "_view_module_version": "1.5.0",
            "min": -180,
            "continuous_update": true,
            "readout_format": "d",
            "description_tooltip": null,
            "readout": true,
            "_model_module": "@jupyter-widgets/controls",
            "layout": "IPY_MODEL_060a7903b99e44db8994630f57774042"
          }
        },
        "8d6878dbc4cf4a2bb654826faf5571de": {
          "model_module": "@jupyter-widgets/controls",
          "model_name": "IntSliderModel",
          "state": {
            "_view_name": "IntSliderView",
            "style": "IPY_MODEL_6835f36cbe23453685a9075da99f90fb",
            "_dom_classes": [],
            "description": "angle2",
            "step": 10,
            "_model_name": "IntSliderModel",
            "orientation": "horizontal",
            "max": 180,
            "_view_module": "@jupyter-widgets/controls",
            "_model_module_version": "1.5.0",
            "value": 40,
            "_view_count": null,
            "disabled": false,
            "_view_module_version": "1.5.0",
            "min": -180,
            "continuous_update": true,
            "readout_format": "d",
            "description_tooltip": null,
            "readout": true,
            "_model_module": "@jupyter-widgets/controls",
            "layout": "IPY_MODEL_ae2359d22aa840c7bc2430b8a59676d2"
          }
        },
        "909652450574414088fb545a1bac132f": {
          "model_module": "@jupyter-widgets/output",
          "model_name": "OutputModel",
          "state": {
            "_view_name": "OutputView",
            "msg_id": "",
            "_dom_classes": [],
            "_model_name": "OutputModel",
            "outputs": [
              {
                "output_type": "display_data",
                "metadata": {
                  "tags": []
                },
                "text/plain": "<Figure size 576x288 with 0 Axes>"
              },
              {
                "output_type": "display_data",
                "metadata": {
                  "tags": []
                },
                "image/png": "iVBORw0KGgoAAAANSUhEUgAAAtQAAAKaCAYAAAAef87sAAAABHNCSVQICAgIfAhkiAAAAAlwSFlz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\n",
                "text/plain": "<Figure size 864x864 with 2 Axes>"
              }
            ],
            "_view_module": "@jupyter-widgets/output",
            "_model_module_version": "1.0.0",
            "_view_count": null,
            "_view_module_version": "1.0.0",
            "layout": "IPY_MODEL_1c5fb9410527455b8c9d9e8bfa43ba67",
            "_model_module": "@jupyter-widgets/output"
          }
        },
        "4ac332432a0d42bfbca722bd177e3477": {
          "model_module": "@jupyter-widgets/controls",
          "model_name": "SliderStyleModel",
          "state": {
            "_view_name": "StyleView",
            "handle_color": null,
            "_model_name": "SliderStyleModel",
            "description_width": "",
            "_view_module": "@jupyter-widgets/base",
            "_model_module_version": "1.5.0",
            "_view_count": null,
            "_view_module_version": "1.2.0",
            "_model_module": "@jupyter-widgets/controls"
          }
        },
        "060a7903b99e44db8994630f57774042": {
          "model_module": "@jupyter-widgets/base",
          "model_name": "LayoutModel",
          "state": {
            "_view_name": "LayoutView",
            "grid_template_rows": null,
            "right": null,
            "justify_content": null,
            "_view_module": "@jupyter-widgets/base",
            "overflow": null,
            "_model_module_version": "1.2.0",
            "_view_count": null,
            "flex_flow": null,
            "width": null,
            "min_width": null,
            "border": null,
            "align_items": null,
            "bottom": null,
            "_model_module": "@jupyter-widgets/base",
            "top": null,
            "grid_column": null,
            "overflow_y": null,
            "overflow_x": null,
            "grid_auto_flow": null,
            "grid_area": null,
            "grid_template_columns": null,
            "flex": null,
            "_model_name": "LayoutModel",
            "justify_items": null,
            "grid_row": null,
            "max_height": null,
            "align_content": null,
            "visibility": null,
            "align_self": null,
            "height": null,
            "min_height": null,
            "padding": null,
            "grid_auto_rows": null,
            "grid_gap": null,
            "max_width": null,
            "order": null,
            "_view_module_version": "1.2.0",
            "grid_template_areas": null,
            "object_position": null,
            "object_fit": null,
            "grid_auto_columns": null,
            "margin": null,
            "display": null,
            "left": null
          }
        },
        "6835f36cbe23453685a9075da99f90fb": {
          "model_module": "@jupyter-widgets/controls",
          "model_name": "SliderStyleModel",
          "state": {
            "_view_name": "StyleView",
            "handle_color": null,
            "_model_name": "SliderStyleModel",
            "description_width": "",
            "_view_module": "@jupyter-widgets/base",
            "_model_module_version": "1.5.0",
            "_view_count": null,
            "_view_module_version": "1.2.0",
            "_model_module": "@jupyter-widgets/controls"
          }
        },
        "ae2359d22aa840c7bc2430b8a59676d2": {
          "model_module": "@jupyter-widgets/base",
          "model_name": "LayoutModel",
          "state": {
            "_view_name": "LayoutView",
            "grid_template_rows": null,
            "right": null,
            "justify_content": null,
            "_view_module": "@jupyter-widgets/base",
            "overflow": null,
            "_model_module_version": "1.2.0",
            "_view_count": null,
            "flex_flow": null,
            "width": null,
            "min_width": null,
            "border": null,
            "align_items": null,
            "bottom": null,
            "_model_module": "@jupyter-widgets/base",
            "top": null,
            "grid_column": null,
            "overflow_y": null,
            "overflow_x": null,
            "grid_auto_flow": null,
            "grid_area": null,
            "grid_template_columns": null,
            "flex": null,
            "_model_name": "LayoutModel",
            "justify_items": null,
            "grid_row": null,
            "max_height": null,
            "align_content": null,
            "visibility": null,
            "align_self": null,
            "height": null,
            "min_height": null,
            "padding": null,
            "grid_auto_rows": null,
            "grid_gap": null,
            "max_width": null,
            "order": null,
            "_view_module_version": "1.2.0",
            "grid_template_areas": null,
            "object_position": null,
            "object_fit": null,
            "grid_auto_columns": null,
            "margin": null,
            "display": null,
            "left": null
          }
        }
      }
    }
  },
  "cells": [
    {
      "cell_type": "markdown",
      "metadata": {
        "id": "dPu_YEKEEGD5",
        "colab_type": "text"
      },
      "source": [
        "## ML functions: Implementation in Python (Due: 2/28/20 - Friday)\n",
        "\n",
        "- In this third programming assignment, you will be implementing some important functions and algorithms used in machine learning. This assignment will help reinforce the basics of Python\n",
        "\n",
        "**Instructions:**\n",
        "- You will be using Python 3.\n",
        "- Avoid using for-loops and while-loops, unless you are explicitly told to do so.\n",
        "- Do not modify the (# GRADED FUNCTION [function name]) comment in some cells. Your work would not be graded if you change this. Each cell containing that comment should only contain one function.\n",
        "- After coding your function, run the cell right below it to check if your result is correct.\n",
        "\n",
        "**After this assignment you will:**\n",
        "- Understand the concept of \"broadcasting\"\n",
        "- Be able to vectorize code\n",
        "- Be familiar with the 'sigmoid function\"\n",
        "- Be familiar with the gradient descent algorithm  to optimize a function\n"
      ]
    },
    {
      "cell_type": "markdown",
      "metadata": {
        "id": "rrzU_ESTEGD-",
        "colab_type": "text"
      },
      "source": [
        "## Note on completing this assignment ##\n",
        "You only need to write code between the ### START CODE HERE ### and ### END CODE HERE ### comments. After writing your code, you can run the cell by either pressing \"SHIFT\"+\"ENTER\" or by clicking on \"Run Cell\" (denoted by a play symbol) in the upper bar of the notebook. \n",
        "\n",
        "We will often specify \"(≈ X lines of code)\" in the comments to tell you about how much code you need to write. It is just a rough estimate, so don't feel bad if your code is longer or shorter.\n",
        "\n",
        "**Exercise**: Set test to `\"Hello World\"` in the cell below to print \"Hello World\" and run the two cells below."
      ]
    },
    {
      "cell_type": "code",
      "metadata": {
        "id": "K1IhYOJwEGEB",
        "colab_type": "code",
        "colab": {}
      },
      "source": [
        "### START CODE HERE ### (≈ 1 line of code)\n",
        "test = \"Hello World\"\n",
        "### END CODE HERE ###"
      ],
      "execution_count": 0,
      "outputs": []
    },
    {
      "cell_type": "code",
      "metadata": {
        "id": "I5lR84wPEGEL",
        "colab_type": "code",
        "outputId": "c6a47923-1bf3-43b3-db0a-bbddf89a06e9",
        "colab": {
          "base_uri": "https://localhost:8080/",
          "height": 35
        }
      },
      "source": [
        "print (\"test: \" + test)"
      ],
      "execution_count": 0,
      "outputs": [
        {
          "output_type": "stream",
          "text": [
            "test: Hello World\n"
          ],
          "name": "stdout"
        }
      ]
    },
    {
      "cell_type": "markdown",
      "metadata": {
        "id": "IDsJ2mL_EGES",
        "colab_type": "text"
      },
      "source": [
        "**Expected output**:\n",
        "test: Hello World"
      ]
    },
    {
      "cell_type": "markdown",
      "metadata": {
        "id": "HL2r7BxYEGEU",
        "colab_type": "text"
      },
      "source": [
        "<font color='blue'>\n",
        "**What you need to remember**:\n",
        "- Run your cells using SHIFT+ENTER (or \"Run cell\")\n",
        "- Write code in the designated areas using Python 3 only\n",
        "- Do not modify the code outside of the designated areas"
      ]
    },
    {
      "cell_type": "markdown",
      "metadata": {
        "id": "DHxXW_xeEGEV",
        "colab_type": "text"
      },
      "source": [
        "## 1 - Building basic functions with numpy ##\n",
        "\n",
        "Numpy is the main package for scientific computing in Python. It is maintained by a large community (www.numpy.org). In this exercise you will learn several key numpy functions such as np.exp, np.log, and np.reshape. You will need to know how to use these functions for future assignments.\n",
        "\n",
        "### 1.1 - sigmoid function, np.exp() ###\n",
        "\n",
        "Before using np.exp(), you will use math.exp() to implement the sigmoid function. You will then see why np.exp() is preferable to math.exp().\n",
        "\n",
        "#### <font color=blue> **Exercise 1**: </font> Build a function that returns the sigmoid of a real number x. Use math.exp(x) for the exponential function.\n",
        "\n",
        "**Reminder**:\n",
        "$sigmoid(x) = \\frac{1}{1+e^{-x}}$ is sometimes also known as the logistic function. It is a non-linear function used not only in Machine Learning (Logistic Regression), but also in Deep Learning.\n",
        "\n",
        "<img src=\"Sigmoid.png\" style=\"width:500px;height:400px;\">\n",
        "\n",
        "To refer to a function belonging to a specific package you could call it using package_name.function(). Run the code below to see an example with math.exp()."
      ]
    },
    {
      "cell_type": "code",
      "metadata": {
        "id": "qipFle6_EGEX",
        "colab_type": "code",
        "colab": {}
      },
      "source": [
        "# GRADED FUNCTION: basic_sigmoid\n",
        "\n",
        "import math\n",
        "\n",
        "def basic_sigmoid(x):\n",
        "    \"\"\"\n",
        "    Compute sigmoid of x.\n",
        "\n",
        "    Arguments:\n",
        "    x -- A scalar\n",
        "\n",
        "    Return:\n",
        "    s -- sigmoid(x)\n",
        "    \"\"\"\n",
        "    \n",
        "    ### START CODE HERE ### (≈ 1 line of code)\n",
        "    s = 1/(1 + math.exp(-x))\n",
        "    ### END CODE HERE ###\n",
        "    \n",
        "    return s"
      ],
      "execution_count": 0,
      "outputs": []
    },
    {
      "cell_type": "code",
      "metadata": {
        "id": "5SLsubzTEGEe",
        "colab_type": "code",
        "outputId": "e38bb16c-158e-4901-f06f-1ddd5bd8aa98",
        "colab": {
          "base_uri": "https://localhost:8080/",
          "height": 35
        }
      },
      "source": [
        "basic_sigmoid(3)"
      ],
      "execution_count": 0,
      "outputs": [
        {
          "output_type": "execute_result",
          "data": {
            "text/plain": [
              "0.9525741268224334"
            ]
          },
          "metadata": {
            "tags": []
          },
          "execution_count": 4
        }
      ]
    },
    {
      "cell_type": "markdown",
      "metadata": {
        "id": "hv0xIbaBEGEj",
        "colab_type": "text"
      },
      "source": [
        "**Expected Output**: \n",
        "<table style = \"width:40%\">\n",
        "    <tr>\n",
        "    <td>** basic_sigmoid(3) **</td> \n",
        "        <td>0.9525741268224334 </td> \n",
        "    </tr>\n",
        "\n",
        "</table>"
      ]
    },
    {
      "cell_type": "markdown",
      "metadata": {
        "id": "3hzVgGsPEGEk",
        "colab_type": "text"
      },
      "source": [
        "Actually, we rarely use the \"math\" library in deep learning because the inputs of the functions are real numbers. In deep learning we mostly use matrices and vectors. This is why numpy is more useful. "
      ]
    },
    {
      "cell_type": "code",
      "metadata": {
        "id": "yMgraQ7NEGEl",
        "colab_type": "code",
        "colab": {}
      },
      "source": [
        "### One reason why we use \"numpy\" instead of \"math\" in Deep Learning ###\n",
        "x = [1, 2, 3]\n",
        "basic_sigmoid(x) # you will see this give an error when you run it, because x is a vector."
      ],
      "execution_count": 0,
      "outputs": []
    },
    {
      "cell_type": "markdown",
      "metadata": {
        "id": "25CTXKGIEGEq",
        "colab_type": "text"
      },
      "source": [
        "In fact, if $ x = (x_1, x_2, ..., x_n)$ is a row vector then $np.exp(x)$ will apply the exponential function to every element of x. The output will thus be: $np.exp(x) = (e^{x_1}, e^{x_2}, ..., e^{x_n})$"
      ]
    },
    {
      "cell_type": "code",
      "metadata": {
        "id": "t1AxCoGpEGEr",
        "colab_type": "code",
        "outputId": "109580b6-22f7-423c-b9c4-3f5f13d10214",
        "colab": {
          "base_uri": "https://localhost:8080/",
          "height": 35
        }
      },
      "source": [
        "import numpy as np\n",
        "\n",
        "# example of np.exp\n",
        "x = np.array([1, 2, 3])\n",
        "print(np.exp(x)) # result is (exp(1), exp(2), exp(3))"
      ],
      "execution_count": 0,
      "outputs": [
        {
          "output_type": "stream",
          "text": [
            "[ 2.71828183  7.3890561  20.08553692]\n"
          ],
          "name": "stdout"
        }
      ]
    },
    {
      "cell_type": "markdown",
      "metadata": {
        "id": "COWAjq1yEGEv",
        "colab_type": "text"
      },
      "source": [
        "Furthermore, if x is a vector, then a Python operation such as $s = x + 3$ or $s = \\frac{1}{x}$ will output s as a vector of the same size as x."
      ]
    },
    {
      "cell_type": "code",
      "metadata": {
        "id": "PyFbs7tUEGEw",
        "colab_type": "code",
        "outputId": "33f33ea3-aba3-42b0-df97-e1f72cd90c43",
        "colab": {
          "base_uri": "https://localhost:8080/",
          "height": 35
        }
      },
      "source": [
        "# example of vector operation\n",
        "x = np.array([1, 2, 3])\n",
        "print (x + 3)"
      ],
      "execution_count": 0,
      "outputs": [
        {
          "output_type": "stream",
          "text": [
            "[4 5 6]\n"
          ],
          "name": "stdout"
        }
      ]
    },
    {
      "cell_type": "markdown",
      "metadata": {
        "id": "oyRG6YKQEGE1",
        "colab_type": "text"
      },
      "source": [
        "Any time you need more info on a numpy function, we encourage you to look at [the official documentation](https://docs.scipy.org/doc/numpy-1.10.1/reference/generated/numpy.exp.html). \n",
        "\n",
        "You can also create a new cell in the notebook and write `np.exp?` (for example) to get quick access to the documentation.\n",
        "\n",
        "#### <font color=blue> **Exercise 2**: </font> Now implement the sigmoid function using numpy. \n",
        "\n",
        "**Instructions**: x could now be either a real number, a vector, or a matrix. The data structures we use in numpy to represent these shapes (vectors, matrices...) are called numpy arrays. You don't need to know more for now.\n",
        "$$ \\text{For } x \\in \\mathbb{R}^n \\text{,     } sigmoid(x) = sigmoid(\\begin{pmatrix}\n",
        "    x_1  \\\\\n",
        "    x_2  \\\\\n",
        "    ...  \\\\\n",
        "    x_n  \\\\\n",
        "\\end{pmatrix}) = \\begin{pmatrix}\n",
        "    \\frac{1}{1+e^{-x_1}}  \\\\\n",
        "    \\frac{1}{1+e^{-x_2}}  \\\\\n",
        "    ...  \\\\\n",
        "    \\frac{1}{1+e^{-x_n}}  \\\\\n",
        "\\end{pmatrix}\\tag{1} $$"
      ]
    },
    {
      "cell_type": "code",
      "metadata": {
        "id": "F-Nbl4-AEGE2",
        "colab_type": "code",
        "colab": {}
      },
      "source": [
        "# GRADED FUNCTION: sigmoid\n",
        "\n",
        "import numpy as np # this means you can access numpy functions by writing np.function() instead of numpy.function()\n",
        "\n",
        "def sigmoid(x):\n",
        "    \"\"\"\n",
        "    Compute the sigmoid of x\n",
        "\n",
        "    Arguments:\n",
        "    x -- A scalar or numpy array of any size\n",
        "\n",
        "    Return:\n",
        "    s -- sigmoid(x)\n",
        "    \"\"\"\n",
        "    \n",
        "    ### START CODE HERE ### (≈ 1 line of code)\n",
        "    s = 1/(1 + np.exp(-x))\n",
        "    ### END CODE HERE ###\n",
        "    \n",
        "    return s"
      ],
      "execution_count": 0,
      "outputs": []
    },
    {
      "cell_type": "code",
      "metadata": {
        "id": "Nat4DRLiEGE5",
        "colab_type": "code",
        "outputId": "4301d8d8-796a-4f2f-84c8-0a03da8411be",
        "colab": {
          "base_uri": "https://localhost:8080/",
          "height": 35
        }
      },
      "source": [
        "x = np.array([1, 2, 3])\n",
        "sigmoid(x)"
      ],
      "execution_count": 0,
      "outputs": [
        {
          "output_type": "execute_result",
          "data": {
            "text/plain": [
              "array([0.73105858, 0.88079708, 0.95257413])"
            ]
          },
          "metadata": {
            "tags": []
          },
          "execution_count": 8
        }
      ]
    },
    {
      "cell_type": "markdown",
      "metadata": {
        "id": "I_4bK-9HEGFA",
        "colab_type": "text"
      },
      "source": [
        "**Expected Output**: \n",
        "<table>\n",
        "    <tr> \n",
        "        <td> **sigmoid([1,2,3])**</td> \n",
        "        <td> array([ 0.73105858,  0.88079708,  0.95257413]) </td> \n",
        "    </tr>\n",
        "</table> \n"
      ]
    },
    {
      "cell_type": "markdown",
      "metadata": {
        "id": "WtQ_IfEkEGFB",
        "colab_type": "text"
      },
      "source": [
        "### 1.2 - Sigmoid gradient\n",
        "\n",
        "As you've seen in lecture, you will need to compute gradients to optimize loss functions using backpropagation. Let's code your first gradient function.\n",
        "\n",
        "#### <font color=blue> **Exercise 3**: </font> Implement the function sigmoid_grad() to compute the gradient of the sigmoid function with respect to its input x. The formula is: $$sigmoid\\_derivative(x) = \\sigma'(x) = \\sigma(x) (1 - \\sigma(x))\\tag{2}$$\n",
        "You often code this function in two steps:\n",
        "1. Set s to be the sigmoid of x. You might find your sigmoid(x) function useful.\n",
        "2. Compute $\\sigma'(x) = s(1-s)$"
      ]
    },
    {
      "cell_type": "code",
      "metadata": {
        "id": "1Q-GIAvjEGFC",
        "colab_type": "code",
        "colab": {}
      },
      "source": [
        "# GRADED FUNCTION: sigmoid_derivative\n",
        "\n",
        "def sigmoid_derivative(x):\n",
        "    \"\"\"\n",
        "    Compute the gradient (also called the slope or derivative) of the sigmoid function with respect to its input x.\n",
        "    You can store the output of the sigmoid function into variables and then use it to calculate the gradient.\n",
        "    \n",
        "    Arguments:\n",
        "    x -- A scalar or numpy array\n",
        "\n",
        "    Return:\n",
        "    ds -- Your computed gradient.\n",
        "    \"\"\"\n",
        "    \n",
        "    ### START CODE HERE ### (≈ 2 lines of code)\n",
        "    s = sigmoid(x)\n",
        "    ds = s*(1-s)\n",
        "    ### END CODE HERE ###\n",
        "    \n",
        "    return ds"
      ],
      "execution_count": 0,
      "outputs": []
    },
    {
      "cell_type": "code",
      "metadata": {
        "id": "iDMjSyN8EGFG",
        "colab_type": "code",
        "outputId": "b460dc6e-de2d-41ee-cdfb-c5375106989c",
        "colab": {
          "base_uri": "https://localhost:8080/",
          "height": 35
        }
      },
      "source": [
        "x = np.array([1, 2, 3])\n",
        "print (\"sigmoid_derivative(x) = \" + str(sigmoid_derivative(x)))"
      ],
      "execution_count": 0,
      "outputs": [
        {
          "output_type": "stream",
          "text": [
            "sigmoid_derivative(x) = [0.19661193 0.10499359 0.04517666]\n"
          ],
          "name": "stdout"
        }
      ]
    },
    {
      "cell_type": "markdown",
      "metadata": {
        "id": "5tcBJzdrEGFK",
        "colab_type": "text"
      },
      "source": [
        "**Expected Output**: \n",
        "\n",
        "\n",
        "<table>\n",
        "    <tr> \n",
        "        <td> **sigmoid_derivative([1,2,3])**</td> \n",
        "        <td> [ 0.19661193  0.10499359  0.04517666] </td> \n",
        "    </tr>\n",
        "</table> \n",
        "\n"
      ]
    },
    {
      "cell_type": "markdown",
      "metadata": {
        "id": "gw4U_0MzEGFN",
        "colab_type": "text"
      },
      "source": [
        "### 1.3 - Reshaping arrays ###\n",
        "\n",
        "Two common numpy functions used in deep learning are [np.shape](https://docs.scipy.org/doc/numpy/reference/generated/numpy.ndarray.shape.html) and [np.reshape()](https://docs.scipy.org/doc/numpy/reference/generated/numpy.reshape.html). \n",
        "- X.shape is used to get the shape (dimension) of a matrix/vector X. \n",
        "- X.reshape(...) is used to reshape X into some other dimension. \n",
        "\n",
        "For example, in computers, an image is typically stored as a 3D array of shape $(length, height, depth = 3)$. However, when you read an image as the input of an algorithm you convert it to a vector of shape $(length*height*3, 1)$. In other words, you \"unroll\", or reshape, the 3D array into a 1D vector.\n",
        "\n",
        "<img src=\"image2vector_kiank.png\" style=\"width:500px;height:300;\">\n",
        "\n",
        "#### <font color=blue> **Exercise 4**: </font> Implement `image2vector()` that takes an input of shape (length, height, 3) and returns a vector of shape (length\\*height\\*3, 1). For example, if you would like to reshape an array v of shape (a, b, c) into a vector of shape (a*b,c) you would do:\n",
        "``` python\n",
        "v = v.reshape((v.shape[0]*v.shape[1], v.shape[2])) # v.shape[0] = a ; v.shape[1] = b ; v.shape[2] = c\n",
        "```\n",
        "- Please don't hardcode the dimensions of image as a constant. Instead look up the quantities you need with `image.shape[0]`, etc. "
      ]
    },
    {
      "cell_type": "code",
      "metadata": {
        "id": "Qhu_X21zEGFO",
        "colab_type": "code",
        "colab": {}
      },
      "source": [
        "# GRADED FUNCTION: image2vector\n",
        "def image2vector(image):\n",
        "    \"\"\"\n",
        "    Argument:\n",
        "    image -- a numpy array of shape (length, height, depth)\n",
        "    \n",
        "    Returns:\n",
        "    v -- a vector of shape (length*height*depth, 1)\n",
        "    \"\"\"\n",
        "    \n",
        "    ### START CODE HERE ### (≈ 1 line of code)\n",
        "    v = image.reshape((np.prod(image.shape),1))\n",
        "    ### END CODE HERE ###\n",
        "    \n",
        "    return v"
      ],
      "execution_count": 0,
      "outputs": []
    },
    {
      "cell_type": "code",
      "metadata": {
        "id": "c6wqR-4wEGFS",
        "colab_type": "code",
        "outputId": "c6d85b5b-8bda-47f1-ee6a-2b09a128a5af",
        "colab": {
          "base_uri": "https://localhost:8080/",
          "height": 341
        }
      },
      "source": [
        "# This is a 3 by 3 by 2 array, typically images will be (num_px_x, num_px_y,3) where 3 represents the RGB values\n",
        "image = np.array([[[ 0.67826139,  0.29380381],\n",
        "        [ 0.90714982,  0.52835647],\n",
        "        [ 0.4215251 ,  0.45017551]],\n",
        "\n",
        "       [[ 0.92814219,  0.96677647],\n",
        "        [ 0.85304703,  0.52351845],\n",
        "        [ 0.19981397,  0.27417313]],\n",
        "\n",
        "       [[ 0.60659855,  0.00533165],\n",
        "        [ 0.10820313,  0.49978937],\n",
        "        [ 0.34144279,  0.94630077]]])\n",
        "\n",
        "print (\"image2vector(image) = \" + str(image2vector(image)))"
      ],
      "execution_count": 0,
      "outputs": [
        {
          "output_type": "stream",
          "text": [
            "image2vector(image) = [[0.67826139]\n",
            " [0.29380381]\n",
            " [0.90714982]\n",
            " [0.52835647]\n",
            " [0.4215251 ]\n",
            " [0.45017551]\n",
            " [0.92814219]\n",
            " [0.96677647]\n",
            " [0.85304703]\n",
            " [0.52351845]\n",
            " [0.19981397]\n",
            " [0.27417313]\n",
            " [0.60659855]\n",
            " [0.00533165]\n",
            " [0.10820313]\n",
            " [0.49978937]\n",
            " [0.34144279]\n",
            " [0.94630077]]\n"
          ],
          "name": "stdout"
        }
      ]
    },
    {
      "cell_type": "markdown",
      "metadata": {
        "id": "APOFG3FhEGFW",
        "colab_type": "text"
      },
      "source": [
        "**Expected Output**: \n",
        "\n",
        "\n",
        "<table style=\"width:100%\">\n",
        "     <tr> \n",
        "       <td> **image2vector(image)** </td> \n",
        "       <td> [[ 0.67826139]\n",
        " [ 0.29380381]\n",
        " [ 0.90714982]\n",
        " [ 0.52835647]\n",
        " [ 0.4215251 ]\n",
        " [ 0.45017551]\n",
        " [ 0.92814219]\n",
        " [ 0.96677647]\n",
        " [ 0.85304703]\n",
        " [ 0.52351845]\n",
        " [ 0.19981397]\n",
        " [ 0.27417313]\n",
        " [ 0.60659855]\n",
        " [ 0.00533165]\n",
        " [ 0.10820313]\n",
        " [ 0.49978937]\n",
        " [ 0.34144279]\n",
        " [ 0.94630077]]</td> \n",
        "     </tr>\n",
        "    \n",
        "   \n",
        "</table>"
      ]
    },
    {
      "cell_type": "markdown",
      "metadata": {
        "id": "s2iC1CBQEGFZ",
        "colab_type": "text"
      },
      "source": [
        "### 1.4 - Normalizing rows\n",
        "\n",
        "Another common technique we use in Machine Learning and Deep Learning is to normalize our data. It often leads to a better performance because gradient descent converges faster after normalization. Here, by normalization we mean changing x to $ \\frac{x}{\\| x\\|} $ (dividing each row vector of x by its norm).\n",
        "\n",
        "For example, if $$x = \n",
        "\\begin{bmatrix}\n",
        "    0 & 3 & 4 \\\\\n",
        "    2 & 6 & 4 \\\\\n",
        "\\end{bmatrix}\\tag{3}$$ then $$\\| x\\| = np.linalg.norm(x, axis = 1, keepdims = True) = \\begin{bmatrix}\n",
        "    5 \\\\\n",
        "    \\sqrt{56} \\\\\n",
        "\\end{bmatrix}\\tag{4} $$and        $$ x\\_normalized = \\frac{x}{\\| x\\|} = \\begin{bmatrix}\n",
        "    0 & \\frac{3}{5} & \\frac{4}{5} \\\\\n",
        "    \\frac{2}{\\sqrt{56}} & \\frac{6}{\\sqrt{56}} & \\frac{4}{\\sqrt{56}} \\\\\n",
        "\\end{bmatrix}\\tag{5}$$ Note that you can divide matrices of different sizes and it works fine: this is called broadcasting and you're going to learn about it in part 5.\n",
        "\n",
        "\n",
        "#### <font color=blue> **Exercise 5**: </font> Implement normalizeRows() to normalize the rows of a matrix. After applying this function to an input matrix x, each row of x should be a vector of unit length (meaning length 1)."
      ]
    },
    {
      "cell_type": "code",
      "metadata": {
        "id": "mvTsHaDYEGFa",
        "colab_type": "code",
        "colab": {}
      },
      "source": [
        "# GRADED FUNCTION: normalizeRows\n",
        "\n",
        "def normalizeRows(x):\n",
        "    \"\"\"\n",
        "    Implement a function that normalizes each row of the matrix x (to have unit length).\n",
        "    \n",
        "    Argument:\n",
        "    x -- A numpy matrix of shape (n, m)\n",
        "    \n",
        "    Returns:\n",
        "    x -- The normalized (by row) numpy matrix. You are allowed to modify x.\n",
        "    \"\"\"\n",
        "    \n",
        "    ### START CODE HERE ### (≈ 2 lines of code)\n",
        "    # Compute x_norm as the norm 2 of x. Use np.linalg.norm(..., ord = 2, axis = ..., keepdims = True)\n",
        "    x_norm = np.linalg.norm(x,ord=2,axis=1,keepdims=True)\n",
        "    \n",
        "    # Divide x by its norm.\n",
        "    x = x/x_norm\n",
        "    ### END CODE HERE ###\n",
        "\n",
        "    return x"
      ],
      "execution_count": 0,
      "outputs": []
    },
    {
      "cell_type": "code",
      "metadata": {
        "id": "xNAzPLuzEGFe",
        "colab_type": "code",
        "outputId": "d25e3817-6ae7-435b-82d9-90cfcebc0a5b",
        "colab": {
          "base_uri": "https://localhost:8080/",
          "height": 53
        }
      },
      "source": [
        "x = np.array([\n",
        "    [0, 3, 4],\n",
        "    [1, 6, 4]])\n",
        "print(\"normalizeRows(x) = \" + str(normalizeRows(x)))"
      ],
      "execution_count": 0,
      "outputs": [
        {
          "output_type": "stream",
          "text": [
            "normalizeRows(x) = [[0.         0.6        0.8       ]\n",
            " [0.13736056 0.82416338 0.54944226]]\n"
          ],
          "name": "stdout"
        }
      ]
    },
    {
      "cell_type": "markdown",
      "metadata": {
        "id": "lT03frdPEGFm",
        "colab_type": "text"
      },
      "source": [
        "**Expected Output**: \n",
        "\n",
        "<table style=\"width:60%\">\n",
        "\n",
        "     <tr> \n",
        "       <td> **normalizeRows(x)** </td> \n",
        "       <td> [[ 0.          0.6         0.8       ]\n",
        " [ 0.13736056  0.82416338  0.54944226]]</td> \n",
        "     </tr>\n",
        "    \n",
        "   \n",
        "</table>"
      ]
    },
    {
      "cell_type": "markdown",
      "metadata": {
        "id": "OEuKR56zEGFn",
        "colab_type": "text"
      },
      "source": [
        "**Note**:\n",
        "In normalizeRows(), you can try to print the shapes of x_norm and x, and then rerun the assessment. You'll find out that they have different shapes. This is normal given that x_norm takes the norm of each row of x. So x_norm has the same number of rows but only 1 column. So how did it work when you divided x by x_norm? This is called broadcasting and we'll talk about it now! "
      ]
    },
    {
      "cell_type": "markdown",
      "metadata": {
        "id": "BD21w0OEEGFq",
        "colab_type": "text"
      },
      "source": [
        "### 1.5 - Broadcasting and the softmax function ####\n",
        "A very important concept to understand in numpy is \"broadcasting\". It is very useful for performing mathematical operations between arrays of different shapes. For the full details on broadcasting, you can read the official [broadcasting documentation](http://docs.scipy.org/doc/numpy/user/basics.broadcasting.html)."
      ]
    },
    {
      "cell_type": "markdown",
      "metadata": {
        "id": "egb5pDADEGFr",
        "colab_type": "text"
      },
      "source": [
        "#### <font color=blue> **Exercise 6**: </font> Implement a softmax function using numpy. You can think of softmax as a normalizing function used when your algorithm needs to classify two or more classes. You will learn more about softmax in the second course of this specialization.\n",
        "\n",
        "**Instructions**:\n",
        "- $ \\text{for } x \\in \\mathbb{R}^{1\\times n} \\text{,     } softmax(x) = softmax(\\begin{bmatrix}\n",
        "    x_1  &&\n",
        "    x_2 &&\n",
        "    ...  &&\n",
        "    x_n  \n",
        "\\end{bmatrix}) = \\begin{bmatrix}\n",
        "     \\frac{e^{x_1}}{\\sum_{j}e^{x_j}}  &&\n",
        "    \\frac{e^{x_2}}{\\sum_{j}e^{x_j}}  &&\n",
        "    ...  &&\n",
        "    \\frac{e^{x_n}}{\\sum_{j}e^{x_j}} \n",
        "\\end{bmatrix} $ \n",
        "\n",
        "- $\\text{for a matrix } x \\in \\mathbb{R}^{m \\times n} \\text{,  $x_{ij}$ maps to the element in the $i^{th}$ row and $j^{th}$ column of $x$, thus we have: }$  $$softmax(x) = softmax\\begin{bmatrix}\n",
        "    x_{11} & x_{12} & x_{13} & \\dots  & x_{1n} \\\\\n",
        "    x_{21} & x_{22} & x_{23} & \\dots  & x_{2n} \\\\\n",
        "    \\vdots & \\vdots & \\vdots & \\ddots & \\vdots \\\\\n",
        "    x_{m1} & x_{m2} & x_{m3} & \\dots  & x_{mn}\n",
        "\\end{bmatrix} = \\begin{bmatrix}\n",
        "    \\frac{e^{x_{11}}}{\\sum_{j}e^{x_{1j}}} & \\frac{e^{x_{12}}}{\\sum_{j}e^{x_{1j}}} & \\frac{e^{x_{13}}}{\\sum_{j}e^{x_{1j}}} & \\dots  & \\frac{e^{x_{1n}}}{\\sum_{j}e^{x_{1j}}} \\\\\n",
        "    \\frac{e^{x_{21}}}{\\sum_{j}e^{x_{2j}}} & \\frac{e^{x_{22}}}{\\sum_{j}e^{x_{2j}}} & \\frac{e^{x_{23}}}{\\sum_{j}e^{x_{2j}}} & \\dots  & \\frac{e^{x_{2n}}}{\\sum_{j}e^{x_{2j}}} \\\\\n",
        "    \\vdots & \\vdots & \\vdots & \\ddots & \\vdots \\\\\n",
        "    \\frac{e^{x_{m1}}}{\\sum_{j}e^{x_{mj}}} & \\frac{e^{x_{m2}}}{\\sum_{j}e^{x_{mj}}} & \\frac{e^{x_{m3}}}{\\sum_{j}e^{x_{mj}}} & \\dots  & \\frac{e^{x_{mn}}}{\\sum_{j}e^{x_{mj}}}\n",
        "\\end{bmatrix} = \\begin{pmatrix}\n",
        "    softmax\\text{(first row of x)}  \\\\\n",
        "    softmax\\text{(second row of x)} \\\\\n",
        "    ...  \\\\\n",
        "    softmax\\text{(last row of x)} \\\\\n",
        "\\end{pmatrix} $$"
      ]
    },
    {
      "cell_type": "code",
      "metadata": {
        "id": "9zaCrckrEGFs",
        "colab_type": "code",
        "colab": {}
      },
      "source": [
        "# GRADED FUNCTION: softmax\n",
        "\n",
        "def softmax(x):\n",
        "    \"\"\"Calculates the softmax for each row of the input x.\n",
        "\n",
        "    Your code should work for a row vector and also for matrices of shape (n, m).\n",
        "\n",
        "    Argument:\n",
        "    x -- A numpy matrix of shape (n,m)\n",
        "\n",
        "    Returns:\n",
        "    s -- A numpy matrix equal to the softmax of x, of shape (n,m)\n",
        "    \"\"\"\n",
        "    \n",
        "    ### START CODE HERE ### (≈ 3 lines of code)\n",
        "    # Apply exp() element-wise to x. Use np.exp(...).\n",
        "    x_exp = np.exp(x)\n",
        "\n",
        "    # Create a vector x_sum that sums each row of x_exp. Use np.sum(..., axis = 1, keepdims = True).\n",
        "    x_sum = np.sum(x_exp,axis=1,keepdims=True)\n",
        "    \n",
        "    # Compute softmax(x) by dividing x_exp by x_sum. It should automatically use numpy broadcasting.\n",
        "    s = x_exp/x_sum\n",
        "\n",
        "    ### END CODE HERE ###\n",
        "    \n",
        "    return s"
      ],
      "execution_count": 0,
      "outputs": []
    },
    {
      "cell_type": "code",
      "metadata": {
        "id": "yIQxmoL1EGFw",
        "colab_type": "code",
        "outputId": "18783319-b3f3-4ec9-d83e-1c5458c7a314",
        "colab": {
          "base_uri": "https://localhost:8080/",
          "height": 89
        }
      },
      "source": [
        "x = np.array([\n",
        "    [9, 2, 5, 0, 0],\n",
        "    [7, 5, 0, 0 ,0]])\n",
        "print(\"softmax(x) = \" + str(softmax(x)))"
      ],
      "execution_count": 0,
      "outputs": [
        {
          "output_type": "stream",
          "text": [
            "softmax(x) = [[9.80897665e-01 8.94462891e-04 1.79657674e-02 1.21052389e-04\n",
            "  1.21052389e-04]\n",
            " [8.78679856e-01 1.18916387e-01 8.01252314e-04 8.01252314e-04\n",
            "  8.01252314e-04]]\n"
          ],
          "name": "stdout"
        }
      ]
    },
    {
      "cell_type": "markdown",
      "metadata": {
        "id": "D3qTKgG9EGF0",
        "colab_type": "text"
      },
      "source": [
        "**Expected Output**:\n",
        "\n",
        "<table style=\"width:60%\">\n",
        "\n",
        "     <tr> \n",
        "       <td> **softmax(x)** </td> \n",
        "       <td> [[  9.80897665e-01   8.94462891e-04   1.79657674e-02   1.21052389e-04\n",
        "    1.21052389e-04]\n",
        " [  8.78679856e-01   1.18916387e-01   8.01252314e-04   8.01252314e-04\n",
        "    8.01252314e-04]]</td> \n",
        "     </tr>\n",
        "</table>\n"
      ]
    },
    {
      "cell_type": "markdown",
      "metadata": {
        "id": "OHNGiK3LEGF3",
        "colab_type": "text"
      },
      "source": [
        "**Note**:\n",
        "- If you print the shapes of x_exp, x_sum and s above and rerun the assessment cell, you will see that x_sum is of shape (2,1) while x_exp and s are of shape (2,5). **x_exp/x_sum** works due to python broadcasting.\n",
        "\n",
        "Congratulations! You now have a pretty good understanding of python numpy and have implemented a few useful functions that you will be using in deep learning."
      ]
    },
    {
      "cell_type": "markdown",
      "metadata": {
        "id": "jCNMQ1mjEGF4",
        "colab_type": "text"
      },
      "source": [
        "<font color='blue'>\n",
        "**What you need to remember:**\n",
        "- np.exp(x) works for any np.array x and applies the exponential function to every coordinate\n",
        "- the sigmoid function and its gradient\n",
        "- image2vector is commonly used in deep learning\n",
        "- np.reshape is widely used. In the future, you'll see that keeping your matrix/vector dimensions straight will go toward eliminating a lot of bugs. \n",
        "- numpy has efficient built-in functions\n",
        "- broadcasting is extremely useful"
      ]
    },
    {
      "cell_type": "markdown",
      "metadata": {
        "collapsed": true,
        "id": "kqUQsN9bEGF6",
        "colab_type": "text"
      },
      "source": [
        "## 2) Vectorization"
      ]
    },
    {
      "cell_type": "markdown",
      "metadata": {
        "id": "GSjEp1ziEGF7",
        "colab_type": "text"
      },
      "source": [
        "\n",
        "In deep learning, you deal with very large datasets. Hence, a non-computationally-optimal function can become a huge bottleneck in your algorithm and can result in a model that takes ages to run. To make sure that your code is  computationally efficient, you will use vectorization. For example, try to tell the difference between the following implementations of the dot/outer/elementwise product."
      ]
    },
    {
      "cell_type": "code",
      "metadata": {
        "id": "qfW_cg32EGF8",
        "colab_type": "code",
        "outputId": "1247bbaf-e119-42c4-d351-bde20a616fcb",
        "colab": {
          "base_uri": "https://localhost:8080/",
          "height": 413
        }
      },
      "source": [
        "import time\n",
        "\n",
        "x1 = [9, 2, 5, 0, 0, 7, 5, 0, 0, 0, 9, 2, 5, 0, 0]\n",
        "x2 = [9, 2, 2, 9, 0, 9, 2, 5, 0, 0, 9, 2, 5, 0, 0]\n",
        "\n",
        "### CLASSIC DOT PRODUCT OF VECTORS IMPLEMENTATION ###\n",
        "tic = time.process_time()\n",
        "dot = 0\n",
        "for i in range(len(x1)):\n",
        "    dot+= x1[i]*x2[i]\n",
        "toc = time.process_time()\n",
        "print (\"dot = \" + str(dot) + \"\\n ----- Computation time = \" + str(1000*(toc - tic)) + \"ms\")\n",
        "\n",
        "### CLASSIC OUTER PRODUCT IMPLEMENTATION ###\n",
        "tic = time.process_time()\n",
        "outer = np.zeros((len(x1),len(x2))) # we create a len(x1)*len(x2) matrix with only zeros\n",
        "for i in range(len(x1)):\n",
        "    for j in range(len(x2)):\n",
        "        outer[i,j] = x1[i]*x2[j]\n",
        "toc = time.process_time()\n",
        "print (\"outer = \" + str(outer) + \"\\n ----- Computation time = \" + str(1000*(toc - tic)) + \"ms\")\n",
        "\n",
        "### CLASSIC ELEMENTWISE IMPLEMENTATION ###\n",
        "tic = time.process_time()\n",
        "mul = np.zeros(len(x1))\n",
        "for i in range(len(x1)):\n",
        "    mul[i] = x1[i]*x2[i]\n",
        "toc = time.process_time()\n",
        "print (\"elementwise multiplication = \" + str(mul) + \"\\n ----- Computation time = \" + str(1000*(toc - tic)) + \"ms\")\n",
        "\n",
        "### CLASSIC GENERAL DOT PRODUCT IMPLEMENTATION ###\n",
        "W = np.random.rand(3,len(x1)) # Random 3*len(x1) numpy array\n",
        "tic = time.process_time()\n",
        "gdot = np.zeros(W.shape[0])\n",
        "for i in range(W.shape[0]):\n",
        "    for j in range(len(x1)):\n",
        "        gdot[i] += W[i,j]*x1[j]\n",
        "toc = time.process_time()\n",
        "print (\"gdot = \" + str(gdot) + \"\\n ----- Computation time = \" + str(1000*(toc - tic)) + \"ms\")"
      ],
      "execution_count": 0,
      "outputs": [
        {
          "output_type": "stream",
          "text": [
            "dot = 278\n",
            " ----- Computation time = 0.0725980000000348ms\n",
            "outer = [[81. 18. 18. 81.  0. 81. 18. 45.  0.  0. 81. 18. 45.  0.  0.]\n",
            " [18.  4.  4. 18.  0. 18.  4. 10.  0.  0. 18.  4. 10.  0.  0.]\n",
            " [45. 10. 10. 45.  0. 45. 10. 25.  0.  0. 45. 10. 25.  0.  0.]\n",
            " [ 0.  0.  0.  0.  0.  0.  0.  0.  0.  0.  0.  0.  0.  0.  0.]\n",
            " [ 0.  0.  0.  0.  0.  0.  0.  0.  0.  0.  0.  0.  0.  0.  0.]\n",
            " [63. 14. 14. 63.  0. 63. 14. 35.  0.  0. 63. 14. 35.  0.  0.]\n",
            " [45. 10. 10. 45.  0. 45. 10. 25.  0.  0. 45. 10. 25.  0.  0.]\n",
            " [ 0.  0.  0.  0.  0.  0.  0.  0.  0.  0.  0.  0.  0.  0.  0.]\n",
            " [ 0.  0.  0.  0.  0.  0.  0.  0.  0.  0.  0.  0.  0.  0.  0.]\n",
            " [ 0.  0.  0.  0.  0.  0.  0.  0.  0.  0.  0.  0.  0.  0.  0.]\n",
            " [81. 18. 18. 81.  0. 81. 18. 45.  0.  0. 81. 18. 45.  0.  0.]\n",
            " [18.  4.  4. 18.  0. 18.  4. 10.  0.  0. 18.  4. 10.  0.  0.]\n",
            " [45. 10. 10. 45.  0. 45. 10. 25.  0.  0. 45. 10. 25.  0.  0.]\n",
            " [ 0.  0.  0.  0.  0.  0.  0.  0.  0.  0.  0.  0.  0.  0.  0.]\n",
            " [ 0.  0.  0.  0.  0.  0.  0.  0.  0.  0.  0.  0.  0.  0.  0.]]\n",
            " ----- Computation time = 0.6493270000005325ms\n",
            "elementwise multiplication = [81.  4. 10.  0.  0. 63. 10.  0.  0.  0. 81.  4. 25.  0.  0.]\n",
            " ----- Computation time = 0.15122499999975503ms\n",
            "gdot = [12.88899957 22.88369816 20.55183345]\n",
            " ----- Computation time = 0.35628000000009763ms\n"
          ],
          "name": "stdout"
        }
      ]
    },
    {
      "cell_type": "code",
      "metadata": {
        "id": "Nske3z_xEGGA",
        "colab_type": "code",
        "outputId": "07323e67-17e2-437a-bf0e-4d2e54e006a4",
        "colab": {
          "base_uri": "https://localhost:8080/",
          "height": 413
        }
      },
      "source": [
        "x1 = [9, 2, 5, 0, 0, 7, 5, 0, 0, 0, 9, 2, 5, 0, 0]\n",
        "x2 = [9, 2, 2, 9, 0, 9, 2, 5, 0, 0, 9, 2, 5, 0, 0]\n",
        "\n",
        "### VECTORIZED DOT PRODUCT OF VECTORS ###\n",
        "tic = time.process_time()\n",
        "dot = np.dot(x1,x2)\n",
        "toc = time.process_time()\n",
        "print (\"dot = \" + str(dot) + \"\\n ----- Computation time = \" + str(1000*(toc - tic)) + \"ms\")\n",
        "\n",
        "### VECTORIZED OUTER PRODUCT ###\n",
        "tic = time.process_time()\n",
        "outer = np.outer(x1,x2)\n",
        "toc = time.process_time()\n",
        "print (\"outer = \" + str(outer) + \"\\n ----- Computation time = \" + str(1000*(toc - tic)) + \"ms\")\n",
        "\n",
        "### VECTORIZED ELEMENTWISE MULTIPLICATION ###\n",
        "tic = time.process_time()\n",
        "mul = np.multiply(x1,x2)\n",
        "toc = time.process_time()\n",
        "print (\"elementwise multiplication = \" + str(mul) + \"\\n ----- Computation time = \" + str(1000*(toc - tic)) + \"ms\")\n",
        "\n",
        "### VECTORIZED GENERAL DOT PRODUCT ###\n",
        "tic = time.process_time()\n",
        "dot = np.dot(W,x1)\n",
        "toc = time.process_time()\n",
        "print (\"gdot = \" + str(dot) + \"\\n ----- Computation time = \" + str(1000*(toc - tic)) + \"ms\")"
      ],
      "execution_count": 0,
      "outputs": [
        {
          "output_type": "stream",
          "text": [
            "dot = 278\n",
            " ----- Computation time = 0.3336159999998145ms\n",
            "outer = [[81 18 18 81  0 81 18 45  0  0 81 18 45  0  0]\n",
            " [18  4  4 18  0 18  4 10  0  0 18  4 10  0  0]\n",
            " [45 10 10 45  0 45 10 25  0  0 45 10 25  0  0]\n",
            " [ 0  0  0  0  0  0  0  0  0  0  0  0  0  0  0]\n",
            " [ 0  0  0  0  0  0  0  0  0  0  0  0  0  0  0]\n",
            " [63 14 14 63  0 63 14 35  0  0 63 14 35  0  0]\n",
            " [45 10 10 45  0 45 10 25  0  0 45 10 25  0  0]\n",
            " [ 0  0  0  0  0  0  0  0  0  0  0  0  0  0  0]\n",
            " [ 0  0  0  0  0  0  0  0  0  0  0  0  0  0  0]\n",
            " [ 0  0  0  0  0  0  0  0  0  0  0  0  0  0  0]\n",
            " [81 18 18 81  0 81 18 45  0  0 81 18 45  0  0]\n",
            " [18  4  4 18  0 18  4 10  0  0 18  4 10  0  0]\n",
            " [45 10 10 45  0 45 10 25  0  0 45 10 25  0  0]\n",
            " [ 0  0  0  0  0  0  0  0  0  0  0  0  0  0  0]\n",
            " [ 0  0  0  0  0  0  0  0  0  0  0  0  0  0  0]]\n",
            " ----- Computation time = 0.7326880000002589ms\n",
            "elementwise multiplication = [81  4 10  0  0 63 10  0  0  0 81  4 25  0  0]\n",
            " ----- Computation time = 0.18959700000031887ms\n",
            "gdot = [12.88899957 22.88369816 20.55183345]\n",
            " ----- Computation time = 0.1720349999994042ms\n"
          ],
          "name": "stdout"
        }
      ]
    },
    {
      "cell_type": "markdown",
      "metadata": {
        "id": "uVRufLL5EGGF",
        "colab_type": "text"
      },
      "source": [
        "As you may have noticed, the vectorized implementation is much cleaner and more efficient. For bigger vectors/matrices, the differences in running time become even bigger. \n",
        "\n",
        "**Note** that `np.dot()` performs a matrix-matrix or matrix-vector multiplication. This is different from `np.multiply()` and the `*` operator (which is equivalent to  `.*` in Matlab/Octave), which performs an element-wise multiplication."
      ]
    },
    {
      "cell_type": "markdown",
      "metadata": {
        "id": "GnksLMMnEGGH",
        "colab_type": "text"
      },
      "source": [
        "### 2.1 Implement the L1 and L2 loss functions\n",
        "\n",
        "#### <font color=blue> **Exercise 7**: </font> Implement the numpy vectorized version of the L1 loss. You may find the function abs(x) (absolute value of x) useful.\n",
        "\n",
        "**Reminder**:\n",
        "- The loss is used to evaluate the performance of your model. The bigger your loss is, the more different your predictions ($ \\hat{y} $) are from the true values ($y$). In deep learning, you use optimization algorithms like Gradient Descent to train your model and to minimize the cost.\n",
        "- L1 loss is defined as:\n",
        "$$\\begin{align*} & L_1(\\hat{y}, y) = \\sum_{i=0}^m|y^{(i)} - \\hat{y}^{(i)}| \\end{align*}\\tag{6}$$"
      ]
    },
    {
      "cell_type": "code",
      "metadata": {
        "id": "-5iexaXxEGGK",
        "colab_type": "code",
        "colab": {}
      },
      "source": [
        "# GRADED FUNCTION: L1\n",
        "\n",
        "def L1(yhat, y):\n",
        "    \"\"\"\n",
        "    Arguments:\n",
        "    yhat -- vector of size m (predicted labels)\n",
        "    y -- vector of size m (true labels)\n",
        "    \n",
        "    Returns:\n",
        "    loss -- the value of the L1 loss function defined above\n",
        "    \"\"\"\n",
        "    \n",
        "    ### START CODE HERE ### (≈ 1 line of code)\n",
        "    loss = np.sum(np.abs(y - yhat))\n",
        "    ### END CODE HERE ###\n",
        "    \n",
        "    return loss"
      ],
      "execution_count": 0,
      "outputs": []
    },
    {
      "cell_type": "code",
      "metadata": {
        "id": "sT0NvOYNEGGN",
        "colab_type": "code",
        "outputId": "3f64629c-b72e-4e3d-d118-0cc070e898f1",
        "colab": {
          "base_uri": "https://localhost:8080/",
          "height": 35
        }
      },
      "source": [
        "yhat = np.array([.9, 0.2, 0.1, .4, .9])\n",
        "y = np.array([1, 0, 0, 1, 1])\n",
        "print(\"L1 = \" + str(L1(yhat,y)))"
      ],
      "execution_count": 0,
      "outputs": [
        {
          "output_type": "stream",
          "text": [
            "L1 = 1.1\n"
          ],
          "name": "stdout"
        }
      ]
    },
    {
      "cell_type": "markdown",
      "metadata": {
        "id": "pavXoBiFEGGR",
        "colab_type": "text"
      },
      "source": [
        "**Expected Output**:\n",
        "\n",
        "<table style=\"width:20%\">\n",
        "\n",
        "     <tr> \n",
        "       <td> **L1** </td> \n",
        "       <td> 1.1 </td> \n",
        "     </tr>\n",
        "</table>\n"
      ]
    },
    {
      "cell_type": "markdown",
      "metadata": {
        "id": "kDkdQRQPEGGS",
        "colab_type": "text"
      },
      "source": [
        "#### <font color=blue> **Exercise 8**: </font> Implement the numpy vectorized version of the L2 loss. There are several way of implementing the L2 loss but you may find the function np.dot() useful. As a reminder, if $x = [x_1, x_2, ..., x_n]$, then `np.dot(x,x)` = $\\sum_{j=0}^n x_j^{2}$. \n",
        "\n",
        "- L2 loss is defined as $$\\begin{align*} & L_2(\\hat{y},y) = \\sum_{i=0}^m(y^{(i)} - \\hat{y}^{(i)})^2 \\end{align*}\\tag{7}$$"
      ]
    },
    {
      "cell_type": "code",
      "metadata": {
        "id": "mDjEpYcJEGGT",
        "colab_type": "code",
        "colab": {}
      },
      "source": [
        "# GRADED FUNCTION: L2\n",
        "\n",
        "def L2(yhat, y):\n",
        "    \"\"\"\n",
        "    Arguments:\n",
        "    yhat -- vector of size m (predicted labels)\n",
        "    y -- vector of size m (true labels)\n",
        "    \n",
        "    Returns:\n",
        "    loss -- the value of the L2 loss function defined above\n",
        "    \"\"\"\n",
        "    \n",
        "    ### START CODE HERE ### (≈ 1 line of code)\n",
        "    loss = np.dot(y-yhat,y-yhat)\n",
        "    ### END CODE HERE ###\n",
        "    \n",
        "    return loss"
      ],
      "execution_count": 0,
      "outputs": []
    },
    {
      "cell_type": "code",
      "metadata": {
        "id": "T5emrtzFEGGW",
        "colab_type": "code",
        "outputId": "5c89c2db-2a4f-4e50-f851-a0067545c748",
        "colab": {
          "base_uri": "https://localhost:8080/",
          "height": 35
        }
      },
      "source": [
        "yhat = np.array([.9, 0.2, 0.1, .4, .9])\n",
        "y = np.array([1, 0, 0, 1, 1])\n",
        "print(\"L2 = \" + str(L2(yhat,y)))"
      ],
      "execution_count": 0,
      "outputs": [
        {
          "output_type": "stream",
          "text": [
            "L2 = 0.43\n"
          ],
          "name": "stdout"
        }
      ]
    },
    {
      "cell_type": "markdown",
      "metadata": {
        "id": "yqKyHUtiEGGY",
        "colab_type": "text"
      },
      "source": [
        "**Expected Output**: \n",
        "<table style=\"width:20%\">\n",
        "     <tr> \n",
        "       <td> **L2** </td> \n",
        "       <td> 0.43 </td> \n",
        "     </tr>\n",
        "</table>"
      ]
    },
    {
      "cell_type": "markdown",
      "metadata": {
        "id": "FF64AxlHEGGZ",
        "colab_type": "text"
      },
      "source": [
        "Congratulations on completing this assignment. We hope that this little warm-up exercise helps you in the future assignments, which will be more exciting and interesting!"
      ]
    },
    {
      "cell_type": "markdown",
      "metadata": {
        "id": "MnQvpk5qEGGa",
        "colab_type": "text"
      },
      "source": [
        "<font color='green'>\n",
        "**What to remember:**\n",
        "- Vectorization is very important in deep learning. It provides computational efficiency and clarity.\n",
        "- You have reviewed the L1 and L2 loss.\n",
        "- You are familiar with many numpy functions such as np.sum, np.dot, np.multiply, np.maximum, etc..."
      ]
    },
    {
      "cell_type": "markdown",
      "metadata": {
        "id": "40ACkWlAfEb-",
        "colab_type": "text"
      },
      "source": [
        ""
      ]
    },
    {
      "cell_type": "markdown",
      "metadata": {
        "id": "GiWcWp4nEGGb",
        "colab_type": "text"
      },
      "source": [
        "#### <font color=blue> **Exercise 9**: </font>   $$f(x,y) = x^3 - 6x^2 + 12x + y^3 + 9y^2 + 27y +19$$  \n",
        "\n",
        "- Generate a graph of the using ipywidgets, so we can explore the surface\n"
      ]
    },
    {
      "cell_type": "code",
      "metadata": {
        "id": "eo25wVyuIyOn",
        "colab_type": "code",
        "colab": {}
      },
      "source": [
        ""
      ],
      "execution_count": 0,
      "outputs": []
    },
    {
      "cell_type": "code",
      "metadata": {
        "id": "tqAHW9wKImDb",
        "colab_type": "code",
        "colab": {}
      },
      "source": [
        "from mpl_toolkits import mplot3d\n",
        "import numpy as np\n",
        "import matplotlib.pyplot as plt\n",
        "import numpy as np"
      ],
      "execution_count": 0,
      "outputs": []
    },
    {
      "cell_type": "code",
      "metadata": {
        "id": "QqzYoEDNImDg",
        "colab_type": "code",
        "colab": {}
      },
      "source": [
        "x = np.outer(np.linspace(-10, 10, 1000), np.ones(1000))\n",
        "y = np.outer(np.ones(1000), np.linspace(-5, 15, 1000))\n",
        "#y = x.copy().T # transpose\n",
        "z = x**3 - 6*x**2 + 12*x + y**3 + 9*y**2 + 27*y + 19"
      ],
      "execution_count": 0,
      "outputs": []
    },
    {
      "cell_type": "code",
      "metadata": {
        "id": "FqJsM-VoImDk",
        "colab_type": "code",
        "colab": {}
      },
      "source": [
        "def rot_plot(a,b):\n",
        "    # Now let us take a look how the model is doing:\n",
        "    fig = plt.figure(figsize=plt.figaspect(.5))\n",
        "    fig = plt.figure(figsize=(12,12))\n",
        "    ax = plt.axes(projection='3d')\n",
        "    ax.view_init(10, 50)\n",
        "\n",
        "    sc = ax.plot_surface(x, y, z,cmap='viridis', edgecolor='none')\n",
        "    ax.set_title('func')\n",
        "    ax.set_xlabel(\"X\")\n",
        "    ax.set_ylabel(\"Y\")\n",
        "    ax.set_zlabel(\"Z\")\n",
        "    #ax.set_zlim([-2000,2000])\n",
        "    ax.view_init(a, b)\n",
        "    plt.colorbar(sc, aspect = 3)\n",
        "\n",
        "    plt.show()"
      ],
      "execution_count": 0,
      "outputs": []
    },
    {
      "cell_type": "code",
      "metadata": {
        "id": "72Uh81nuImDs",
        "colab_type": "code",
        "outputId": "f184bef3-1352-4daa-815e-d87ee551ced3",
        "colab": {
          "base_uri": "https://localhost:8080/",
          "height": 801,
          "referenced_widgets": [
            "a3d21927fb924aa59dedfc353c643da8",
            "4542f1112f954436828370e0f03e0d2e",
            "a62919b6e1744120ba4a106fbd9ee2f7",
            "8d6878dbc4cf4a2bb654826faf5571de",
            "909652450574414088fb545a1bac132f",
            "4ac332432a0d42bfbca722bd177e3477",
            "060a7903b99e44db8994630f57774042",
            "6835f36cbe23453685a9075da99f90fb",
            "ae2359d22aa840c7bc2430b8a59676d2"
          ]
        }
      },
      "source": [
        "%pylab inline\n",
        "import ipywidgets\n",
        "\n",
        "widget = ipywidgets\n",
        "widget.interact(rot_plot,\n",
        "                 a=widget.IntSlider(min=-180, max=180,description='angle1', step=10, value = 20),\n",
        "                 b=widget.IntSlider(min=-180, max=180,description='angle2', step=10, value = 50))"
      ],
      "execution_count": 5,
      "outputs": [
        {
          "output_type": "stream",
          "text": [
            "Populating the interactive namespace from numpy and matplotlib\n"
          ],
          "name": "stdout"
        },
        {
          "output_type": "display_data",
          "data": {
            "application/vnd.jupyter.widget-view+json": {
              "model_id": "a3d21927fb924aa59dedfc353c643da8",
              "version_minor": 0,
              "version_major": 2
            },
            "text/plain": [
              "interactive(children=(IntSlider(value=20, description='angle1', max=180, min=-180, step=10), IntSlider(value=5…"
            ]
          },
          "metadata": {
            "tags": []
          }
        },
        {
          "output_type": "execute_result",
          "data": {
            "text/plain": [
              "<function __main__.rot_plot>"
            ]
          },
          "metadata": {
            "tags": []
          },
          "execution_count": 5
        }
      ]
    },
    {
      "cell_type": "markdown",
      "metadata": {
        "id": "8qbd0-4cEGGc",
        "colab_type": "text"
      },
      "source": [
        "#### <font color=blue> **Exercise 10**: </font>  $$f(x,y) = x^3 - 6x^2 + 12x + y^3 + 9y^2 + 27y +19$$  \n",
        "\n",
        "- Write the gradient of the funxtion\n",
        "- Implement gradient descent algorithm to find at least one minimum value of this fucntion"
      ]
    },
    {
      "cell_type": "code",
      "metadata": {
        "id": "h5n-x3AgEGGd",
        "colab_type": "code",
        "outputId": "08579979-305e-4f78-9684-56541f78bef3",
        "colab": {
          "base_uri": "https://localhost:8080/",
          "height": 53
        }
      },
      "source": [
        "def gradient(X):\n",
        "    retval = np.zeros(X.shape)\n",
        "    retval[0] = 3*X[0]**2 - 12*X[0] + 12\n",
        "    retval[1] = 3*X[1]**2 + 18*X[1] + 27\n",
        "    return retval\n",
        "\n",
        "iter = 10000\n",
        "alpha = 0.025\n",
        "X = np.array([[3],[5]])\n",
        "\n",
        "for i in range(iter):\n",
        "    X = X - alpha*gradient(X)\n",
        "\n",
        "print(X)"
      ],
      "execution_count": 0,
      "outputs": [
        {
          "output_type": "stream",
          "text": [
            "[[ 2.00133067]\n",
            " [-2.99866814]]\n"
          ],
          "name": "stdout"
        }
      ]
    },
    {
      "cell_type": "code",
      "metadata": {
        "id": "UMXlf_aDfnaE",
        "colab_type": "code",
        "colab": {}
      },
      "source": [
        ""
      ],
      "execution_count": 0,
      "outputs": []
    }
  ]
}