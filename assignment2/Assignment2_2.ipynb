{
  "nbformat": 4,
  "nbformat_minor": 0,
  "metadata": {
    "kernelspec": {
      "display_name": "Python 3",
      "language": "python",
      "name": "python3"
    },
    "language_info": {
      "codemirror_mode": {
        "name": "ipython",
        "version": 3
      },
      "file_extension": ".py",
      "mimetype": "text/x-python",
      "name": "python",
      "nbconvert_exporter": "python",
      "pygments_lexer": "ipython3",
      "version": "3.7.6"
    },
    "colab": {
      "name": "Assignment2.2 - Data_processing_and_analysis_with_pandas_MATH3790_S20.ipynb",
      "provenance": []
    }
  },
  "cells": [
    {
      "cell_type": "markdown",
      "metadata": {
        "id": "zO2HXHd-1KPl",
        "colab_type": "text"
      },
      "source": [
        "## Assignment 2.2: Introduction to `pandas` : The Dataframe Object: (Due: 2/19/20)\n",
        "\n",
        "- Pandas is the workhorse in Python data science projects "
      ]
    },
    {
      "cell_type": "markdown",
      "metadata": {
        "id": "8GLX-_251KPn",
        "colab_type": "text"
      },
      "source": [
        "Adapted from Robert Johansson:  Source code listings for [Numerical Python - A Practical Techniques Approach for Industry](http://www.apress.com/9781484205549) (ISBN 978-1-484205-54-9).\n",
        "\n",
        "The source code listings can be downloaded from http://www.apress.com/9781484205549"
      ]
    },
    {
      "cell_type": "code",
      "metadata": {
        "id": "TMa58BVX1KPp",
        "colab_type": "code",
        "colab": {}
      },
      "source": [
        "%matplotlib inline\n",
        "import matplotlib.pyplot as plt"
      ],
      "execution_count": 0,
      "outputs": []
    },
    {
      "cell_type": "code",
      "metadata": {
        "id": "kBl8SO2W1KPv",
        "colab_type": "code",
        "colab": {}
      },
      "source": [
        "import numpy as np"
      ],
      "execution_count": 0,
      "outputs": []
    },
    {
      "cell_type": "code",
      "metadata": {
        "id": "-EXSmT911KP2",
        "colab_type": "code",
        "colab": {}
      },
      "source": [
        "import pandas as pd"
      ],
      "execution_count": 0,
      "outputs": []
    },
    {
      "cell_type": "markdown",
      "metadata": {
        "id": "hI9Gq5Nm1KP8",
        "colab_type": "text"
      },
      "source": [
        "## DataFrame object"
      ]
    },
    {
      "cell_type": "code",
      "metadata": {
        "id": "GHXSldzX1KP-",
        "colab_type": "code",
        "colab": {}
      },
      "source": [
        "df = pd.DataFrame([[909976, 8615246, 2872086, 2273305],\n",
        "                   [\"Sweden\", \"United kingdom\", \"Italy\", \"France\"]])"
      ],
      "execution_count": 0,
      "outputs": []
    },
    {
      "cell_type": "code",
      "metadata": {
        "id": "1NBM_NJh1KQE",
        "colab_type": "code",
        "colab": {},
        "outputId": "34f9781b-2592-4e90-db12-9d632a62ec40"
      },
      "source": [
        "df"
      ],
      "execution_count": 0,
      "outputs": [
        {
          "output_type": "execute_result",
          "data": {
            "text/html": [
              "<div>\n",
              "<style scoped>\n",
              "    .dataframe tbody tr th:only-of-type {\n",
              "        vertical-align: middle;\n",
              "    }\n",
              "\n",
              "    .dataframe tbody tr th {\n",
              "        vertical-align: top;\n",
              "    }\n",
              "\n",
              "    .dataframe thead th {\n",
              "        text-align: right;\n",
              "    }\n",
              "</style>\n",
              "<table border=\"1\" class=\"dataframe\">\n",
              "  <thead>\n",
              "    <tr style=\"text-align: right;\">\n",
              "      <th></th>\n",
              "      <th>0</th>\n",
              "      <th>1</th>\n",
              "      <th>2</th>\n",
              "      <th>3</th>\n",
              "    </tr>\n",
              "  </thead>\n",
              "  <tbody>\n",
              "    <tr>\n",
              "      <th>0</th>\n",
              "      <td>909976</td>\n",
              "      <td>8615246</td>\n",
              "      <td>2872086</td>\n",
              "      <td>2273305</td>\n",
              "    </tr>\n",
              "    <tr>\n",
              "      <th>1</th>\n",
              "      <td>Sweden</td>\n",
              "      <td>United kingdom</td>\n",
              "      <td>Italy</td>\n",
              "      <td>France</td>\n",
              "    </tr>\n",
              "  </tbody>\n",
              "</table>\n",
              "</div>"
            ],
            "text/plain": [
              "        0               1        2        3\n",
              "0  909976         8615246  2872086  2273305\n",
              "1  Sweden  United kingdom    Italy   France"
            ]
          },
          "metadata": {
            "tags": []
          },
          "execution_count": 5
        }
      ]
    },
    {
      "cell_type": "code",
      "metadata": {
        "id": "oab_EBgI1KQK",
        "colab_type": "code",
        "colab": {}
      },
      "source": [
        "df = pd.DataFrame([[909976, \"Sweden\"],\n",
        "                   [8615246, \"United kingdom\"], \n",
        "                   [2872086, \"Italy\"],\n",
        "                   [2273305, \"France\"]])"
      ],
      "execution_count": 0,
      "outputs": []
    },
    {
      "cell_type": "code",
      "metadata": {
        "id": "nPIY8FY41KQP",
        "colab_type": "code",
        "colab": {},
        "outputId": "ecc54707-4459-4d5a-9cb1-96d91ef85015"
      },
      "source": [
        "df"
      ],
      "execution_count": 0,
      "outputs": [
        {
          "output_type": "execute_result",
          "data": {
            "text/html": [
              "<div>\n",
              "<style scoped>\n",
              "    .dataframe tbody tr th:only-of-type {\n",
              "        vertical-align: middle;\n",
              "    }\n",
              "\n",
              "    .dataframe tbody tr th {\n",
              "        vertical-align: top;\n",
              "    }\n",
              "\n",
              "    .dataframe thead th {\n",
              "        text-align: right;\n",
              "    }\n",
              "</style>\n",
              "<table border=\"1\" class=\"dataframe\">\n",
              "  <thead>\n",
              "    <tr style=\"text-align: right;\">\n",
              "      <th></th>\n",
              "      <th>0</th>\n",
              "      <th>1</th>\n",
              "    </tr>\n",
              "  </thead>\n",
              "  <tbody>\n",
              "    <tr>\n",
              "      <th>0</th>\n",
              "      <td>909976</td>\n",
              "      <td>Sweden</td>\n",
              "    </tr>\n",
              "    <tr>\n",
              "      <th>1</th>\n",
              "      <td>8615246</td>\n",
              "      <td>United kingdom</td>\n",
              "    </tr>\n",
              "    <tr>\n",
              "      <th>2</th>\n",
              "      <td>2872086</td>\n",
              "      <td>Italy</td>\n",
              "    </tr>\n",
              "    <tr>\n",
              "      <th>3</th>\n",
              "      <td>2273305</td>\n",
              "      <td>France</td>\n",
              "    </tr>\n",
              "  </tbody>\n",
              "</table>\n",
              "</div>"
            ],
            "text/plain": [
              "         0               1\n",
              "0   909976          Sweden\n",
              "1  8615246  United kingdom\n",
              "2  2872086           Italy\n",
              "3  2273305          France"
            ]
          },
          "metadata": {
            "tags": []
          },
          "execution_count": 7
        }
      ]
    },
    {
      "cell_type": "code",
      "metadata": {
        "id": "PNPgwBLi1KQY",
        "colab_type": "code",
        "colab": {}
      },
      "source": [
        "df.index = [\"Stockholm\", \"London\", \"Rome\", \"Paris\"]"
      ],
      "execution_count": 0,
      "outputs": []
    },
    {
      "cell_type": "code",
      "metadata": {
        "id": "1R8f0vCi1KQc",
        "colab_type": "code",
        "colab": {}
      },
      "source": [
        "df.columns = [\"Population\", \"State\"]"
      ],
      "execution_count": 0,
      "outputs": []
    },
    {
      "cell_type": "code",
      "metadata": {
        "id": "Pk00xP5_1KQj",
        "colab_type": "code",
        "colab": {},
        "outputId": "1daff31f-4311-4858-f518-a11b3df4723d"
      },
      "source": [
        "df"
      ],
      "execution_count": 0,
      "outputs": [
        {
          "output_type": "execute_result",
          "data": {
            "text/html": [
              "<div>\n",
              "<style scoped>\n",
              "    .dataframe tbody tr th:only-of-type {\n",
              "        vertical-align: middle;\n",
              "    }\n",
              "\n",
              "    .dataframe tbody tr th {\n",
              "        vertical-align: top;\n",
              "    }\n",
              "\n",
              "    .dataframe thead th {\n",
              "        text-align: right;\n",
              "    }\n",
              "</style>\n",
              "<table border=\"1\" class=\"dataframe\">\n",
              "  <thead>\n",
              "    <tr style=\"text-align: right;\">\n",
              "      <th></th>\n",
              "      <th>Population</th>\n",
              "      <th>State</th>\n",
              "    </tr>\n",
              "  </thead>\n",
              "  <tbody>\n",
              "    <tr>\n",
              "      <th>Stockholm</th>\n",
              "      <td>909976</td>\n",
              "      <td>Sweden</td>\n",
              "    </tr>\n",
              "    <tr>\n",
              "      <th>London</th>\n",
              "      <td>8615246</td>\n",
              "      <td>United kingdom</td>\n",
              "    </tr>\n",
              "    <tr>\n",
              "      <th>Rome</th>\n",
              "      <td>2872086</td>\n",
              "      <td>Italy</td>\n",
              "    </tr>\n",
              "    <tr>\n",
              "      <th>Paris</th>\n",
              "      <td>2273305</td>\n",
              "      <td>France</td>\n",
              "    </tr>\n",
              "  </tbody>\n",
              "</table>\n",
              "</div>"
            ],
            "text/plain": [
              "           Population           State\n",
              "Stockholm      909976          Sweden\n",
              "London        8615246  United kingdom\n",
              "Rome          2872086           Italy\n",
              "Paris         2273305          France"
            ]
          },
          "metadata": {
            "tags": []
          },
          "execution_count": 10
        }
      ]
    },
    {
      "cell_type": "markdown",
      "metadata": {
        "id": "q3rfqzMT1KQo",
        "colab_type": "text"
      },
      "source": [
        "### <font color='blue'> Exercise #1:  </font>\n",
        "    \n",
        "Given the dictionary:\n",
        "exam_data = {'name': ['Anastasia', 'Dima', 'Katherine', 'James', 'Emily', 'Michael', 'Matthew', 'Laura', 'Kevin', 'Jonas'],\n",
        "'score': [12.5, 9, 16.5, 8, 9, 20, 14.5, 8.5, 8, 19],\n",
        "'attempts': [1, 3, 2, 3, 2, 3, 1, 1, 2, 1],\n",
        "'qualify': ['yes', 'no', 'yes', 'no', 'no', 'yes', 'yes', 'no', 'no', 'yes']}\n",
        "\n",
        "and a list:  \n",
        "\n",
        "labels = ['a', 'b', 'c', 'd', 'e', 'f', 'g', 'h', 'i', 'j']\n",
        "\n",
        "1. Create a pandas DataFrame, **exam_data_df**, from the following dictionary data:\n",
        "    \n",
        "2. Now turn the \"labels\" list to be the **index** and then print out the entire exam_data"
      ]
    },
    {
      "cell_type": "code",
      "metadata": {
        "id": "kWZhTiX31RKO",
        "colab_type": "code",
        "colab": {
          "base_uri": "https://localhost:8080/",
          "height": 215
        },
        "outputId": "16cbf1ba-8814-46f9-9193-c4689fc8fb63"
      },
      "source": [
        "exam_data = {'name': ['Anastasia', 'Dima', 'Katherine', 'James', 'Emily', 'Michael', 'Matthew', 'Laura', 'Kevin', 'Jonas'], 'score': [12.5, 9, 16.5, 8, 9, 20, 14.5, 8.5, 8, 19], 'attempts': [1, 3, 2, 3, 2, 3, 1, 1, 2, 1], 'qualify': ['yes', 'no', 'yes', 'no', 'no', 'yes', 'yes', 'no', 'no', 'yes']}\n",
        "labels = ['a', 'b', 'c', 'd', 'e', 'f', 'g', 'h', 'i', 'j']\n",
        "exam_data_df = pd.DataFrame(exam_data)\n",
        "exam_data_df.index = labels\n",
        "print(exam_data_df)"
      ],
      "execution_count": 5,
      "outputs": [
        {
          "output_type": "stream",
          "text": [
            "        name  score  attempts qualify\n",
            "a  Anastasia   12.5         1     yes\n",
            "b       Dima    9.0         3      no\n",
            "c  Katherine   16.5         2     yes\n",
            "d      James    8.0         3      no\n",
            "e      Emily    9.0         2      no\n",
            "f    Michael   20.0         3     yes\n",
            "g    Matthew   14.5         1     yes\n",
            "h      Laura    8.5         1      no\n",
            "i      Kevin    8.0         2      no\n",
            "j      Jonas   19.0         1     yes\n"
          ],
          "name": "stdout"
        }
      ]
    },
    {
      "cell_type": "code",
      "metadata": {
        "id": "GDT6rCuO1KQq",
        "colab_type": "code",
        "colab": {}
      },
      "source": [
        "df = pd.DataFrame([[909976, \"Sweden\"],\n",
        "                   [8615246, \"United kingdom\"], \n",
        "                   [2872086, \"Italy\"],\n",
        "                   [2273305, \"France\"]],\n",
        "                  index=[\"Stockholm\", \"London\", \"Rome\", \"Paris\"],\n",
        "                  columns=[\"Population\", \"State\"])"
      ],
      "execution_count": 0,
      "outputs": []
    },
    {
      "cell_type": "code",
      "metadata": {
        "id": "IBHvDzgj1KQt",
        "colab_type": "code",
        "colab": {},
        "outputId": "6900637b-d37b-4291-e93e-52a49829101e"
      },
      "source": [
        "df"
      ],
      "execution_count": 0,
      "outputs": [
        {
          "output_type": "execute_result",
          "data": {
            "text/html": [
              "<div>\n",
              "<style scoped>\n",
              "    .dataframe tbody tr th:only-of-type {\n",
              "        vertical-align: middle;\n",
              "    }\n",
              "\n",
              "    .dataframe tbody tr th {\n",
              "        vertical-align: top;\n",
              "    }\n",
              "\n",
              "    .dataframe thead th {\n",
              "        text-align: right;\n",
              "    }\n",
              "</style>\n",
              "<table border=\"1\" class=\"dataframe\">\n",
              "  <thead>\n",
              "    <tr style=\"text-align: right;\">\n",
              "      <th></th>\n",
              "      <th>Population</th>\n",
              "      <th>State</th>\n",
              "    </tr>\n",
              "  </thead>\n",
              "  <tbody>\n",
              "    <tr>\n",
              "      <th>Stockholm</th>\n",
              "      <td>909976</td>\n",
              "      <td>Sweden</td>\n",
              "    </tr>\n",
              "    <tr>\n",
              "      <th>London</th>\n",
              "      <td>8615246</td>\n",
              "      <td>United kingdom</td>\n",
              "    </tr>\n",
              "    <tr>\n",
              "      <th>Rome</th>\n",
              "      <td>2872086</td>\n",
              "      <td>Italy</td>\n",
              "    </tr>\n",
              "    <tr>\n",
              "      <th>Paris</th>\n",
              "      <td>2273305</td>\n",
              "      <td>France</td>\n",
              "    </tr>\n",
              "  </tbody>\n",
              "</table>\n",
              "</div>"
            ],
            "text/plain": [
              "           Population           State\n",
              "Stockholm      909976          Sweden\n",
              "London        8615246  United kingdom\n",
              "Rome          2872086           Italy\n",
              "Paris         2273305          France"
            ]
          },
          "metadata": {
            "tags": []
          },
          "execution_count": 12
        }
      ]
    },
    {
      "cell_type": "code",
      "metadata": {
        "id": "kLEfDoVj1KQw",
        "colab_type": "code",
        "colab": {}
      },
      "source": [
        "df = pd.DataFrame({\"Population\": [909976, 8615246, 2872086, 2273305],\n",
        "                   \"State\": [\"Sweden\", \"United kingdom\", \"Italy\", \"France\"]},\n",
        "                  index=[\"Stockholm\", \"London\", \"Rome\", \"Paris\"])"
      ],
      "execution_count": 0,
      "outputs": []
    },
    {
      "cell_type": "code",
      "metadata": {
        "id": "IfhHatCq1KQ0",
        "colab_type": "code",
        "colab": {},
        "outputId": "372a693f-8fcf-4419-ca69-e082aa189c74"
      },
      "source": [
        "df"
      ],
      "execution_count": 0,
      "outputs": [
        {
          "output_type": "execute_result",
          "data": {
            "text/html": [
              "<div>\n",
              "<style scoped>\n",
              "    .dataframe tbody tr th:only-of-type {\n",
              "        vertical-align: middle;\n",
              "    }\n",
              "\n",
              "    .dataframe tbody tr th {\n",
              "        vertical-align: top;\n",
              "    }\n",
              "\n",
              "    .dataframe thead th {\n",
              "        text-align: right;\n",
              "    }\n",
              "</style>\n",
              "<table border=\"1\" class=\"dataframe\">\n",
              "  <thead>\n",
              "    <tr style=\"text-align: right;\">\n",
              "      <th></th>\n",
              "      <th>Population</th>\n",
              "      <th>State</th>\n",
              "    </tr>\n",
              "  </thead>\n",
              "  <tbody>\n",
              "    <tr>\n",
              "      <th>Stockholm</th>\n",
              "      <td>909976</td>\n",
              "      <td>Sweden</td>\n",
              "    </tr>\n",
              "    <tr>\n",
              "      <th>London</th>\n",
              "      <td>8615246</td>\n",
              "      <td>United kingdom</td>\n",
              "    </tr>\n",
              "    <tr>\n",
              "      <th>Rome</th>\n",
              "      <td>2872086</td>\n",
              "      <td>Italy</td>\n",
              "    </tr>\n",
              "    <tr>\n",
              "      <th>Paris</th>\n",
              "      <td>2273305</td>\n",
              "      <td>France</td>\n",
              "    </tr>\n",
              "  </tbody>\n",
              "</table>\n",
              "</div>"
            ],
            "text/plain": [
              "           Population           State\n",
              "Stockholm      909976          Sweden\n",
              "London        8615246  United kingdom\n",
              "Rome          2872086           Italy\n",
              "Paris         2273305          France"
            ]
          },
          "metadata": {
            "tags": []
          },
          "execution_count": 14
        }
      ]
    },
    {
      "cell_type": "code",
      "metadata": {
        "id": "DodtbXL-1KQ4",
        "colab_type": "code",
        "colab": {},
        "outputId": "53b71b80-9e51-4b5c-b6d6-bef92d9c36c8"
      },
      "source": [
        "df.index"
      ],
      "execution_count": 0,
      "outputs": [
        {
          "output_type": "execute_result",
          "data": {
            "text/plain": [
              "Index(['Stockholm', 'London', 'Rome', 'Paris'], dtype='object')"
            ]
          },
          "metadata": {
            "tags": []
          },
          "execution_count": 15
        }
      ]
    },
    {
      "cell_type": "code",
      "metadata": {
        "id": "5_AZGEWR1KQ8",
        "colab_type": "code",
        "colab": {},
        "outputId": "f27a7e63-213e-4436-8316-45184502f3cb"
      },
      "source": [
        "df.columns"
      ],
      "execution_count": 0,
      "outputs": [
        {
          "output_type": "execute_result",
          "data": {
            "text/plain": [
              "Index(['Population', 'State'], dtype='object')"
            ]
          },
          "metadata": {
            "tags": []
          },
          "execution_count": 16
        }
      ]
    },
    {
      "cell_type": "code",
      "metadata": {
        "id": "37TBHzFC1KRA",
        "colab_type": "code",
        "colab": {},
        "outputId": "804c4223-b312-4d6c-eb2f-7a969f34b28e"
      },
      "source": [
        "df.values"
      ],
      "execution_count": 0,
      "outputs": [
        {
          "output_type": "execute_result",
          "data": {
            "text/plain": [
              "array([[909976, 'Sweden'],\n",
              "       [8615246, 'United kingdom'],\n",
              "       [2872086, 'Italy'],\n",
              "       [2273305, 'France']], dtype=object)"
            ]
          },
          "metadata": {
            "tags": []
          },
          "execution_count": 17
        }
      ]
    },
    {
      "cell_type": "code",
      "metadata": {
        "id": "UMHiFe8F1KRD",
        "colab_type": "code",
        "colab": {},
        "outputId": "12f49d97-b54a-4d89-e2bb-bf68683ae39c"
      },
      "source": [
        "df.Population"
      ],
      "execution_count": 0,
      "outputs": [
        {
          "output_type": "execute_result",
          "data": {
            "text/plain": [
              "Stockholm     909976\n",
              "London       8615246\n",
              "Rome         2872086\n",
              "Paris        2273305\n",
              "Name: Population, dtype: int64"
            ]
          },
          "metadata": {
            "tags": []
          },
          "execution_count": 18
        }
      ]
    },
    {
      "cell_type": "code",
      "metadata": {
        "id": "NBnAokV91KRH",
        "colab_type": "code",
        "colab": {},
        "outputId": "4923b2a2-943a-42d9-ce6d-a2bb42302e4e"
      },
      "source": [
        "df[[\"Population\",\"State\"]]"
      ],
      "execution_count": 0,
      "outputs": [
        {
          "output_type": "execute_result",
          "data": {
            "text/html": [
              "<div>\n",
              "<style scoped>\n",
              "    .dataframe tbody tr th:only-of-type {\n",
              "        vertical-align: middle;\n",
              "    }\n",
              "\n",
              "    .dataframe tbody tr th {\n",
              "        vertical-align: top;\n",
              "    }\n",
              "\n",
              "    .dataframe thead th {\n",
              "        text-align: right;\n",
              "    }\n",
              "</style>\n",
              "<table border=\"1\" class=\"dataframe\">\n",
              "  <thead>\n",
              "    <tr style=\"text-align: right;\">\n",
              "      <th></th>\n",
              "      <th>Population</th>\n",
              "      <th>State</th>\n",
              "    </tr>\n",
              "  </thead>\n",
              "  <tbody>\n",
              "    <tr>\n",
              "      <th>Stockholm</th>\n",
              "      <td>909976</td>\n",
              "      <td>Sweden</td>\n",
              "    </tr>\n",
              "    <tr>\n",
              "      <th>London</th>\n",
              "      <td>8615246</td>\n",
              "      <td>United kingdom</td>\n",
              "    </tr>\n",
              "    <tr>\n",
              "      <th>Rome</th>\n",
              "      <td>2872086</td>\n",
              "      <td>Italy</td>\n",
              "    </tr>\n",
              "    <tr>\n",
              "      <th>Paris</th>\n",
              "      <td>2273305</td>\n",
              "      <td>France</td>\n",
              "    </tr>\n",
              "  </tbody>\n",
              "</table>\n",
              "</div>"
            ],
            "text/plain": [
              "           Population           State\n",
              "Stockholm      909976          Sweden\n",
              "London        8615246  United kingdom\n",
              "Rome          2872086           Italy\n",
              "Paris         2273305          France"
            ]
          },
          "metadata": {
            "tags": []
          },
          "execution_count": 19
        }
      ]
    },
    {
      "cell_type": "code",
      "metadata": {
        "id": "XI-dwzdS1KRK",
        "colab_type": "code",
        "colab": {},
        "outputId": "3c6b5b0d-2e0f-459d-c9c5-cd2f64500ab7"
      },
      "source": [
        "type(df.Population)"
      ],
      "execution_count": 0,
      "outputs": [
        {
          "output_type": "execute_result",
          "data": {
            "text/plain": [
              "pandas.core.series.Series"
            ]
          },
          "metadata": {
            "tags": []
          },
          "execution_count": 20
        }
      ]
    },
    {
      "cell_type": "code",
      "metadata": {
        "id": "T5BPCNkC1KRP",
        "colab_type": "code",
        "colab": {},
        "outputId": "622ecdf5-7bf0-4d00-8233-3be82f8cdb20"
      },
      "source": [
        "df.Population.Stockholm"
      ],
      "execution_count": 0,
      "outputs": [
        {
          "output_type": "execute_result",
          "data": {
            "text/plain": [
              "909976"
            ]
          },
          "metadata": {
            "tags": []
          },
          "execution_count": 21
        }
      ]
    },
    {
      "cell_type": "code",
      "metadata": {
        "id": "dnHDjSrM1KRS",
        "colab_type": "code",
        "colab": {},
        "outputId": "e93ffafb-9051-4633-ab9d-63b8de42bb60"
      },
      "source": [
        "type(df.index)"
      ],
      "execution_count": 0,
      "outputs": [
        {
          "output_type": "execute_result",
          "data": {
            "text/plain": [
              "pandas.core.indexes.base.Index"
            ]
          },
          "metadata": {
            "tags": []
          },
          "execution_count": 22
        }
      ]
    },
    {
      "cell_type": "code",
      "metadata": {
        "id": "6w-G0Onw1KRW",
        "colab_type": "code",
        "colab": {},
        "outputId": "17a3a073-c1b7-4d36-b75d-876b39478001"
      },
      "source": [
        "df.loc[\"Stockholm\"]"
      ],
      "execution_count": 0,
      "outputs": [
        {
          "output_type": "execute_result",
          "data": {
            "text/plain": [
              "Population    909976\n",
              "State         Sweden\n",
              "Name: Stockholm, dtype: object"
            ]
          },
          "metadata": {
            "tags": []
          },
          "execution_count": 23
        }
      ]
    },
    {
      "cell_type": "code",
      "metadata": {
        "id": "vmNJA3SS1KRb",
        "colab_type": "code",
        "colab": {},
        "outputId": "e5119589-07e3-45d7-8fa5-4ce4f66a9c54"
      },
      "source": [
        "type(df.loc[\"Stockholm\"])"
      ],
      "execution_count": 0,
      "outputs": [
        {
          "output_type": "execute_result",
          "data": {
            "text/plain": [
              "pandas.core.series.Series"
            ]
          },
          "metadata": {
            "tags": []
          },
          "execution_count": 24
        }
      ]
    },
    {
      "cell_type": "code",
      "metadata": {
        "id": "w_RjuNLN1KRi",
        "colab_type": "code",
        "colab": {},
        "outputId": "ed93ef40-f900-431b-b072-7c87f2563b11"
      },
      "source": [
        "df.loc[[\"Paris\", \"Rome\"]]"
      ],
      "execution_count": 0,
      "outputs": [
        {
          "output_type": "execute_result",
          "data": {
            "text/html": [
              "<div>\n",
              "<style scoped>\n",
              "    .dataframe tbody tr th:only-of-type {\n",
              "        vertical-align: middle;\n",
              "    }\n",
              "\n",
              "    .dataframe tbody tr th {\n",
              "        vertical-align: top;\n",
              "    }\n",
              "\n",
              "    .dataframe thead th {\n",
              "        text-align: right;\n",
              "    }\n",
              "</style>\n",
              "<table border=\"1\" class=\"dataframe\">\n",
              "  <thead>\n",
              "    <tr style=\"text-align: right;\">\n",
              "      <th></th>\n",
              "      <th>Population</th>\n",
              "      <th>State</th>\n",
              "    </tr>\n",
              "  </thead>\n",
              "  <tbody>\n",
              "    <tr>\n",
              "      <th>Paris</th>\n",
              "      <td>2273305</td>\n",
              "      <td>France</td>\n",
              "    </tr>\n",
              "    <tr>\n",
              "      <th>Rome</th>\n",
              "      <td>2872086</td>\n",
              "      <td>Italy</td>\n",
              "    </tr>\n",
              "  </tbody>\n",
              "</table>\n",
              "</div>"
            ],
            "text/plain": [
              "       Population   State\n",
              "Paris     2273305  France\n",
              "Rome      2872086   Italy"
            ]
          },
          "metadata": {
            "tags": []
          },
          "execution_count": 25
        }
      ]
    },
    {
      "cell_type": "code",
      "metadata": {
        "id": "HCLP0j9c1KRn",
        "colab_type": "code",
        "colab": {},
        "outputId": "8ca4b4d1-ce9c-4b07-9a01-8c8d088fb3cc"
      },
      "source": [
        "df.loc[[\"Paris\", \"Rome\"], \"Population\"]"
      ],
      "execution_count": 0,
      "outputs": [
        {
          "output_type": "execute_result",
          "data": {
            "text/plain": [
              "Paris    2273305\n",
              "Rome     2872086\n",
              "Name: Population, dtype: int64"
            ]
          },
          "metadata": {
            "tags": []
          },
          "execution_count": 26
        }
      ]
    },
    {
      "cell_type": "code",
      "metadata": {
        "id": "SZv-wl0P1KRq",
        "colab_type": "code",
        "colab": {},
        "outputId": "ac0183e4-c746-4018-db49-b927c99e9299"
      },
      "source": [
        "df.loc[\"Paris\", \"Population\"]"
      ],
      "execution_count": 0,
      "outputs": [
        {
          "output_type": "execute_result",
          "data": {
            "text/plain": [
              "2273305"
            ]
          },
          "metadata": {
            "tags": []
          },
          "execution_count": 27
        }
      ]
    },
    {
      "cell_type": "code",
      "metadata": {
        "id": "rPK-ZdaY1KRt",
        "colab_type": "code",
        "colab": {},
        "outputId": "af309e8a-625a-49c5-9449-045a2d4e8197"
      },
      "source": [
        "df.iloc[1:3,:]"
      ],
      "execution_count": 0,
      "outputs": [
        {
          "output_type": "execute_result",
          "data": {
            "text/html": [
              "<div>\n",
              "<style scoped>\n",
              "    .dataframe tbody tr th:only-of-type {\n",
              "        vertical-align: middle;\n",
              "    }\n",
              "\n",
              "    .dataframe tbody tr th {\n",
              "        vertical-align: top;\n",
              "    }\n",
              "\n",
              "    .dataframe thead th {\n",
              "        text-align: right;\n",
              "    }\n",
              "</style>\n",
              "<table border=\"1\" class=\"dataframe\">\n",
              "  <thead>\n",
              "    <tr style=\"text-align: right;\">\n",
              "      <th></th>\n",
              "      <th>Population</th>\n",
              "      <th>State</th>\n",
              "    </tr>\n",
              "  </thead>\n",
              "  <tbody>\n",
              "    <tr>\n",
              "      <th>London</th>\n",
              "      <td>8615246</td>\n",
              "      <td>United kingdom</td>\n",
              "    </tr>\n",
              "    <tr>\n",
              "      <th>Rome</th>\n",
              "      <td>2872086</td>\n",
              "      <td>Italy</td>\n",
              "    </tr>\n",
              "  </tbody>\n",
              "</table>\n",
              "</div>"
            ],
            "text/plain": [
              "        Population           State\n",
              "London     8615246  United kingdom\n",
              "Rome       2872086           Italy"
            ]
          },
          "metadata": {
            "tags": []
          },
          "execution_count": 28
        }
      ]
    },
    {
      "cell_type": "code",
      "metadata": {
        "id": "cXavsUBs1KRz",
        "colab_type": "code",
        "colab": {},
        "outputId": "9ddea707-8950-4a62-e826-55d0d8f3dae4"
      },
      "source": [
        "df.mean()"
      ],
      "execution_count": 0,
      "outputs": [
        {
          "output_type": "execute_result",
          "data": {
            "text/plain": [
              "Population    3667653.25\n",
              "dtype: float64"
            ]
          },
          "metadata": {
            "tags": []
          },
          "execution_count": 29
        }
      ]
    },
    {
      "cell_type": "code",
      "metadata": {
        "id": "5PJWegRH1KR6",
        "colab_type": "code",
        "colab": {},
        "outputId": "15ef43a7-d4b0-490e-810c-569da54f69b2"
      },
      "source": [
        "df.info()"
      ],
      "execution_count": 0,
      "outputs": [
        {
          "output_type": "stream",
          "text": [
            "<class 'pandas.core.frame.DataFrame'>\n",
            "Index: 4 entries, Stockholm to Paris\n",
            "Data columns (total 2 columns):\n",
            " #   Column      Non-Null Count  Dtype \n",
            "---  ------      --------------  ----- \n",
            " 0   Population  4 non-null      int64 \n",
            " 1   State       4 non-null      object\n",
            "dtypes: int64(1), object(1)\n",
            "memory usage: 256.0+ bytes\n"
          ],
          "name": "stdout"
        }
      ]
    },
    {
      "cell_type": "code",
      "metadata": {
        "id": "jWUQR1751KSR",
        "colab_type": "code",
        "colab": {},
        "outputId": "71de2d62-f970-4d61-a5ac-4a7b35590927"
      },
      "source": [
        "df.dtypes"
      ],
      "execution_count": 0,
      "outputs": [
        {
          "output_type": "execute_result",
          "data": {
            "text/plain": [
              "Population     int64\n",
              "State         object\n",
              "dtype: object"
            ]
          },
          "metadata": {
            "tags": []
          },
          "execution_count": 31
        }
      ]
    },
    {
      "cell_type": "code",
      "metadata": {
        "id": "iS9sbeTF1KSU",
        "colab_type": "code",
        "colab": {},
        "outputId": "1fd45e3a-34d9-47ca-8249-bec0a1c83f12"
      },
      "source": [
        "df.head()"
      ],
      "execution_count": 0,
      "outputs": [
        {
          "output_type": "execute_result",
          "data": {
            "text/html": [
              "<div>\n",
              "<style scoped>\n",
              "    .dataframe tbody tr th:only-of-type {\n",
              "        vertical-align: middle;\n",
              "    }\n",
              "\n",
              "    .dataframe tbody tr th {\n",
              "        vertical-align: top;\n",
              "    }\n",
              "\n",
              "    .dataframe thead th {\n",
              "        text-align: right;\n",
              "    }\n",
              "</style>\n",
              "<table border=\"1\" class=\"dataframe\">\n",
              "  <thead>\n",
              "    <tr style=\"text-align: right;\">\n",
              "      <th></th>\n",
              "      <th>Population</th>\n",
              "      <th>State</th>\n",
              "    </tr>\n",
              "  </thead>\n",
              "  <tbody>\n",
              "    <tr>\n",
              "      <th>Stockholm</th>\n",
              "      <td>909976</td>\n",
              "      <td>Sweden</td>\n",
              "    </tr>\n",
              "    <tr>\n",
              "      <th>London</th>\n",
              "      <td>8615246</td>\n",
              "      <td>United kingdom</td>\n",
              "    </tr>\n",
              "    <tr>\n",
              "      <th>Rome</th>\n",
              "      <td>2872086</td>\n",
              "      <td>Italy</td>\n",
              "    </tr>\n",
              "    <tr>\n",
              "      <th>Paris</th>\n",
              "      <td>2273305</td>\n",
              "      <td>France</td>\n",
              "    </tr>\n",
              "  </tbody>\n",
              "</table>\n",
              "</div>"
            ],
            "text/plain": [
              "           Population           State\n",
              "Stockholm      909976          Sweden\n",
              "London        8615246  United kingdom\n",
              "Rome          2872086           Italy\n",
              "Paris         2273305          France"
            ]
          },
          "metadata": {
            "tags": []
          },
          "execution_count": 32
        }
      ]
    },
    {
      "cell_type": "markdown",
      "metadata": {
        "id": "ENjVmadw1KSW",
        "colab_type": "text"
      },
      "source": [
        "### <font color='blue'> Exercise #2:  </font>\n",
        "\n",
        "1.  From the **exam_data_df** created in exercise #1, create a new DataFrame **df1** with all the entries in the \"attempts\" column to 0 \n",
        "\n",
        "2. Now create a new DataFrame **df2** from **df1** by removing all rows where the **qualify** column values equal to \"yes\""
      ]
    },
    {
      "cell_type": "code",
      "metadata": {
        "id": "AD8O8A6u12ih",
        "colab_type": "code",
        "colab": {
          "base_uri": "https://localhost:8080/",
          "height": 215
        },
        "outputId": "14f91e86-9338-4749-aed8-8c0ab9751c69"
      },
      "source": [
        ""
      ],
      "execution_count": 6,
      "outputs": [
        {
          "output_type": "execute_result",
          "data": {
            "text/plain": [
              "a    1\n",
              "b    3\n",
              "c    2\n",
              "d    3\n",
              "e    2\n",
              "f    3\n",
              "g    1\n",
              "h    1\n",
              "i    2\n",
              "j    1\n",
              "Name: attempts, dtype: int64"
            ]
          },
          "metadata": {
            "tags": []
          },
          "execution_count": 6
        }
      ]
    },
    {
      "cell_type": "markdown",
      "metadata": {
        "id": "VHpJJWPw1KSX",
        "colab_type": "text"
      },
      "source": [
        "## Larger dataset"
      ]
    },
    {
      "cell_type": "code",
      "metadata": {
        "id": "J2Do2TIH1KSX",
        "colab_type": "code",
        "colab": {}
      },
      "source": [
        "df_pop = pd.read_csv(\"..\\\\data\\\\european_cities.csv\", delimiter=\",\", encoding= 'unicode_escape', header=0)"
      ],
      "execution_count": 0,
      "outputs": []
    },
    {
      "cell_type": "code",
      "metadata": {
        "id": "0XKrPq2y1KSa",
        "colab_type": "code",
        "colab": {}
      },
      "source": [
        "import pickle"
      ],
      "execution_count": 0,
      "outputs": []
    },
    {
      "cell_type": "code",
      "metadata": {
        "id": "r4utzciS1KSd",
        "colab_type": "code",
        "colab": {}
      },
      "source": [
        "df_pop.to_pickle(\"european_cities.pkl\")"
      ],
      "execution_count": 0,
      "outputs": []
    },
    {
      "cell_type": "code",
      "metadata": {
        "id": "hGq1Uiln1KSf",
        "colab_type": "code",
        "colab": {},
        "outputId": "a9fd25d5-ad26-4e10-f81a-5824b5d6e81c"
      },
      "source": [
        "df_pop.head()"
      ],
      "execution_count": 0,
      "outputs": [
        {
          "output_type": "execute_result",
          "data": {
            "text/html": [
              "<div>\n",
              "<style scoped>\n",
              "    .dataframe tbody tr th:only-of-type {\n",
              "        vertical-align: middle;\n",
              "    }\n",
              "\n",
              "    .dataframe tbody tr th {\n",
              "        vertical-align: top;\n",
              "    }\n",
              "\n",
              "    .dataframe thead th {\n",
              "        text-align: right;\n",
              "    }\n",
              "</style>\n",
              "<table border=\"1\" class=\"dataframe\">\n",
              "  <thead>\n",
              "    <tr style=\"text-align: right;\">\n",
              "      <th></th>\n",
              "      <th>Rank</th>\n",
              "      <th>City</th>\n",
              "      <th>State</th>\n",
              "      <th>Population</th>\n",
              "      <th>Date of census/estimate</th>\n",
              "      <th>NumericPopulation</th>\n",
              "    </tr>\n",
              "  </thead>\n",
              "  <tbody>\n",
              "    <tr>\n",
              "      <th>0</th>\n",
              "      <td>1</td>\n",
              "      <td>London[2]</td>\n",
              "      <td>United Kingdom</td>\n",
              "      <td>8,615,246</td>\n",
              "      <td>1 June 2014</td>\n",
              "      <td>8615246</td>\n",
              "    </tr>\n",
              "    <tr>\n",
              "      <th>1</th>\n",
              "      <td>2</td>\n",
              "      <td>Berlin</td>\n",
              "      <td>Germany</td>\n",
              "      <td>3,437,916</td>\n",
              "      <td>31 May 2014</td>\n",
              "      <td>3437916</td>\n",
              "    </tr>\n",
              "    <tr>\n",
              "      <th>2</th>\n",
              "      <td>3</td>\n",
              "      <td>Madrid</td>\n",
              "      <td>Spain</td>\n",
              "      <td>3,165,235</td>\n",
              "      <td>1 January 2014</td>\n",
              "      <td>3165235</td>\n",
              "    </tr>\n",
              "    <tr>\n",
              "      <th>3</th>\n",
              "      <td>4</td>\n",
              "      <td>Rome</td>\n",
              "      <td>Italy</td>\n",
              "      <td>2,872,086</td>\n",
              "      <td>30 September 2014</td>\n",
              "      <td>2872086</td>\n",
              "    </tr>\n",
              "    <tr>\n",
              "      <th>4</th>\n",
              "      <td>5</td>\n",
              "      <td>Paris</td>\n",
              "      <td>France</td>\n",
              "      <td>2,273,305</td>\n",
              "      <td>1 January 2013</td>\n",
              "      <td>2273305</td>\n",
              "    </tr>\n",
              "  </tbody>\n",
              "</table>\n",
              "</div>"
            ],
            "text/plain": [
              "   Rank       City           State Population Date of census/estimate  \\\n",
              "0     1  London[2]  United Kingdom  8,615,246             1 June 2014   \n",
              "1     2     Berlin         Germany  3,437,916             31 May 2014   \n",
              "2     3     Madrid           Spain  3,165,235          1 January 2014   \n",
              "3     4       Rome           Italy  2,872,086       30 September 2014   \n",
              "4     5      Paris          France  2,273,305          1 January 2013   \n",
              "\n",
              "   NumericPopulation  \n",
              "0            8615246  \n",
              "1            3437916  \n",
              "2            3165235  \n",
              "3            2872086  \n",
              "4            2273305  "
            ]
          },
          "metadata": {
            "tags": []
          },
          "execution_count": 45
        }
      ]
    },
    {
      "cell_type": "code",
      "metadata": {
        "id": "33Zy7vKf1KSi",
        "colab_type": "code",
        "colab": {},
        "outputId": "867c40f7-170a-4079-f026-4c0ef2deafa8"
      },
      "source": [
        "df_pop.info()"
      ],
      "execution_count": 0,
      "outputs": [
        {
          "output_type": "stream",
          "text": [
            "<class 'pandas.core.frame.DataFrame'>\n",
            "RangeIndex: 105 entries, 0 to 104\n",
            "Data columns (total 5 columns):\n",
            " #   Column                   Non-Null Count  Dtype \n",
            "---  ------                   --------------  ----- \n",
            " 0   Rank                     105 non-null    int64 \n",
            " 1   City                     105 non-null    object\n",
            " 2   State                    105 non-null    object\n",
            " 3   Population               105 non-null    object\n",
            " 4   Date of census/estimate  105 non-null    object\n",
            "dtypes: int64(1), object(4)\n",
            "memory usage: 4.2+ KB\n"
          ],
          "name": "stdout"
        }
      ]
    },
    {
      "cell_type": "code",
      "metadata": {
        "id": "L763lK131KSl",
        "colab_type": "code",
        "colab": {},
        "outputId": "19aee9f9-972f-4494-8940-1410b5e8d944"
      },
      "source": [
        "df_pop.head()"
      ],
      "execution_count": 0,
      "outputs": [
        {
          "output_type": "execute_result",
          "data": {
            "text/html": [
              "<div>\n",
              "<style scoped>\n",
              "    .dataframe tbody tr th:only-of-type {\n",
              "        vertical-align: middle;\n",
              "    }\n",
              "\n",
              "    .dataframe tbody tr th {\n",
              "        vertical-align: top;\n",
              "    }\n",
              "\n",
              "    .dataframe thead th {\n",
              "        text-align: right;\n",
              "    }\n",
              "</style>\n",
              "<table border=\"1\" class=\"dataframe\">\n",
              "  <thead>\n",
              "    <tr style=\"text-align: right;\">\n",
              "      <th></th>\n",
              "      <th>Rank</th>\n",
              "      <th>City</th>\n",
              "      <th>State</th>\n",
              "      <th>Population</th>\n",
              "      <th>Date of census/estimate</th>\n",
              "    </tr>\n",
              "  </thead>\n",
              "  <tbody>\n",
              "    <tr>\n",
              "      <th>0</th>\n",
              "      <td>1</td>\n",
              "      <td>London[2]</td>\n",
              "      <td>United Kingdom</td>\n",
              "      <td>8,615,246</td>\n",
              "      <td>1 June 2014</td>\n",
              "    </tr>\n",
              "    <tr>\n",
              "      <th>1</th>\n",
              "      <td>2</td>\n",
              "      <td>Berlin</td>\n",
              "      <td>Germany</td>\n",
              "      <td>3,437,916</td>\n",
              "      <td>31 May 2014</td>\n",
              "    </tr>\n",
              "    <tr>\n",
              "      <th>2</th>\n",
              "      <td>3</td>\n",
              "      <td>Madrid</td>\n",
              "      <td>Spain</td>\n",
              "      <td>3,165,235</td>\n",
              "      <td>1 January 2014</td>\n",
              "    </tr>\n",
              "    <tr>\n",
              "      <th>3</th>\n",
              "      <td>4</td>\n",
              "      <td>Rome</td>\n",
              "      <td>Italy</td>\n",
              "      <td>2,872,086</td>\n",
              "      <td>30 September 2014</td>\n",
              "    </tr>\n",
              "    <tr>\n",
              "      <th>4</th>\n",
              "      <td>5</td>\n",
              "      <td>Paris</td>\n",
              "      <td>France</td>\n",
              "      <td>2,273,305</td>\n",
              "      <td>1 January 2013</td>\n",
              "    </tr>\n",
              "  </tbody>\n",
              "</table>\n",
              "</div>"
            ],
            "text/plain": [
              "   Rank       City           State Population Date of census/estimate\n",
              "0     1  London[2]  United Kingdom  8,615,246             1 June 2014\n",
              "1     2     Berlin         Germany  3,437,916             31 May 2014\n",
              "2     3     Madrid           Spain  3,165,235          1 January 2014\n",
              "3     4       Rome           Italy  2,872,086       30 September 2014\n",
              "4     5      Paris          France  2,273,305          1 January 2013"
            ]
          },
          "metadata": {
            "tags": []
          },
          "execution_count": 57
        }
      ]
    },
    {
      "cell_type": "code",
      "metadata": {
        "id": "LINKU-ri1KSo",
        "colab_type": "code",
        "colab": {}
      },
      "source": [
        "df_pop[\"NumericPopulation\"] = df_pop.Population.apply(lambda x: int(x.replace(\",\", \"\")))"
      ],
      "execution_count": 0,
      "outputs": []
    },
    {
      "cell_type": "code",
      "metadata": {
        "id": "KqBai1Zj1KSq",
        "colab_type": "code",
        "colab": {},
        "outputId": "9e258ccd-04f0-478f-f01b-965fae87c13e"
      },
      "source": [
        "df_pop[\"State\"].values[:3]"
      ],
      "execution_count": 0,
      "outputs": [
        {
          "output_type": "execute_result",
          "data": {
            "text/plain": [
              "array(['United Kingdom', 'Germany', 'Spain'], dtype=object)"
            ]
          },
          "metadata": {
            "tags": []
          },
          "execution_count": 59
        }
      ]
    },
    {
      "cell_type": "code",
      "metadata": {
        "id": "2tksXl261KSw",
        "colab_type": "code",
        "colab": {}
      },
      "source": [
        "df_pop[\"State\"] = df_pop[\"State\"].apply(lambda x: x.strip())"
      ],
      "execution_count": 0,
      "outputs": []
    },
    {
      "cell_type": "code",
      "metadata": {
        "id": "ur565Dse1KSy",
        "colab_type": "code",
        "colab": {},
        "outputId": "3f408e83-bf0b-4a20-d958-2a732c8783c4"
      },
      "source": [
        "df_pop.head()"
      ],
      "execution_count": 0,
      "outputs": [
        {
          "output_type": "execute_result",
          "data": {
            "text/html": [
              "<div>\n",
              "<style scoped>\n",
              "    .dataframe tbody tr th:only-of-type {\n",
              "        vertical-align: middle;\n",
              "    }\n",
              "\n",
              "    .dataframe tbody tr th {\n",
              "        vertical-align: top;\n",
              "    }\n",
              "\n",
              "    .dataframe thead th {\n",
              "        text-align: right;\n",
              "    }\n",
              "</style>\n",
              "<table border=\"1\" class=\"dataframe\">\n",
              "  <thead>\n",
              "    <tr style=\"text-align: right;\">\n",
              "      <th></th>\n",
              "      <th>Rank</th>\n",
              "      <th>City</th>\n",
              "      <th>State</th>\n",
              "      <th>Population</th>\n",
              "      <th>Date of census/estimate</th>\n",
              "      <th>NumericPopulation</th>\n",
              "    </tr>\n",
              "  </thead>\n",
              "  <tbody>\n",
              "    <tr>\n",
              "      <th>0</th>\n",
              "      <td>1</td>\n",
              "      <td>London[2]</td>\n",
              "      <td>United Kingdom</td>\n",
              "      <td>8,615,246</td>\n",
              "      <td>1 June 2014</td>\n",
              "      <td>8615246</td>\n",
              "    </tr>\n",
              "    <tr>\n",
              "      <th>1</th>\n",
              "      <td>2</td>\n",
              "      <td>Berlin</td>\n",
              "      <td>Germany</td>\n",
              "      <td>3,437,916</td>\n",
              "      <td>31 May 2014</td>\n",
              "      <td>3437916</td>\n",
              "    </tr>\n",
              "    <tr>\n",
              "      <th>2</th>\n",
              "      <td>3</td>\n",
              "      <td>Madrid</td>\n",
              "      <td>Spain</td>\n",
              "      <td>3,165,235</td>\n",
              "      <td>1 January 2014</td>\n",
              "      <td>3165235</td>\n",
              "    </tr>\n",
              "    <tr>\n",
              "      <th>3</th>\n",
              "      <td>4</td>\n",
              "      <td>Rome</td>\n",
              "      <td>Italy</td>\n",
              "      <td>2,872,086</td>\n",
              "      <td>30 September 2014</td>\n",
              "      <td>2872086</td>\n",
              "    </tr>\n",
              "    <tr>\n",
              "      <th>4</th>\n",
              "      <td>5</td>\n",
              "      <td>Paris</td>\n",
              "      <td>France</td>\n",
              "      <td>2,273,305</td>\n",
              "      <td>1 January 2013</td>\n",
              "      <td>2273305</td>\n",
              "    </tr>\n",
              "  </tbody>\n",
              "</table>\n",
              "</div>"
            ],
            "text/plain": [
              "   Rank       City           State Population Date of census/estimate  \\\n",
              "0     1  London[2]  United Kingdom  8,615,246             1 June 2014   \n",
              "1     2     Berlin         Germany  3,437,916             31 May 2014   \n",
              "2     3     Madrid           Spain  3,165,235          1 January 2014   \n",
              "3     4       Rome           Italy  2,872,086       30 September 2014   \n",
              "4     5      Paris          France  2,273,305          1 January 2013   \n",
              "\n",
              "   NumericPopulation  \n",
              "0            8615246  \n",
              "1            3437916  \n",
              "2            3165235  \n",
              "3            2872086  \n",
              "4            2273305  "
            ]
          },
          "metadata": {
            "tags": []
          },
          "execution_count": 61
        }
      ]
    },
    {
      "cell_type": "markdown",
      "metadata": {
        "id": "AikfLgfA1KS1",
        "colab_type": "text"
      },
      "source": [
        "### <font color='blue'> Exercise #3:  </font>\n",
        "1.  Use the column \"labels\" now as index in **exam_data_df**\n",
        "2.  Replace all occurrences of \"yes\" in \"qualify\" column with \"pass\" and \"no\" with \"fail\" in the DataFrame **exam_data_df*\n"
      ]
    },
    {
      "cell_type": "code",
      "metadata": {
        "id": "-tcywGl11KS3",
        "colab_type": "code",
        "colab": {},
        "outputId": "cbbefff3-92c9-498f-ffd6-b4decb5e5c5b"
      },
      "source": [
        "df_pop.dtypes"
      ],
      "execution_count": 0,
      "outputs": [
        {
          "output_type": "execute_result",
          "data": {
            "text/plain": [
              "Rank                        int64\n",
              "City                       object\n",
              "State                      object\n",
              "Population                 object\n",
              "Date of census/estimate    object\n",
              "NumericPopulation           int64\n",
              "dtype: object"
            ]
          },
          "metadata": {
            "tags": []
          },
          "execution_count": 62
        }
      ]
    },
    {
      "cell_type": "code",
      "metadata": {
        "id": "tdbxdlPE1KS8",
        "colab_type": "code",
        "colab": {}
      },
      "source": [
        "df_pop2 = df_pop.set_index(\"City\")"
      ],
      "execution_count": 0,
      "outputs": []
    },
    {
      "cell_type": "code",
      "metadata": {
        "id": "gT5c6Vkw1KS9",
        "colab_type": "code",
        "colab": {}
      },
      "source": [
        "df_pop2 = df_pop2.sort_index()"
      ],
      "execution_count": 0,
      "outputs": []
    },
    {
      "cell_type": "code",
      "metadata": {
        "id": "Q56LhYni1KS_",
        "colab_type": "code",
        "colab": {},
        "outputId": "87f2642a-cbb0-40c3-a555-637bacce14fa"
      },
      "source": [
        "df_pop2.head()"
      ],
      "execution_count": 0,
      "outputs": [
        {
          "output_type": "execute_result",
          "data": {
            "text/html": [
              "<div>\n",
              "<style scoped>\n",
              "    .dataframe tbody tr th:only-of-type {\n",
              "        vertical-align: middle;\n",
              "    }\n",
              "\n",
              "    .dataframe tbody tr th {\n",
              "        vertical-align: top;\n",
              "    }\n",
              "\n",
              "    .dataframe thead th {\n",
              "        text-align: right;\n",
              "    }\n",
              "</style>\n",
              "<table border=\"1\" class=\"dataframe\">\n",
              "  <thead>\n",
              "    <tr style=\"text-align: right;\">\n",
              "      <th></th>\n",
              "      <th>Rank</th>\n",
              "      <th>State</th>\n",
              "      <th>Population</th>\n",
              "      <th>Date of census/estimate</th>\n",
              "      <th>NumericPopulation</th>\n",
              "    </tr>\n",
              "    <tr>\n",
              "      <th>City</th>\n",
              "      <th></th>\n",
              "      <th></th>\n",
              "      <th></th>\n",
              "      <th></th>\n",
              "      <th></th>\n",
              "    </tr>\n",
              "  </thead>\n",
              "  <tbody>\n",
              "    <tr>\n",
              "      <th>?¢d?</th>\n",
              "      <td>28</td>\n",
              "      <td>Poland</td>\n",
              "      <td>709,757</td>\n",
              "      <td>31 March 2014</td>\n",
              "      <td>709757</td>\n",
              "    </tr>\n",
              "    <tr>\n",
              "      <th>Aarhus</th>\n",
              "      <td>92</td>\n",
              "      <td>Denmark</td>\n",
              "      <td>326,676</td>\n",
              "      <td>1 October 2014</td>\n",
              "      <td>326676</td>\n",
              "    </tr>\n",
              "    <tr>\n",
              "      <th>Alicante</th>\n",
              "      <td>86</td>\n",
              "      <td>Spain</td>\n",
              "      <td>334,678</td>\n",
              "      <td>1 January 2012</td>\n",
              "      <td>334678</td>\n",
              "    </tr>\n",
              "    <tr>\n",
              "      <th>Amsterdam</th>\n",
              "      <td>23</td>\n",
              "      <td>Netherlands</td>\n",
              "      <td>813,562</td>\n",
              "      <td>31 May 2014</td>\n",
              "      <td>813562</td>\n",
              "    </tr>\n",
              "    <tr>\n",
              "      <th>Antwerp</th>\n",
              "      <td>59</td>\n",
              "      <td>Belgium</td>\n",
              "      <td>510,610</td>\n",
              "      <td>1 January 2014</td>\n",
              "      <td>510610</td>\n",
              "    </tr>\n",
              "  </tbody>\n",
              "</table>\n",
              "</div>"
            ],
            "text/plain": [
              "           Rank        State Population Date of census/estimate  \\\n",
              "City                                                              \n",
              "?¢d?         28       Poland    709,757           31 March 2014   \n",
              "Aarhus       92      Denmark    326,676          1 October 2014   \n",
              "Alicante     86        Spain    334,678          1 January 2012   \n",
              "Amsterdam    23  Netherlands    813,562             31 May 2014   \n",
              "Antwerp      59      Belgium    510,610          1 January 2014   \n",
              "\n",
              "           NumericPopulation  \n",
              "City                          \n",
              "?¢d?                  709757  \n",
              "Aarhus                326676  \n",
              "Alicante              334678  \n",
              "Amsterdam             813562  \n",
              "Antwerp               510610  "
            ]
          },
          "metadata": {
            "tags": []
          },
          "execution_count": 65
        }
      ]
    },
    {
      "cell_type": "code",
      "metadata": {
        "id": "Hwc03_gG1KTE",
        "colab_type": "code",
        "colab": {},
        "outputId": "83520902-9323-4310-8a5d-2001c8757a18"
      },
      "source": [
        "df_pop2.head()"
      ],
      "execution_count": 0,
      "outputs": [
        {
          "output_type": "execute_result",
          "data": {
            "text/html": [
              "<div>\n",
              "<style scoped>\n",
              "    .dataframe tbody tr th:only-of-type {\n",
              "        vertical-align: middle;\n",
              "    }\n",
              "\n",
              "    .dataframe tbody tr th {\n",
              "        vertical-align: top;\n",
              "    }\n",
              "\n",
              "    .dataframe thead th {\n",
              "        text-align: right;\n",
              "    }\n",
              "</style>\n",
              "<table border=\"1\" class=\"dataframe\">\n",
              "  <thead>\n",
              "    <tr style=\"text-align: right;\">\n",
              "      <th></th>\n",
              "      <th>Rank</th>\n",
              "      <th>State</th>\n",
              "      <th>Population</th>\n",
              "      <th>Date of census/estimate</th>\n",
              "      <th>NumericPopulation</th>\n",
              "    </tr>\n",
              "    <tr>\n",
              "      <th>City</th>\n",
              "      <th></th>\n",
              "      <th></th>\n",
              "      <th></th>\n",
              "      <th></th>\n",
              "      <th></th>\n",
              "    </tr>\n",
              "  </thead>\n",
              "  <tbody>\n",
              "    <tr>\n",
              "      <th>?¢d?</th>\n",
              "      <td>28</td>\n",
              "      <td>Poland</td>\n",
              "      <td>709,757</td>\n",
              "      <td>31 March 2014</td>\n",
              "      <td>709757</td>\n",
              "    </tr>\n",
              "    <tr>\n",
              "      <th>Aarhus</th>\n",
              "      <td>92</td>\n",
              "      <td>Denmark</td>\n",
              "      <td>326,676</td>\n",
              "      <td>1 October 2014</td>\n",
              "      <td>326676</td>\n",
              "    </tr>\n",
              "    <tr>\n",
              "      <th>Alicante</th>\n",
              "      <td>86</td>\n",
              "      <td>Spain</td>\n",
              "      <td>334,678</td>\n",
              "      <td>1 January 2012</td>\n",
              "      <td>334678</td>\n",
              "    </tr>\n",
              "    <tr>\n",
              "      <th>Amsterdam</th>\n",
              "      <td>23</td>\n",
              "      <td>Netherlands</td>\n",
              "      <td>813,562</td>\n",
              "      <td>31 May 2014</td>\n",
              "      <td>813562</td>\n",
              "    </tr>\n",
              "    <tr>\n",
              "      <th>Antwerp</th>\n",
              "      <td>59</td>\n",
              "      <td>Belgium</td>\n",
              "      <td>510,610</td>\n",
              "      <td>1 January 2014</td>\n",
              "      <td>510610</td>\n",
              "    </tr>\n",
              "  </tbody>\n",
              "</table>\n",
              "</div>"
            ],
            "text/plain": [
              "           Rank        State Population Date of census/estimate  \\\n",
              "City                                                              \n",
              "?¢d?         28       Poland    709,757           31 March 2014   \n",
              "Aarhus       92      Denmark    326,676          1 October 2014   \n",
              "Alicante     86        Spain    334,678          1 January 2012   \n",
              "Amsterdam    23  Netherlands    813,562             31 May 2014   \n",
              "Antwerp      59      Belgium    510,610          1 January 2014   \n",
              "\n",
              "           NumericPopulation  \n",
              "City                          \n",
              "?¢d?                  709757  \n",
              "Aarhus                326676  \n",
              "Alicante              334678  \n",
              "Amsterdam             813562  \n",
              "Antwerp               510610  "
            ]
          },
          "metadata": {
            "tags": []
          },
          "execution_count": 66
        }
      ]
    },
    {
      "cell_type": "code",
      "metadata": {
        "scrolled": false,
        "id": "Yirpwc5k1KTG",
        "colab_type": "code",
        "colab": {}
      },
      "source": [
        "df_pop3 = df_pop.set_index([\"State\", \"City\"])"
      ],
      "execution_count": 0,
      "outputs": []
    },
    {
      "cell_type": "code",
      "metadata": {
        "id": "-i6GZd7F1KTI",
        "colab_type": "code",
        "colab": {},
        "outputId": "7d1912a2-5bb8-4b1a-dac4-2d3bc76ff3f1"
      },
      "source": [
        "df_pop3.head(7)"
      ],
      "execution_count": 0,
      "outputs": [
        {
          "output_type": "execute_result",
          "data": {
            "text/html": [
              "<div>\n",
              "<style scoped>\n",
              "    .dataframe tbody tr th:only-of-type {\n",
              "        vertical-align: middle;\n",
              "    }\n",
              "\n",
              "    .dataframe tbody tr th {\n",
              "        vertical-align: top;\n",
              "    }\n",
              "\n",
              "    .dataframe thead th {\n",
              "        text-align: right;\n",
              "    }\n",
              "</style>\n",
              "<table border=\"1\" class=\"dataframe\">\n",
              "  <thead>\n",
              "    <tr style=\"text-align: right;\">\n",
              "      <th></th>\n",
              "      <th></th>\n",
              "      <th>Rank</th>\n",
              "      <th>Population</th>\n",
              "      <th>Date of census/estimate</th>\n",
              "      <th>NumericPopulation</th>\n",
              "    </tr>\n",
              "    <tr>\n",
              "      <th>State</th>\n",
              "      <th>City</th>\n",
              "      <th></th>\n",
              "      <th></th>\n",
              "      <th></th>\n",
              "      <th></th>\n",
              "    </tr>\n",
              "  </thead>\n",
              "  <tbody>\n",
              "    <tr>\n",
              "      <th>United Kingdom</th>\n",
              "      <th>London[2]</th>\n",
              "      <td>1</td>\n",
              "      <td>8,615,246</td>\n",
              "      <td>1 June 2014</td>\n",
              "      <td>8615246</td>\n",
              "    </tr>\n",
              "    <tr>\n",
              "      <th>Germany</th>\n",
              "      <th>Berlin</th>\n",
              "      <td>2</td>\n",
              "      <td>3,437,916</td>\n",
              "      <td>31 May 2014</td>\n",
              "      <td>3437916</td>\n",
              "    </tr>\n",
              "    <tr>\n",
              "      <th>Spain</th>\n",
              "      <th>Madrid</th>\n",
              "      <td>3</td>\n",
              "      <td>3,165,235</td>\n",
              "      <td>1 January 2014</td>\n",
              "      <td>3165235</td>\n",
              "    </tr>\n",
              "    <tr>\n",
              "      <th>Italy</th>\n",
              "      <th>Rome</th>\n",
              "      <td>4</td>\n",
              "      <td>2,872,086</td>\n",
              "      <td>30 September 2014</td>\n",
              "      <td>2872086</td>\n",
              "    </tr>\n",
              "    <tr>\n",
              "      <th>France</th>\n",
              "      <th>Paris</th>\n",
              "      <td>5</td>\n",
              "      <td>2,273,305</td>\n",
              "      <td>1 January 2013</td>\n",
              "      <td>2273305</td>\n",
              "    </tr>\n",
              "    <tr>\n",
              "      <th>Romania</th>\n",
              "      <th>Bucharest</th>\n",
              "      <td>6</td>\n",
              "      <td>1,883,425</td>\n",
              "      <td>20 October 2011</td>\n",
              "      <td>1883425</td>\n",
              "    </tr>\n",
              "    <tr>\n",
              "      <th>Austria</th>\n",
              "      <th>Vienna</th>\n",
              "      <td>7</td>\n",
              "      <td>1,794,770</td>\n",
              "      <td>1 January 2015</td>\n",
              "      <td>1794770</td>\n",
              "    </tr>\n",
              "  </tbody>\n",
              "</table>\n",
              "</div>"
            ],
            "text/plain": [
              "                          Rank Population Date of census/estimate  \\\n",
              "State          City                                                 \n",
              "United Kingdom London[2]     1  8,615,246             1 June 2014   \n",
              "Germany        Berlin        2  3,437,916             31 May 2014   \n",
              "Spain          Madrid        3  3,165,235          1 January 2014   \n",
              "Italy          Rome          4  2,872,086       30 September 2014   \n",
              "France         Paris         5  2,273,305          1 January 2013   \n",
              "Romania        Bucharest     6  1,883,425         20 October 2011   \n",
              "Austria        Vienna        7  1,794,770          1 January 2015   \n",
              "\n",
              "                          NumericPopulation  \n",
              "State          City                          \n",
              "United Kingdom London[2]            8615246  \n",
              "Germany        Berlin               3437916  \n",
              "Spain          Madrid               3165235  \n",
              "Italy          Rome                 2872086  \n",
              "France         Paris                2273305  \n",
              "Romania        Bucharest            1883425  \n",
              "Austria        Vienna               1794770  "
            ]
          },
          "metadata": {
            "tags": []
          },
          "execution_count": 69
        }
      ]
    },
    {
      "cell_type": "code",
      "metadata": {
        "id": "DYU2Xuhq1KTK",
        "colab_type": "code",
        "colab": {},
        "outputId": "66dbe209-4eb7-4355-b3d9-5352f79edbb5"
      },
      "source": [
        "df_pop3.loc[\"Sweden\"]"
      ],
      "execution_count": 0,
      "outputs": [
        {
          "output_type": "execute_result",
          "data": {
            "text/html": [
              "<div>\n",
              "<style scoped>\n",
              "    .dataframe tbody tr th:only-of-type {\n",
              "        vertical-align: middle;\n",
              "    }\n",
              "\n",
              "    .dataframe tbody tr th {\n",
              "        vertical-align: top;\n",
              "    }\n",
              "\n",
              "    .dataframe thead th {\n",
              "        text-align: right;\n",
              "    }\n",
              "</style>\n",
              "<table border=\"1\" class=\"dataframe\">\n",
              "  <thead>\n",
              "    <tr style=\"text-align: right;\">\n",
              "      <th></th>\n",
              "      <th>Rank</th>\n",
              "      <th>Population</th>\n",
              "      <th>Date of census/estimate</th>\n",
              "      <th>NumericPopulation</th>\n",
              "    </tr>\n",
              "    <tr>\n",
              "      <th>City</th>\n",
              "      <th></th>\n",
              "      <th></th>\n",
              "      <th></th>\n",
              "      <th></th>\n",
              "    </tr>\n",
              "  </thead>\n",
              "  <tbody>\n",
              "    <tr>\n",
              "      <th>Stockholm</th>\n",
              "      <td>20</td>\n",
              "      <td>909,976</td>\n",
              "      <td>31 January 2014</td>\n",
              "      <td>909976</td>\n",
              "    </tr>\n",
              "    <tr>\n",
              "      <th>Gothenburg</th>\n",
              "      <td>53</td>\n",
              "      <td>528,014</td>\n",
              "      <td>31 March 2013</td>\n",
              "      <td>528014</td>\n",
              "    </tr>\n",
              "    <tr>\n",
              "      <th>Malm</th>\n",
              "      <td>102</td>\n",
              "      <td>309,105</td>\n",
              "      <td>31 March 2013</td>\n",
              "      <td>309105</td>\n",
              "    </tr>\n",
              "  </tbody>\n",
              "</table>\n",
              "</div>"
            ],
            "text/plain": [
              "            Rank Population Date of census/estimate  NumericPopulation\n",
              "City                                                                  \n",
              "Stockholm     20    909,976         31 January 2014             909976\n",
              "Gothenburg    53    528,014           31 March 2013             528014\n",
              "Malm        102    309,105           31 March 2013             309105"
            ]
          },
          "metadata": {
            "tags": []
          },
          "execution_count": 70
        }
      ]
    },
    {
      "cell_type": "code",
      "metadata": {
        "id": "59Cnq3oj1KTM",
        "colab_type": "code",
        "colab": {},
        "outputId": "c5a2a366-0aed-4a9b-d778-f5b55ba74e33"
      },
      "source": [
        "df_pop3.loc[(\"Sweden\", \"Gothenburg\")]"
      ],
      "execution_count": 0,
      "outputs": [
        {
          "output_type": "execute_result",
          "data": {
            "text/plain": [
              "Rank                                  53\n",
              "Population                       528,014\n",
              "Date of census/estimate    31 March 2013\n",
              "NumericPopulation                 528014\n",
              "Name: (Sweden, Gothenburg), dtype: object"
            ]
          },
          "metadata": {
            "tags": []
          },
          "execution_count": 71
        }
      ]
    },
    {
      "cell_type": "code",
      "metadata": {
        "id": "NL3QPZLC1KTO",
        "colab_type": "code",
        "colab": {},
        "outputId": "5adee195-409d-48e1-ebae-58852bf90a1f"
      },
      "source": [
        "df_pop.set_index(\"City\").sort_values(by=[\"State\", \"NumericPopulation\"], ascending=[False, True]).head()"
      ],
      "execution_count": 0,
      "outputs": [
        {
          "output_type": "execute_result",
          "data": {
            "text/html": [
              "<div>\n",
              "<style scoped>\n",
              "    .dataframe tbody tr th:only-of-type {\n",
              "        vertical-align: middle;\n",
              "    }\n",
              "\n",
              "    .dataframe tbody tr th {\n",
              "        vertical-align: top;\n",
              "    }\n",
              "\n",
              "    .dataframe thead th {\n",
              "        text-align: right;\n",
              "    }\n",
              "</style>\n",
              "<table border=\"1\" class=\"dataframe\">\n",
              "  <thead>\n",
              "    <tr style=\"text-align: right;\">\n",
              "      <th></th>\n",
              "      <th>Rank</th>\n",
              "      <th>State</th>\n",
              "      <th>Population</th>\n",
              "      <th>Date of census/estimate</th>\n",
              "      <th>NumericPopulation</th>\n",
              "    </tr>\n",
              "    <tr>\n",
              "      <th>City</th>\n",
              "      <th></th>\n",
              "      <th></th>\n",
              "      <th></th>\n",
              "      <th></th>\n",
              "      <th></th>\n",
              "    </tr>\n",
              "  </thead>\n",
              "  <tbody>\n",
              "    <tr>\n",
              "      <th>Nottingham</th>\n",
              "      <td>103</td>\n",
              "      <td>United Kingdom</td>\n",
              "      <td>308,735</td>\n",
              "      <td>30 June 2012</td>\n",
              "      <td>308735</td>\n",
              "    </tr>\n",
              "    <tr>\n",
              "      <th>Wirral</th>\n",
              "      <td>97</td>\n",
              "      <td>United Kingdom</td>\n",
              "      <td>320,229</td>\n",
              "      <td>30 June 2012</td>\n",
              "      <td>320229</td>\n",
              "    </tr>\n",
              "    <tr>\n",
              "      <th>Coventry</th>\n",
              "      <td>94</td>\n",
              "      <td>United Kingdom</td>\n",
              "      <td>323,132</td>\n",
              "      <td>30 June 2012</td>\n",
              "      <td>323132</td>\n",
              "    </tr>\n",
              "    <tr>\n",
              "      <th>Wakefield</th>\n",
              "      <td>91</td>\n",
              "      <td>United Kingdom</td>\n",
              "      <td>327,627</td>\n",
              "      <td>30 June 2012</td>\n",
              "      <td>327627</td>\n",
              "    </tr>\n",
              "    <tr>\n",
              "      <th>Leicester</th>\n",
              "      <td>87</td>\n",
              "      <td>United Kingdom</td>\n",
              "      <td>331,606</td>\n",
              "      <td>30 June 2012</td>\n",
              "      <td>331606</td>\n",
              "    </tr>\n",
              "  </tbody>\n",
              "</table>\n",
              "</div>"
            ],
            "text/plain": [
              "            Rank           State Population Date of census/estimate  \\\n",
              "City                                                                  \n",
              "Nottingham   103  United Kingdom    308,735            30 June 2012   \n",
              "Wirral        97  United Kingdom    320,229            30 June 2012   \n",
              "Coventry      94  United Kingdom    323,132            30 June 2012   \n",
              "Wakefield     91  United Kingdom    327,627            30 June 2012   \n",
              "Leicester     87  United Kingdom    331,606            30 June 2012   \n",
              "\n",
              "            NumericPopulation  \n",
              "City                           \n",
              "Nottingham             308735  \n",
              "Wirral                 320229  \n",
              "Coventry               323132  \n",
              "Wakefield              327627  \n",
              "Leicester              331606  "
            ]
          },
          "metadata": {
            "tags": []
          },
          "execution_count": 74
        }
      ]
    },
    {
      "cell_type": "markdown",
      "metadata": {
        "id": "H_2YBxeK1KTP",
        "colab_type": "text"
      },
      "source": [
        "### <font color='blue'> Exercise #4:  </font>\n",
        "\n",
        "1. Sort the DataFrame **exam_data_df** decreasing order by \"score\" and \"qualify\""
      ]
    },
    {
      "cell_type": "code",
      "metadata": {
        "id": "95chlY4d1KTQ",
        "colab_type": "code",
        "colab": {}
      },
      "source": [
        "city_counts = df_pop.State.value_counts()"
      ],
      "execution_count": 0,
      "outputs": []
    },
    {
      "cell_type": "code",
      "metadata": {
        "id": "tjf5WUBV1KTT",
        "colab_type": "code",
        "colab": {}
      },
      "source": [
        "city_counts.name = \"# cities in top 105\""
      ],
      "execution_count": 0,
      "outputs": []
    },
    {
      "cell_type": "code",
      "metadata": {
        "id": "bUaKFrF31KTU",
        "colab_type": "code",
        "colab": {}
      },
      "source": [
        "df_pop3 = df_pop[[\"State\", \"City\", \"NumericPopulation\"]].set_index([\"State\", \"City\"])"
      ],
      "execution_count": 0,
      "outputs": []
    },
    {
      "cell_type": "code",
      "metadata": {
        "id": "pKa6hJZI1KTW",
        "colab_type": "code",
        "colab": {}
      },
      "source": [
        "df_pop4 = df_pop3.sum(level=\"State\").sort_values(\"NumericPopulation\", ascending=False)"
      ],
      "execution_count": 0,
      "outputs": []
    },
    {
      "cell_type": "code",
      "metadata": {
        "id": "gyemPKGG1KTc",
        "colab_type": "code",
        "colab": {},
        "outputId": "5fe18d49-2709-444a-d12f-1321315188df"
      },
      "source": [
        "df_pop4.head()"
      ],
      "execution_count": 0,
      "outputs": [
        {
          "output_type": "execute_result",
          "data": {
            "text/html": [
              "<div>\n",
              "<style scoped>\n",
              "    .dataframe tbody tr th:only-of-type {\n",
              "        vertical-align: middle;\n",
              "    }\n",
              "\n",
              "    .dataframe tbody tr th {\n",
              "        vertical-align: top;\n",
              "    }\n",
              "\n",
              "    .dataframe thead th {\n",
              "        text-align: right;\n",
              "    }\n",
              "</style>\n",
              "<table border=\"1\" class=\"dataframe\">\n",
              "  <thead>\n",
              "    <tr style=\"text-align: right;\">\n",
              "      <th></th>\n",
              "      <th>NumericPopulation</th>\n",
              "    </tr>\n",
              "    <tr>\n",
              "      <th>State</th>\n",
              "      <th></th>\n",
              "    </tr>\n",
              "  </thead>\n",
              "  <tbody>\n",
              "    <tr>\n",
              "      <th>United Kingdom</th>\n",
              "      <td>16011877</td>\n",
              "    </tr>\n",
              "    <tr>\n",
              "      <th>Germany</th>\n",
              "      <td>15119548</td>\n",
              "    </tr>\n",
              "    <tr>\n",
              "      <th>Spain</th>\n",
              "      <td>10041639</td>\n",
              "    </tr>\n",
              "    <tr>\n",
              "      <th>Italy</th>\n",
              "      <td>8764067</td>\n",
              "    </tr>\n",
              "    <tr>\n",
              "      <th>Poland</th>\n",
              "      <td>6267409</td>\n",
              "    </tr>\n",
              "  </tbody>\n",
              "</table>\n",
              "</div>"
            ],
            "text/plain": [
              "                NumericPopulation\n",
              "State                            \n",
              "United Kingdom           16011877\n",
              "Germany                  15119548\n",
              "Spain                    10041639\n",
              "Italy                     8764067\n",
              "Poland                    6267409"
            ]
          },
          "metadata": {
            "tags": []
          },
          "execution_count": 80
        }
      ]
    },
    {
      "cell_type": "code",
      "metadata": {
        "id": "spWTuXHd1KTf",
        "colab_type": "code",
        "colab": {}
      },
      "source": [
        ""
      ],
      "execution_count": 0,
      "outputs": []
    },
    {
      "cell_type": "code",
      "metadata": {
        "id": "xzPkeVTZ1KTj",
        "colab_type": "code",
        "colab": {}
      },
      "source": [
        "df_pop5 = (df_pop.drop(\"Rank\", axis=1)\n",
        "                 .groupby(\"State\").sum()\n",
        "                 .sort_values(\"NumericPopulation\", ascending=False))"
      ],
      "execution_count": 0,
      "outputs": []
    },
    {
      "cell_type": "code",
      "metadata": {
        "id": "1FDsLk9Q1KTl",
        "colab_type": "code",
        "colab": {},
        "outputId": "2f6d4ee9-885f-45d5-8e04-a6f122c1064b"
      },
      "source": [
        "df_pop5.head()"
      ],
      "execution_count": 0,
      "outputs": [
        {
          "output_type": "execute_result",
          "data": {
            "text/html": [
              "<div>\n",
              "<style scoped>\n",
              "    .dataframe tbody tr th:only-of-type {\n",
              "        vertical-align: middle;\n",
              "    }\n",
              "\n",
              "    .dataframe tbody tr th {\n",
              "        vertical-align: top;\n",
              "    }\n",
              "\n",
              "    .dataframe thead th {\n",
              "        text-align: right;\n",
              "    }\n",
              "</style>\n",
              "<table border=\"1\" class=\"dataframe\">\n",
              "  <thead>\n",
              "    <tr style=\"text-align: right;\">\n",
              "      <th></th>\n",
              "      <th>NumericPopulation</th>\n",
              "    </tr>\n",
              "    <tr>\n",
              "      <th>State</th>\n",
              "      <th></th>\n",
              "    </tr>\n",
              "  </thead>\n",
              "  <tbody>\n",
              "    <tr>\n",
              "      <th>United Kingdom</th>\n",
              "      <td>16011877</td>\n",
              "    </tr>\n",
              "    <tr>\n",
              "      <th>Germany</th>\n",
              "      <td>15119548</td>\n",
              "    </tr>\n",
              "    <tr>\n",
              "      <th>Spain</th>\n",
              "      <td>10041639</td>\n",
              "    </tr>\n",
              "    <tr>\n",
              "      <th>Italy</th>\n",
              "      <td>8764067</td>\n",
              "    </tr>\n",
              "    <tr>\n",
              "      <th>Poland</th>\n",
              "      <td>6267409</td>\n",
              "    </tr>\n",
              "  </tbody>\n",
              "</table>\n",
              "</div>"
            ],
            "text/plain": [
              "                NumericPopulation\n",
              "State                            \n",
              "United Kingdom           16011877\n",
              "Germany                  15119548\n",
              "Spain                    10041639\n",
              "Italy                     8764067\n",
              "Poland                    6267409"
            ]
          },
          "metadata": {
            "tags": []
          },
          "execution_count": 82
        }
      ]
    },
    {
      "cell_type": "code",
      "metadata": {
        "id": "ib3spoVu1KTn",
        "colab_type": "code",
        "colab": {},
        "outputId": "1f7acbcd-ed6f-4bf0-c6ca-66b515222e0d"
      },
      "source": [
        "fig, (ax1, ax2) = plt.subplots(1, 2, figsize=(12, 4))\n",
        "\n",
        "city_counts.plot(kind='barh', ax=ax1)\n",
        "ax1.set_xlabel(\"# cities in top 105\")\n",
        "df_pop5.NumericPopulation.plot(kind='barh', ax=ax2)\n",
        "ax2.set_xlabel(\"Total pop. in top 105 cities\")\n",
        "\n",
        "fig.tight_layout()\n",
        "#fig.savefig(\"state-city-counts-sum.pdf\")"
      ],
      "execution_count": 0,
      "outputs": [
        {
          "output_type": "display_data",
          "data": {
            "image/png": "[encoded data removed]",
            "text/plain": [
              "<Figure size 864x288 with 2 Axes>"
            ]
          },
          "metadata": {
            "tags": [],
            "needs_background": "light"
          }
        }
      ]
    },
    {
      "cell_type": "markdown",
      "metadata": {
        "id": "fil-EYSl1KTr",
        "colab_type": "text"
      },
      "source": [
        "### <font color='blue'> Exercise #5:  </font>\n",
        "\n",
        "Plot a bar graph of the frequencies of \"attempts\" in the **exam_data_df**.  You may first calcualte the frequencies."
      ]
    },
    {
      "cell_type": "markdown",
      "metadata": {
        "id": "b3HBvdjH1KTs",
        "colab_type": "text"
      },
      "source": [
        "### Series object - One column DatFrame"
      ]
    },
    {
      "cell_type": "code",
      "metadata": {
        "id": "sXJDA3Dd1KTs",
        "colab_type": "code",
        "colab": {}
      },
      "source": [
        "s = pd.Series([909976, 8615246, 2872086, 2273305])"
      ],
      "execution_count": 0,
      "outputs": []
    },
    {
      "cell_type": "code",
      "metadata": {
        "id": "K21JuRev1KTu",
        "colab_type": "code",
        "colab": {},
        "outputId": "629c0f92-b409-43e2-8a3f-5b101caf1327"
      },
      "source": [
        "s"
      ],
      "execution_count": 0,
      "outputs": [
        {
          "output_type": "execute_result",
          "data": {
            "text/plain": [
              "0     909976\n",
              "1    8615246\n",
              "2    2872086\n",
              "3    2273305\n",
              "dtype: int64"
            ]
          },
          "metadata": {
            "tags": []
          },
          "execution_count": 6
        }
      ]
    },
    {
      "cell_type": "code",
      "metadata": {
        "id": "AhJaF0mb1KTx",
        "colab_type": "code",
        "colab": {},
        "outputId": "f3e3bf42-54c1-4ed4-84aa-b865ac75462a"
      },
      "source": [
        "type(s)"
      ],
      "execution_count": 0,
      "outputs": [
        {
          "output_type": "execute_result",
          "data": {
            "text/plain": [
              "pandas.core.series.Series"
            ]
          },
          "metadata": {
            "tags": []
          },
          "execution_count": 7
        }
      ]
    },
    {
      "cell_type": "code",
      "metadata": {
        "id": "NVvhrWc61KTz",
        "colab_type": "code",
        "colab": {},
        "outputId": "a3eb1fd1-09be-469a-a2f8-ba806b608ea1"
      },
      "source": [
        "s.dtype"
      ],
      "execution_count": 0,
      "outputs": [
        {
          "output_type": "execute_result",
          "data": {
            "text/plain": [
              "dtype('int64')"
            ]
          },
          "metadata": {
            "tags": []
          },
          "execution_count": 8
        }
      ]
    },
    {
      "cell_type": "code",
      "metadata": {
        "id": "UTYCa6Bq1KT1",
        "colab_type": "code",
        "colab": {},
        "outputId": "aced6e42-ffc0-4ea7-d9b5-fc75d1ee7002"
      },
      "source": [
        "s.index"
      ],
      "execution_count": 0,
      "outputs": [
        {
          "output_type": "execute_result",
          "data": {
            "text/plain": [
              "RangeIndex(start=0, stop=4, step=1)"
            ]
          },
          "metadata": {
            "tags": []
          },
          "execution_count": 9
        }
      ]
    },
    {
      "cell_type": "code",
      "metadata": {
        "id": "nkelHq6x1KT3",
        "colab_type": "code",
        "colab": {},
        "outputId": "07a86e27-c158-49fb-ab80-ab8d8964d0cb"
      },
      "source": [
        "s.values"
      ],
      "execution_count": 0,
      "outputs": [
        {
          "output_type": "execute_result",
          "data": {
            "text/plain": [
              "array([ 909976, 8615246, 2872086, 2273305], dtype=int64)"
            ]
          },
          "metadata": {
            "tags": []
          },
          "execution_count": 10
        }
      ]
    },
    {
      "cell_type": "code",
      "metadata": {
        "id": "lGizy1uY1KT5",
        "colab_type": "code",
        "colab": {}
      },
      "source": [
        "s.index = [\"Stockholm\", \"London\", \"Rome\", \"Paris\"]"
      ],
      "execution_count": 0,
      "outputs": []
    },
    {
      "cell_type": "code",
      "metadata": {
        "id": "n8ZeDeDK1KT7",
        "colab_type": "code",
        "colab": {}
      },
      "source": [
        "s.name = \"Population\""
      ],
      "execution_count": 0,
      "outputs": []
    },
    {
      "cell_type": "code",
      "metadata": {
        "id": "qKv_H-NA1KT-",
        "colab_type": "code",
        "colab": {},
        "outputId": "13124dc1-4afc-4700-d1ce-2ad7cf4eb66c"
      },
      "source": [
        "s"
      ],
      "execution_count": 0,
      "outputs": [
        {
          "output_type": "execute_result",
          "data": {
            "text/plain": [
              "Stockholm     909976\n",
              "London       8615246\n",
              "Rome         2872086\n",
              "Paris        2273305\n",
              "Name: Population, dtype: int64"
            ]
          },
          "metadata": {
            "tags": []
          },
          "execution_count": 13
        }
      ]
    },
    {
      "cell_type": "code",
      "metadata": {
        "id": "plOExwQ01KUR",
        "colab_type": "code",
        "colab": {}
      },
      "source": [
        "s = pd.Series([909976, 8615246, 2872086, 2273305], \n",
        "              index=[\"Stockholm\", \"London\", \"Rome\", \"Paris\"], name=\"Population\")"
      ],
      "execution_count": 0,
      "outputs": []
    },
    {
      "cell_type": "code",
      "metadata": {
        "id": "Ke-uLmW-1KUT",
        "colab_type": "code",
        "colab": {},
        "outputId": "948a9d67-e841-4c9b-e677-3fb73c576ec0"
      },
      "source": [
        "s[\"London\"]"
      ],
      "execution_count": 0,
      "outputs": [
        {
          "output_type": "execute_result",
          "data": {
            "text/plain": [
              "8615246"
            ]
          },
          "metadata": {
            "tags": []
          },
          "execution_count": 15
        }
      ]
    },
    {
      "cell_type": "code",
      "metadata": {
        "id": "FMsMJqUx1KUV",
        "colab_type": "code",
        "colab": {},
        "outputId": "c086af44-2ba2-42af-eb90-868db04385aa"
      },
      "source": [
        "s.Stockholm"
      ],
      "execution_count": 0,
      "outputs": [
        {
          "output_type": "execute_result",
          "data": {
            "text/plain": [
              "909976"
            ]
          },
          "metadata": {
            "tags": []
          },
          "execution_count": 16
        }
      ]
    },
    {
      "cell_type": "code",
      "metadata": {
        "id": "F-Z_3Yu_1KUX",
        "colab_type": "code",
        "colab": {},
        "outputId": "c4148861-bb90-4342-8ed5-711ad01a2c40"
      },
      "source": [
        "s[[\"Paris\", \"Rome\"]]"
      ],
      "execution_count": 0,
      "outputs": [
        {
          "output_type": "execute_result",
          "data": {
            "text/plain": [
              "Paris    2273305\n",
              "Rome     2872086\n",
              "Name: Population, dtype: int64"
            ]
          },
          "metadata": {
            "tags": []
          },
          "execution_count": 17
        }
      ]
    },
    {
      "cell_type": "code",
      "metadata": {
        "id": "85xuC4kX1KUZ",
        "colab_type": "code",
        "colab": {},
        "outputId": "02b3e9d5-427e-4d16-db40-7ffbdbe42f89"
      },
      "source": [
        "s.median(), s.mean(), s.std()"
      ],
      "execution_count": 0,
      "outputs": [
        {
          "output_type": "execute_result",
          "data": {
            "text/plain": [
              "(2572695.5, 3667653.25, 3399048.5005155364)"
            ]
          },
          "metadata": {
            "tags": []
          },
          "execution_count": 18
        }
      ]
    },
    {
      "cell_type": "code",
      "metadata": {
        "id": "by7EHf-81KUb",
        "colab_type": "code",
        "colab": {},
        "outputId": "259f577b-c151-435b-d9af-c3cd4bbf63df"
      },
      "source": [
        "s.min(), s.max()"
      ],
      "execution_count": 0,
      "outputs": [
        {
          "output_type": "execute_result",
          "data": {
            "text/plain": [
              "(909976, 8615246)"
            ]
          },
          "metadata": {
            "tags": []
          },
          "execution_count": 19
        }
      ]
    },
    {
      "cell_type": "code",
      "metadata": {
        "id": "jkZ3McCg1KUg",
        "colab_type": "code",
        "colab": {},
        "outputId": "a18450a0-fea7-48dd-c8b5-22b440f50c4b"
      },
      "source": [
        "s.quantile(q=0.25), s.quantile(q=0.5), s.quantile(q=0.75)"
      ],
      "execution_count": 0,
      "outputs": [
        {
          "output_type": "execute_result",
          "data": {
            "text/plain": [
              "(1932472.75, 2572695.5, 4307876.0)"
            ]
          },
          "metadata": {
            "tags": []
          },
          "execution_count": 20
        }
      ]
    },
    {
      "cell_type": "code",
      "metadata": {
        "id": "e3dmkEgM1KUi",
        "colab_type": "code",
        "colab": {},
        "outputId": "dac3f8bc-5331-41dd-b75e-60c6791f4fd2"
      },
      "source": [
        "s.describe()"
      ],
      "execution_count": 0,
      "outputs": [
        {
          "output_type": "execute_result",
          "data": {
            "text/plain": [
              "count    4.000000e+00\n",
              "mean     3.667653e+06\n",
              "std      3.399049e+06\n",
              "min      9.099760e+05\n",
              "25%      1.932473e+06\n",
              "50%      2.572696e+06\n",
              "75%      4.307876e+06\n",
              "max      8.615246e+06\n",
              "Name: Population, dtype: float64"
            ]
          },
          "metadata": {
            "tags": []
          },
          "execution_count": 21
        }
      ]
    },
    {
      "cell_type": "code",
      "metadata": {
        "id": "MwwjkPlO1KUk",
        "colab_type": "code",
        "colab": {},
        "outputId": "1ed7dd2e-eea5-4df5-9599-eb52588a3e3a"
      },
      "source": [
        "fig, axes = plt.subplots(1, 4, figsize=(12, 3))\n",
        "\n",
        "s.plot(ax=axes[0], kind='line', title=\"line\")\n",
        "s.plot(ax=axes[1], kind='bar', title=\"bar\")\n",
        "s.plot(ax=axes[2], kind='box', title=\"box\")\n",
        "s.plot(ax=axes[3], kind='pie', title=\"pie\")\n",
        "\n",
        "fig.tight_layout()\n",
        "fig.savefig(\"ch12-series-plot.pdf\")\n",
        "fig.savefig(\"ch12-series-plot.png\")"
      ],
      "execution_count": 0,
      "outputs": [
        {
          "output_type": "display_data",
          "data": {
            "image/png": "[encoded data removed]",
            "text/plain": [
              "<matplotlib.figure.Figure at 0x104cc5850>"
            ]
          },
          "metadata": {
            "tags": []
          }
        }
      ]
    }
  ]
}