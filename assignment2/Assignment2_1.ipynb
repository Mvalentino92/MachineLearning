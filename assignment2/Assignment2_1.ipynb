{
  "nbformat": 4,
  "nbformat_minor": 0,
  "metadata": {
    "kernelspec": {
      "display_name": "Python 3",
      "language": "python",
      "name": "python3"
    },
    "language_info": {
      "codemirror_mode": {
        "name": "ipython",
        "version": 3
      },
      "file_extension": ".py",
      "mimetype": "text/x-python",
      "name": "python",
      "nbconvert_exporter": "python",
      "pygments_lexer": "ipython3",
      "version": "3.7.6"
    },
    "colab": {
      "name": "Assignment2.1 - Lists-Arrays-Matrices-Slicing-Operations_S2020.ipynb",
      "provenance": []
    }
  },
  "cells": [
    {
      "cell_type": "markdown",
      "metadata": {
        "id": "-xmo04fns7OS",
        "colab_type": "text"
      },
      "source": [
        "## Assignment 2.1:  Vectors, matrices and multidimensional arrays (Due: 2/19/20)"
      ]
    },
    {
      "cell_type": "markdown",
      "metadata": {
        "id": "xX35B-x6s7OV",
        "colab_type": "text"
      },
      "source": [
        "Adapted from Robert Johansson: Source code listings for [Numerical Python - A Practical Techniques Approach for Industry](http://www.apress.com/9781484205549) (ISBN 978-1-484205-54-9).\n",
        "\n",
        "The source code listings can be downloaded from http://www.apress.com/9781484205549"
      ]
    },
    {
      "cell_type": "code",
      "metadata": {
        "id": "XPiXS-3Ws7OX",
        "colab_type": "code",
        "colab": {}
      },
      "source": [
        "import numpy as np"
      ],
      "execution_count": 0,
      "outputs": []
    },
    {
      "cell_type": "markdown",
      "metadata": {
        "id": "G0kE1cbts7Ob",
        "colab_type": "text"
      },
      "source": [
        "### The NumPy array object"
      ]
    },
    {
      "cell_type": "code",
      "metadata": {
        "id": "neJjFKpls7Oc",
        "colab_type": "code",
        "colab": {}
      },
      "source": [
        "data = np.array([[1, 2], [3, 4], [5, 6]])"
      ],
      "execution_count": 0,
      "outputs": []
    },
    {
      "cell_type": "code",
      "metadata": {
        "id": "wdEwwDF5s7Oe",
        "colab_type": "code",
        "colab": {},
        "outputId": "3f09aeae-fca6-46dc-9d96-6245cc0fed15"
      },
      "source": [
        "type(data)"
      ],
      "execution_count": 0,
      "outputs": [
        {
          "output_type": "execute_result",
          "data": {
            "text/plain": [
              "numpy.ndarray"
            ]
          },
          "metadata": {
            "tags": []
          },
          "execution_count": 3
        }
      ]
    },
    {
      "cell_type": "code",
      "metadata": {
        "id": "3KfUm-ZXs7Ok",
        "colab_type": "code",
        "colab": {},
        "outputId": "b72e5179-5a96-4d70-b14a-ea663adf884c"
      },
      "source": [
        "data"
      ],
      "execution_count": 0,
      "outputs": [
        {
          "output_type": "execute_result",
          "data": {
            "text/plain": [
              "array([[1, 2],\n",
              "       [3, 4],\n",
              "       [5, 6]])"
            ]
          },
          "metadata": {
            "tags": []
          },
          "execution_count": 6
        }
      ]
    },
    {
      "cell_type": "code",
      "metadata": {
        "id": "A3pZAOYIs7Om",
        "colab_type": "code",
        "colab": {},
        "outputId": "a8643438-2e20-4ccf-87f6-7e6be1faac61"
      },
      "source": [
        "data.ndim"
      ],
      "execution_count": 0,
      "outputs": [
        {
          "output_type": "execute_result",
          "data": {
            "text/plain": [
              "2"
            ]
          },
          "metadata": {
            "tags": []
          },
          "execution_count": 5
        }
      ]
    },
    {
      "cell_type": "code",
      "metadata": {
        "id": "DcNkUQ3js7Or",
        "colab_type": "code",
        "colab": {},
        "outputId": "55353cb2-253f-4799-bd34-8de48ad44625"
      },
      "source": [
        "data.shape"
      ],
      "execution_count": 0,
      "outputs": [
        {
          "output_type": "execute_result",
          "data": {
            "text/plain": [
              "(3, 2)"
            ]
          },
          "metadata": {
            "tags": []
          },
          "execution_count": 6
        }
      ]
    },
    {
      "cell_type": "code",
      "metadata": {
        "id": "R9KTfFFss7Ou",
        "colab_type": "code",
        "colab": {},
        "outputId": "e2eafea3-d3ce-4951-da20-6eaac9c59674"
      },
      "source": [
        "data.size"
      ],
      "execution_count": 0,
      "outputs": [
        {
          "output_type": "execute_result",
          "data": {
            "text/plain": [
              "6"
            ]
          },
          "metadata": {
            "tags": []
          },
          "execution_count": 7
        }
      ]
    },
    {
      "cell_type": "code",
      "metadata": {
        "id": "O6FBBw8hs7Ox",
        "colab_type": "code",
        "colab": {},
        "outputId": "ccb33779-242a-4b77-8d62-a30133b0bc46"
      },
      "source": [
        "data.dtype"
      ],
      "execution_count": 0,
      "outputs": [
        {
          "output_type": "execute_result",
          "data": {
            "text/plain": [
              "dtype('int32')"
            ]
          },
          "metadata": {
            "tags": []
          },
          "execution_count": 8
        }
      ]
    },
    {
      "cell_type": "code",
      "metadata": {
        "id": "wnKHPYqos7Oz",
        "colab_type": "code",
        "colab": {},
        "outputId": "fc018925-8fe4-4c89-fb1f-495bd1373dba"
      },
      "source": [
        "data.nbytes"
      ],
      "execution_count": 0,
      "outputs": [
        {
          "output_type": "execute_result",
          "data": {
            "text/plain": [
              "24"
            ]
          },
          "metadata": {
            "tags": []
          },
          "execution_count": 9
        }
      ]
    },
    {
      "cell_type": "markdown",
      "metadata": {
        "id": "2dmMmEpys7O2",
        "colab_type": "text"
      },
      "source": [
        "### <font color = 'blue'> Exercise #1: </font> \n",
        "1. Create a 3-dimensional array of integers\n",
        "2. Find all 3 of its dimensions, print them out one per line"
      ]
    },
    {
      "cell_type": "code",
      "metadata": {
        "id": "_Y7aXlddtbNy",
        "colab_type": "code",
        "colab": {
          "base_uri": "https://localhost:8080/",
          "height": 71
        },
        "outputId": "4c42240d-69d1-4f07-b088-4150ee14e857"
      },
      "source": [
        "arr3d = np.random.rand(3,3,3)\n",
        "for dim in arr3d.shape:\n",
        "    print(dim)\n"
      ],
      "execution_count": 4,
      "outputs": [
        {
          "output_type": "stream",
          "text": [
            "3\n",
            "3\n",
            "3\n"
          ],
          "name": "stdout"
        }
      ]
    },
    {
      "cell_type": "code",
      "metadata": {
        "id": "_HMb_p3js7O3",
        "colab_type": "code",
        "colab": {}
      },
      "source": [
        "threed_array = np.random.randint(-10,10, size=(5,3,4))"
      ],
      "execution_count": 0,
      "outputs": []
    },
    {
      "cell_type": "code",
      "metadata": {
        "id": "qrDSp8G9s7O5",
        "colab_type": "code",
        "colab": {},
        "outputId": "8efaab74-9bac-443d-c497-c3283aa0f604"
      },
      "source": [
        "threed_array.shape"
      ],
      "execution_count": 0,
      "outputs": [
        {
          "output_type": "execute_result",
          "data": {
            "text/plain": [
              "(5, 3, 4)"
            ]
          },
          "metadata": {
            "tags": []
          },
          "execution_count": 10
        }
      ]
    },
    {
      "cell_type": "code",
      "metadata": {
        "id": "HZH6IpuBs7O_",
        "colab_type": "code",
        "colab": {},
        "outputId": "ba18119e-c282-493e-f642-d3660cb05ae5"
      },
      "source": [
        "for x in threed_array.shape:\n",
        "    print(x)"
      ],
      "execution_count": 0,
      "outputs": [
        {
          "output_type": "stream",
          "text": [
            "5\n",
            "3\n",
            "4\n"
          ],
          "name": "stdout"
        }
      ]
    },
    {
      "cell_type": "markdown",
      "metadata": {
        "id": "y_lBOGEMs7PC",
        "colab_type": "text"
      },
      "source": [
        "## Data types"
      ]
    },
    {
      "cell_type": "code",
      "metadata": {
        "id": "9w0BPuvVs7PD",
        "colab_type": "code",
        "colab": {},
        "outputId": "7b67f813-898e-44bb-ae56-acafadd9862d"
      },
      "source": [
        "np.array([1, 2, 3], dtype=np.int)"
      ],
      "execution_count": 0,
      "outputs": [
        {
          "output_type": "execute_result",
          "data": {
            "text/plain": [
              "array([1, 2, 3])"
            ]
          },
          "metadata": {
            "tags": []
          },
          "execution_count": 10
        }
      ]
    },
    {
      "cell_type": "code",
      "metadata": {
        "id": "TTQUC-LMs7PG",
        "colab_type": "code",
        "colab": {},
        "outputId": "58ed3594-f30e-4f59-ef4f-43d87bab3c9d"
      },
      "source": [
        "np.array([1, 2, 3], dtype=np.float)"
      ],
      "execution_count": 0,
      "outputs": [
        {
          "output_type": "execute_result",
          "data": {
            "text/plain": [
              "array([ 1.,  2.,  3.])"
            ]
          },
          "metadata": {
            "tags": []
          },
          "execution_count": 11
        }
      ]
    },
    {
      "cell_type": "code",
      "metadata": {
        "id": "XUQAd14Es7PJ",
        "colab_type": "code",
        "colab": {},
        "outputId": "9a4ad5c2-13b2-4934-cfd3-469e30c10d27"
      },
      "source": [
        "np.array([1, 2, 3], dtype=np.complex)"
      ],
      "execution_count": 0,
      "outputs": [
        {
          "output_type": "execute_result",
          "data": {
            "text/plain": [
              "array([ 1.+0.j,  2.+0.j,  3.+0.j])"
            ]
          },
          "metadata": {
            "tags": []
          },
          "execution_count": 12
        }
      ]
    },
    {
      "cell_type": "code",
      "metadata": {
        "id": "O4ROBeCbs7PN",
        "colab_type": "code",
        "colab": {}
      },
      "source": [
        "data = np.array([1, 2, 3], dtype=np.float)"
      ],
      "execution_count": 0,
      "outputs": []
    },
    {
      "cell_type": "code",
      "metadata": {
        "id": "RcrrFGOls7PQ",
        "colab_type": "code",
        "colab": {},
        "outputId": "fb119bf6-68e9-4c1c-93d1-4d9ca4932166"
      },
      "source": [
        "data"
      ],
      "execution_count": 0,
      "outputs": [
        {
          "output_type": "execute_result",
          "data": {
            "text/plain": [
              "array([ 1.,  2.,  3.])"
            ]
          },
          "metadata": {
            "tags": []
          },
          "execution_count": 14
        }
      ]
    },
    {
      "cell_type": "code",
      "metadata": {
        "id": "e0FyEj2bs7PT",
        "colab_type": "code",
        "colab": {},
        "outputId": "6dc040df-1d3a-4b86-9339-f75543d48a78"
      },
      "source": [
        "data.dtype"
      ],
      "execution_count": 0,
      "outputs": [
        {
          "output_type": "execute_result",
          "data": {
            "text/plain": [
              "dtype('float64')"
            ]
          },
          "metadata": {
            "tags": []
          },
          "execution_count": 15
        }
      ]
    },
    {
      "cell_type": "code",
      "metadata": {
        "id": "ovRQMrNhs7PX",
        "colab_type": "code",
        "colab": {}
      },
      "source": [
        "data = np.array([1, 2, 3], dtype=np.int)"
      ],
      "execution_count": 0,
      "outputs": []
    },
    {
      "cell_type": "code",
      "metadata": {
        "id": "bG30y8Uos7Pb",
        "colab_type": "code",
        "colab": {},
        "outputId": "315cef65-b9fd-44cc-842e-6b04910fbab7"
      },
      "source": [
        "data.dtype"
      ],
      "execution_count": 0,
      "outputs": [
        {
          "output_type": "execute_result",
          "data": {
            "text/plain": [
              "dtype('int32')"
            ]
          },
          "metadata": {
            "tags": []
          },
          "execution_count": 17
        }
      ]
    },
    {
      "cell_type": "code",
      "metadata": {
        "id": "nXnkXVT7s7Pe",
        "colab_type": "code",
        "colab": {},
        "outputId": "62e3b3d0-75d0-40b1-a0f9-f74a4080d742"
      },
      "source": [
        "data"
      ],
      "execution_count": 0,
      "outputs": [
        {
          "output_type": "execute_result",
          "data": {
            "text/plain": [
              "array([1, 2, 3])"
            ]
          },
          "metadata": {
            "tags": []
          },
          "execution_count": 18
        }
      ]
    },
    {
      "cell_type": "code",
      "metadata": {
        "id": "-sKfqu3Fs7Ph",
        "colab_type": "code",
        "colab": {}
      },
      "source": [
        "data = np.array([1, 2, 3], dtype=np.float)"
      ],
      "execution_count": 0,
      "outputs": []
    },
    {
      "cell_type": "code",
      "metadata": {
        "id": "mSVUSeODs7Pm",
        "colab_type": "code",
        "colab": {},
        "outputId": "b5378693-bebe-4f37-f2e3-5af0bd014fb6"
      },
      "source": [
        "data"
      ],
      "execution_count": 0,
      "outputs": [
        {
          "output_type": "execute_result",
          "data": {
            "text/plain": [
              "array([ 1.,  2.,  3.])"
            ]
          },
          "metadata": {
            "tags": []
          },
          "execution_count": 20
        }
      ]
    },
    {
      "cell_type": "code",
      "metadata": {
        "id": "2K7OYUkVs7Po",
        "colab_type": "code",
        "colab": {},
        "outputId": "75ad9b46-3e56-4b72-8e2e-d7ab1f2b881c"
      },
      "source": [
        "data.astype(np.int)"
      ],
      "execution_count": 0,
      "outputs": [
        {
          "output_type": "execute_result",
          "data": {
            "text/plain": [
              "array([1, 2, 3])"
            ]
          },
          "metadata": {
            "tags": []
          },
          "execution_count": 21
        }
      ]
    },
    {
      "cell_type": "code",
      "metadata": {
        "id": "_RcxLGJCs7Pt",
        "colab_type": "code",
        "colab": {}
      },
      "source": [
        "d1 = np.array([1, 2, 3], dtype=float)"
      ],
      "execution_count": 0,
      "outputs": []
    },
    {
      "cell_type": "code",
      "metadata": {
        "id": "_6AV2b74s7Pv",
        "colab_type": "code",
        "colab": {}
      },
      "source": [
        "d2 = np.array([1, 2, 3], dtype=complex)"
      ],
      "execution_count": 0,
      "outputs": []
    },
    {
      "cell_type": "code",
      "metadata": {
        "id": "TPOMxVw0s7Pz",
        "colab_type": "code",
        "colab": {},
        "outputId": "62bb5244-26cb-4765-f653-88cb91806ec6"
      },
      "source": [
        "d1 + d2"
      ],
      "execution_count": 0,
      "outputs": [
        {
          "output_type": "execute_result",
          "data": {
            "text/plain": [
              "array([ 2.+0.j,  4.+0.j,  6.+0.j])"
            ]
          },
          "metadata": {
            "tags": []
          },
          "execution_count": 24
        }
      ]
    },
    {
      "cell_type": "code",
      "metadata": {
        "id": "P77Kn1QQs7P2",
        "colab_type": "code",
        "colab": {},
        "outputId": "c803fc4c-cef5-4c83-eccf-dfad2fa12af5"
      },
      "source": [
        "(d1 + d2).dtype"
      ],
      "execution_count": 0,
      "outputs": [
        {
          "output_type": "execute_result",
          "data": {
            "text/plain": [
              "dtype('complex128')"
            ]
          },
          "metadata": {
            "tags": []
          },
          "execution_count": 25
        }
      ]
    },
    {
      "cell_type": "code",
      "metadata": {
        "id": "Y5_GsX5as7P5",
        "colab_type": "code",
        "colab": {},
        "outputId": "31f5d8b8-74e5-4281-bdf3-0b33e173ebac"
      },
      "source": [
        "np.sqrt(np.array([-1, 0, 1]))"
      ],
      "execution_count": 0,
      "outputs": [
        {
          "output_type": "stream",
          "text": [
            "C:\\ProgramData\\Anaconda3\\lib\\site-packages\\ipykernel_launcher.py:1: RuntimeWarning: invalid value encountered in sqrt\n",
            "  \"\"\"Entry point for launching an IPython kernel.\n"
          ],
          "name": "stderr"
        },
        {
          "output_type": "execute_result",
          "data": {
            "text/plain": [
              "array([ nan,   0.,   1.])"
            ]
          },
          "metadata": {
            "tags": []
          },
          "execution_count": 26
        }
      ]
    },
    {
      "cell_type": "code",
      "metadata": {
        "id": "GyVAgJ3Gs7P7",
        "colab_type": "code",
        "colab": {},
        "outputId": "4a0ab22d-b724-4798-83d1-ce7b55016d88"
      },
      "source": [
        "np.sqrt(np.array([-1, 0, 1], dtype=complex))"
      ],
      "execution_count": 0,
      "outputs": [
        {
          "output_type": "execute_result",
          "data": {
            "text/plain": [
              "array([ 0.+1.j,  0.+0.j,  1.+0.j])"
            ]
          },
          "metadata": {
            "tags": []
          },
          "execution_count": 27
        }
      ]
    },
    {
      "cell_type": "markdown",
      "metadata": {
        "id": "zpfNRMSes7QA",
        "colab_type": "text"
      },
      "source": [
        "### <font color = 'blue'> Exercise #2: </font>\n",
        "1. Create a 2-dimensional numpy array of type float32\n",
        "2. Add it to another of same dimensions but of type float64\n",
        "3. Guess what type the entries of the sum array would be, and check your guess by carrying out the addition."
      ]
    },
    {
      "cell_type": "code",
      "metadata": {
        "id": "7Rbj3Diwt2Uo",
        "colab_type": "code",
        "colab": {
          "base_uri": "https://localhost:8080/",
          "height": 53
        },
        "outputId": "24104f7a-06e2-427d-c723-725dbe5a6032"
      },
      "source": [
        "arr32 = np.array(np.random.rand(2,2),dtype=np.float32)\n",
        "arr64 = np.array(np.random.rand(2,2),dtype=np.float64)\n",
        "print(\"This is will be float64\")\n",
        "retval = np.add(arr32,arr64)\n",
        "print(retval.dtype)"
      ],
      "execution_count": 10,
      "outputs": [
        {
          "output_type": "stream",
          "text": [
            "This is will be float64\n",
            "float64\n"
          ],
          "name": "stdout"
        }
      ]
    },
    {
      "cell_type": "markdown",
      "metadata": {
        "id": "wpQR9xfJs7QB",
        "colab_type": "text"
      },
      "source": [
        "### Real and imaginary parts"
      ]
    },
    {
      "cell_type": "code",
      "metadata": {
        "id": "zsQwKUVss7QC",
        "colab_type": "code",
        "colab": {}
      },
      "source": [
        "data = np.array([1, 2, 3], dtype=complex)"
      ],
      "execution_count": 0,
      "outputs": []
    },
    {
      "cell_type": "code",
      "metadata": {
        "id": "IRj52dnes7QG",
        "colab_type": "code",
        "colab": {},
        "outputId": "09b5f80e-ec4e-4ad0-ba5f-3bcbefd59b67"
      },
      "source": [
        "data"
      ],
      "execution_count": 0,
      "outputs": [
        {
          "output_type": "execute_result",
          "data": {
            "text/plain": [
              "array([ 1.+0.j,  2.+0.j,  3.+0.j])"
            ]
          },
          "metadata": {
            "tags": []
          },
          "execution_count": 29
        }
      ]
    },
    {
      "cell_type": "code",
      "metadata": {
        "id": "AfxuwiNLs7QI",
        "colab_type": "code",
        "colab": {},
        "outputId": "3217d3e1-040f-4e2e-94ea-6a019243bc24"
      },
      "source": [
        "data.real"
      ],
      "execution_count": 0,
      "outputs": [
        {
          "output_type": "execute_result",
          "data": {
            "text/plain": [
              "array([ 1.,  2.,  3.])"
            ]
          },
          "metadata": {
            "tags": []
          },
          "execution_count": 30
        }
      ]
    },
    {
      "cell_type": "code",
      "metadata": {
        "id": "UTIoG_iqs7QL",
        "colab_type": "code",
        "colab": {},
        "outputId": "744e6c5a-1d42-47c1-cf5d-dac5386b7013"
      },
      "source": [
        "data.imag"
      ],
      "execution_count": 0,
      "outputs": [
        {
          "output_type": "execute_result",
          "data": {
            "text/plain": [
              "array([ 0.,  0.,  0.])"
            ]
          },
          "metadata": {
            "tags": []
          },
          "execution_count": 31
        }
      ]
    },
    {
      "cell_type": "markdown",
      "metadata": {
        "id": "Zj3YORrSs7QQ",
        "colab_type": "text"
      },
      "source": [
        "## Creating arrays"
      ]
    },
    {
      "cell_type": "markdown",
      "metadata": {
        "id": "qWEQxazCs7QR",
        "colab_type": "text"
      },
      "source": [
        "### Arrays created from lists and other array-like objects"
      ]
    },
    {
      "cell_type": "code",
      "metadata": {
        "id": "GV0pILews7QS",
        "colab_type": "code",
        "colab": {}
      },
      "source": [
        "data = np.array(np.arange(16))"
      ],
      "execution_count": 0,
      "outputs": []
    },
    {
      "cell_type": "code",
      "metadata": {
        "id": "H03GzgA_s7QV",
        "colab_type": "code",
        "colab": {},
        "outputId": "f6e75ecd-33c1-46cc-b644-274baf3d6288"
      },
      "source": [
        "data"
      ],
      "execution_count": 0,
      "outputs": [
        {
          "output_type": "execute_result",
          "data": {
            "text/plain": [
              "array([ 0,  1,  2,  3,  4,  5,  6,  7,  8,  9, 10, 11, 12, 13, 14, 15])"
            ]
          },
          "metadata": {
            "tags": []
          },
          "execution_count": 26
        }
      ]
    },
    {
      "cell_type": "code",
      "metadata": {
        "id": "J3Hgzfp4s7Qf",
        "colab_type": "code",
        "colab": {},
        "outputId": "115e1b9d-8930-4b3a-ce2e-8523565360f7"
      },
      "source": [
        "data.reshape(-1,4)"
      ],
      "execution_count": 0,
      "outputs": [
        {
          "output_type": "execute_result",
          "data": {
            "text/plain": [
              "array([[ 0,  1,  2,  3],\n",
              "       [ 4,  5,  6,  7],\n",
              "       [ 8,  9, 10, 11],\n",
              "       [12, 13, 14, 15]])"
            ]
          },
          "metadata": {
            "tags": []
          },
          "execution_count": 31
        }
      ]
    },
    {
      "cell_type": "code",
      "metadata": {
        "id": "Ea8LHEpos7Qi",
        "colab_type": "code",
        "colab": {}
      },
      "source": [
        "data = np.array([[1, 2], [3, 4]])"
      ],
      "execution_count": 0,
      "outputs": []
    },
    {
      "cell_type": "code",
      "metadata": {
        "id": "96IuHvpOs7Qn",
        "colab_type": "code",
        "colab": {},
        "outputId": "df0fe870-1203-46e4-8a03-bf184789ce4f"
      },
      "source": [
        "data.ndim"
      ],
      "execution_count": 0,
      "outputs": [
        {
          "output_type": "execute_result",
          "data": {
            "text/plain": [
              "2"
            ]
          },
          "metadata": {
            "tags": []
          },
          "execution_count": 19
        }
      ]
    },
    {
      "cell_type": "code",
      "metadata": {
        "id": "Q5U7jKzws7Qp",
        "colab_type": "code",
        "colab": {},
        "outputId": "18fc7375-d6ef-4ca1-bb53-45c25ea2d25b"
      },
      "source": [
        "data.shape"
      ],
      "execution_count": 0,
      "outputs": [
        {
          "output_type": "execute_result",
          "data": {
            "text/plain": [
              "(2, 2)"
            ]
          },
          "metadata": {
            "tags": []
          },
          "execution_count": 20
        }
      ]
    },
    {
      "cell_type": "markdown",
      "metadata": {
        "id": "yhD8pobJs7Qs",
        "colab_type": "text"
      },
      "source": [
        "### Arrays filled with special constant values"
      ]
    },
    {
      "cell_type": "code",
      "metadata": {
        "id": "0QJCnqtPs7Qt",
        "colab_type": "code",
        "colab": {},
        "outputId": "ee83a7d9-57f2-47e1-bf53-0f50708cf27d"
      },
      "source": [
        "np.zeros((2, 3))"
      ],
      "execution_count": 0,
      "outputs": [
        {
          "output_type": "execute_result",
          "data": {
            "text/plain": [
              "array([[0., 0., 0.],\n",
              "       [0., 0., 0.]])"
            ]
          },
          "metadata": {
            "tags": []
          },
          "execution_count": 21
        }
      ]
    },
    {
      "cell_type": "code",
      "metadata": {
        "id": "SdBogLqts7Qv",
        "colab_type": "code",
        "colab": {},
        "outputId": "7938c78d-fc48-4007-c88d-8d25acb0dd7a"
      },
      "source": [
        "np.ones(4)"
      ],
      "execution_count": 0,
      "outputs": [
        {
          "output_type": "execute_result",
          "data": {
            "text/plain": [
              "array([1., 1., 1., 1.])"
            ]
          },
          "metadata": {
            "tags": []
          },
          "execution_count": 22
        }
      ]
    },
    {
      "cell_type": "code",
      "metadata": {
        "id": "1WFfApfXs7Qx",
        "colab_type": "code",
        "colab": {}
      },
      "source": [
        "data = np.ones(4)"
      ],
      "execution_count": 0,
      "outputs": []
    },
    {
      "cell_type": "code",
      "metadata": {
        "id": "C8_RvE2fs7Q0",
        "colab_type": "code",
        "colab": {},
        "outputId": "85584634-303c-4395-fcd8-2561560b59e9"
      },
      "source": [
        "data.dtype"
      ],
      "execution_count": 0,
      "outputs": [
        {
          "output_type": "execute_result",
          "data": {
            "text/plain": [
              "dtype('float64')"
            ]
          },
          "metadata": {
            "tags": []
          },
          "execution_count": 24
        }
      ]
    },
    {
      "cell_type": "code",
      "metadata": {
        "id": "A0rPJhXMs7Q4",
        "colab_type": "code",
        "colab": {}
      },
      "source": [
        "data = np.ones(4, dtype=np.int64)"
      ],
      "execution_count": 0,
      "outputs": []
    },
    {
      "cell_type": "code",
      "metadata": {
        "id": "GU5x1VZ3s7RA",
        "colab_type": "code",
        "colab": {},
        "outputId": "423c98ca-5ff4-42ac-b88b-474866aef0c3"
      },
      "source": [
        "data.dtype"
      ],
      "execution_count": 0,
      "outputs": [
        {
          "output_type": "execute_result",
          "data": {
            "text/plain": [
              "dtype('int64')"
            ]
          },
          "metadata": {
            "tags": []
          },
          "execution_count": 26
        }
      ]
    },
    {
      "cell_type": "code",
      "metadata": {
        "id": "7CQ-LVHns7RF",
        "colab_type": "code",
        "colab": {}
      },
      "source": [
        "x1 = 5.4 * np.ones(10)"
      ],
      "execution_count": 0,
      "outputs": []
    },
    {
      "cell_type": "code",
      "metadata": {
        "id": "eBxPHJn4s7RH",
        "colab_type": "code",
        "colab": {}
      },
      "source": [
        "x2 = np.full(10, 5.4)"
      ],
      "execution_count": 0,
      "outputs": []
    },
    {
      "cell_type": "code",
      "metadata": {
        "id": "3izJaJZDs7RJ",
        "colab_type": "code",
        "colab": {},
        "outputId": "18ee6a31-5eb7-4ba8-9aaa-7e274a45e947"
      },
      "source": [
        "x2"
      ],
      "execution_count": 0,
      "outputs": [
        {
          "output_type": "execute_result",
          "data": {
            "text/plain": [
              "array([5.4, 5.4, 5.4, 5.4, 5.4, 5.4, 5.4, 5.4, 5.4, 5.4])"
            ]
          },
          "metadata": {
            "tags": []
          },
          "execution_count": 33
        }
      ]
    },
    {
      "cell_type": "code",
      "metadata": {
        "id": "1Fq-Ujmqs7RM",
        "colab_type": "code",
        "colab": {}
      },
      "source": [
        "x1 = np.empty(5)"
      ],
      "execution_count": 0,
      "outputs": []
    },
    {
      "cell_type": "code",
      "metadata": {
        "id": "k6mTXQE4s7RO",
        "colab_type": "code",
        "colab": {}
      },
      "source": [
        "x1.fill(3.0)"
      ],
      "execution_count": 0,
      "outputs": []
    },
    {
      "cell_type": "code",
      "metadata": {
        "id": "3IfUXQWhs7RQ",
        "colab_type": "code",
        "colab": {},
        "outputId": "55d7911e-a5de-4d5c-e4ac-d9a6fda1e21c"
      },
      "source": [
        "x1"
      ],
      "execution_count": 0,
      "outputs": [
        {
          "output_type": "execute_result",
          "data": {
            "text/plain": [
              "array([3., 3., 3., 3., 3.])"
            ]
          },
          "metadata": {
            "tags": []
          },
          "execution_count": 31
        }
      ]
    },
    {
      "cell_type": "code",
      "metadata": {
        "id": "5U4H40j8s7RU",
        "colab_type": "code",
        "colab": {}
      },
      "source": [
        "x2 = np.full(5, 3.0)"
      ],
      "execution_count": 0,
      "outputs": []
    },
    {
      "cell_type": "code",
      "metadata": {
        "id": "EbtEI1f9s7RX",
        "colab_type": "code",
        "colab": {},
        "outputId": "fde96ebd-88ee-4a2a-86bc-7a93c92d1d99"
      },
      "source": [
        "x2"
      ],
      "execution_count": 0,
      "outputs": [
        {
          "output_type": "execute_result",
          "data": {
            "text/plain": [
              "array([3., 3., 3., 3., 3.])"
            ]
          },
          "metadata": {
            "tags": []
          },
          "execution_count": 33
        }
      ]
    },
    {
      "cell_type": "markdown",
      "metadata": {
        "id": "-FlqrwfCs7Ra",
        "colab_type": "text"
      },
      "source": [
        "### Arrays filled with incremental sequences"
      ]
    },
    {
      "cell_type": "code",
      "metadata": {
        "id": "bWyd84kBs7Rb",
        "colab_type": "code",
        "colab": {},
        "outputId": "9e0c2712-dc65-4fd1-cfed-f9565828ab35"
      },
      "source": [
        "np.arange(0.0, 10, 1)"
      ],
      "execution_count": 0,
      "outputs": [
        {
          "output_type": "execute_result",
          "data": {
            "text/plain": [
              "array([0., 1., 2., 3., 4., 5., 6., 7., 8., 9.])"
            ]
          },
          "metadata": {
            "tags": []
          },
          "execution_count": 34
        }
      ]
    },
    {
      "cell_type": "code",
      "metadata": {
        "id": "W961fPsHs7Rg",
        "colab_type": "code",
        "colab": {},
        "outputId": "32f4b4fa-3b02-468b-df71-dd6a068ec484"
      },
      "source": [
        "np.linspace(0, 10, 11)"
      ],
      "execution_count": 0,
      "outputs": [
        {
          "output_type": "execute_result",
          "data": {
            "text/plain": [
              "array([ 0.,  1.,  2.,  3.,  4.,  5.,  6.,  7.,  8.,  9., 10.])"
            ]
          },
          "metadata": {
            "tags": []
          },
          "execution_count": 35
        }
      ]
    },
    {
      "cell_type": "markdown",
      "metadata": {
        "id": "tnhfyQSDs7Ri",
        "colab_type": "text"
      },
      "source": [
        "### Arrays filled with logarithmic sequences"
      ]
    },
    {
      "cell_type": "code",
      "metadata": {
        "id": "fhoyece1s7Ri",
        "colab_type": "code",
        "colab": {},
        "outputId": "eab89967-6bf2-4e09-ae62-131e1083a99f"
      },
      "source": [
        "np.logspace(0, 2, 5)  # 5 data points between 10**0=1 to 10**2=100"
      ],
      "execution_count": 0,
      "outputs": [
        {
          "output_type": "execute_result",
          "data": {
            "text/plain": [
              "array([  1.        ,   3.16227766,  10.        ,  31.6227766 ,\n",
              "       100.        ])"
            ]
          },
          "metadata": {
            "tags": []
          },
          "execution_count": 36
        }
      ]
    },
    {
      "cell_type": "markdown",
      "metadata": {
        "id": "36I8qQ_3s7Ro",
        "colab_type": "text"
      },
      "source": [
        "### Mesh-grid arrays"
      ]
    },
    {
      "cell_type": "code",
      "metadata": {
        "id": "p6T5AvKks7Ro",
        "colab_type": "code",
        "colab": {}
      },
      "source": [
        "x = np.array([-1, 0, 1])"
      ],
      "execution_count": 0,
      "outputs": []
    },
    {
      "cell_type": "code",
      "metadata": {
        "id": "ALUmvDW1s7Rq",
        "colab_type": "code",
        "colab": {}
      },
      "source": [
        "y = np.array([-2, 0, 2])"
      ],
      "execution_count": 0,
      "outputs": []
    },
    {
      "cell_type": "code",
      "metadata": {
        "id": "gp-6X51ns7Rs",
        "colab_type": "code",
        "colab": {}
      },
      "source": [
        "X, Y = np.meshgrid(x, y)"
      ],
      "execution_count": 0,
      "outputs": []
    },
    {
      "cell_type": "code",
      "metadata": {
        "id": "m9IL7XeFs7Rt",
        "colab_type": "code",
        "colab": {},
        "outputId": "64201a5a-b9fc-4d2f-948e-7d2bc6d43f39"
      },
      "source": [
        "X"
      ],
      "execution_count": 0,
      "outputs": [
        {
          "output_type": "execute_result",
          "data": {
            "text/plain": [
              "array([[-1,  0,  1],\n",
              "       [-1,  0,  1],\n",
              "       [-1,  0,  1]])"
            ]
          },
          "metadata": {
            "tags": []
          },
          "execution_count": 40
        }
      ]
    },
    {
      "cell_type": "code",
      "metadata": {
        "id": "mdHvL-I2s7Rv",
        "colab_type": "code",
        "colab": {},
        "outputId": "407846ef-e424-446c-ceb5-d205267c9aa9"
      },
      "source": [
        "Y"
      ],
      "execution_count": 0,
      "outputs": [
        {
          "output_type": "execute_result",
          "data": {
            "text/plain": [
              "array([[-2, -2, -2],\n",
              "       [ 0,  0,  0],\n",
              "       [ 2,  2,  2]])"
            ]
          },
          "metadata": {
            "tags": []
          },
          "execution_count": 41
        }
      ]
    },
    {
      "cell_type": "markdown",
      "metadata": {
        "id": "57jCYmNIs7Rx",
        "colab_type": "text"
      },
      "source": [
        "### <font color = 'blue'> Exercise #3: </font> Meshgrid produces the Cartesian product of the arrays, except that the x-values and y-values are kept seperate\n",
        "\n",
        "1. Generate a meshgrid X,Y of x = a sequence of integers 1...5 and y of -1,0,1\n",
        "2. How many entries will X have? Y?"
      ]
    },
    {
      "cell_type": "code",
      "metadata": {
        "id": "Cqb7ybuTu329",
        "colab_type": "code",
        "colab": {
          "base_uri": "https://localhost:8080/",
          "height": 143
        },
        "outputId": "268dbcf1-7677-4e38-d30a-4dd7c1026b2e"
      },
      "source": [
        "x = np.arange(1,6)\n",
        "y = np.arange(-1,2)\n",
        "X,Y = np.meshgrid(x,y)\n",
        "print(X)\n",
        "print(Y)\n",
        "print(\"X will have 15 and Y will have 15\")"
      ],
      "execution_count": 16,
      "outputs": [
        {
          "output_type": "stream",
          "text": [
            "[[1 2 3 4 5]\n",
            " [1 2 3 4 5]\n",
            " [1 2 3 4 5]]\n",
            "[[-1 -1 -1 -1 -1]\n",
            " [ 0  0  0  0  0]\n",
            " [ 1  1  1  1  1]]\n",
            "X will have 15 and Y will have 15\n"
          ],
          "name": "stdout"
        }
      ]
    },
    {
      "cell_type": "code",
      "metadata": {
        "id": "f928EoWSs7Ry",
        "colab_type": "code",
        "colab": {}
      },
      "source": [
        "Z = (X + Y) ** 2"
      ],
      "execution_count": 0,
      "outputs": []
    },
    {
      "cell_type": "code",
      "metadata": {
        "id": "NazMq5V3s7Rz",
        "colab_type": "code",
        "colab": {},
        "outputId": "59b81348-26a5-4587-9f97-f1e89ae0af53"
      },
      "source": [
        "Z"
      ],
      "execution_count": 0,
      "outputs": [
        {
          "output_type": "execute_result",
          "data": {
            "text/plain": [
              "array([[9, 4, 1],\n",
              "       [1, 0, 1],\n",
              "       [1, 4, 9]], dtype=int32)"
            ]
          },
          "metadata": {
            "tags": []
          },
          "execution_count": 43
        }
      ]
    },
    {
      "cell_type": "markdown",
      "metadata": {
        "id": "dyM9N_gps7R1",
        "colab_type": "text"
      },
      "source": [
        "### Creating uninitialized arrays"
      ]
    },
    {
      "cell_type": "code",
      "metadata": {
        "id": "-Z3r76Ifs7R2",
        "colab_type": "code",
        "colab": {},
        "outputId": "adcf032f-d56e-4a71-90dd-dcf0b8ce1933"
      },
      "source": [
        "np.empty(3, dtype=np.float)"
      ],
      "execution_count": 0,
      "outputs": [
        {
          "output_type": "execute_result",
          "data": {
            "text/plain": [
              "array([8.15931808e-312, 0.00000000e+000, 6.95229481e-310])"
            ]
          },
          "metadata": {
            "tags": []
          },
          "execution_count": 44
        }
      ]
    },
    {
      "cell_type": "markdown",
      "metadata": {
        "id": "Rk1Co7Jis7R3",
        "colab_type": "text"
      },
      "source": [
        "### Creating arrays with properties of other arrays"
      ]
    },
    {
      "cell_type": "code",
      "metadata": {
        "id": "UiXvisK7s7R4",
        "colab_type": "code",
        "colab": {}
      },
      "source": [
        "def f(x):\n",
        "    y = np.ones_like(x)\n",
        "    # compute with x and y\n",
        "    return y"
      ],
      "execution_count": 0,
      "outputs": []
    },
    {
      "cell_type": "markdown",
      "metadata": {
        "id": "92NGq3GMs7R6",
        "colab_type": "text"
      },
      "source": [
        "### Creating special matrix arrays"
      ]
    },
    {
      "cell_type": "code",
      "metadata": {
        "id": "eOa6tBVds7R9",
        "colab_type": "code",
        "colab": {},
        "outputId": "82db47b4-0c8c-415e-fbea-c49e70a0c3e7"
      },
      "source": [
        "np.identity(4)"
      ],
      "execution_count": 0,
      "outputs": [
        {
          "output_type": "execute_result",
          "data": {
            "text/plain": [
              "array([[1., 0., 0., 0.],\n",
              "       [0., 1., 0., 0.],\n",
              "       [0., 0., 1., 0.],\n",
              "       [0., 0., 0., 1.]])"
            ]
          },
          "metadata": {
            "tags": []
          },
          "execution_count": 46
        }
      ]
    },
    {
      "cell_type": "code",
      "metadata": {
        "id": "IMeeEsvxs7SA",
        "colab_type": "code",
        "colab": {},
        "outputId": "8326ce00-2549-4577-9951-f0ec6e957fa3"
      },
      "source": [
        "np.eye(3, k=1)"
      ],
      "execution_count": 0,
      "outputs": [
        {
          "output_type": "execute_result",
          "data": {
            "text/plain": [
              "array([[0., 1., 0.],\n",
              "       [0., 0., 1.],\n",
              "       [0., 0., 0.]])"
            ]
          },
          "metadata": {
            "tags": []
          },
          "execution_count": 47
        }
      ]
    },
    {
      "cell_type": "code",
      "metadata": {
        "id": "kL8wEW8Ss7SF",
        "colab_type": "code",
        "colab": {},
        "outputId": "2b1e1975-b6fd-408f-870f-a52443fc4416"
      },
      "source": [
        "np.eye(3, k=-1)"
      ],
      "execution_count": 0,
      "outputs": [
        {
          "output_type": "execute_result",
          "data": {
            "text/plain": [
              "array([[0., 0., 0.],\n",
              "       [1., 0., 0.],\n",
              "       [0., 1., 0.]])"
            ]
          },
          "metadata": {
            "tags": []
          },
          "execution_count": 48
        }
      ]
    },
    {
      "cell_type": "code",
      "metadata": {
        "id": "pD1z32ZAs7SK",
        "colab_type": "code",
        "colab": {},
        "outputId": "bea28545-8f1a-49f2-822f-12d6e59007d2"
      },
      "source": [
        "np.diag(np.arange(0, 20, 5))"
      ],
      "execution_count": 0,
      "outputs": [
        {
          "output_type": "execute_result",
          "data": {
            "text/plain": [
              "array([[ 0,  0,  0,  0],\n",
              "       [ 0,  5,  0,  0],\n",
              "       [ 0,  0, 10,  0],\n",
              "       [ 0,  0,  0, 15]])"
            ]
          },
          "metadata": {
            "tags": []
          },
          "execution_count": 49
        }
      ]
    },
    {
      "cell_type": "markdown",
      "metadata": {
        "id": "Iyi9Ra0ns7SN",
        "colab_type": "text"
      },
      "source": [
        "## Index and slicing"
      ]
    },
    {
      "cell_type": "markdown",
      "metadata": {
        "id": "N7iRj3KXs7SO",
        "colab_type": "text"
      },
      "source": [
        "### One-dimensional arrays"
      ]
    },
    {
      "cell_type": "code",
      "metadata": {
        "id": "VfHJL1Nvs7SO",
        "colab_type": "code",
        "colab": {}
      },
      "source": [
        "a = np.arange(0, 11)"
      ],
      "execution_count": 0,
      "outputs": []
    },
    {
      "cell_type": "code",
      "metadata": {
        "id": "UiRHIPMrs7SR",
        "colab_type": "code",
        "colab": {},
        "outputId": "3482a06d-78b6-49d1-a82c-84b92e35c1ed"
      },
      "source": [
        "a"
      ],
      "execution_count": 0,
      "outputs": [
        {
          "output_type": "execute_result",
          "data": {
            "text/plain": [
              "array([ 0,  1,  2,  3,  4,  5,  6,  7,  8,  9, 10])"
            ]
          },
          "metadata": {
            "tags": []
          },
          "execution_count": 51
        }
      ]
    },
    {
      "cell_type": "code",
      "metadata": {
        "id": "KVoFCCNvs7ST",
        "colab_type": "code",
        "colab": {},
        "outputId": "9e0ebcdf-ab74-4bd1-ae36-60789f98dc26"
      },
      "source": [
        "a[0]  # the first element"
      ],
      "execution_count": 0,
      "outputs": [
        {
          "output_type": "execute_result",
          "data": {
            "text/plain": [
              "0"
            ]
          },
          "metadata": {
            "tags": []
          },
          "execution_count": 52
        }
      ]
    },
    {
      "cell_type": "code",
      "metadata": {
        "id": "O8JZARrAs7SV",
        "colab_type": "code",
        "colab": {},
        "outputId": "78329b65-954d-4865-fa21-4f04ec744374"
      },
      "source": [
        "a[-1] # the last element"
      ],
      "execution_count": 0,
      "outputs": [
        {
          "output_type": "execute_result",
          "data": {
            "text/plain": [
              "10"
            ]
          },
          "metadata": {
            "tags": []
          },
          "execution_count": 53
        }
      ]
    },
    {
      "cell_type": "code",
      "metadata": {
        "id": "YZ59oawWs7SZ",
        "colab_type": "code",
        "colab": {},
        "outputId": "f18d2214-7ed5-44fa-aaa9-ff95598e7b23"
      },
      "source": [
        "a[4]  # the fifth element, at index 4"
      ],
      "execution_count": 0,
      "outputs": [
        {
          "output_type": "execute_result",
          "data": {
            "text/plain": [
              "4"
            ]
          },
          "metadata": {
            "tags": []
          },
          "execution_count": 54
        }
      ]
    },
    {
      "cell_type": "code",
      "metadata": {
        "id": "uvxJFF2Ls7Sb",
        "colab_type": "code",
        "colab": {},
        "outputId": "ed6b35b1-a219-421a-f524-d7969aeff1f7"
      },
      "source": [
        "a[1:-1]"
      ],
      "execution_count": 0,
      "outputs": [
        {
          "output_type": "execute_result",
          "data": {
            "text/plain": [
              "array([1, 2, 3, 4, 5, 6, 7, 8, 9])"
            ]
          },
          "metadata": {
            "tags": []
          },
          "execution_count": 55
        }
      ]
    },
    {
      "cell_type": "code",
      "metadata": {
        "id": "tePnoRHds7Sd",
        "colab_type": "code",
        "colab": {},
        "outputId": "b9dbfada-6324-409b-c3f5-c8e1c2a948d7"
      },
      "source": [
        "a[1:-1:2]"
      ],
      "execution_count": 0,
      "outputs": [
        {
          "output_type": "execute_result",
          "data": {
            "text/plain": [
              "array([1, 3, 5, 7, 9])"
            ]
          },
          "metadata": {
            "tags": []
          },
          "execution_count": 56
        }
      ]
    },
    {
      "cell_type": "code",
      "metadata": {
        "id": "cc-D9Wm1s7Sg",
        "colab_type": "code",
        "colab": {},
        "outputId": "4181571a-f06e-4dca-8109-3502b3b3baf1"
      },
      "source": [
        "a[:5]"
      ],
      "execution_count": 0,
      "outputs": [
        {
          "output_type": "execute_result",
          "data": {
            "text/plain": [
              "array([0, 1, 2, 3, 4])"
            ]
          },
          "metadata": {
            "tags": []
          },
          "execution_count": 57
        }
      ]
    },
    {
      "cell_type": "code",
      "metadata": {
        "id": "YS3L6Wuis7Si",
        "colab_type": "code",
        "colab": {},
        "outputId": "bcc114aa-83d8-4e2d-e568-ed3ced932262"
      },
      "source": [
        "a[-5:]"
      ],
      "execution_count": 0,
      "outputs": [
        {
          "output_type": "execute_result",
          "data": {
            "text/plain": [
              "array([ 6,  7,  8,  9, 10])"
            ]
          },
          "metadata": {
            "tags": []
          },
          "execution_count": 58
        }
      ]
    },
    {
      "cell_type": "code",
      "metadata": {
        "id": "cKcYqkGfs7Sl",
        "colab_type": "code",
        "colab": {},
        "outputId": "62072b4a-c40d-4088-9461-ac8dadf7a627"
      },
      "source": [
        "a[::-2]\n"
      ],
      "execution_count": 0,
      "outputs": [
        {
          "output_type": "execute_result",
          "data": {
            "text/plain": [
              "array([10,  8,  6,  4,  2,  0])"
            ]
          },
          "metadata": {
            "tags": []
          },
          "execution_count": 59
        }
      ]
    },
    {
      "cell_type": "markdown",
      "metadata": {
        "id": "3-OtuMAIs7Sp",
        "colab_type": "text"
      },
      "source": [
        "## Multidimensional arrays"
      ]
    },
    {
      "cell_type": "code",
      "metadata": {
        "id": "BwN5PlMcs7Sq",
        "colab_type": "code",
        "colab": {},
        "outputId": "12f106b7-91be-4809-82be-fb8f7fbbdc84"
      },
      "source": [
        "#The f is special function that takes two arguments m and n\n",
        "f = lambda m, n: n + 10 * m\n",
        "#The function is called with m=6, n = 6 to create a matrix (2-dim array)\n",
        "A = np.fromfunction(f, (6, 6), dtype=int)\n",
        "#prints it our\n",
        "A"
      ],
      "execution_count": 0,
      "outputs": [
        {
          "output_type": "execute_result",
          "data": {
            "text/plain": [
              "array([[ 0,  1,  2,  3,  4,  5],\n",
              "       [10, 11, 12, 13, 14, 15],\n",
              "       [20, 21, 22, 23, 24, 25],\n",
              "       [30, 31, 32, 33, 34, 35],\n",
              "       [40, 41, 42, 43, 44, 45],\n",
              "       [50, 51, 52, 53, 54, 55]])"
            ]
          },
          "metadata": {
            "tags": []
          },
          "execution_count": 64
        }
      ]
    },
    {
      "cell_type": "code",
      "metadata": {
        "id": "JkYfZdtSs7Ss",
        "colab_type": "code",
        "colab": {},
        "outputId": "61736824-3fd2-4615-fe76-cb1a1acc896e"
      },
      "source": [
        "A[:, 1]  # the second column"
      ],
      "execution_count": 0,
      "outputs": [
        {
          "output_type": "execute_result",
          "data": {
            "text/plain": [
              "array([ 1, 11, 21, 31, 41, 51])"
            ]
          },
          "metadata": {
            "tags": []
          },
          "execution_count": 65
        }
      ]
    },
    {
      "cell_type": "code",
      "metadata": {
        "id": "bgNOhDX_s7Su",
        "colab_type": "code",
        "colab": {},
        "outputId": "6fcc41c1-4900-4eee-f0df-1ed0f516ddb5"
      },
      "source": [
        "A[1, :]  # the second row"
      ],
      "execution_count": 0,
      "outputs": [
        {
          "output_type": "execute_result",
          "data": {
            "text/plain": [
              "array([10, 11, 12, 13, 14, 15])"
            ]
          },
          "metadata": {
            "tags": []
          },
          "execution_count": 66
        }
      ]
    },
    {
      "cell_type": "code",
      "metadata": {
        "id": "mBE_rxtDs7Sx",
        "colab_type": "code",
        "colab": {},
        "outputId": "5285ad34-414e-4fdf-9119-0976792ec52b"
      },
      "source": [
        "A[:3, :3]  # upper half diagonal block matrix"
      ],
      "execution_count": 0,
      "outputs": [
        {
          "output_type": "execute_result",
          "data": {
            "text/plain": [
              "array([[ 0,  1,  2],\n",
              "       [10, 11, 12],\n",
              "       [20, 21, 22]])"
            ]
          },
          "metadata": {
            "tags": []
          },
          "execution_count": 67
        }
      ]
    },
    {
      "cell_type": "code",
      "metadata": {
        "id": "2WnnCnx_s7S0",
        "colab_type": "code",
        "colab": {},
        "outputId": "0c079463-05ce-47fe-a3ae-fd72defbfe31"
      },
      "source": [
        "A[3:, :3]  # lower left off-diagonal block matrix"
      ],
      "execution_count": 0,
      "outputs": [
        {
          "output_type": "execute_result",
          "data": {
            "text/plain": [
              "array([[30, 31, 32],\n",
              "       [40, 41, 42],\n",
              "       [50, 51, 52]])"
            ]
          },
          "metadata": {
            "tags": []
          },
          "execution_count": 68
        }
      ]
    },
    {
      "cell_type": "code",
      "metadata": {
        "id": "6FE9LlO4s7S3",
        "colab_type": "code",
        "colab": {},
        "outputId": "d4296ca3-f9c4-4375-a3fd-c66d4a3e85b5"
      },
      "source": [
        "A[::2, ::2]  # every second element starting from 0, 0"
      ],
      "execution_count": 0,
      "outputs": [
        {
          "output_type": "execute_result",
          "data": {
            "text/plain": [
              "array([[ 0,  2,  4],\n",
              "       [20, 22, 24],\n",
              "       [40, 42, 44]])"
            ]
          },
          "metadata": {
            "tags": []
          },
          "execution_count": 69
        }
      ]
    },
    {
      "cell_type": "code",
      "metadata": {
        "id": "G3sNHsDFs7S8",
        "colab_type": "code",
        "colab": {},
        "outputId": "e4519916-15d8-4f0c-ffe8-75a6294c5f5f"
      },
      "source": [
        "A[1::2, 1::3]  # every second element starting from 1, 1"
      ],
      "execution_count": 0,
      "outputs": [
        {
          "output_type": "execute_result",
          "data": {
            "text/plain": [
              "array([[11, 14],\n",
              "       [31, 34],\n",
              "       [51, 54]])"
            ]
          },
          "metadata": {
            "tags": []
          },
          "execution_count": 70
        }
      ]
    },
    {
      "cell_type": "markdown",
      "metadata": {
        "id": "5JkFNyUZs7S_",
        "colab_type": "text"
      },
      "source": [
        "### Views"
      ]
    },
    {
      "cell_type": "code",
      "metadata": {
        "id": "BANJEMvss7S_",
        "colab_type": "code",
        "colab": {}
      },
      "source": [
        "B = A[1:5, 1:5]"
      ],
      "execution_count": 0,
      "outputs": []
    },
    {
      "cell_type": "code",
      "metadata": {
        "id": "7axUwUwms7TC",
        "colab_type": "code",
        "colab": {},
        "outputId": "18eb857e-e96c-4abc-c778-ff9d42853823"
      },
      "source": [
        "B"
      ],
      "execution_count": 0,
      "outputs": [
        {
          "output_type": "execute_result",
          "data": {
            "text/plain": [
              "array([[11, 12, 13, 14],\n",
              "       [21, 22, 23, 24],\n",
              "       [31, 32, 33, 34],\n",
              "       [41, 42, 43, 44]])"
            ]
          },
          "metadata": {
            "tags": []
          },
          "execution_count": 72
        }
      ]
    },
    {
      "cell_type": "code",
      "metadata": {
        "id": "PHguD9n4s7TE",
        "colab_type": "code",
        "colab": {}
      },
      "source": [
        "#Be extremely careful here: we are not setting B to zeros, but also changing A[1:5, 1:5] also to zeros!!!\n",
        "B[:, :] = 0"
      ],
      "execution_count": 0,
      "outputs": []
    },
    {
      "cell_type": "code",
      "metadata": {
        "id": "tFPMJ_iGs7TG",
        "colab_type": "code",
        "colab": {},
        "outputId": "3472f30c-c758-4383-9260-883b89a15c80"
      },
      "source": [
        "#As expected\n",
        "B"
      ],
      "execution_count": 0,
      "outputs": [
        {
          "output_type": "execute_result",
          "data": {
            "text/plain": [
              "array([[0, 0, 0, 0],\n",
              "       [0, 0, 0, 0],\n",
              "       [0, 0, 0, 0],\n",
              "       [0, 0, 0, 0]])"
            ]
          },
          "metadata": {
            "tags": []
          },
          "execution_count": 76
        }
      ]
    },
    {
      "cell_type": "code",
      "metadata": {
        "id": "azDxmqHBs7TJ",
        "colab_type": "code",
        "colab": {},
        "outputId": "28b2cb7e-4a8b-474a-e8ba-fdcbbdf2de85"
      },
      "source": [
        "#But is this expected?\n",
        "A"
      ],
      "execution_count": 0,
      "outputs": [
        {
          "output_type": "execute_result",
          "data": {
            "text/plain": [
              "array([[ 0,  1,  2,  3,  4,  5],\n",
              "       [10,  0,  0,  0,  0, 15],\n",
              "       [20,  0,  0,  0,  0, 25],\n",
              "       [30,  0,  0,  0,  0, 35],\n",
              "       [40,  0,  0,  0,  0, 45],\n",
              "       [50, 51, 52, 53, 54, 55]])"
            ]
          },
          "metadata": {
            "tags": []
          },
          "execution_count": 77
        }
      ]
    },
    {
      "cell_type": "code",
      "metadata": {
        "id": "YikDB9aZs7TM",
        "colab_type": "code",
        "colab": {}
      },
      "source": [
        "#If we don't want to change the original matrix use .copy() function of the array object\n",
        "C = B[1:3, 1:3].copy()"
      ],
      "execution_count": 0,
      "outputs": []
    },
    {
      "cell_type": "code",
      "metadata": {
        "id": "hSmrS-SMs7TO",
        "colab_type": "code",
        "colab": {},
        "outputId": "adfb7a93-3fd3-446a-8336-e847e8252610"
      },
      "source": [
        "C"
      ],
      "execution_count": 0,
      "outputs": [
        {
          "output_type": "execute_result",
          "data": {
            "text/plain": [
              "array([[0, 0],\n",
              "       [0, 0]])"
            ]
          },
          "metadata": {
            "tags": []
          },
          "execution_count": 79
        }
      ]
    },
    {
      "cell_type": "code",
      "metadata": {
        "id": "FtF6E8jxs7Tx",
        "colab_type": "code",
        "colab": {}
      },
      "source": [
        "C[:, :] = 1  # this does not affect B since C is a copy of the view B[1:3, 1:3]"
      ],
      "execution_count": 0,
      "outputs": []
    },
    {
      "cell_type": "code",
      "metadata": {
        "id": "HST8EEw5s7T3",
        "colab_type": "code",
        "colab": {},
        "outputId": "27bd18b9-7654-455e-d2b8-f94dbb209228"
      },
      "source": [
        "C"
      ],
      "execution_count": 0,
      "outputs": [
        {
          "output_type": "execute_result",
          "data": {
            "text/plain": [
              "array([[1, 1],\n",
              "       [1, 1]])"
            ]
          },
          "metadata": {
            "tags": []
          },
          "execution_count": 81
        }
      ]
    },
    {
      "cell_type": "code",
      "metadata": {
        "id": "Xx9-pJFzs7T6",
        "colab_type": "code",
        "colab": {},
        "outputId": "7e9a9b3f-f454-492d-809e-a9f0e2cfa65d"
      },
      "source": [
        "#Chaing C contents does not affect B!\n",
        "B"
      ],
      "execution_count": 0,
      "outputs": [
        {
          "output_type": "execute_result",
          "data": {
            "text/plain": [
              "array([[0, 0, 0, 0],\n",
              "       [0, 0, 0, 0],\n",
              "       [0, 0, 0, 0],\n",
              "       [0, 0, 0, 0]])"
            ]
          },
          "metadata": {
            "tags": []
          },
          "execution_count": 83
        }
      ]
    },
    {
      "cell_type": "markdown",
      "metadata": {
        "id": "ZLoeABtzs7UH",
        "colab_type": "text"
      },
      "source": [
        "### <font color = 'blue'> Exercise #4 </font>:\n",
        "1. Create an 2-dimensional numpy array of type int16\n",
        "2. Add it to another of same dimensions but of type float64\n",
        "3. Guess what type the entries of the sum array would be, and check your guess by carrying out the addition."
      ]
    },
    {
      "cell_type": "code",
      "metadata": {
        "id": "udBuM_Trv6As",
        "colab_type": "code",
        "colab": {
          "base_uri": "https://localhost:8080/",
          "height": 53
        },
        "outputId": "dfb28459-f0e6-4890-f89b-7a4df5ccee81"
      },
      "source": [
        "arr16 = np.array([[1,2],[3,4]],dtype=np.int16)\n",
        "arrfloat64 = np.array(np.random.rand(2,2),dtype=np.float64)\n",
        "print(\"Result will be float64\")\n",
        "(arr16 + arrfloat64).dtype"
      ],
      "execution_count": 17,
      "outputs": [
        {
          "output_type": "stream",
          "text": [
            "Result will be float64\n"
          ],
          "name": "stdout"
        },
        {
          "output_type": "execute_result",
          "data": {
            "text/plain": [
              "dtype('float64')"
            ]
          },
          "metadata": {
            "tags": []
          },
          "execution_count": 17
        }
      ]
    },
    {
      "cell_type": "markdown",
      "metadata": {
        "id": "o0you7Rrs7UU",
        "colab_type": "text"
      },
      "source": [
        "### Fancy indexing and Boolean-valued indexing"
      ]
    },
    {
      "cell_type": "code",
      "metadata": {
        "id": "V2-VZnZss7UU",
        "colab_type": "code",
        "colab": {}
      },
      "source": [
        "A = np.linspace(0, 1, 11)"
      ],
      "execution_count": 0,
      "outputs": []
    },
    {
      "cell_type": "code",
      "metadata": {
        "id": "YDeL_fgKs7Ub",
        "colab_type": "code",
        "colab": {},
        "outputId": "f687092f-97f1-494f-db1a-729dff4b26eb"
      },
      "source": [
        "A[np.array([0, 2, 4])]"
      ],
      "execution_count": 0,
      "outputs": [
        {
          "output_type": "execute_result",
          "data": {
            "text/plain": [
              "array([ 0. ,  0.2,  0.4])"
            ]
          },
          "metadata": {
            "tags": []
          },
          "execution_count": 96
        }
      ]
    },
    {
      "cell_type": "code",
      "metadata": {
        "id": "xg8c7LaGs7Ue",
        "colab_type": "code",
        "colab": {},
        "outputId": "1d6d633c-2d0f-4b25-dda0-bc8f5cd186f9"
      },
      "source": [
        "A[[0, 2, 4]]"
      ],
      "execution_count": 0,
      "outputs": [
        {
          "output_type": "execute_result",
          "data": {
            "text/plain": [
              "array([ 0. ,  0.2,  0.4])"
            ]
          },
          "metadata": {
            "tags": []
          },
          "execution_count": 97
        }
      ]
    },
    {
      "cell_type": "code",
      "metadata": {
        "id": "8eccepMgs7Uw",
        "colab_type": "code",
        "colab": {},
        "outputId": "514675fe-4006-4745-a986-577ead70aaef"
      },
      "source": [
        "A > 0.5 "
      ],
      "execution_count": 0,
      "outputs": [
        {
          "output_type": "execute_result",
          "data": {
            "text/plain": [
              "array([False, False, False, False, False, False,  True,  True,  True,\n",
              "        True,  True], dtype=bool)"
            ]
          },
          "metadata": {
            "tags": []
          },
          "execution_count": 98
        }
      ]
    },
    {
      "cell_type": "code",
      "metadata": {
        "id": "E6Ne7fLjs7Uy",
        "colab_type": "code",
        "colab": {},
        "outputId": "6366585b-2def-487d-a8c2-77b51646f7e3"
      },
      "source": [
        "A[A > 0.5]"
      ],
      "execution_count": 0,
      "outputs": [
        {
          "output_type": "execute_result",
          "data": {
            "text/plain": [
              "array([ 0.6,  0.7,  0.8,  0.9,  1. ])"
            ]
          },
          "metadata": {
            "tags": []
          },
          "execution_count": 99
        }
      ]
    },
    {
      "cell_type": "code",
      "metadata": {
        "id": "orzNwRoHs7U1",
        "colab_type": "code",
        "colab": {}
      },
      "source": [
        "A = np.arange(10)"
      ],
      "execution_count": 0,
      "outputs": []
    },
    {
      "cell_type": "code",
      "metadata": {
        "id": "d87aD09ss7U9",
        "colab_type": "code",
        "colab": {},
        "outputId": "749e18fb-6e14-4693-b696-a2990581591f"
      },
      "source": [
        "A"
      ],
      "execution_count": 0,
      "outputs": [
        {
          "output_type": "execute_result",
          "data": {
            "text/plain": [
              "array([0, 1, 2, 3, 4, 5, 6, 7, 8, 9])"
            ]
          },
          "metadata": {
            "tags": []
          },
          "execution_count": 101
        }
      ]
    },
    {
      "cell_type": "code",
      "metadata": {
        "id": "uX_tHaL4s7VG",
        "colab_type": "code",
        "colab": {}
      },
      "source": [
        "indices = [2, 4, 6]"
      ],
      "execution_count": 0,
      "outputs": []
    },
    {
      "cell_type": "code",
      "metadata": {
        "id": "5ecqB1ALs7VM",
        "colab_type": "code",
        "colab": {}
      },
      "source": [
        "B = A[indices]"
      ],
      "execution_count": 0,
      "outputs": []
    },
    {
      "cell_type": "code",
      "metadata": {
        "id": "0nTJWyXVs7VX",
        "colab_type": "code",
        "colab": {}
      },
      "source": [
        "B[0] = -1  # this does not affect A"
      ],
      "execution_count": 0,
      "outputs": []
    },
    {
      "cell_type": "code",
      "metadata": {
        "id": "sFlunKqLs7Va",
        "colab_type": "code",
        "colab": {},
        "outputId": "b1f8432f-7038-4a4a-eadc-b73f0713bf67"
      },
      "source": [
        "A"
      ],
      "execution_count": 0,
      "outputs": [
        {
          "output_type": "execute_result",
          "data": {
            "text/plain": [
              "array([0, 1, 2, 3, 4, 5, 6, 7, 8, 9])"
            ]
          },
          "metadata": {
            "tags": []
          },
          "execution_count": 105
        }
      ]
    },
    {
      "cell_type": "code",
      "metadata": {
        "id": "gueNFjlBs7V_",
        "colab_type": "code",
        "colab": {}
      },
      "source": [
        "A[indices] = -1"
      ],
      "execution_count": 0,
      "outputs": []
    },
    {
      "cell_type": "code",
      "metadata": {
        "id": "2k7mjYR9s7WC",
        "colab_type": "code",
        "colab": {},
        "outputId": "298f584c-3f5f-4f6b-b56d-ad1cd9e54df4"
      },
      "source": [
        "A"
      ],
      "execution_count": 0,
      "outputs": [
        {
          "output_type": "execute_result",
          "data": {
            "text/plain": [
              "array([ 0,  1, -1,  3, -1,  5, -1,  7,  8,  9])"
            ]
          },
          "metadata": {
            "tags": []
          },
          "execution_count": 107
        }
      ]
    },
    {
      "cell_type": "code",
      "metadata": {
        "id": "_zXQ5eB3s7WI",
        "colab_type": "code",
        "colab": {}
      },
      "source": [
        "A = np.arange(10)"
      ],
      "execution_count": 0,
      "outputs": []
    },
    {
      "cell_type": "code",
      "metadata": {
        "id": "Zp_PVlfOs7WK",
        "colab_type": "code",
        "colab": {}
      },
      "source": [
        "B = A[A > 5]"
      ],
      "execution_count": 0,
      "outputs": []
    },
    {
      "cell_type": "code",
      "metadata": {
        "id": "_1u-DjWJs7WO",
        "colab_type": "code",
        "colab": {}
      },
      "source": [
        "B[0] = -1  # this does not affect A"
      ],
      "execution_count": 0,
      "outputs": []
    },
    {
      "cell_type": "code",
      "metadata": {
        "id": "Xxx5_Z1As7WS",
        "colab_type": "code",
        "colab": {},
        "outputId": "1915e92c-3b4b-46ca-ddf5-d2864bf1994f"
      },
      "source": [
        "A"
      ],
      "execution_count": 0,
      "outputs": [
        {
          "output_type": "execute_result",
          "data": {
            "text/plain": [
              "array([0, 1, 2, 3, 4, 5, 6, 7, 8, 9])"
            ]
          },
          "metadata": {
            "tags": []
          },
          "execution_count": 111
        }
      ]
    },
    {
      "cell_type": "code",
      "metadata": {
        "id": "673F1yZns7WU",
        "colab_type": "code",
        "colab": {}
      },
      "source": [
        "A[A > 5] = -1"
      ],
      "execution_count": 0,
      "outputs": []
    },
    {
      "cell_type": "code",
      "metadata": {
        "id": "jCXKNxyQs7WV",
        "colab_type": "code",
        "colab": {},
        "outputId": "b321608a-748e-406a-9ce0-18811424693a"
      },
      "source": [
        "A"
      ],
      "execution_count": 0,
      "outputs": [
        {
          "output_type": "execute_result",
          "data": {
            "text/plain": [
              "array([ 0,  1,  2,  3,  4,  5, -1, -1, -1, -1])"
            ]
          },
          "metadata": {
            "tags": []
          },
          "execution_count": 113
        }
      ]
    },
    {
      "cell_type": "markdown",
      "metadata": {
        "id": "Fsm896-Ys7WX",
        "colab_type": "text"
      },
      "source": [
        "## Reshaping and resizing"
      ]
    },
    {
      "cell_type": "code",
      "metadata": {
        "id": "EGZitweds7WX",
        "colab_type": "code",
        "colab": {}
      },
      "source": [
        "data = np.array([[1, 2], [3, 4]])"
      ],
      "execution_count": 0,
      "outputs": []
    },
    {
      "cell_type": "code",
      "metadata": {
        "id": "PE0KJPH9s7Wd",
        "colab_type": "code",
        "colab": {},
        "outputId": "865f3ae1-ef60-4517-b48f-6a285fd9324a"
      },
      "source": [
        "np.reshape(data, (1, 4))"
      ],
      "execution_count": 0,
      "outputs": [
        {
          "output_type": "execute_result",
          "data": {
            "text/plain": [
              "array([[1, 2, 3, 4]])"
            ]
          },
          "metadata": {
            "tags": []
          },
          "execution_count": 115
        }
      ]
    },
    {
      "cell_type": "code",
      "metadata": {
        "id": "tUSiPYv_s7Wf",
        "colab_type": "code",
        "colab": {},
        "outputId": "d3657b2a-2655-4f57-9089-ac5a77e729dd"
      },
      "source": [
        "data.reshape(4)"
      ],
      "execution_count": 0,
      "outputs": [
        {
          "output_type": "execute_result",
          "data": {
            "text/plain": [
              "array([1, 2, 3, 4])"
            ]
          },
          "metadata": {
            "tags": []
          },
          "execution_count": 116
        }
      ]
    },
    {
      "cell_type": "code",
      "metadata": {
        "id": "lfnLifp4s7Wp",
        "colab_type": "code",
        "colab": {}
      },
      "source": [
        "data = np.array([[1, 2], [3, 4]])"
      ],
      "execution_count": 0,
      "outputs": []
    },
    {
      "cell_type": "code",
      "metadata": {
        "id": "H5kjZIcOs7Wr",
        "colab_type": "code",
        "colab": {},
        "outputId": "70e91f45-5fe4-4b3c-fb8f-5576cfb8ea0e"
      },
      "source": [
        "data"
      ],
      "execution_count": 0,
      "outputs": [
        {
          "output_type": "execute_result",
          "data": {
            "text/plain": [
              "array([[1, 2],\n",
              "       [3, 4]])"
            ]
          },
          "metadata": {
            "tags": []
          },
          "execution_count": 118
        }
      ]
    },
    {
      "cell_type": "code",
      "metadata": {
        "id": "BB3_krQGs7Ws",
        "colab_type": "code",
        "colab": {},
        "outputId": "89a26dd7-7c9d-497a-92a1-49a0c5623a25"
      },
      "source": [
        "data.flatten()"
      ],
      "execution_count": 0,
      "outputs": [
        {
          "output_type": "execute_result",
          "data": {
            "text/plain": [
              "array([1, 2, 3, 4])"
            ]
          },
          "metadata": {
            "tags": []
          },
          "execution_count": 119
        }
      ]
    },
    {
      "cell_type": "code",
      "metadata": {
        "id": "yGS21zEQs7Wu",
        "colab_type": "code",
        "colab": {},
        "outputId": "ef447d99-a340-4d68-dfe9-a29e6dd84f7a"
      },
      "source": [
        "data.flatten().shape"
      ],
      "execution_count": 0,
      "outputs": [
        {
          "output_type": "execute_result",
          "data": {
            "text/plain": [
              "(4,)"
            ]
          },
          "metadata": {
            "tags": []
          },
          "execution_count": 120
        }
      ]
    },
    {
      "cell_type": "code",
      "metadata": {
        "id": "y3RCVzqls7Wz",
        "colab_type": "code",
        "colab": {}
      },
      "source": [
        "data = np.arange(0, 5)"
      ],
      "execution_count": 0,
      "outputs": []
    },
    {
      "cell_type": "code",
      "metadata": {
        "id": "jhBcGm3ds7W4",
        "colab_type": "code",
        "colab": {}
      },
      "source": [
        "column = data[:, np.newaxis]"
      ],
      "execution_count": 0,
      "outputs": []
    },
    {
      "cell_type": "code",
      "metadata": {
        "id": "LO1FG0T3s7XA",
        "colab_type": "code",
        "colab": {},
        "outputId": "5be4e780-e220-4c3d-d06c-a1fb16eb556e"
      },
      "source": [
        "column"
      ],
      "execution_count": 0,
      "outputs": [
        {
          "output_type": "execute_result",
          "data": {
            "text/plain": [
              "array([[0],\n",
              "       [1],\n",
              "       [2],\n",
              "       [3],\n",
              "       [4]])"
            ]
          },
          "metadata": {
            "tags": []
          },
          "execution_count": 123
        }
      ]
    },
    {
      "cell_type": "code",
      "metadata": {
        "id": "rJ4NVTxCs7XB",
        "colab_type": "code",
        "colab": {}
      },
      "source": [
        "row = data[np.newaxis, :]"
      ],
      "execution_count": 0,
      "outputs": []
    },
    {
      "cell_type": "code",
      "metadata": {
        "id": "FTRvXjjms7XD",
        "colab_type": "code",
        "colab": {},
        "outputId": "6fc97bf7-8649-4fa3-bd50-b8c5c91329c0"
      },
      "source": [
        "row"
      ],
      "execution_count": 0,
      "outputs": [
        {
          "output_type": "execute_result",
          "data": {
            "text/plain": [
              "array([[0, 1, 2, 3, 4]])"
            ]
          },
          "metadata": {
            "tags": []
          },
          "execution_count": 125
        }
      ]
    },
    {
      "cell_type": "code",
      "metadata": {
        "id": "L_WW277ps7XF",
        "colab_type": "code",
        "colab": {}
      },
      "source": [
        "data = np.arange(5)"
      ],
      "execution_count": 0,
      "outputs": []
    },
    {
      "cell_type": "code",
      "metadata": {
        "id": "PIBZ68ius7XG",
        "colab_type": "code",
        "colab": {},
        "outputId": "f0049354-e46b-4642-e856-63942756eaaf"
      },
      "source": [
        "data"
      ],
      "execution_count": 0,
      "outputs": [
        {
          "output_type": "execute_result",
          "data": {
            "text/plain": [
              "array([0, 1, 2, 3, 4])"
            ]
          },
          "metadata": {
            "tags": []
          },
          "execution_count": 127
        }
      ]
    },
    {
      "cell_type": "code",
      "metadata": {
        "id": "_Q7Uezl1s7XH",
        "colab_type": "code",
        "colab": {},
        "outputId": "5b1d17d8-0200-4f09-c9e9-a7e0efd737c0"
      },
      "source": [
        "data = np.arange(9)\n",
        "data"
      ],
      "execution_count": 0,
      "outputs": [
        {
          "output_type": "execute_result",
          "data": {
            "text/plain": [
              "array([0, 1, 2, 3, 4, 5, 6, 7, 8])"
            ]
          },
          "metadata": {
            "tags": []
          },
          "execution_count": 4
        }
      ]
    },
    {
      "cell_type": "code",
      "metadata": {
        "id": "jTCm0qq7s7XK",
        "colab_type": "code",
        "colab": {},
        "outputId": "62ff915f-1796-44d2-9069-2dbe15364643"
      },
      "source": [
        "data.reshape(3, 3)"
      ],
      "execution_count": 0,
      "outputs": [
        {
          "output_type": "execute_result",
          "data": {
            "text/plain": [
              "array([[0, 1, 2],\n",
              "       [3, 4, 5],\n",
              "       [6, 7, 8]])"
            ]
          },
          "metadata": {
            "tags": []
          },
          "execution_count": 6
        }
      ]
    },
    {
      "cell_type": "code",
      "metadata": {
        "id": "ZZmvcfBrs7XN",
        "colab_type": "code",
        "colab": {},
        "outputId": "8f56f2bc-b35c-40cd-ae02-9b5c92bf8c2f"
      },
      "source": [
        "np.transpose(data)"
      ],
      "execution_count": 0,
      "outputs": [
        {
          "output_type": "execute_result",
          "data": {
            "text/plain": [
              "array([[0, 3, 6],\n",
              "       [1, 4, 7],\n",
              "       [2, 5, 8]])"
            ]
          },
          "metadata": {
            "tags": []
          },
          "execution_count": 222
        }
      ]
    },
    {
      "cell_type": "code",
      "metadata": {
        "id": "b_HI--5Os7XP",
        "colab_type": "code",
        "colab": {}
      },
      "source": [
        "data = np.random.randn(4, 3)"
      ],
      "execution_count": 0,
      "outputs": []
    },
    {
      "cell_type": "code",
      "metadata": {
        "id": "V62Sa4oms7XQ",
        "colab_type": "code",
        "colab": {},
        "outputId": "13d23a4a-029b-4158-fc01-8635dfeb4697"
      },
      "source": [
        "data.shape"
      ],
      "execution_count": 0,
      "outputs": [
        {
          "output_type": "execute_result",
          "data": {
            "text/plain": [
              "(4, 3)"
            ]
          },
          "metadata": {
            "tags": []
          },
          "execution_count": 19
        }
      ]
    },
    {
      "cell_type": "code",
      "metadata": {
        "id": "7c8QIM1Qs7XU",
        "colab_type": "code",
        "colab": {},
        "outputId": "e1061fd9-604e-41e2-e049-c73e1ebd6b06"
      },
      "source": [
        "data.T.shape"
      ],
      "execution_count": 0,
      "outputs": [
        {
          "output_type": "execute_result",
          "data": {
            "text/plain": [
              "(3, 4)"
            ]
          },
          "metadata": {
            "tags": []
          },
          "execution_count": 20
        }
      ]
    },
    {
      "cell_type": "code",
      "metadata": {
        "id": "-If_YG97s7XV",
        "colab_type": "code",
        "colab": {},
        "outputId": "6aa94326-15db-4f89-b680-12aa15a314d2"
      },
      "source": [
        "np.vstack((data, data, data)).shape"
      ],
      "execution_count": 0,
      "outputs": [
        {
          "output_type": "execute_result",
          "data": {
            "text/plain": [
              "(12, 3)"
            ]
          },
          "metadata": {
            "tags": []
          },
          "execution_count": 21
        }
      ]
    },
    {
      "cell_type": "code",
      "metadata": {
        "id": "WGwN_FGss7XY",
        "colab_type": "code",
        "colab": {}
      },
      "source": [
        "data = np.arange(5)"
      ],
      "execution_count": 0,
      "outputs": []
    },
    {
      "cell_type": "code",
      "metadata": {
        "id": "ZBaf0u7gs7XZ",
        "colab_type": "code",
        "colab": {},
        "outputId": "16a88260-d2a5-489e-c998-c442b38a45d7"
      },
      "source": [
        "data"
      ],
      "execution_count": 0,
      "outputs": [
        {
          "output_type": "execute_result",
          "data": {
            "text/plain": [
              "array([0, 1, 2, 3, 4])"
            ]
          },
          "metadata": {
            "tags": []
          },
          "execution_count": 130
        }
      ]
    },
    {
      "cell_type": "code",
      "metadata": {
        "id": "rnDgsVtRs7Xe",
        "colab_type": "code",
        "colab": {},
        "outputId": "2f765fc2-0b9d-42f6-9255-2d11f5d388b5"
      },
      "source": [
        "np.hstack((data, data, data))"
      ],
      "execution_count": 0,
      "outputs": [
        {
          "output_type": "execute_result",
          "data": {
            "text/plain": [
              "array([0, 1, 2, 3, 4, 0, 1, 2, 3, 4, 0, 1, 2, 3, 4])"
            ]
          },
          "metadata": {
            "tags": []
          },
          "execution_count": 131
        }
      ]
    },
    {
      "cell_type": "code",
      "metadata": {
        "id": "XBWywdyws7Xk",
        "colab_type": "code",
        "colab": {}
      },
      "source": [
        "data = data[:, np.newaxis]"
      ],
      "execution_count": 0,
      "outputs": []
    },
    {
      "cell_type": "code",
      "metadata": {
        "id": "1HQrpKats7Xl",
        "colab_type": "code",
        "colab": {},
        "outputId": "21ebdcad-628c-4fd8-85b4-5a8f51c749ff"
      },
      "source": [
        "np.hstack((data, data, data))"
      ],
      "execution_count": 0,
      "outputs": [
        {
          "output_type": "execute_result",
          "data": {
            "text/plain": [
              "array([[0, 0, 0],\n",
              "       [1, 1, 1],\n",
              "       [2, 2, 2],\n",
              "       [3, 3, 3],\n",
              "       [4, 4, 4]])"
            ]
          },
          "metadata": {
            "tags": []
          },
          "execution_count": 133
        }
      ]
    },
    {
      "cell_type": "markdown",
      "metadata": {
        "id": "JoID2Nczs7Xn",
        "colab_type": "text"
      },
      "source": [
        "### <font color = 'blue'> Exercise #5 </font>\n",
        "- Create a three dimensional array of size 3 x 3 x 4 of random integers named A\n",
        "- Stack 3 copies of the A vertically and name it B.  Can you guess the dimensions of the resulting array?\n",
        "- Now stack 3 copies of the transpose of A horizontally, and name it C.  Can you guess the dimension of C? Is it same as that of B?\n",
        "- Now use the flatten() method of A, call the result A_flat.  What is the shape of A_flat?\n",
        "- Reconstruct A from A_flat using reshape() method"
      ]
    },
    {
      "cell_type": "code",
      "metadata": {
        "id": "TZ12aJ2AwXYF",
        "colab_type": "code",
        "colab": {
          "base_uri": "https://localhost:8080/",
          "height": 269
        },
        "outputId": "9a548548-a5e1-4b49-84e8-34661a40f085"
      },
      "source": [
        "A = np.random.rand(3,3,4)\n",
        "B = np.vstack((A,A,A))\n",
        "print(\" 9 3 4?\")\n",
        "C = np.hstack((A.T,A.T,A.T))\n",
        "print(\"4 9 3?\")\n",
        "A_flat = A.flatten()\n",
        "print(3*3*4)\n",
        "A_flat.reshape(3,3,4)"
      ],
      "execution_count": 23,
      "outputs": [
        {
          "output_type": "stream",
          "text": [
            " 9 3 4?\n",
            "4 9 3?\n",
            "36\n"
          ],
          "name": "stdout"
        },
        {
          "output_type": "execute_result",
          "data": {
            "text/plain": [
              "array([[[0.85148865, 0.160654  , 0.99122674, 0.5501762 ],\n",
              "        [0.63479578, 0.90872192, 0.61871668, 0.16295032],\n",
              "        [0.28520506, 0.62310869, 0.82608222, 0.03010687]],\n",
              "\n",
              "       [[0.2014009 , 0.73222257, 0.21269063, 0.46584402],\n",
              "        [0.71875002, 0.03140574, 0.98870151, 0.36836339],\n",
              "        [0.78301843, 0.1006231 , 0.6029664 , 0.80639614]],\n",
              "\n",
              "       [[0.82174627, 0.18539449, 0.39204636, 0.04881583],\n",
              "        [0.98837656, 0.4449854 , 0.44724038, 0.37441446],\n",
              "        [0.48555973, 0.44558271, 0.99865517, 0.43917026]]])"
            ]
          },
          "metadata": {
            "tags": []
          },
          "execution_count": 23
        }
      ]
    },
    {
      "cell_type": "markdown",
      "metadata": {
        "id": "_F6G5Pc6s7Xo",
        "colab_type": "text"
      },
      "source": [
        "## Vectorized expressions"
      ]
    },
    {
      "cell_type": "markdown",
      "metadata": {
        "id": "OM5ziP5Zs7Xx",
        "colab_type": "text"
      },
      "source": [
        "### Arithmetic operations"
      ]
    },
    {
      "cell_type": "code",
      "metadata": {
        "collapsed": true,
        "id": "JN17GvTKs7Xx",
        "colab_type": "code",
        "colab": {}
      },
      "source": [
        "x = np.array([[1, 2], [3, 4]]) "
      ],
      "execution_count": 0,
      "outputs": []
    },
    {
      "cell_type": "code",
      "metadata": {
        "collapsed": true,
        "id": "01U9qvTjs7X5",
        "colab_type": "code",
        "colab": {}
      },
      "source": [
        "y = np.array([[5, 6], [7, 8]])"
      ],
      "execution_count": 0,
      "outputs": []
    },
    {
      "cell_type": "code",
      "metadata": {
        "id": "TAtFy5mps7YB",
        "colab_type": "code",
        "colab": {},
        "outputId": "78661e60-169c-4b0e-b40f-87fc2fa5b0de"
      },
      "source": [
        "x + y"
      ],
      "execution_count": 0,
      "outputs": [
        {
          "output_type": "execute_result",
          "data": {
            "text/plain": [
              "array([[ 6,  8],\n",
              "       [10, 12]])"
            ]
          },
          "metadata": {
            "tags": []
          },
          "execution_count": 136
        }
      ]
    },
    {
      "cell_type": "code",
      "metadata": {
        "id": "MwjGTeRls7YD",
        "colab_type": "code",
        "colab": {},
        "outputId": "9ad2ba32-9483-4f7e-8ca7-590344b2f5af"
      },
      "source": [
        "y - x"
      ],
      "execution_count": 0,
      "outputs": [
        {
          "output_type": "execute_result",
          "data": {
            "text/plain": [
              "array([[4, 4],\n",
              "       [4, 4]])"
            ]
          },
          "metadata": {
            "tags": []
          },
          "execution_count": 137
        }
      ]
    },
    {
      "cell_type": "code",
      "metadata": {
        "id": "B3ppyCIfs7YG",
        "colab_type": "code",
        "colab": {},
        "outputId": "3a7571f1-b9b7-4f77-9278-d51db5a0f2c9"
      },
      "source": [
        "x * y"
      ],
      "execution_count": 0,
      "outputs": [
        {
          "output_type": "execute_result",
          "data": {
            "text/plain": [
              "array([[ 5, 12],\n",
              "       [21, 32]])"
            ]
          },
          "metadata": {
            "tags": []
          },
          "execution_count": 138
        }
      ]
    },
    {
      "cell_type": "code",
      "metadata": {
        "id": "ooDggh9ts7YI",
        "colab_type": "code",
        "colab": {},
        "outputId": "8833776b-19d9-491c-d94f-22188d6decc9"
      },
      "source": [
        "y / x"
      ],
      "execution_count": 0,
      "outputs": [
        {
          "output_type": "execute_result",
          "data": {
            "text/plain": [
              "array([[ 5.        ,  3.        ],\n",
              "       [ 2.33333333,  2.        ]])"
            ]
          },
          "metadata": {
            "tags": []
          },
          "execution_count": 139
        }
      ]
    },
    {
      "cell_type": "code",
      "metadata": {
        "id": "JenQaO_ls7YJ",
        "colab_type": "code",
        "colab": {},
        "outputId": "744589b9-ec18-4ae9-d475-eb6a8c244fc8"
      },
      "source": [
        "x * 2"
      ],
      "execution_count": 0,
      "outputs": [
        {
          "output_type": "execute_result",
          "data": {
            "text/plain": [
              "array([[2, 4],\n",
              "       [6, 8]])"
            ]
          },
          "metadata": {
            "tags": []
          },
          "execution_count": 140
        }
      ]
    },
    {
      "cell_type": "code",
      "metadata": {
        "id": "da-zdw_ps7YL",
        "colab_type": "code",
        "colab": {},
        "outputId": "b8de8b4f-0db9-4db1-c17f-fc46df1b828f"
      },
      "source": [
        "2 ** x"
      ],
      "execution_count": 0,
      "outputs": [
        {
          "output_type": "execute_result",
          "data": {
            "text/plain": [
              "array([[ 2,  4],\n",
              "       [ 8, 16]], dtype=int32)"
            ]
          },
          "metadata": {
            "tags": []
          },
          "execution_count": 141
        }
      ]
    },
    {
      "cell_type": "code",
      "metadata": {
        "id": "2cDWi0zbs7YN",
        "colab_type": "code",
        "colab": {},
        "outputId": "de474476-e65e-40c3-e4b9-8bcca60a90ef"
      },
      "source": [
        "y / 2"
      ],
      "execution_count": 0,
      "outputs": [
        {
          "output_type": "execute_result",
          "data": {
            "text/plain": [
              "array([[ 2.5,  3. ],\n",
              "       [ 3.5,  4. ]])"
            ]
          },
          "metadata": {
            "tags": []
          },
          "execution_count": 142
        }
      ]
    },
    {
      "cell_type": "code",
      "metadata": {
        "id": "p5cDzl9Cs7YO",
        "colab_type": "code",
        "colab": {},
        "outputId": "524625a2-5aed-49a0-ab8c-bc457ac80c97"
      },
      "source": [
        "(y / 2).dtype"
      ],
      "execution_count": 0,
      "outputs": [
        {
          "output_type": "execute_result",
          "data": {
            "text/plain": [
              "dtype('float64')"
            ]
          },
          "metadata": {
            "tags": []
          },
          "execution_count": 143
        }
      ]
    },
    {
      "cell_type": "code",
      "metadata": {
        "collapsed": true,
        "id": "AaUhi-hZs7YP",
        "colab_type": "code",
        "colab": {}
      },
      "source": [
        "x = np.array([1, 2, 3, 4]).reshape(2,2)"
      ],
      "execution_count": 0,
      "outputs": []
    },
    {
      "cell_type": "code",
      "metadata": {
        "collapsed": true,
        "id": "FUAYmIH2s7YQ",
        "colab_type": "code",
        "colab": {}
      },
      "source": [
        "z = np.array([1, 2, 3, 4])"
      ],
      "execution_count": 0,
      "outputs": []
    },
    {
      "cell_type": "code",
      "metadata": {
        "id": "F04f5PiDs7YS",
        "colab_type": "code",
        "colab": {},
        "outputId": "e9a55820-1794-4031-afbb-3de1db2c5239"
      },
      "source": [
        "x / z"
      ],
      "execution_count": 0,
      "outputs": [
        {
          "output_type": "error",
          "ename": "ValueError",
          "evalue": "operands could not be broadcast together with shapes (2,2) (4,) ",
          "traceback": [
            "\u001b[1;31m---------------------------------------------------------------------------\u001b[0m",
            "\u001b[1;31mValueError\u001b[0m                                Traceback (most recent call last)",
            "\u001b[1;32m<ipython-input-146-b88ced08eb6a>\u001b[0m in \u001b[0;36m<module>\u001b[1;34m()\u001b[0m\n\u001b[1;32m----> 1\u001b[1;33m \u001b[0mx\u001b[0m \u001b[1;33m/\u001b[0m \u001b[0mz\u001b[0m\u001b[1;33m\u001b[0m\u001b[0m\n\u001b[0m",
            "\u001b[1;31mValueError\u001b[0m: operands could not be broadcast together with shapes (2,2) (4,) "
          ]
        }
      ]
    },
    {
      "cell_type": "code",
      "metadata": {
        "collapsed": true,
        "id": "yXk09vzgs7YT",
        "colab_type": "code",
        "colab": {}
      },
      "source": [
        "z = np.array([[2, 4]])"
      ],
      "execution_count": 0,
      "outputs": []
    },
    {
      "cell_type": "code",
      "metadata": {
        "id": "eHef8AV9s7YU",
        "colab_type": "code",
        "colab": {},
        "outputId": "e1c0fea6-30c1-4f98-a09c-57b206277460"
      },
      "source": [
        "z"
      ],
      "execution_count": 0,
      "outputs": [
        {
          "output_type": "execute_result",
          "data": {
            "text/plain": [
              "array([[2, 4]])"
            ]
          },
          "metadata": {
            "tags": []
          },
          "execution_count": 148
        }
      ]
    },
    {
      "cell_type": "code",
      "metadata": {
        "id": "FzH4hhLts7YV",
        "colab_type": "code",
        "colab": {},
        "outputId": "7cd2473e-2285-403b-ee28-2127fd82481c"
      },
      "source": [
        "z.shape"
      ],
      "execution_count": 0,
      "outputs": [
        {
          "output_type": "execute_result",
          "data": {
            "text/plain": [
              "(1, 2)"
            ]
          },
          "metadata": {
            "tags": []
          },
          "execution_count": 149
        }
      ]
    },
    {
      "cell_type": "code",
      "metadata": {
        "id": "xRqB4jQYs7YX",
        "colab_type": "code",
        "colab": {},
        "outputId": "bcfdbcd4-02c6-4b1f-fd88-67984448e939"
      },
      "source": [
        "x / z"
      ],
      "execution_count": 0,
      "outputs": [
        {
          "output_type": "execute_result",
          "data": {
            "text/plain": [
              "array([[ 0.5,  0.5],\n",
              "       [ 1.5,  1. ]])"
            ]
          },
          "metadata": {
            "tags": []
          },
          "execution_count": 150
        }
      ]
    },
    {
      "cell_type": "code",
      "metadata": {
        "collapsed": true,
        "id": "P_ya6kvZs7YZ",
        "colab_type": "code",
        "colab": {}
      },
      "source": [
        "zz = np.concatenate([z, z], axis=0)"
      ],
      "execution_count": 0,
      "outputs": []
    },
    {
      "cell_type": "code",
      "metadata": {
        "id": "odSRs6JIs7Ya",
        "colab_type": "code",
        "colab": {},
        "outputId": "8dbeadf1-57c2-46eb-dd20-e8fbb5563a59"
      },
      "source": [
        "zz"
      ],
      "execution_count": 0,
      "outputs": [
        {
          "output_type": "execute_result",
          "data": {
            "text/plain": [
              "array([[2, 4],\n",
              "       [2, 4]])"
            ]
          },
          "metadata": {
            "tags": []
          },
          "execution_count": 152
        }
      ]
    },
    {
      "cell_type": "code",
      "metadata": {
        "id": "dsBwgtjgs7Yb",
        "colab_type": "code",
        "colab": {},
        "outputId": "3931a779-54d4-411c-e500-0aaa2908d8ac"
      },
      "source": [
        "x / zz"
      ],
      "execution_count": 0,
      "outputs": [
        {
          "output_type": "execute_result",
          "data": {
            "text/plain": [
              "array([[ 0.5,  0.5],\n",
              "       [ 1.5,  1. ]])"
            ]
          },
          "metadata": {
            "tags": []
          },
          "execution_count": 153
        }
      ]
    },
    {
      "cell_type": "code",
      "metadata": {
        "collapsed": true,
        "id": "gfwa5tdns7Yf",
        "colab_type": "code",
        "colab": {}
      },
      "source": [
        "z = np.array([[2], [4]])"
      ],
      "execution_count": 0,
      "outputs": []
    },
    {
      "cell_type": "code",
      "metadata": {
        "id": "8oAgDMYws7Yg",
        "colab_type": "code",
        "colab": {},
        "outputId": "2249e2bf-ca76-4b8a-e195-902b1398e24f"
      },
      "source": [
        "z.shape"
      ],
      "execution_count": 0,
      "outputs": [
        {
          "output_type": "execute_result",
          "data": {
            "text/plain": [
              "(2, 1)"
            ]
          },
          "metadata": {
            "tags": []
          },
          "execution_count": 155
        }
      ]
    },
    {
      "cell_type": "code",
      "metadata": {
        "id": "OLWshuSYs7Yi",
        "colab_type": "code",
        "colab": {},
        "outputId": "3917efa3-1efc-44b4-a3c7-285ec569a015"
      },
      "source": [
        "x / z"
      ],
      "execution_count": 0,
      "outputs": [
        {
          "output_type": "execute_result",
          "data": {
            "text/plain": [
              "array([[ 0.5 ,  1.  ],\n",
              "       [ 0.75,  1.  ]])"
            ]
          },
          "metadata": {
            "tags": []
          },
          "execution_count": 156
        }
      ]
    },
    {
      "cell_type": "code",
      "metadata": {
        "collapsed": true,
        "id": "OqbdSOF1s7Yj",
        "colab_type": "code",
        "colab": {}
      },
      "source": [
        "zz = np.concatenate([z, z], axis=1)"
      ],
      "execution_count": 0,
      "outputs": []
    },
    {
      "cell_type": "code",
      "metadata": {
        "id": "UFfS1GHXs7Yk",
        "colab_type": "code",
        "colab": {},
        "outputId": "37125cf4-e938-478e-aec9-992438f1617d"
      },
      "source": [
        "zz"
      ],
      "execution_count": 0,
      "outputs": [
        {
          "output_type": "execute_result",
          "data": {
            "text/plain": [
              "array([[2, 2],\n",
              "       [4, 4]])"
            ]
          },
          "metadata": {
            "tags": []
          },
          "execution_count": 158
        }
      ]
    },
    {
      "cell_type": "code",
      "metadata": {
        "id": "blweyfR2s7Ym",
        "colab_type": "code",
        "colab": {},
        "outputId": "b24efd72-03f3-490c-cf6e-6bbb4eef1c3a"
      },
      "source": [
        "x / zz"
      ],
      "execution_count": 0,
      "outputs": [
        {
          "output_type": "execute_result",
          "data": {
            "text/plain": [
              "array([[ 0.5 ,  1.  ],\n",
              "       [ 0.75,  1.  ]])"
            ]
          },
          "metadata": {
            "tags": []
          },
          "execution_count": 159
        }
      ]
    },
    {
      "cell_type": "code",
      "metadata": {
        "id": "mxLmb3MLs7Yo",
        "colab_type": "code",
        "colab": {},
        "outputId": "0defde0a-7e15-4706-e5b6-d1ee82fac85b"
      },
      "source": [
        "x = np.array([[1, 3], [2, 4]])\n",
        "x = x + y\n",
        "x"
      ],
      "execution_count": 0,
      "outputs": [
        {
          "output_type": "execute_result",
          "data": {
            "text/plain": [
              "array([[ 6,  9],\n",
              "       [ 9, 12]])"
            ]
          },
          "metadata": {
            "tags": []
          },
          "execution_count": 160
        }
      ]
    },
    {
      "cell_type": "code",
      "metadata": {
        "id": "CYrfIlZos7Yp",
        "colab_type": "code",
        "colab": {},
        "outputId": "69be7c3a-248a-4b8d-ec1d-0a9a4c7811ac"
      },
      "source": [
        "x = np.array([[1, 3], [2, 4]])\n",
        "x += y\n",
        "x"
      ],
      "execution_count": 0,
      "outputs": [
        {
          "output_type": "execute_result",
          "data": {
            "text/plain": [
              "array([[ 6,  9],\n",
              "       [ 9, 12]])"
            ]
          },
          "metadata": {
            "tags": []
          },
          "execution_count": 161
        }
      ]
    },
    {
      "cell_type": "markdown",
      "metadata": {
        "id": "fQUM0_4es7Yr",
        "colab_type": "text"
      },
      "source": [
        "### Elementwise functions"
      ]
    },
    {
      "cell_type": "code",
      "metadata": {
        "collapsed": true,
        "id": "EpuQIGj4s7Yr",
        "colab_type": "code",
        "colab": {}
      },
      "source": [
        "x = np.linspace(-1, 1, 11)"
      ],
      "execution_count": 0,
      "outputs": []
    },
    {
      "cell_type": "code",
      "metadata": {
        "id": "holDiS-3s7Yt",
        "colab_type": "code",
        "colab": {},
        "outputId": "78e4728f-cb22-4abe-ca05-3c46abcd56c9"
      },
      "source": [
        "x"
      ],
      "execution_count": 0,
      "outputs": [
        {
          "output_type": "execute_result",
          "data": {
            "text/plain": [
              "array([-1. , -0.8, -0.6, -0.4, -0.2,  0. ,  0.2,  0.4,  0.6,  0.8,  1. ])"
            ]
          },
          "metadata": {
            "tags": []
          },
          "execution_count": 163
        }
      ]
    },
    {
      "cell_type": "code",
      "metadata": {
        "collapsed": true,
        "id": "9WIq8Ze2s7Yu",
        "colab_type": "code",
        "colab": {}
      },
      "source": [
        "y = np.sin(np.pi * x)"
      ],
      "execution_count": 0,
      "outputs": []
    },
    {
      "cell_type": "code",
      "metadata": {
        "id": "sjZ_nM_vs7Yv",
        "colab_type": "code",
        "colab": {},
        "outputId": "71cb57a3-4092-4590-8930-c1929eb28eac"
      },
      "source": [
        "np.round(y, decimals=4)"
      ],
      "execution_count": 0,
      "outputs": [
        {
          "output_type": "execute_result",
          "data": {
            "text/plain": [
              "array([-0.    , -0.5878, -0.9511, -0.9511, -0.5878,  0.    ,  0.5878,\n",
              "        0.9511,  0.9511,  0.5878,  0.    ])"
            ]
          },
          "metadata": {
            "tags": []
          },
          "execution_count": 165
        }
      ]
    },
    {
      "cell_type": "code",
      "metadata": {
        "id": "zKdbW5fds7Yy",
        "colab_type": "code",
        "colab": {},
        "outputId": "cfa163a4-fa05-46f8-c7dd-eed63d73d238"
      },
      "source": [
        "np.add(np.sin(x) ** 2, np.cos(x) ** 2)"
      ],
      "execution_count": 0,
      "outputs": [
        {
          "output_type": "execute_result",
          "data": {
            "text/plain": [
              "array([ 1.,  1.,  1.,  1.,  1.,  1.,  1.,  1.,  1.,  1.,  1.])"
            ]
          },
          "metadata": {
            "tags": []
          },
          "execution_count": 166
        }
      ]
    },
    {
      "cell_type": "code",
      "metadata": {
        "id": "9NW5Jedys7Y0",
        "colab_type": "code",
        "colab": {},
        "outputId": "3ba409f8-579b-4994-d1f1-a68f26d6b5a4"
      },
      "source": [
        "np.sin(x) ** 2 + np.cos(x) ** 2"
      ],
      "execution_count": 0,
      "outputs": [
        {
          "output_type": "execute_result",
          "data": {
            "text/plain": [
              "array([ 1.,  1.,  1.,  1.,  1.,  1.,  1.,  1.,  1.,  1.,  1.])"
            ]
          },
          "metadata": {
            "tags": []
          },
          "execution_count": 167
        }
      ]
    },
    {
      "cell_type": "code",
      "metadata": {
        "collapsed": true,
        "id": "g0-vrTdGs7Y1",
        "colab_type": "code",
        "colab": {}
      },
      "source": [
        "def heaviside(x):\n",
        "    return 1 if x > 0 else 0"
      ],
      "execution_count": 0,
      "outputs": []
    },
    {
      "cell_type": "code",
      "metadata": {
        "id": "S5BEhSAes7Y2",
        "colab_type": "code",
        "colab": {},
        "outputId": "ac0e0804-e2eb-4348-d282-7b09ef6eeec0"
      },
      "source": [
        "heaviside(-1)"
      ],
      "execution_count": 0,
      "outputs": [
        {
          "output_type": "execute_result",
          "data": {
            "text/plain": [
              "0"
            ]
          },
          "metadata": {
            "tags": []
          },
          "execution_count": 169
        }
      ]
    },
    {
      "cell_type": "code",
      "metadata": {
        "id": "p1IBuGp_s7Y3",
        "colab_type": "code",
        "colab": {},
        "outputId": "89720ff9-b529-4f3c-c08a-638a4da10bec"
      },
      "source": [
        "heaviside(1.5)"
      ],
      "execution_count": 0,
      "outputs": [
        {
          "output_type": "execute_result",
          "data": {
            "text/plain": [
              "1"
            ]
          },
          "metadata": {
            "tags": []
          },
          "execution_count": 170
        }
      ]
    },
    {
      "cell_type": "code",
      "metadata": {
        "collapsed": true,
        "id": "QyPAO_Kgs7Y4",
        "colab_type": "code",
        "colab": {}
      },
      "source": [
        "x = np.linspace(-5, 5, 11)"
      ],
      "execution_count": 0,
      "outputs": []
    },
    {
      "cell_type": "code",
      "metadata": {
        "id": "Rm3VlAOis7Y5",
        "colab_type": "code",
        "colab": {},
        "outputId": "d6fc065b-012b-48e1-c8f0-33ab63913747"
      },
      "source": [
        "heaviside(x)"
      ],
      "execution_count": 0,
      "outputs": [
        {
          "output_type": "error",
          "ename": "ValueError",
          "evalue": "The truth value of an array with more than one element is ambiguous. Use a.any() or a.all()",
          "traceback": [
            "\u001b[1;31m---------------------------------------------------------------------------\u001b[0m",
            "\u001b[1;31mValueError\u001b[0m                                Traceback (most recent call last)",
            "\u001b[1;32m<ipython-input-172-fe9fb94bcf99>\u001b[0m in \u001b[0;36m<module>\u001b[1;34m()\u001b[0m\n\u001b[1;32m----> 1\u001b[1;33m \u001b[0mheaviside\u001b[0m\u001b[1;33m(\u001b[0m\u001b[0mx\u001b[0m\u001b[1;33m)\u001b[0m\u001b[1;33m\u001b[0m\u001b[0m\n\u001b[0m",
            "\u001b[1;32m<ipython-input-168-01b8e2f570bc>\u001b[0m in \u001b[0;36mheaviside\u001b[1;34m(x)\u001b[0m\n\u001b[0;32m      1\u001b[0m \u001b[1;32mdef\u001b[0m \u001b[0mheaviside\u001b[0m\u001b[1;33m(\u001b[0m\u001b[0mx\u001b[0m\u001b[1;33m)\u001b[0m\u001b[1;33m:\u001b[0m\u001b[1;33m\u001b[0m\u001b[0m\n\u001b[1;32m----> 2\u001b[1;33m     \u001b[1;32mreturn\u001b[0m \u001b[1;36m1\u001b[0m \u001b[1;32mif\u001b[0m \u001b[0mx\u001b[0m \u001b[1;33m>\u001b[0m \u001b[1;36m0\u001b[0m \u001b[1;32melse\u001b[0m \u001b[1;36m0\u001b[0m\u001b[1;33m\u001b[0m\u001b[0m\n\u001b[0m",
            "\u001b[1;31mValueError\u001b[0m: The truth value of an array with more than one element is ambiguous. Use a.any() or a.all()"
          ]
        }
      ]
    },
    {
      "cell_type": "code",
      "metadata": {
        "collapsed": true,
        "id": "KtfL-Yp6s7Y7",
        "colab_type": "code",
        "colab": {}
      },
      "source": [
        "heaviside = np.vectorize(heaviside)"
      ],
      "execution_count": 0,
      "outputs": []
    },
    {
      "cell_type": "code",
      "metadata": {
        "id": "oPK_TX03s7Y8",
        "colab_type": "code",
        "colab": {},
        "outputId": "945b2283-6411-433d-8e2d-fd2c22af7c9c"
      },
      "source": [
        "heaviside(x)"
      ],
      "execution_count": 0,
      "outputs": [
        {
          "output_type": "execute_result",
          "data": {
            "text/plain": [
              "array([0, 0, 0, 0, 0, 0, 1, 1, 1, 1, 1])"
            ]
          },
          "metadata": {
            "tags": []
          },
          "execution_count": 174
        }
      ]
    },
    {
      "cell_type": "code",
      "metadata": {
        "collapsed": true,
        "id": "osQNVvF2s7Y9",
        "colab_type": "code",
        "colab": {}
      },
      "source": [
        "def heaviside(x):\n",
        "    return 1.0 * (x > 0)"
      ],
      "execution_count": 0,
      "outputs": []
    },
    {
      "cell_type": "markdown",
      "metadata": {
        "id": "K6OrckeRs7Y-",
        "colab_type": "text"
      },
      "source": [
        "### <font color = 'blue'> Exercise #6 </font>  \n",
        "\n",
        "1.  Create a function \"sigmoid\" that takes one variable $x$ as input and returns $\\frac{1}{1 + e^{-x}}$ as output\n",
        "2.  Create a 2-dimensional array A of random numbers of size 3x4\n",
        "3.  Let S = sigmoid(A).  Print S\n",
        "\n",
        "**Note this is an example of broadcasting: applying an operation to every element of an object, where the operation was only meant between elements**"
      ]
    },
    {
      "cell_type": "code",
      "metadata": {
        "id": "Rw0JiYMzx1qn",
        "colab_type": "code",
        "colab": {
          "base_uri": "https://localhost:8080/",
          "height": 71
        },
        "outputId": "aad8e21a-f98a-49c8-cad2-2bc7369ae05f"
      },
      "source": [
        "def sigmoid(x):\n",
        "    return 1/(1+np.exp(-x))\n",
        "\n",
        "A = np.random.rand(3,4)\n",
        "S = sigmoid(A)\n",
        "print(S)"
      ],
      "execution_count": 25,
      "outputs": [
        {
          "output_type": "stream",
          "text": [
            "[[0.57998111 0.63117674 0.55361574 0.52818844]\n",
            " [0.65365537 0.71477629 0.68498289 0.5827315 ]\n",
            " [0.72936478 0.66351004 0.59155097 0.70966268]]\n"
          ],
          "name": "stdout"
        }
      ]
    },
    {
      "cell_type": "markdown",
      "metadata": {
        "id": "t4jgDzr3s7Y-",
        "colab_type": "text"
      },
      "source": [
        "### Aggregate functions"
      ]
    },
    {
      "cell_type": "code",
      "metadata": {
        "id": "yZIwmdEFs7Y_",
        "colab_type": "code",
        "colab": {}
      },
      "source": [
        "data = np.random.normal(size=(15,15))"
      ],
      "execution_count": 0,
      "outputs": []
    },
    {
      "cell_type": "code",
      "metadata": {
        "id": "ACtIHkEas7ZB",
        "colab_type": "code",
        "colab": {},
        "outputId": "5c3f30cf-9642-44be-8f0f-10c55853736d"
      },
      "source": [
        "np.mean(data)"
      ],
      "execution_count": 0,
      "outputs": [
        {
          "output_type": "execute_result",
          "data": {
            "text/plain": [
              "-0.074403636812459123"
            ]
          },
          "metadata": {
            "tags": []
          },
          "execution_count": 177
        }
      ]
    },
    {
      "cell_type": "code",
      "metadata": {
        "id": "6tapkhDss7ZD",
        "colab_type": "code",
        "colab": {},
        "outputId": "935b3cfc-68cb-4dda-bbb9-931319644c5d"
      },
      "source": [
        "data.mean()"
      ],
      "execution_count": 0,
      "outputs": [
        {
          "output_type": "execute_result",
          "data": {
            "text/plain": [
              "-0.074403636812459123"
            ]
          },
          "metadata": {
            "tags": []
          },
          "execution_count": 178
        }
      ]
    },
    {
      "cell_type": "code",
      "metadata": {
        "id": "qjBy7o19s7ZE",
        "colab_type": "code",
        "colab": {}
      },
      "source": [
        "data = np.random.normal(size=(5, 10, 15))"
      ],
      "execution_count": 0,
      "outputs": []
    },
    {
      "cell_type": "code",
      "metadata": {
        "id": "7nOCG-vxs7ZG",
        "colab_type": "code",
        "colab": {},
        "outputId": "a5a4421c-2adf-4a03-f3e7-dec9329f131a"
      },
      "source": [
        "data.sum(axis=0).shape"
      ],
      "execution_count": 0,
      "outputs": [
        {
          "output_type": "execute_result",
          "data": {
            "text/plain": [
              "(10, 15)"
            ]
          },
          "metadata": {
            "tags": []
          },
          "execution_count": 180
        }
      ]
    },
    {
      "cell_type": "code",
      "metadata": {
        "id": "rWOvJp-ss7ZH",
        "colab_type": "code",
        "colab": {},
        "outputId": "ea3b8fbb-d36d-44e3-cbd5-67c7e7208950"
      },
      "source": [
        "data.sum(axis=(0, 2)).shape"
      ],
      "execution_count": 0,
      "outputs": [
        {
          "output_type": "execute_result",
          "data": {
            "text/plain": [
              "(10,)"
            ]
          },
          "metadata": {
            "tags": []
          },
          "execution_count": 181
        }
      ]
    },
    {
      "cell_type": "code",
      "metadata": {
        "id": "58jJ1VLGs7ZI",
        "colab_type": "code",
        "colab": {},
        "outputId": "5bbefcc5-a176-4553-c681-4b78b509f03c"
      },
      "source": [
        "data.sum()"
      ],
      "execution_count": 0,
      "outputs": [
        {
          "output_type": "execute_result",
          "data": {
            "text/plain": [
              "11.003615133940048"
            ]
          },
          "metadata": {
            "tags": []
          },
          "execution_count": 182
        }
      ]
    },
    {
      "cell_type": "code",
      "metadata": {
        "id": "OSeY55nNs7ZJ",
        "colab_type": "code",
        "colab": {}
      },
      "source": [
        "data = np.arange(1,10).reshape(3,3)"
      ],
      "execution_count": 0,
      "outputs": []
    },
    {
      "cell_type": "code",
      "metadata": {
        "id": "pWiDAQmBs7ZK",
        "colab_type": "code",
        "colab": {},
        "outputId": "3a90bcf7-c99c-4159-fecc-8910b0ae2005"
      },
      "source": [
        "data"
      ],
      "execution_count": 0,
      "outputs": [
        {
          "output_type": "execute_result",
          "data": {
            "text/plain": [
              "array([[1, 2, 3],\n",
              "       [4, 5, 6],\n",
              "       [7, 8, 9]])"
            ]
          },
          "metadata": {
            "tags": []
          },
          "execution_count": 184
        }
      ]
    },
    {
      "cell_type": "code",
      "metadata": {
        "id": "XLia5HaHs7ZL",
        "colab_type": "code",
        "colab": {},
        "outputId": "b856d0c3-241b-4e01-d81f-7f7fc1dc5ba3"
      },
      "source": [
        "data.sum()"
      ],
      "execution_count": 0,
      "outputs": [
        {
          "output_type": "execute_result",
          "data": {
            "text/plain": [
              "45"
            ]
          },
          "metadata": {
            "tags": []
          },
          "execution_count": 185
        }
      ]
    },
    {
      "cell_type": "code",
      "metadata": {
        "id": "qYxS4xlDs7ZS",
        "colab_type": "code",
        "colab": {},
        "outputId": "413442fb-262e-4352-d851-26e1b59e5f0b"
      },
      "source": [
        "data.sum(axis=0)"
      ],
      "execution_count": 0,
      "outputs": [
        {
          "output_type": "execute_result",
          "data": {
            "text/plain": [
              "array([12, 15, 18])"
            ]
          },
          "metadata": {
            "tags": []
          },
          "execution_count": 186
        }
      ]
    },
    {
      "cell_type": "code",
      "metadata": {
        "id": "UgqWely_s7ZT",
        "colab_type": "code",
        "colab": {},
        "outputId": "29d0bdb7-c26b-4d67-f230-f8c32b2fe0b6"
      },
      "source": [
        "data.sum(axis=1)"
      ],
      "execution_count": 0,
      "outputs": [
        {
          "output_type": "execute_result",
          "data": {
            "text/plain": [
              "array([ 6, 15, 24])"
            ]
          },
          "metadata": {
            "tags": []
          },
          "execution_count": 187
        }
      ]
    },
    {
      "cell_type": "markdown",
      "metadata": {
        "id": "OkgRlHwKs7ZW",
        "colab_type": "text"
      },
      "source": [
        "### Boolean arrays"
      ]
    },
    {
      "cell_type": "code",
      "metadata": {
        "id": "ziKgxpuws7ZW",
        "colab_type": "code",
        "colab": {}
      },
      "source": [
        "a = np.array([1, 2, 3, 4])"
      ],
      "execution_count": 0,
      "outputs": []
    },
    {
      "cell_type": "code",
      "metadata": {
        "id": "c-96Noq6s7Za",
        "colab_type": "code",
        "colab": {}
      },
      "source": [
        "b = np.array([4, 3, 2, 1])"
      ],
      "execution_count": 0,
      "outputs": []
    },
    {
      "cell_type": "code",
      "metadata": {
        "id": "1PomoK3ns7Zc",
        "colab_type": "code",
        "colab": {},
        "outputId": "b66dd030-79b4-45fb-c852-27bdcbb10a52"
      },
      "source": [
        "a < b"
      ],
      "execution_count": 0,
      "outputs": [
        {
          "output_type": "execute_result",
          "data": {
            "text/plain": [
              "array([ True,  True, False, False], dtype=bool)"
            ]
          },
          "metadata": {
            "tags": []
          },
          "execution_count": 190
        }
      ]
    },
    {
      "cell_type": "code",
      "metadata": {
        "id": "bk-feoZks7Zd",
        "colab_type": "code",
        "colab": {},
        "outputId": "74b67694-7550-4382-f3ec-2ad4bc99f9e4"
      },
      "source": [
        "np.all(a < b)"
      ],
      "execution_count": 0,
      "outputs": [
        {
          "output_type": "execute_result",
          "data": {
            "text/plain": [
              "False"
            ]
          },
          "metadata": {
            "tags": []
          },
          "execution_count": 191
        }
      ]
    },
    {
      "cell_type": "code",
      "metadata": {
        "id": "6iLRueO7s7Ze",
        "colab_type": "code",
        "colab": {},
        "outputId": "23ee49a1-67ab-4cac-c10b-7ecb70711498"
      },
      "source": [
        "np.any(a < b)"
      ],
      "execution_count": 0,
      "outputs": [
        {
          "output_type": "execute_result",
          "data": {
            "text/plain": [
              "True"
            ]
          },
          "metadata": {
            "tags": []
          },
          "execution_count": 192
        }
      ]
    },
    {
      "cell_type": "code",
      "metadata": {
        "id": "NWu-Ew5Ts7Zf",
        "colab_type": "code",
        "colab": {}
      },
      "source": [
        "x = np.array([-2, -1, 0, 1, 2])"
      ],
      "execution_count": 0,
      "outputs": []
    },
    {
      "cell_type": "code",
      "metadata": {
        "id": "x8ykQTEds7Zg",
        "colab_type": "code",
        "colab": {},
        "outputId": "70a7724d-f13c-4274-f74e-92559ad0e951"
      },
      "source": [
        "x > 0"
      ],
      "execution_count": 0,
      "outputs": [
        {
          "output_type": "execute_result",
          "data": {
            "text/plain": [
              "array([False, False, False,  True,  True], dtype=bool)"
            ]
          },
          "metadata": {
            "tags": []
          },
          "execution_count": 195
        }
      ]
    },
    {
      "cell_type": "code",
      "metadata": {
        "id": "EBwrXteXs7Zi",
        "colab_type": "code",
        "colab": {},
        "outputId": "d7583fc2-bd4a-4eea-c482-73811dc1ecbe"
      },
      "source": [
        "1 * (x > 0)"
      ],
      "execution_count": 0,
      "outputs": [
        {
          "output_type": "execute_result",
          "data": {
            "text/plain": [
              "array([0, 0, 0, 1, 1])"
            ]
          },
          "metadata": {
            "tags": []
          },
          "execution_count": 196
        }
      ]
    },
    {
      "cell_type": "code",
      "metadata": {
        "id": "616YCSVRs7Zj",
        "colab_type": "code",
        "colab": {},
        "outputId": "8bb5545a-55ce-4bbf-d87d-89ff66b9161a"
      },
      "source": [
        "x * (x > 0)"
      ],
      "execution_count": 0,
      "outputs": [
        {
          "output_type": "execute_result",
          "data": {
            "text/plain": [
              "array([0, 0, 0, 1, 2])"
            ]
          },
          "metadata": {
            "tags": []
          },
          "execution_count": 197
        }
      ]
    },
    {
      "cell_type": "markdown",
      "metadata": {
        "id": "5XbO8m1ms7Zm",
        "colab_type": "text"
      },
      "source": [
        "# Set operations"
      ]
    },
    {
      "cell_type": "code",
      "metadata": {
        "id": "R_1AdIAQs7Zm",
        "colab_type": "code",
        "colab": {}
      },
      "source": [
        "a = np.unique([1,2,3,3])"
      ],
      "execution_count": 0,
      "outputs": []
    },
    {
      "cell_type": "code",
      "metadata": {
        "id": "svqgh_JYs7Zo",
        "colab_type": "code",
        "colab": {}
      },
      "source": [
        "b = np.unique([2,3,4,4,5,6,5])"
      ],
      "execution_count": 0,
      "outputs": []
    },
    {
      "cell_type": "code",
      "metadata": {
        "id": "rN8vBIk8s7Zp",
        "colab_type": "code",
        "colab": {},
        "outputId": "51c4b60d-a353-4b28-97a4-30fe9a676d9f"
      },
      "source": [
        "np.in1d(a, b)"
      ],
      "execution_count": 0,
      "outputs": [
        {
          "output_type": "execute_result",
          "data": {
            "text/plain": [
              "array([False,  True,  True], dtype=bool)"
            ]
          },
          "metadata": {
            "tags": []
          },
          "execution_count": 212
        }
      ]
    },
    {
      "cell_type": "code",
      "metadata": {
        "id": "UgyAwwHzs7Zq",
        "colab_type": "code",
        "colab": {},
        "outputId": "ff6289e1-f35f-4a86-ab35-5250e981852b"
      },
      "source": [
        "1 in a"
      ],
      "execution_count": 0,
      "outputs": [
        {
          "output_type": "execute_result",
          "data": {
            "text/plain": [
              "True"
            ]
          },
          "metadata": {
            "tags": []
          },
          "execution_count": 213
        }
      ]
    },
    {
      "cell_type": "code",
      "metadata": {
        "id": "R_dW99YHs7Zu",
        "colab_type": "code",
        "colab": {},
        "outputId": "c64498bc-0906-46be-fde1-79c01a84e2cf"
      },
      "source": [
        "1 in b"
      ],
      "execution_count": 0,
      "outputs": [
        {
          "output_type": "execute_result",
          "data": {
            "text/plain": [
              "False"
            ]
          },
          "metadata": {
            "tags": []
          },
          "execution_count": 214
        }
      ]
    },
    {
      "cell_type": "code",
      "metadata": {
        "id": "cjoNB4_hs7Zv",
        "colab_type": "code",
        "colab": {},
        "outputId": "029805a5-5cd9-4886-ec39-aa1f1e463ea1"
      },
      "source": [
        "np.all(np.in1d(a, b))"
      ],
      "execution_count": 0,
      "outputs": [
        {
          "output_type": "execute_result",
          "data": {
            "text/plain": [
              "False"
            ]
          },
          "metadata": {
            "tags": []
          },
          "execution_count": 215
        }
      ]
    },
    {
      "cell_type": "code",
      "metadata": {
        "id": "NYbtfQUBs7Zw",
        "colab_type": "code",
        "colab": {},
        "outputId": "392105dd-9548-4240-86d3-01a76f1c4c59"
      },
      "source": [
        "np.union1d(a, b)"
      ],
      "execution_count": 0,
      "outputs": [
        {
          "output_type": "execute_result",
          "data": {
            "text/plain": [
              "array([1, 2, 3, 4, 5, 6])"
            ]
          },
          "metadata": {
            "tags": []
          },
          "execution_count": 216
        }
      ]
    },
    {
      "cell_type": "code",
      "metadata": {
        "id": "AI4mu1Jds7Zx",
        "colab_type": "code",
        "colab": {},
        "outputId": "e5e48c75-59e5-43d9-dd6f-ca4a5fec1fdf"
      },
      "source": [
        "np.intersect1d(a, b)"
      ],
      "execution_count": 0,
      "outputs": [
        {
          "output_type": "execute_result",
          "data": {
            "text/plain": [
              "array([2, 3])"
            ]
          },
          "metadata": {
            "tags": []
          },
          "execution_count": 217
        }
      ]
    },
    {
      "cell_type": "code",
      "metadata": {
        "id": "GgtcK60ss7Zy",
        "colab_type": "code",
        "colab": {},
        "outputId": "7ba8e6df-5fde-4d0f-a7a2-27ac1438c43f"
      },
      "source": [
        "np.setdiff1d(a, b)"
      ],
      "execution_count": 0,
      "outputs": [
        {
          "output_type": "execute_result",
          "data": {
            "text/plain": [
              "array([1])"
            ]
          },
          "metadata": {
            "tags": []
          },
          "execution_count": 218
        }
      ]
    },
    {
      "cell_type": "code",
      "metadata": {
        "id": "t0__q3PAs7Z0",
        "colab_type": "code",
        "colab": {},
        "outputId": "6ce08d0e-247d-4790-a02e-23cb8d288e13"
      },
      "source": [
        "np.setdiff1d(b, a)"
      ],
      "execution_count": 0,
      "outputs": [
        {
          "output_type": "execute_result",
          "data": {
            "text/plain": [
              "array([4, 5, 6])"
            ]
          },
          "metadata": {
            "tags": []
          },
          "execution_count": 219
        }
      ]
    },
    {
      "cell_type": "markdown",
      "metadata": {
        "id": "7ykNynsZs7Z4",
        "colab_type": "text"
      },
      "source": [
        "### <font color = 'blue'> Exercise #7 </font> \n",
        "1.  Let the **list** L = ['M', 'A', 'S', 'S', 'A', 'C', 'H', 'U', 'S', 'E', 'T', 'S']\n",
        "2.  Use the **set** operation to find the unique entries in the list, call it S.  \n",
        "3.  Use the **zip** operation to now create Z = ordered pairs unique entries of L in alphabatical order with integer 0, 1, 2, 3 etc. \n",
        "4.  Print the entries of Z"
      ]
    },
    {
      "cell_type": "code",
      "metadata": {
        "id": "KCWlVs-xyNCw",
        "colab_type": "code",
        "colab": {
          "base_uri": "https://localhost:8080/",
          "height": 35
        },
        "outputId": "1a994fbe-cd22-4805-fdbd-9bef46633f7b"
      },
      "source": [
        "L = ['M','A','S','S','A','C','H','U','S','E','T','S']\n",
        "S = np.sort(list(set(L)))\n",
        "Z = zip(S,np.arange(0,8))\n",
        "print(list(Z))"
      ],
      "execution_count": 31,
      "outputs": [
        {
          "output_type": "stream",
          "text": [
            "[('A', 0), ('C', 1), ('E', 2), ('H', 3), ('M', 4), ('S', 5), ('T', 6), ('U', 7)]\n"
          ],
          "name": "stdout"
        }
      ]
    },
    {
      "cell_type": "markdown",
      "metadata": {
        "id": "sfO5VYzEs7Z4",
        "colab_type": "text"
      },
      "source": [
        "## Matrix and vector operations"
      ]
    },
    {
      "cell_type": "code",
      "metadata": {
        "id": "KLBMZ0vhs7Z5",
        "colab_type": "code",
        "colab": {}
      },
      "source": [
        "A = np.arange(1, 7).reshape(2, 3)"
      ],
      "execution_count": 0,
      "outputs": []
    },
    {
      "cell_type": "code",
      "metadata": {
        "id": "bYoMlCizs7Z6",
        "colab_type": "code",
        "colab": {},
        "outputId": "af491c83-0ef7-4969-e201-c8062ab1c143"
      },
      "source": [
        "A"
      ],
      "execution_count": 0,
      "outputs": [
        {
          "output_type": "execute_result",
          "data": {
            "text/plain": [
              "array([[1, 2, 3],\n",
              "       [4, 5, 6]])"
            ]
          },
          "metadata": {
            "tags": []
          },
          "execution_count": 227
        }
      ]
    },
    {
      "cell_type": "code",
      "metadata": {
        "id": "KLNjDfYys7Z7",
        "colab_type": "code",
        "colab": {}
      },
      "source": [
        "B = np.arange(1, 7).reshape(3, 2)"
      ],
      "execution_count": 0,
      "outputs": []
    },
    {
      "cell_type": "code",
      "metadata": {
        "id": "hNp8EEbvs7Z8",
        "colab_type": "code",
        "colab": {},
        "outputId": "110f4eb4-1709-430b-b1ad-acf0665209fa"
      },
      "source": [
        "B"
      ],
      "execution_count": 0,
      "outputs": [
        {
          "output_type": "execute_result",
          "data": {
            "text/plain": [
              "array([[1, 2],\n",
              "       [3, 4],\n",
              "       [5, 6]])"
            ]
          },
          "metadata": {
            "tags": []
          },
          "execution_count": 229
        }
      ]
    },
    {
      "cell_type": "code",
      "metadata": {
        "id": "6dTlktwxs7Z-",
        "colab_type": "code",
        "colab": {},
        "outputId": "98287be4-beae-4900-ac62-52f94d2e5b37"
      },
      "source": [
        "np.dot(A, B)"
      ],
      "execution_count": 0,
      "outputs": [
        {
          "output_type": "execute_result",
          "data": {
            "text/plain": [
              "array([[22, 28],\n",
              "       [49, 64]])"
            ]
          },
          "metadata": {
            "tags": []
          },
          "execution_count": 230
        }
      ]
    },
    {
      "cell_type": "code",
      "metadata": {
        "id": "46ZK6tEOs7Z_",
        "colab_type": "code",
        "colab": {},
        "outputId": "dc65ea1f-15ed-4537-bc15-74cff20cb679"
      },
      "source": [
        "np.dot(B, A)"
      ],
      "execution_count": 0,
      "outputs": [
        {
          "output_type": "execute_result",
          "data": {
            "text/plain": [
              "array([[ 9, 12, 15],\n",
              "       [19, 26, 33],\n",
              "       [29, 40, 51]])"
            ]
          },
          "metadata": {
            "tags": []
          },
          "execution_count": 231
        }
      ]
    },
    {
      "cell_type": "code",
      "metadata": {
        "id": "XAfYgWcMs7aC",
        "colab_type": "code",
        "colab": {}
      },
      "source": [
        "A = np.arange(9).reshape(3, 3)"
      ],
      "execution_count": 0,
      "outputs": []
    },
    {
      "cell_type": "code",
      "metadata": {
        "id": "n_4g5dZYs7aD",
        "colab_type": "code",
        "colab": {},
        "outputId": "a2dc2f67-271f-40a1-c259-bf96e26e6909"
      },
      "source": [
        "A"
      ],
      "execution_count": 0,
      "outputs": [
        {
          "output_type": "execute_result",
          "data": {
            "text/plain": [
              "array([[0, 1, 2],\n",
              "       [3, 4, 5],\n",
              "       [6, 7, 8]])"
            ]
          },
          "metadata": {
            "tags": []
          },
          "execution_count": 233
        }
      ]
    },
    {
      "cell_type": "code",
      "metadata": {
        "id": "4T-R3Sots7aE",
        "colab_type": "code",
        "colab": {}
      },
      "source": [
        "x = np.arange(3)"
      ],
      "execution_count": 0,
      "outputs": []
    },
    {
      "cell_type": "code",
      "metadata": {
        "id": "dGiSDq2As7aF",
        "colab_type": "code",
        "colab": {},
        "outputId": "6fa720c6-28c3-4c3d-bb4e-ccb7e68481df"
      },
      "source": [
        "x"
      ],
      "execution_count": 0,
      "outputs": [
        {
          "output_type": "execute_result",
          "data": {
            "text/plain": [
              "array([0, 1, 2])"
            ]
          },
          "metadata": {
            "tags": []
          },
          "execution_count": 235
        }
      ]
    },
    {
      "cell_type": "code",
      "metadata": {
        "id": "nU_PuNPTs7aH",
        "colab_type": "code",
        "colab": {},
        "outputId": "aa194fe8-8506-4403-9bb4-d5040fde8de2"
      },
      "source": [
        "np.dot(A, x)"
      ],
      "execution_count": 0,
      "outputs": [
        {
          "output_type": "execute_result",
          "data": {
            "text/plain": [
              "array([ 5, 14, 23])"
            ]
          },
          "metadata": {
            "tags": []
          },
          "execution_count": 236
        }
      ]
    },
    {
      "cell_type": "code",
      "metadata": {
        "id": "3zjmqU6Us7aI",
        "colab_type": "code",
        "colab": {},
        "outputId": "7f4d2b65-1d39-47e9-8d06-d0229a2071ea"
      },
      "source": [
        "A.dot(x)"
      ],
      "execution_count": 0,
      "outputs": [
        {
          "output_type": "execute_result",
          "data": {
            "text/plain": [
              "array([ 5, 14, 23])"
            ]
          },
          "metadata": {
            "tags": []
          },
          "execution_count": 237
        }
      ]
    },
    {
      "cell_type": "code",
      "metadata": {
        "id": "zvfViBngs7aK",
        "colab_type": "code",
        "colab": {}
      },
      "source": [
        "A = np.random.rand(3,3)\n",
        "B = np.random.rand(3,3)"
      ],
      "execution_count": 0,
      "outputs": []
    },
    {
      "cell_type": "code",
      "metadata": {
        "id": "GAOrQzKWs7aL",
        "colab_type": "code",
        "colab": {}
      },
      "source": [
        "Ap = np.dot(B, np.dot(A, np.linalg.inv(B)))"
      ],
      "execution_count": 0,
      "outputs": []
    },
    {
      "cell_type": "code",
      "metadata": {
        "id": "hcb7SP_zs7aM",
        "colab_type": "code",
        "colab": {}
      },
      "source": [
        "Ap = B.dot(A.dot(np.linalg.inv(B)))"
      ],
      "execution_count": 0,
      "outputs": []
    },
    {
      "cell_type": "code",
      "metadata": {
        "id": "mzob-s-6s7aP",
        "colab_type": "code",
        "colab": {}
      },
      "source": [
        "A = np.matrix(A)"
      ],
      "execution_count": 0,
      "outputs": []
    },
    {
      "cell_type": "code",
      "metadata": {
        "id": "T27X_ePas7aS",
        "colab_type": "code",
        "colab": {}
      },
      "source": [
        "B = np.matrix(B)"
      ],
      "execution_count": 0,
      "outputs": []
    },
    {
      "cell_type": "code",
      "metadata": {
        "id": "POdI_ByRs7aT",
        "colab_type": "code",
        "colab": {}
      },
      "source": [
        "Ap = B * A * B.I"
      ],
      "execution_count": 0,
      "outputs": []
    },
    {
      "cell_type": "code",
      "metadata": {
        "id": "kPEKj5URs7aU",
        "colab_type": "code",
        "colab": {}
      },
      "source": [
        "A = np.asmatrix(A)"
      ],
      "execution_count": 0,
      "outputs": []
    },
    {
      "cell_type": "code",
      "metadata": {
        "id": "a3AF5Az9s7ah",
        "colab_type": "code",
        "colab": {}
      },
      "source": [
        "B = np.asmatrix(B)"
      ],
      "execution_count": 0,
      "outputs": []
    },
    {
      "cell_type": "code",
      "metadata": {
        "id": "aiCgHwz7s7aj",
        "colab_type": "code",
        "colab": {}
      },
      "source": [
        "Ap = B * A * B.I"
      ],
      "execution_count": 0,
      "outputs": []
    },
    {
      "cell_type": "code",
      "metadata": {
        "id": "FjB_FKDTs7al",
        "colab_type": "code",
        "colab": {}
      },
      "source": [
        "Ap = np.asarray(Ap)"
      ],
      "execution_count": 0,
      "outputs": []
    },
    {
      "cell_type": "code",
      "metadata": {
        "id": "ua-ydPiqs7am",
        "colab_type": "code",
        "colab": {},
        "outputId": "e3f7194c-d077-44fd-cdd3-2c8c7a9f42b0"
      },
      "source": [
        "np.inner(x, x)"
      ],
      "execution_count": 0,
      "outputs": [
        {
          "output_type": "execute_result",
          "data": {
            "text/plain": [
              "5"
            ]
          },
          "metadata": {
            "tags": []
          },
          "execution_count": 248
        }
      ]
    },
    {
      "cell_type": "code",
      "metadata": {
        "id": "jANGEUQcs7ap",
        "colab_type": "code",
        "colab": {},
        "outputId": "ff793289-f2e2-4b70-d214-4578a675e401"
      },
      "source": [
        "np.dot(x, x)"
      ],
      "execution_count": 0,
      "outputs": [
        {
          "output_type": "execute_result",
          "data": {
            "text/plain": [
              "5"
            ]
          },
          "metadata": {
            "tags": []
          },
          "execution_count": 249
        }
      ]
    },
    {
      "cell_type": "code",
      "metadata": {
        "id": "UKOik54Is7ar",
        "colab_type": "code",
        "colab": {}
      },
      "source": [
        "y = x[:, np.newaxis]"
      ],
      "execution_count": 0,
      "outputs": []
    },
    {
      "cell_type": "code",
      "metadata": {
        "id": "UBzIX09ws7at",
        "colab_type": "code",
        "colab": {},
        "outputId": "54215877-e019-4bb2-986b-940f44ea4bf1"
      },
      "source": [
        "y"
      ],
      "execution_count": 0,
      "outputs": [
        {
          "output_type": "execute_result",
          "data": {
            "text/plain": [
              "array([[0],\n",
              "       [1],\n",
              "       [2]])"
            ]
          },
          "metadata": {
            "tags": []
          },
          "execution_count": 251
        }
      ]
    },
    {
      "cell_type": "code",
      "metadata": {
        "id": "1gxVlo7Ks7av",
        "colab_type": "code",
        "colab": {},
        "outputId": "c945629f-772b-4279-f7e2-a33ccedb4bc4"
      },
      "source": [
        "np.dot(y.T, y)"
      ],
      "execution_count": 0,
      "outputs": [
        {
          "output_type": "execute_result",
          "data": {
            "text/plain": [
              "array([[5]])"
            ]
          },
          "metadata": {
            "tags": []
          },
          "execution_count": 252
        }
      ]
    },
    {
      "cell_type": "code",
      "metadata": {
        "id": "FX3vugRrs7az",
        "colab_type": "code",
        "colab": {}
      },
      "source": [
        "x = np.array([1, 2, 3])"
      ],
      "execution_count": 0,
      "outputs": []
    },
    {
      "cell_type": "code",
      "metadata": {
        "id": "w-FvQX97s7a1",
        "colab_type": "code",
        "colab": {},
        "outputId": "9078b550-d281-4fe4-a7d6-d44764573e91"
      },
      "source": [
        "np.outer(x, x) "
      ],
      "execution_count": 0,
      "outputs": [
        {
          "output_type": "execute_result",
          "data": {
            "text/plain": [
              "array([[1, 2, 3],\n",
              "       [2, 4, 6],\n",
              "       [3, 6, 9]])"
            ]
          },
          "metadata": {
            "tags": []
          },
          "execution_count": 254
        }
      ]
    },
    {
      "cell_type": "code",
      "metadata": {
        "id": "hryiTPVzs7a3",
        "colab_type": "code",
        "colab": {},
        "outputId": "369b5593-eebe-488f-a934-1b82e945d52c"
      },
      "source": [
        "np.kron(x, x) "
      ],
      "execution_count": 0,
      "outputs": [
        {
          "output_type": "execute_result",
          "data": {
            "text/plain": [
              "array([1, 2, 3, 2, 4, 6, 3, 6, 9])"
            ]
          },
          "metadata": {
            "tags": []
          },
          "execution_count": 255
        }
      ]
    },
    {
      "cell_type": "code",
      "metadata": {
        "id": "9DTZNBOKs7a5",
        "colab_type": "code",
        "colab": {},
        "outputId": "1d3baf25-7b1c-4aa8-e1d6-ade3d37bfa3b"
      },
      "source": [
        "np.kron(x[:, np.newaxis], x[np.newaxis, :])"
      ],
      "execution_count": 0,
      "outputs": [
        {
          "output_type": "execute_result",
          "data": {
            "text/plain": [
              "array([[1, 2, 3],\n",
              "       [2, 4, 6],\n",
              "       [3, 6, 9]])"
            ]
          },
          "metadata": {
            "tags": []
          },
          "execution_count": 256
        }
      ]
    },
    {
      "cell_type": "code",
      "metadata": {
        "id": "RDBFY9UBs7a7",
        "colab_type": "code",
        "colab": {},
        "outputId": "1742e5bd-dbaf-4177-b6dc-af364c18443a"
      },
      "source": [
        "np.kron(np.ones((2,2)), np.identity(2))"
      ],
      "execution_count": 0,
      "outputs": [
        {
          "output_type": "execute_result",
          "data": {
            "text/plain": [
              "array([[ 1.,  0.,  1.,  0.],\n",
              "       [ 0.,  1.,  0.,  1.],\n",
              "       [ 1.,  0.,  1.,  0.],\n",
              "       [ 0.,  1.,  0.,  1.]])"
            ]
          },
          "metadata": {
            "tags": []
          },
          "execution_count": 257
        }
      ]
    },
    {
      "cell_type": "code",
      "metadata": {
        "id": "PMdvujgvs7a-",
        "colab_type": "code",
        "colab": {},
        "outputId": "a4076c77-c47b-45f3-d8f3-82a82b6029e7"
      },
      "source": [
        "np.kron(np.identity(2), np.ones((2,2)))"
      ],
      "execution_count": 0,
      "outputs": [
        {
          "output_type": "execute_result",
          "data": {
            "text/plain": [
              "array([[ 1.,  1.,  0.,  0.],\n",
              "       [ 1.,  1.,  0.,  0.],\n",
              "       [ 0.,  0.,  1.,  1.],\n",
              "       [ 0.,  0.,  1.,  1.]])"
            ]
          },
          "metadata": {
            "tags": []
          },
          "execution_count": 258
        }
      ]
    },
    {
      "cell_type": "code",
      "metadata": {
        "id": "E1juCo1ws7bB",
        "colab_type": "code",
        "colab": {}
      },
      "source": [
        "x = np.array([1, 2, 3, 4])"
      ],
      "execution_count": 0,
      "outputs": []
    },
    {
      "cell_type": "code",
      "metadata": {
        "id": "WqhqLq47s7bE",
        "colab_type": "code",
        "colab": {}
      },
      "source": [
        "y = np.array([5, 6, 7, 8])"
      ],
      "execution_count": 0,
      "outputs": []
    },
    {
      "cell_type": "code",
      "metadata": {
        "id": "qCDGIH4Ps7bG",
        "colab_type": "code",
        "colab": {},
        "outputId": "ec681e2e-da38-43d7-f00d-6d47d6ccee91"
      },
      "source": [
        "np.einsum(\"n,n\", x, y)"
      ],
      "execution_count": 0,
      "outputs": [
        {
          "output_type": "execute_result",
          "data": {
            "text/plain": [
              "70"
            ]
          },
          "metadata": {
            "tags": []
          },
          "execution_count": 261
        }
      ]
    },
    {
      "cell_type": "code",
      "metadata": {
        "id": "ifJPyiyUs7bI",
        "colab_type": "code",
        "colab": {},
        "outputId": "a0c731b3-4782-49a4-9e7d-1cbaffafa383"
      },
      "source": [
        "np.inner(x, y)"
      ],
      "execution_count": 0,
      "outputs": [
        {
          "output_type": "execute_result",
          "data": {
            "text/plain": [
              "70"
            ]
          },
          "metadata": {
            "tags": []
          },
          "execution_count": 262
        }
      ]
    },
    {
      "cell_type": "code",
      "metadata": {
        "id": "gXU1hS77s7bK",
        "colab_type": "code",
        "colab": {}
      },
      "source": [
        "A = np.arange(9).reshape(3, 3)"
      ],
      "execution_count": 0,
      "outputs": []
    },
    {
      "cell_type": "code",
      "metadata": {
        "id": "PBIRO4bAs7bM",
        "colab_type": "code",
        "colab": {}
      },
      "source": [
        "B = A.T"
      ],
      "execution_count": 0,
      "outputs": []
    },
    {
      "cell_type": "code",
      "metadata": {
        "id": "1fE2E7S0s7bP",
        "colab_type": "code",
        "colab": {},
        "outputId": "d7bc13ae-8197-46d6-9d40-40d6e59e9379"
      },
      "source": [
        "np.einsum(\"mk,kn\", A, B)"
      ],
      "execution_count": 0,
      "outputs": [
        {
          "output_type": "execute_result",
          "data": {
            "text/plain": [
              "array([[  5,  14,  23],\n",
              "       [ 14,  50,  86],\n",
              "       [ 23,  86, 149]])"
            ]
          },
          "metadata": {
            "tags": []
          },
          "execution_count": 265
        }
      ]
    },
    {
      "cell_type": "code",
      "metadata": {
        "id": "nZ26hWH_s7bR",
        "colab_type": "code",
        "colab": {},
        "outputId": "536b163c-880c-461a-e0d3-e8299676cf51"
      },
      "source": [
        "np.alltrue(np.einsum(\"mk,kn\", A, B) == np.dot(A, B))"
      ],
      "execution_count": 0,
      "outputs": [
        {
          "output_type": "execute_result",
          "data": {
            "text/plain": [
              "True"
            ]
          },
          "metadata": {
            "tags": []
          },
          "execution_count": 266
        }
      ]
    },
    {
      "cell_type": "code",
      "metadata": {
        "id": "ou3Bt4aTs7bT",
        "colab_type": "code",
        "colab": {}
      },
      "source": [
        ""
      ],
      "execution_count": 0,
      "outputs": []
    }
  ]
}