{
  "nbformat": 4,
  "nbformat_minor": 0,
  "metadata": {
    "kernelspec": {
      "display_name": "Python 3",
      "language": "python",
      "name": "python3"
    },
    "language_info": {
      "codemirror_mode": {
        "name": "ipython",
        "version": 3
      },
      "file_extension": ".py",
      "mimetype": "text/x-python",
      "name": "python",
      "nbconvert_exporter": "python",
      "pygments_lexer": "ipython3",
      "version": "3.7.6"
    },
    "colab": {
      "name": "Assignment 5 - NN_from_scratch_MNIST.ipynb",
      "provenance": []
    }
  },
  "cells": [
    {
      "cell_type": "markdown",
      "metadata": {
        "id": "Ksz_N21WOQPp",
        "colab_type": "text"
      },
      "source": [
        "# Assignment 5 - Neural Networks Implementation (due: Wed April 15th)"
      ]
    },
    {
      "cell_type": "markdown",
      "metadata": {
        "id": "LhNbH5I2OQPw",
        "colab_type": "text"
      },
      "source": [
        "This notebook show neural networks implemnetation on the MNIST hand-written dataset.  Adapted from a version published by https://github.com/jdwittenauer"
      ]
    },
    {
      "cell_type": "markdown",
      "metadata": {
        "id": "R82U7cO5OQP0",
        "colab_type": "text"
      },
      "source": [
        "We are going go over the neural network architecture discussed in class. This includes the feed-forward neural network - from input through the hidden layers to the out put and adjusting the weights as to minimize the loss step-by-step through each layer called **backpropagation.**  We'll implement both unregularized and regularized versions of the neural network cost function and gradient computation in the backpropagation function.  We'll also implement random weight initialization and a method to use the network to make predictions.\n",
        "\n",
        "Instead of manually going through gradient descent iterations, we'll simply use a package available for minimizing the backpropogation function.\n",
        "\n",
        "The MNIST data set is available in different sizes and formats from different sources.  We will use the one made avialble here: \"ex3data1.mat\""
      ]
    },
    {
      "cell_type": "code",
      "metadata": {
        "id": "T2BB4V2SOQP2",
        "colab_type": "code",
        "colab": {}
      },
      "source": [
        "import numpy as np\n",
        "import pandas as pd\n",
        "import matplotlib.pyplot as plt\n",
        "from scipy.io import loadmat\n",
        "%matplotlib inline"
      ],
      "execution_count": 0,
      "outputs": []
    },
    {
      "cell_type": "code",
      "metadata": {
        "id": "uPECwx9zOplv",
        "colab_type": "code",
        "colab": {
          "resources": {
            "http://localhost:8080/nbextensions/google.colab/files.js": {
              "data": "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",
              "ok": true,
              "headers": [
                [
                  "content-type",
                  "application/javascript"
                ]
              ],
              "status": 200,
              "status_text": ""
            }
          },
          "base_uri": "https://localhost:8080/",
          "height": 146
        },
        "outputId": "38284f26-17e7-4583-f8e9-7beef4b7956d"
      },
      "source": [
        "from google.colab import files\n",
        "files.upload()"
      ],
      "execution_count": 4,
      "outputs": [
        {
          "output_type": "display_data",
          "data": {
            "text/html": [
              "\n",
              "     <input type=\"file\" id=\"files-10753a66-9ee4-4d26-84f4-1a01d2accf0f\" name=\"files[]\" multiple disabled />\n",
              "     <output id=\"result-10753a66-9ee4-4d26-84f4-1a01d2accf0f\">\n",
              "      Upload widget is only available when the cell has been executed in the\n",
              "      current browser session. Please rerun this cell to enable.\n",
              "      </output>\n",
              "      <script src=\"/nbextensions/google.colab/files.js\"></script> "
            ],
            "text/plain": [
              "<IPython.core.display.HTML object>"
            ]
          },
          "metadata": {
            "tags": []
          }
        },
        {
          "output_type": "stream",
          "text": [
            "Saving y_df.pkl to y_df.pkl\n",
            "Saving X_df.pkl to X_df.pkl\n",
            "Saving ex3data1.mat to ex3data1.mat\n"
          ],
          "name": "stdout"
        }
      ]
    },
    {
      "cell_type": "markdown",
      "metadata": {
        "id": "gtJrxpA1OQQA",
        "colab_type": "text"
      },
      "source": [
        "The data we are loading is a dictionary that contains both input data and output.  The input data is a 2D numpy array X contains 5000 grayscale images of handwritten digits of 0, 1, 2, 3, ... 9.  Each raw of 400 entries between 0 and 255 that are grayscale intensity values of 20X20 pixel representation of a handwritten digit that is unrolled into a single vector.\n",
        "\n",
        "The output y contains the corresponding labels of 0,1,2, ..., 9.  \n",
        "\n",
        "Note that in the original convention followed for this dataset: 0 is mapped to 10, while all other labels are exactly the digit they represent.  Unlike in many other programming languages Python entries start at 0 and so we will change 10 back to 0 as it ought to be.\n",
        "\n",
        "**Multiclass classification:** You may notice that in our logistic regression models the output could only be one of two values: 0 or 1.  However what we are attempting here is an example of multiclass classification: outputs of more than two values - 10 in this case.  Neural networks facilitates this easily. In fact what we will allow now is the terminal layer to consist of multiple activations: 10 in this problem.  We use a function called softmax to make the outputs to be probabilties that adds upto 1.  The predicted value will correspond to the activation node with highest probabilty"
      ]
    },
    {
      "cell_type": "markdown",
      "metadata": {
        "id": "pLq-LDAcOQQC",
        "colab_type": "text"
      },
      "source": [
        "### Exercise #1: \n",
        "\n",
        "Load the data following the following five cells or by running the 6th cell\n",
        "\n",
        "- you should have the X and y from data in the dataframes X_df and y_df"
      ]
    },
    {
      "cell_type": "code",
      "metadata": {
        "id": "FZFg5YUuOQQE",
        "colab_type": "code",
        "colab": {
          "base_uri": "https://localhost:8080/",
          "height": 323
        },
        "outputId": "d34efa81-d557-4665-fbad-0e36ca168e86"
      },
      "source": [
        "##This is a dictionary that contains both input data and output.\n",
        "data = loadmat('ex3data1.mat')\n",
        "data"
      ],
      "execution_count": 5,
      "outputs": [
        {
          "output_type": "execute_result",
          "data": {
            "text/plain": [
              "{'X': array([[0., 0., 0., ..., 0., 0., 0.],\n",
              "        [0., 0., 0., ..., 0., 0., 0.],\n",
              "        [0., 0., 0., ..., 0., 0., 0.],\n",
              "        ...,\n",
              "        [0., 0., 0., ..., 0., 0., 0.],\n",
              "        [0., 0., 0., ..., 0., 0., 0.],\n",
              "        [0., 0., 0., ..., 0., 0., 0.]]),\n",
              " '__globals__': [],\n",
              " '__header__': b'MATLAB 5.0 MAT-file, Platform: GLNXA64, Created on: Sun Oct 16 13:09:09 2011',\n",
              " '__version__': '1.0',\n",
              " 'y': array([[10],\n",
              "        [10],\n",
              "        [10],\n",
              "        ...,\n",
              "        [ 9],\n",
              "        [ 9],\n",
              "        [ 9]], dtype=uint8)}"
            ]
          },
          "metadata": {
            "tags": []
          },
          "execution_count": 5
        }
      ]
    },
    {
      "cell_type": "code",
      "metadata": {
        "id": "5SgS6i1GOQQN",
        "colab_type": "code",
        "colab": {
          "base_uri": "https://localhost:8080/",
          "height": 35
        },
        "outputId": "348e9f6d-27db-470b-9683-9c92a7b4c938"
      },
      "source": [
        "data['X'].shape"
      ],
      "execution_count": 6,
      "outputs": [
        {
          "output_type": "execute_result",
          "data": {
            "text/plain": [
              "(5000, 400)"
            ]
          },
          "metadata": {
            "tags": []
          },
          "execution_count": 6
        }
      ]
    },
    {
      "cell_type": "markdown",
      "metadata": {
        "id": "_dcfDzyJOQQS",
        "colab_type": "text"
      },
      "source": [
        "This is the data we will be using through out, let's create some useful variables up-front."
      ]
    },
    {
      "cell_type": "code",
      "metadata": {
        "id": "-71KQGSlOQQT",
        "colab_type": "code",
        "colab": {}
      },
      "source": [
        "X = data['X']\n",
        "y = data['y']"
      ],
      "execution_count": 0,
      "outputs": []
    },
    {
      "cell_type": "code",
      "metadata": {
        "id": "trohDuaEOQQX",
        "colab_type": "code",
        "colab": {}
      },
      "source": [
        "#Let us set the values '10' back what it ought to be: 0\n",
        "y[y==10]=0"
      ],
      "execution_count": 0,
      "outputs": []
    },
    {
      "cell_type": "markdown",
      "metadata": {
        "id": "pWUuwd9cOQQb",
        "colab_type": "text"
      },
      "source": [
        "#### Let us convert these data sets into dataframes so we can pickle them and move them around without losing integrity"
      ]
    },
    {
      "cell_type": "code",
      "metadata": {
        "id": "Jp1stwfSOQQc",
        "colab_type": "code",
        "colab": {}
      },
      "source": [
        "X_df = pd.DataFrame(X)\n",
        "y_df = pd.DataFrame(y)"
      ],
      "execution_count": 0,
      "outputs": []
    },
    {
      "cell_type": "code",
      "metadata": {
        "id": "XrPKVBIQOQQg",
        "colab_type": "code",
        "colab": {}
      },
      "source": [
        "import pickle\n",
        "X_df = pd.read_pickle('X_df.pkl')\n",
        "y_df = pd.read_pickle('y_df.pkl')"
      ],
      "execution_count": 0,
      "outputs": []
    },
    {
      "cell_type": "markdown",
      "metadata": {
        "id": "ioDx6tBvOQQj",
        "colab_type": "text"
      },
      "source": [
        "### Exercise #2:\n",
        "\n",
        "Display **20** randomly selected images from X_df and display them in two rows by appropriately changing the following code"
      ]
    },
    {
      "cell_type": "code",
      "metadata": {
        "id": "bebkULnROQQk",
        "colab_type": "code",
        "colab": {
          "base_uri": "https://localhost:8080/",
          "height": 198
        },
        "outputId": "0add8025-5b9a-49f1-9371-82c602634f8c"
      },
      "source": [
        "#Let us quickly checkout what is in these data sets:\n",
        "sample = np.random.randint(0,len(X), 20)\n",
        "X_samples = [X[i,:] for i in sample]\n",
        "\n",
        "#plot the digits\n",
        "i = 0\n",
        "\n",
        "fig, ax = plt.subplots(nrows=2, ncols=10)\n",
        "for row in ax:\n",
        "    for col in row:\n",
        "        col.imshow(X_samples[i].reshape(20,20))\n",
        "        i += 1\n",
        "plt.show()"
      ],
      "execution_count": 11,
      "outputs": [
        {
          "output_type": "display_data",
          "data": {
            "image/png": "[encoded data removed]",
            "text/plain": [
              "<Figure size 432x288 with 20 Axes>"
            ]
          },
          "metadata": {
            "tags": []
          }
        }
      ]
    },
    {
      "cell_type": "code",
      "metadata": {
        "id": "bnzZEmSmOQQo",
        "colab_type": "code",
        "colab": {
          "base_uri": "https://localhost:8080/",
          "height": 53
        },
        "outputId": "3d046184-df12-4558-ed6c-d7426d34ed89"
      },
      "source": [
        "#Checkout their labels\n",
        "y[sample].flatten()"
      ],
      "execution_count": 12,
      "outputs": [
        {
          "output_type": "execute_result",
          "data": {
            "text/plain": [
              "array([5, 3, 4, 5, 0, 6, 7, 2, 6, 5, 6, 7, 1, 6, 8, 4, 1, 5, 7, 8],\n",
              "      dtype=uint8)"
            ]
          },
          "metadata": {
            "tags": []
          },
          "execution_count": 12
        }
      ]
    },
    {
      "cell_type": "markdown",
      "metadata": {
        "id": "JKhFPZQXOQQr",
        "colab_type": "text"
      },
      "source": [
        "**One hot encoding:** Now we need to turn the label array into what is called one-hot-encoded matrix.  The one-hot-matrix is a representation of representation of a n-dimensional vector of values 0, 1, 2, ..., 9 as in here into 10Xn matrix where each column will have all zeros except exactly one 1 in the position corresponding to the value the column represents.  For example 7 will be a column where all entries except the 7th are all zeros and the 7th is a one.\n",
        "\n",
        "One-hot-encoding is a way to represent a vector with binary entries alone."
      ]
    },
    {
      "cell_type": "code",
      "metadata": {
        "id": "Kk5QSd8qOQQs",
        "colab_type": "code",
        "colab": {
          "base_uri": "https://localhost:8080/",
          "height": 35
        },
        "outputId": "ff79dc73-616d-42f5-d137-45ce91669a0d"
      },
      "source": [
        "from sklearn.preprocessing import OneHotEncoder\n",
        "encoder = OneHotEncoder(sparse=False)\n",
        "y_onehot = encoder.fit_transform(y)\n",
        "y_onehot.shape"
      ],
      "execution_count": 13,
      "outputs": [
        {
          "output_type": "execute_result",
          "data": {
            "text/plain": [
              "(5000, 10)"
            ]
          },
          "metadata": {
            "tags": []
          },
          "execution_count": 13
        }
      ]
    },
    {
      "cell_type": "code",
      "metadata": {
        "id": "gGc7ONtCOQQw",
        "colab_type": "code",
        "colab": {
          "base_uri": "https://localhost:8080/",
          "height": 35
        },
        "outputId": "be49daf0-9f63-496a-dfdd-6cce823cb100"
      },
      "source": [
        "#Here is an example of an y entry and its one-hot-encoding\n",
        "y[0], y_onehot[0,:]"
      ],
      "execution_count": 14,
      "outputs": [
        {
          "output_type": "execute_result",
          "data": {
            "text/plain": [
              "(array([0], dtype=uint8), array([1., 0., 0., 0., 0., 0., 0., 0., 0., 0.]))"
            ]
          },
          "metadata": {
            "tags": []
          },
          "execution_count": 14
        }
      ]
    },
    {
      "cell_type": "markdown",
      "metadata": {
        "id": "GyOljN6YOQQz",
        "colab_type": "text"
      },
      "source": [
        "The neural network we're going to build for this exercise has an input layer matching the size of our instance data (400 + the bias unit), a hidden layer with 25 units (26 with the bias unit), and an output layer with 10 units corresponding to our one-hot encoding for the class labels. \n",
        "\n",
        "The first piece we need to implement is a cost function to evaluate the loss for a given set of network parameters.  The source mathematical function is in the exercise text (and looks pretty intimidating).  Here are the functions required to compute the cost."
      ]
    },
    {
      "cell_type": "code",
      "metadata": {
        "id": "F7Pkvcp_OQQ0",
        "colab_type": "code",
        "colab": {}
      },
      "source": [
        "def sigmoid(z):\n",
        "    return 1 / (1 + np.exp(-z))"
      ],
      "execution_count": 0,
      "outputs": []
    },
    {
      "cell_type": "markdown",
      "metadata": {
        "id": "NaMOl5RgOQQ3",
        "colab_type": "text"
      },
      "source": [
        "## Forward propogation and Cost"
      ]
    },
    {
      "cell_type": "code",
      "metadata": {
        "id": "AlreIRqyOQQ4",
        "colab_type": "code",
        "colab": {}
      },
      "source": [
        "#Forward propogation: This takes us through one sweep from input through one hidden layer to the outputs\n",
        "def forward_propagate(X, theta1, theta2):\n",
        "    m = X.shape[0]\n",
        "    \n",
        "    #First insert a a row of ones into the X data - 0th column\n",
        "    a1 = np.insert(X, 0, values=np.ones(m), axis=1)\n",
        "    \n",
        "    #Caluculate the X*Theta\n",
        "    z2 = a1 * theta1.T\n",
        "    \n",
        "    #now apply the sigmoid function and then insert a column of ones\n",
        "    a2 = np.insert(sigmoid(z2), 0, values=np.ones(m), axis=1)\n",
        "    \n",
        "    #Calculate X*Theta\n",
        "    z3 = a2 * theta2.T\n",
        "    \n",
        "    #The outputs\n",
        "    h = sigmoid(z3)\n",
        "    \n",
        "    #Now return all the calculates values that we need for calculating and then backpropagation\n",
        "    return a1, z2, a2, z3, h"
      ],
      "execution_count": 0,
      "outputs": []
    },
    {
      "cell_type": "code",
      "metadata": {
        "id": "Vp60dzcCOQQ7",
        "colab_type": "code",
        "colab": {}
      },
      "source": [
        "## Cost\n",
        "def cost(params, input_size, hidden_size1, num_labels, X, y, learning_rate):\n",
        "    m = X.shape[0]\n",
        "    X = np.matrix(X)\n",
        "    y = np.matrix(y)\n",
        "    \n",
        "    n1 = hidden_size1 * (input_size + 1)\n",
        "    n2 = n1 + num_labels * (hidden_size1 + 1)\n",
        "    \n",
        "    # reshape the parameter array into parameter matrices for each layer\n",
        "    theta1 = np.matrix(np.reshape(params[:n1], (hidden_size1, (input_size + 1))))\n",
        "    theta2 = np.matrix(np.reshape(params[n1:n2], (num_labels, (hidden_size1 + 1))))\n",
        "\n",
        "    \n",
        "    # run the feed-forward pass\n",
        "    a1, z2, a2, z3, h = forward_propagate(X, theta1, theta2)\n",
        "    \n",
        "    # compute the cost\n",
        "    J = 0\n",
        "    for i in range(m):\n",
        "        first_term = - np.multiply(y[i,:], np.log(h[i,:]))\n",
        "        second_term = - (np.multiply((1 - y[i,:]), np.log(1 - h[i,:])))\n",
        "        J += np.sum(first_term + second_term)\n",
        "    \n",
        "    J = J / m\n",
        "    \n",
        "    return J"
      ],
      "execution_count": 0,
      "outputs": []
    },
    {
      "cell_type": "markdown",
      "metadata": {
        "id": "E8FfTRjYOQQ_",
        "colab_type": "text"
      },
      "source": [
        "We've used the sigmoid function before so that's not new.  The forward-propagate function computes the hypothesis for each training instance given the current parameters.  It's output shape should match the same of our one-hot encoding for y.  We can test this real quick to convince ourselves that it's working as expected (the intermediate steps are also returned as these will be useful later)."
      ]
    },
    {
      "cell_type": "markdown",
      "metadata": {
        "id": "hGOr2_9yOQRA",
        "colab_type": "text"
      },
      "source": [
        "### Exercise #3\n",
        "\n",
        "Work the rest of this application (except for exercise 4 later) using hidden_size2 set to 50"
      ]
    },
    {
      "cell_type": "code",
      "metadata": {
        "id": "UNm-EwQcOQRA",
        "colab_type": "code",
        "colab": {
          "base_uri": "https://localhost:8080/",
          "height": 35
        },
        "outputId": "ac5e757c-6a35-4350-e848-45ef45f0cf28"
      },
      "source": [
        "# initial setup\n",
        "input_size = 400\n",
        "hidden_size1 = 50\n",
        "num_labels = 10\n",
        "learning_rate = 1\n",
        "\n",
        "# randomly initialize a parameter array of the size of the full network's parameters\n",
        "params = (np.random.random(size=hidden_size1 * (input_size + 1) + num_labels * (hidden_size1 + 1)) - 0.5) * 0.25\n",
        "\n",
        "m = X.shape[0]\n",
        "X = np.matrix(X)\n",
        "y = np.matrix(y)\n",
        "\n",
        "# unravel the parameter array into parameter matrices for each layer\n",
        "theta1 = np.matrix(np.reshape(params[:hidden_size1 * (input_size + 1)], (hidden_size1, (input_size + 1))))\n",
        "theta2 = np.matrix(np.reshape(params[hidden_size1 * (input_size + 1):], (num_labels, (hidden_size1 + 1))))\n",
        "\n",
        "theta1.shape, theta2.shape"
      ],
      "execution_count": 18,
      "outputs": [
        {
          "output_type": "execute_result",
          "data": {
            "text/plain": [
              "((50, 401), (10, 51))"
            ]
          },
          "metadata": {
            "tags": []
          },
          "execution_count": 18
        }
      ]
    },
    {
      "cell_type": "code",
      "metadata": {
        "id": "6wWU_reaOQRH",
        "colab_type": "code",
        "colab": {
          "base_uri": "https://localhost:8080/",
          "height": 35
        },
        "outputId": "9fab286d-2e0b-43b8-c5a4-f30d4be7d34b"
      },
      "source": [
        "a1, z2, a2, z3, h = forward_propagate(X, theta1, theta2)\n",
        "a1.shape, z2.shape, a2.shape, z3.shape, h.shape"
      ],
      "execution_count": 19,
      "outputs": [
        {
          "output_type": "execute_result",
          "data": {
            "text/plain": [
              "((5000, 401), (5000, 50), (5000, 51), (5000, 10), (5000, 10))"
            ]
          },
          "metadata": {
            "tags": []
          },
          "execution_count": 19
        }
      ]
    },
    {
      "cell_type": "markdown",
      "metadata": {
        "id": "t9byyuDCOQRL",
        "colab_type": "text"
      },
      "source": [
        "The cost function, after computing the hypothesis matrix h, applies the cost equation to compute the total error between y and h."
      ]
    },
    {
      "cell_type": "code",
      "metadata": {
        "id": "DbYzW1PzOQRM",
        "colab_type": "code",
        "colab": {
          "base_uri": "https://localhost:8080/",
          "height": 35
        },
        "outputId": "d1d117be-5dfa-4fe8-92e9-18117e1c7f11"
      },
      "source": [
        "cost(params, input_size, hidden_size1, num_labels, X, y_onehot, learning_rate)"
      ],
      "execution_count": 20,
      "outputs": [
        {
          "output_type": "execute_result",
          "data": {
            "text/plain": [
              "7.176108966190751"
            ]
          },
          "metadata": {
            "tags": []
          },
          "execution_count": 20
        }
      ]
    },
    {
      "cell_type": "markdown",
      "metadata": {
        "id": "1vYFUztgOQRP",
        "colab_type": "text"
      },
      "source": [
        "## Forward propogation with regularization and Cost\n",
        "\n",
        "Our next step is to add regularization to the cost function.  If you're following along in the exercise text and thought the last equation looked ugly, this one looks REALLY ugly.  It's actually not as complicated as it looks though - in fact, the regularization term is simply an addition to the cost we already computed.  Here's the revised cost function."
      ]
    },
    {
      "cell_type": "code",
      "metadata": {
        "id": "a6wGYOtnOQRP",
        "colab_type": "code",
        "colab": {}
      },
      "source": [
        "def cost(params, input_size, hidden_size1, num_labels, X, y, learning_rate):\n",
        "    m = X.shape[0]\n",
        "    X = np.matrix(X)\n",
        "    y = np.matrix(y)\n",
        "    \n",
        "    \n",
        "    n1 = hidden_size1 * (input_size + 1)\n",
        "    n2 = n1 + num_labels * (hidden_size1 + 1)\n",
        "    \n",
        "    # reshape the parameter array into parameter matrices for each layer\n",
        "    theta1 = np.matrix(np.reshape(params[:n1], (hidden_size1, (input_size + 1))))\n",
        "    theta2 = np.matrix(np.reshape(params[n1:n2], (num_labels, (hidden_size1 + 1))))\n",
        "\n",
        "    # run the feed-forward pass\n",
        "    a1, z2, a2, z3, h = forward_propagate(X, theta1, theta2)\n",
        "    \n",
        "    # compute the cost\n",
        "    J = 0\n",
        "    for i in range(m):\n",
        "        first_term = np.multiply(-y[i,:], np.log(h[i,:]))\n",
        "        second_term = np.multiply((1 - y[i,:]), np.log(1 - h[i,:]))\n",
        "        J += np.sum(first_term - second_term)\n",
        "    \n",
        "    J = J / m\n",
        "    \n",
        "    # add the cost regularization term\n",
        "    J += (float(learning_rate) / (2 * m)) * (np.sum(np.power(theta1[:,1:], 2)) + np.sum(np.power(theta2[:,1:], 2)))\n",
        "    \n",
        "    return J"
      ],
      "execution_count": 0,
      "outputs": []
    },
    {
      "cell_type": "code",
      "metadata": {
        "id": "-e3-ukrDOQRS",
        "colab_type": "code",
        "colab": {
          "base_uri": "https://localhost:8080/",
          "height": 35
        },
        "outputId": "11510ca5-cd90-4bd9-9d76-934cb20b5c87"
      },
      "source": [
        "cost(params, input_size, hidden_size1, num_labels, X, y_onehot, learning_rate)"
      ],
      "execution_count": 22,
      "outputs": [
        {
          "output_type": "execute_result",
          "data": {
            "text/plain": [
              "7.186795909823177"
            ]
          },
          "metadata": {
            "tags": []
          },
          "execution_count": 22
        }
      ]
    },
    {
      "cell_type": "markdown",
      "metadata": {
        "id": "V9GAu9bVOQRW",
        "colab_type": "text"
      },
      "source": [
        "Next up is the backpropagation algorithm.  Backpropagation computes the parameter updates that will reduce the error of the network on the training data.  The first thing we need is a function that computes the gradient of the sigmoid function we created earlier."
      ]
    },
    {
      "cell_type": "code",
      "metadata": {
        "id": "jCyWMVigOQRW",
        "colab_type": "code",
        "colab": {}
      },
      "source": [
        "def sigmoid_gradient(z):\n",
        "    return np.multiply(sigmoid(z), (1 - sigmoid(z)))"
      ],
      "execution_count": 0,
      "outputs": []
    },
    {
      "cell_type": "markdown",
      "metadata": {
        "id": "Z0WrW3L4OQRZ",
        "colab_type": "text"
      },
      "source": [
        "## Backpropogation\n",
        "\n",
        "Now we're ready to implement backpropagation to compute the gradients.  Since the computations required for backpropagation are a superset of those required in the cost function, we're actually going to extend the cost function to also perform backpropagation and return both the cost and the gradients."
      ]
    },
    {
      "cell_type": "code",
      "metadata": {
        "id": "amhN16htOQRa",
        "colab_type": "code",
        "colab": {}
      },
      "source": [
        "def backprop(params, input_size, hidden_size1, num_labels, X, y, learning_rate):\n",
        "    m = X.shape[0]\n",
        "    X = np.matrix(X)\n",
        "    y = np.matrix(y)\n",
        "    \n",
        "    # reshape the parameter array into parameter matrices for each layer\n",
        "    theta1 = np.matrix(np.reshape(params[:hidden_size1 * (input_size + 1)], (hidden_size1, (input_size + 1))))\n",
        "    theta2 = np.matrix(np.reshape(params[hidden_size1 * (input_size + 1):], (num_labels, (hidden_size1 + 1))))\n",
        "    \n",
        "    # run the feed-forward pass\n",
        "    a1, z2, a2, z3, h = forward_propagate(X, theta1, theta2)\n",
        "    \n",
        "    # initializations\n",
        "    J = 0\n",
        "    delta1 = np.zeros(theta1.shape)  # (25, 401)\n",
        "    delta2 = np.zeros(theta2.shape)  # (10, 26)\n",
        "    \n",
        "    # compute the cost\n",
        "    for i in range(m):\n",
        "        first_term = np.multiply(-y[i,:], np.log(h[i,:]))\n",
        "        second_term = np.multiply((1 - y[i,:]), np.log(1 - h[i,:]))\n",
        "        J += np.sum(first_term - second_term)\n",
        "    \n",
        "    J = J / m\n",
        "    \n",
        "    # add the cost regularization term\n",
        "    J += (float(learning_rate) / (2 * m)) * (np.sum(np.power(theta1[:,1:], 2)) + np.sum(np.power(theta2[:,1:], 2)))\n",
        "    \n",
        "    # perform backpropagation\n",
        "    for t in range(m):\n",
        "        a1t = a1[t,:]  # (1, 401)\n",
        "        z2t = z2[t,:]  # (1, 25)\n",
        "        a2t = a2[t,:]  # (1, 26)\n",
        "        ht = h[t,:]  # (1, 10)\n",
        "        yt = y[t,:]  # (1, 10)\n",
        "        \n",
        "        d3t = ht - yt  # (1, 10)\n",
        "        \n",
        "        #insert a one in first position for bias\n",
        "        z2t = np.insert(z2t, 0, values=np.ones(1))  # (1, 26)\n",
        "        d2t = np.multiply((theta2.T * d3t.T).T, sigmoid_gradient(z2t))  # (1, 26)\n",
        "        \n",
        "        delta1 = delta1 + (d2t[:,1:]).T * a1t\n",
        "        delta2 = delta2 + d3t.T * a2t\n",
        "        \n",
        "    delta1 = delta1 / m\n",
        "    delta2 = delta2 / m\n",
        "    \n",
        "    # unravel the gradient matrices into a single array\n",
        "    grad = np.concatenate((np.ravel(delta1), np.ravel(delta2)))\n",
        "    \n",
        "    return J, grad"
      ],
      "execution_count": 0,
      "outputs": []
    },
    {
      "cell_type": "markdown",
      "metadata": {
        "id": "iWXxsiN4OQRd",
        "colab_type": "text"
      },
      "source": [
        "The hardest part of the backprop computation (other than understanding WHY we're doing all these calculations) is getting the matrix dimensions right.  By the way, if you find it confusing when to use A * B vs. np.multiply(A, B), you're not alone.  Basically the former is a matrix multiplication and the latter is an element-wise multiplication (unless A or B is a scalar value, in which case it doesn't matter).  I wish there was a more concise syntax for this (maybe there is and I'm just not aware of it).\n",
        "\n",
        "Anyway, let's test it out to make sure the function returns what we're expecting it to."
      ]
    },
    {
      "cell_type": "code",
      "metadata": {
        "id": "hx-U2p_1OQRe",
        "colab_type": "code",
        "colab": {
          "base_uri": "https://localhost:8080/",
          "height": 35
        },
        "outputId": "f772d402-0307-4031-ea8a-7c438821ae17"
      },
      "source": [
        "J, grad = backprop(params, input_size, hidden_size1, num_labels, X, y_onehot, learning_rate)\n",
        "J, grad.shape"
      ],
      "execution_count": 25,
      "outputs": [
        {
          "output_type": "execute_result",
          "data": {
            "text/plain": [
              "(7.186795909823177, (20560,))"
            ]
          },
          "metadata": {
            "tags": []
          },
          "execution_count": 25
        }
      ]
    },
    {
      "cell_type": "markdown",
      "metadata": {
        "id": "0_TAiEFAOQRi",
        "colab_type": "text"
      },
      "source": [
        "### Exercise 4:\n",
        "\n",
        "1.  Split the datasets X_df and y_onehot into 80% for training and the rest for testing using:\n",
        "from sklearn.model_selection import train_test_split\n",
        "\n",
        "2. Then use only the train datasets to train (in the next cell)"
      ]
    },
    {
      "cell_type": "code",
      "metadata": {
        "id": "yNoP-TdIOQRi",
        "colab_type": "code",
        "colab": {
          "base_uri": "https://localhost:8080/",
          "height": 197
        },
        "outputId": "513fb778-a3c2-4780-c53e-415d2e436862"
      },
      "source": [
        "from scipy.optimize import minimize\n",
        "from sklearn.model_selection import train_test_split\n",
        "\n",
        "# Split data\n",
        "X_train, X_test, y_train, y_test = train_test_split(X,y_onehot,test_size=0.20,random_state=23)\n",
        "\n",
        "# minimize the objective function\n",
        "fmin = minimize(fun=backprop, x0=params, args=(input_size, hidden_size1, num_labels, X_train, y_train, learning_rate), \n",
        "                method='TNC', jac=True, options={'maxiter': 250})\n",
        "fmin"
      ],
      "execution_count": 28,
      "outputs": [
        {
          "output_type": "execute_result",
          "data": {
            "text/plain": [
              "     fun: 0.6447026965253835\n",
              "     jac: array([-3.52686805e-04,  0.00000000e+00,  0.00000000e+00, ...,\n",
              "       -2.65683093e-05, -6.06850510e-05, -2.26970570e-04])\n",
              " message: 'Max. number of function evaluations reached'\n",
              "    nfev: 250\n",
              "     nit: 14\n",
              "  status: 3\n",
              " success: False\n",
              "       x: array([-0.16000625, -0.1035491 , -0.03465699, ...,  0.35022924,\n",
              "       -1.71524015,  1.93676715])"
            ]
          },
          "metadata": {
            "tags": []
          },
          "execution_count": 28
        }
      ]
    },
    {
      "cell_type": "markdown",
      "metadata": {
        "id": "RiqYAMstOQRm",
        "colab_type": "text"
      },
      "source": [
        "### Exercise 5:\n",
        "\n",
        "1.  Now use only the test datasets to predict (in the next cell\n",
        "2.  And calclate the accuray by comparing to the test labels"
      ]
    },
    {
      "cell_type": "code",
      "metadata": {
        "id": "v8WOPNxGOQRn",
        "colab_type": "code",
        "colab": {
          "base_uri": "https://localhost:8080/",
          "height": 1000
        },
        "outputId": "20bb4c40-7db7-487a-a6df-8d2f637f151e"
      },
      "source": [
        "X = np.matrix(X)\n",
        "theta1 = np.matrix(np.reshape(fmin.x[:hidden_size1 * (input_size + 1)], (hidden_size1, (input_size + 1))))\n",
        "theta2 = np.matrix(np.reshape(fmin.x[hidden_size1 * (input_size + 1):], (num_labels, (hidden_size1 + 1))))\n",
        "\n",
        "a1, z2, a2, z3, h = forward_propagate(X_test, theta1, theta2)\n",
        "y_pred = np.array(np.argmax(h, axis=1))\n",
        "y_pred"
      ],
      "execution_count": 36,
      "outputs": [
        {
          "output_type": "execute_result",
          "data": {
            "text/plain": [
              "array([[3],\n",
              "       [1],\n",
              "       [6],\n",
              "       [4],\n",
              "       [0],\n",
              "       [3],\n",
              "       [8],\n",
              "       [6],\n",
              "       [9],\n",
              "       [4],\n",
              "       [5],\n",
              "       [8],\n",
              "       [8],\n",
              "       [9],\n",
              "       [9],\n",
              "       [0],\n",
              "       [0],\n",
              "       [5],\n",
              "       [8],\n",
              "       [7],\n",
              "       [7],\n",
              "       [4],\n",
              "       [9],\n",
              "       [3],\n",
              "       [7],\n",
              "       [0],\n",
              "       [7],\n",
              "       [1],\n",
              "       [0],\n",
              "       [2],\n",
              "       [4],\n",
              "       [9],\n",
              "       [8],\n",
              "       [6],\n",
              "       [4],\n",
              "       [0],\n",
              "       [0],\n",
              "       [7],\n",
              "       [4],\n",
              "       [4],\n",
              "       [4],\n",
              "       [1],\n",
              "       [8],\n",
              "       [9],\n",
              "       [5],\n",
              "       [4],\n",
              "       [8],\n",
              "       [1],\n",
              "       [1],\n",
              "       [1],\n",
              "       [0],\n",
              "       [7],\n",
              "       [7],\n",
              "       [6],\n",
              "       [7],\n",
              "       [9],\n",
              "       [2],\n",
              "       [7],\n",
              "       [1],\n",
              "       [5],\n",
              "       [7],\n",
              "       [8],\n",
              "       [7],\n",
              "       [0],\n",
              "       [7],\n",
              "       [1],\n",
              "       [5],\n",
              "       [2],\n",
              "       [2],\n",
              "       [2],\n",
              "       [3],\n",
              "       [8],\n",
              "       [8],\n",
              "       [5],\n",
              "       [8],\n",
              "       [1],\n",
              "       [6],\n",
              "       [8],\n",
              "       [2],\n",
              "       [5],\n",
              "       [8],\n",
              "       [2],\n",
              "       [1],\n",
              "       [0],\n",
              "       [1],\n",
              "       [9],\n",
              "       [7],\n",
              "       [8],\n",
              "       [2],\n",
              "       [1],\n",
              "       [3],\n",
              "       [6],\n",
              "       [4],\n",
              "       [6],\n",
              "       [6],\n",
              "       [4],\n",
              "       [5],\n",
              "       [7],\n",
              "       [9],\n",
              "       [2],\n",
              "       [5],\n",
              "       [9],\n",
              "       [9],\n",
              "       [0],\n",
              "       [1],\n",
              "       [6],\n",
              "       [6],\n",
              "       [0],\n",
              "       [6],\n",
              "       [0],\n",
              "       [5],\n",
              "       [7],\n",
              "       [0],\n",
              "       [4],\n",
              "       [0],\n",
              "       [5],\n",
              "       [7],\n",
              "       [3],\n",
              "       [9],\n",
              "       [5],\n",
              "       [5],\n",
              "       [8],\n",
              "       [9],\n",
              "       [7],\n",
              "       [2],\n",
              "       [2],\n",
              "       [0],\n",
              "       [8],\n",
              "       [2],\n",
              "       [5],\n",
              "       [8],\n",
              "       [1],\n",
              "       [3],\n",
              "       [3],\n",
              "       [2],\n",
              "       [5],\n",
              "       [2],\n",
              "       [1],\n",
              "       [8],\n",
              "       [7],\n",
              "       [9],\n",
              "       [1],\n",
              "       [4],\n",
              "       [5],\n",
              "       [4],\n",
              "       [8],\n",
              "       [2],\n",
              "       [1],\n",
              "       [8],\n",
              "       [5],\n",
              "       [5],\n",
              "       [7],\n",
              "       [5],\n",
              "       [6],\n",
              "       [6],\n",
              "       [9],\n",
              "       [9],\n",
              "       [7],\n",
              "       [3],\n",
              "       [0],\n",
              "       [1],\n",
              "       [0],\n",
              "       [3],\n",
              "       [2],\n",
              "       [7],\n",
              "       [5],\n",
              "       [2],\n",
              "       [4],\n",
              "       [2],\n",
              "       [6],\n",
              "       [4],\n",
              "       [5],\n",
              "       [4],\n",
              "       [4],\n",
              "       [3],\n",
              "       [2],\n",
              "       [9],\n",
              "       [6],\n",
              "       [5],\n",
              "       [3],\n",
              "       [3],\n",
              "       [7],\n",
              "       [3],\n",
              "       [1],\n",
              "       [8],\n",
              "       [7],\n",
              "       [2],\n",
              "       [5],\n",
              "       [5],\n",
              "       [0],\n",
              "       [0],\n",
              "       [0],\n",
              "       [8],\n",
              "       [5],\n",
              "       [4],\n",
              "       [5],\n",
              "       [1],\n",
              "       [5],\n",
              "       [5],\n",
              "       [7],\n",
              "       [5],\n",
              "       [3],\n",
              "       [4],\n",
              "       [3],\n",
              "       [8],\n",
              "       [3],\n",
              "       [8],\n",
              "       [7],\n",
              "       [0],\n",
              "       [7],\n",
              "       [4],\n",
              "       [7],\n",
              "       [9],\n",
              "       [3],\n",
              "       [7],\n",
              "       [8],\n",
              "       [6],\n",
              "       [8],\n",
              "       [4],\n",
              "       [7],\n",
              "       [2],\n",
              "       [6],\n",
              "       [8],\n",
              "       [5],\n",
              "       [6],\n",
              "       [8],\n",
              "       [0],\n",
              "       [4],\n",
              "       [3],\n",
              "       [2],\n",
              "       [6],\n",
              "       [8],\n",
              "       [3],\n",
              "       [2],\n",
              "       [9],\n",
              "       [6],\n",
              "       [8],\n",
              "       [2],\n",
              "       [4],\n",
              "       [7],\n",
              "       [3],\n",
              "       [8],\n",
              "       [1],\n",
              "       [9],\n",
              "       [6],\n",
              "       [2],\n",
              "       [6],\n",
              "       [3],\n",
              "       [0],\n",
              "       [1],\n",
              "       [1],\n",
              "       [0],\n",
              "       [5],\n",
              "       [4],\n",
              "       [8],\n",
              "       [5],\n",
              "       [1],\n",
              "       [5],\n",
              "       [3],\n",
              "       [8],\n",
              "       [3],\n",
              "       [0],\n",
              "       [3],\n",
              "       [0],\n",
              "       [4],\n",
              "       [4],\n",
              "       [6],\n",
              "       [8],\n",
              "       [9],\n",
              "       [4],\n",
              "       [0],\n",
              "       [1],\n",
              "       [3],\n",
              "       [2],\n",
              "       [2],\n",
              "       [6],\n",
              "       [4],\n",
              "       [3],\n",
              "       [4],\n",
              "       [1],\n",
              "       [3],\n",
              "       [4],\n",
              "       [5],\n",
              "       [1],\n",
              "       [9],\n",
              "       [0],\n",
              "       [6],\n",
              "       [3],\n",
              "       [8],\n",
              "       [8],\n",
              "       [8],\n",
              "       [4],\n",
              "       [5],\n",
              "       [3],\n",
              "       [1],\n",
              "       [8],\n",
              "       [1],\n",
              "       [9],\n",
              "       [7],\n",
              "       [1],\n",
              "       [2],\n",
              "       [8],\n",
              "       [1],\n",
              "       [7],\n",
              "       [9],\n",
              "       [1],\n",
              "       [1],\n",
              "       [9],\n",
              "       [1],\n",
              "       [8],\n",
              "       [7],\n",
              "       [4],\n",
              "       [2],\n",
              "       [0],\n",
              "       [3],\n",
              "       [8],\n",
              "       [3],\n",
              "       [2],\n",
              "       [1],\n",
              "       [5],\n",
              "       [3],\n",
              "       [4],\n",
              "       [1],\n",
              "       [0],\n",
              "       [6],\n",
              "       [6],\n",
              "       [2],\n",
              "       [1],\n",
              "       [4],\n",
              "       [1],\n",
              "       [8],\n",
              "       [6],\n",
              "       [8],\n",
              "       [0],\n",
              "       [2],\n",
              "       [4],\n",
              "       [5],\n",
              "       [2],\n",
              "       [7],\n",
              "       [5],\n",
              "       [9],\n",
              "       [3],\n",
              "       [0],\n",
              "       [2],\n",
              "       [3],\n",
              "       [7],\n",
              "       [0],\n",
              "       [1],\n",
              "       [1],\n",
              "       [4],\n",
              "       [6],\n",
              "       [8],\n",
              "       [3],\n",
              "       [2],\n",
              "       [3],\n",
              "       [7],\n",
              "       [5],\n",
              "       [1],\n",
              "       [7],\n",
              "       [6],\n",
              "       [3],\n",
              "       [4],\n",
              "       [6],\n",
              "       [5],\n",
              "       [6],\n",
              "       [6],\n",
              "       [6],\n",
              "       [8],\n",
              "       [6],\n",
              "       [2],\n",
              "       [0],\n",
              "       [4],\n",
              "       [0],\n",
              "       [4],\n",
              "       [3],\n",
              "       [8],\n",
              "       [3],\n",
              "       [8],\n",
              "       [1],\n",
              "       [2],\n",
              "       [1],\n",
              "       [6],\n",
              "       [8],\n",
              "       [0],\n",
              "       [8],\n",
              "       [1],\n",
              "       [0],\n",
              "       [7],\n",
              "       [4],\n",
              "       [0],\n",
              "       [4],\n",
              "       [0],\n",
              "       [1],\n",
              "       [7],\n",
              "       [1],\n",
              "       [3],\n",
              "       [7],\n",
              "       [9],\n",
              "       [5],\n",
              "       [6],\n",
              "       [8],\n",
              "       [5],\n",
              "       [3],\n",
              "       [8],\n",
              "       [0],\n",
              "       [7],\n",
              "       [5],\n",
              "       [1],\n",
              "       [7],\n",
              "       [5],\n",
              "       [8],\n",
              "       [2],\n",
              "       [4],\n",
              "       [9],\n",
              "       [7],\n",
              "       [0],\n",
              "       [9],\n",
              "       [9],\n",
              "       [3],\n",
              "       [7],\n",
              "       [5],\n",
              "       [3],\n",
              "       [8],\n",
              "       [5],\n",
              "       [8],\n",
              "       [0],\n",
              "       [1],\n",
              "       [1],\n",
              "       [1],\n",
              "       [3],\n",
              "       [1],\n",
              "       [3],\n",
              "       [3],\n",
              "       [6],\n",
              "       [2],\n",
              "       [7],\n",
              "       [7],\n",
              "       [4],\n",
              "       [8],\n",
              "       [9],\n",
              "       [2],\n",
              "       [5],\n",
              "       [8],\n",
              "       [7],\n",
              "       [1],\n",
              "       [6],\n",
              "       [6],\n",
              "       [7],\n",
              "       [0],\n",
              "       [0],\n",
              "       [1],\n",
              "       [8],\n",
              "       [6],\n",
              "       [3],\n",
              "       [1],\n",
              "       [7],\n",
              "       [5],\n",
              "       [3],\n",
              "       [2],\n",
              "       [0],\n",
              "       [7],\n",
              "       [7],\n",
              "       [1],\n",
              "       [1],\n",
              "       [2],\n",
              "       [2],\n",
              "       [9],\n",
              "       [0],\n",
              "       [5],\n",
              "       [5],\n",
              "       [6],\n",
              "       [1],\n",
              "       [5],\n",
              "       [4],\n",
              "       [7],\n",
              "       [8],\n",
              "       [4],\n",
              "       [5],\n",
              "       [8],\n",
              "       [4],\n",
              "       [2],\n",
              "       [6],\n",
              "       [8],\n",
              "       [0],\n",
              "       [1],\n",
              "       [8],\n",
              "       [5],\n",
              "       [5],\n",
              "       [4],\n",
              "       [8],\n",
              "       [6],\n",
              "       [5],\n",
              "       [8],\n",
              "       [4],\n",
              "       [9],\n",
              "       [2],\n",
              "       [0],\n",
              "       [1],\n",
              "       [9],\n",
              "       [9],\n",
              "       [6],\n",
              "       [5],\n",
              "       [6],\n",
              "       [0],\n",
              "       [7],\n",
              "       [4],\n",
              "       [4],\n",
              "       [0],\n",
              "       [2],\n",
              "       [4],\n",
              "       [4],\n",
              "       [0],\n",
              "       [2],\n",
              "       [4],\n",
              "       [0],\n",
              "       [7],\n",
              "       [5],\n",
              "       [4],\n",
              "       [5],\n",
              "       [9],\n",
              "       [4],\n",
              "       [1],\n",
              "       [3],\n",
              "       [3],\n",
              "       [7],\n",
              "       [8],\n",
              "       [3],\n",
              "       [2],\n",
              "       [9],\n",
              "       [2],\n",
              "       [2],\n",
              "       [5],\n",
              "       [7],\n",
              "       [9],\n",
              "       [9],\n",
              "       [5],\n",
              "       [6],\n",
              "       [1],\n",
              "       [8],\n",
              "       [2],\n",
              "       [6],\n",
              "       [3],\n",
              "       [1],\n",
              "       [9],\n",
              "       [2],\n",
              "       [9],\n",
              "       [5],\n",
              "       [2],\n",
              "       [3],\n",
              "       [6],\n",
              "       [3],\n",
              "       [2],\n",
              "       [3],\n",
              "       [2],\n",
              "       [6],\n",
              "       [2],\n",
              "       [6],\n",
              "       [6],\n",
              "       [4],\n",
              "       [5],\n",
              "       [0],\n",
              "       [9],\n",
              "       [0],\n",
              "       [0],\n",
              "       [4],\n",
              "       [2],\n",
              "       [6],\n",
              "       [4],\n",
              "       [3],\n",
              "       [0],\n",
              "       [0],\n",
              "       [1],\n",
              "       [4],\n",
              "       [6],\n",
              "       [7],\n",
              "       [0],\n",
              "       [3],\n",
              "       [3],\n",
              "       [0],\n",
              "       [3],\n",
              "       [6],\n",
              "       [5],\n",
              "       [0],\n",
              "       [4],\n",
              "       [7],\n",
              "       [6],\n",
              "       [0],\n",
              "       [9],\n",
              "       [7],\n",
              "       [0],\n",
              "       [1],\n",
              "       [0],\n",
              "       [5],\n",
              "       [4],\n",
              "       [5],\n",
              "       [1],\n",
              "       [0],\n",
              "       [1],\n",
              "       [1],\n",
              "       [4],\n",
              "       [3],\n",
              "       [4],\n",
              "       [0],\n",
              "       [5],\n",
              "       [7],\n",
              "       [2],\n",
              "       [6],\n",
              "       [4],\n",
              "       [5],\n",
              "       [3],\n",
              "       [5],\n",
              "       [2],\n",
              "       [7],\n",
              "       [1],\n",
              "       [0],\n",
              "       [4],\n",
              "       [7],\n",
              "       [3],\n",
              "       [5],\n",
              "       [0],\n",
              "       [7],\n",
              "       [0],\n",
              "       [1],\n",
              "       [1],\n",
              "       [8],\n",
              "       [8],\n",
              "       [4],\n",
              "       [8],\n",
              "       [4],\n",
              "       [2],\n",
              "       [9],\n",
              "       [9],\n",
              "       [3],\n",
              "       [4],\n",
              "       [6],\n",
              "       [9],\n",
              "       [8],\n",
              "       [1],\n",
              "       [5],\n",
              "       [8],\n",
              "       [1],\n",
              "       [8],\n",
              "       [3],\n",
              "       [2],\n",
              "       [8],\n",
              "       [2],\n",
              "       [7],\n",
              "       [3],\n",
              "       [9],\n",
              "       [6],\n",
              "       [6],\n",
              "       [9],\n",
              "       [5],\n",
              "       [7],\n",
              "       [3],\n",
              "       [9],\n",
              "       [0],\n",
              "       [2],\n",
              "       [2],\n",
              "       [1],\n",
              "       [8],\n",
              "       [1],\n",
              "       [0],\n",
              "       [6],\n",
              "       [5],\n",
              "       [9],\n",
              "       [7],\n",
              "       [6],\n",
              "       [0],\n",
              "       [6],\n",
              "       [0],\n",
              "       [8],\n",
              "       [8],\n",
              "       [9],\n",
              "       [2],\n",
              "       [1],\n",
              "       [1],\n",
              "       [5],\n",
              "       [8],\n",
              "       [0],\n",
              "       [3],\n",
              "       [9],\n",
              "       [9],\n",
              "       [9],\n",
              "       [0],\n",
              "       [4],\n",
              "       [7],\n",
              "       [3],\n",
              "       [2],\n",
              "       [0],\n",
              "       [5],\n",
              "       [9],\n",
              "       [3],\n",
              "       [5],\n",
              "       [3],\n",
              "       [1],\n",
              "       [4],\n",
              "       [8],\n",
              "       [1],\n",
              "       [9],\n",
              "       [2],\n",
              "       [4],\n",
              "       [8],\n",
              "       [2],\n",
              "       [9],\n",
              "       [7],\n",
              "       [3],\n",
              "       [6],\n",
              "       [3],\n",
              "       [4],\n",
              "       [5],\n",
              "       [8],\n",
              "       [5],\n",
              "       [7],\n",
              "       [4],\n",
              "       [6],\n",
              "       [3],\n",
              "       [3],\n",
              "       [4],\n",
              "       [3],\n",
              "       [8],\n",
              "       [3],\n",
              "       [2],\n",
              "       [5],\n",
              "       [0],\n",
              "       [9],\n",
              "       [1],\n",
              "       [5],\n",
              "       [3],\n",
              "       [7],\n",
              "       [2],\n",
              "       [8],\n",
              "       [4],\n",
              "       [7],\n",
              "       [8],\n",
              "       [7],\n",
              "       [1],\n",
              "       [8],\n",
              "       [6],\n",
              "       [8],\n",
              "       [8],\n",
              "       [1],\n",
              "       [5],\n",
              "       [5],\n",
              "       [3],\n",
              "       [9],\n",
              "       [0],\n",
              "       [6],\n",
              "       [0],\n",
              "       [6],\n",
              "       [3],\n",
              "       [1],\n",
              "       [5],\n",
              "       [2],\n",
              "       [9],\n",
              "       [2],\n",
              "       [9],\n",
              "       [8],\n",
              "       [6],\n",
              "       [9],\n",
              "       [6],\n",
              "       [8],\n",
              "       [9],\n",
              "       [5],\n",
              "       [4],\n",
              "       [2],\n",
              "       [0],\n",
              "       [0],\n",
              "       [7],\n",
              "       [6],\n",
              "       [6],\n",
              "       [0],\n",
              "       [4],\n",
              "       [5],\n",
              "       [1],\n",
              "       [7],\n",
              "       [8],\n",
              "       [2],\n",
              "       [7],\n",
              "       [6],\n",
              "       [3],\n",
              "       [8],\n",
              "       [6],\n",
              "       [5],\n",
              "       [0],\n",
              "       [1],\n",
              "       [8],\n",
              "       [8],\n",
              "       [9],\n",
              "       [7],\n",
              "       [1],\n",
              "       [5],\n",
              "       [2],\n",
              "       [6],\n",
              "       [3],\n",
              "       [7],\n",
              "       [7],\n",
              "       [0],\n",
              "       [6],\n",
              "       [4],\n",
              "       [4],\n",
              "       [6],\n",
              "       [0],\n",
              "       [1],\n",
              "       [0],\n",
              "       [4],\n",
              "       [9],\n",
              "       [8],\n",
              "       [2],\n",
              "       [9],\n",
              "       [3],\n",
              "       [9],\n",
              "       [8],\n",
              "       [8],\n",
              "       [3],\n",
              "       [9],\n",
              "       [6],\n",
              "       [7],\n",
              "       [1],\n",
              "       [7],\n",
              "       [7],\n",
              "       [3],\n",
              "       [3],\n",
              "       [2],\n",
              "       [5],\n",
              "       [8],\n",
              "       [4],\n",
              "       [0],\n",
              "       [0],\n",
              "       [4],\n",
              "       [8],\n",
              "       [4],\n",
              "       [3],\n",
              "       [4],\n",
              "       [8],\n",
              "       [8],\n",
              "       [7],\n",
              "       [4],\n",
              "       [1],\n",
              "       [9],\n",
              "       [1],\n",
              "       [3],\n",
              "       [2],\n",
              "       [8],\n",
              "       [8],\n",
              "       [2],\n",
              "       [9],\n",
              "       [9],\n",
              "       [7],\n",
              "       [9],\n",
              "       [4],\n",
              "       [9],\n",
              "       [8],\n",
              "       [9],\n",
              "       [0],\n",
              "       [4],\n",
              "       [0],\n",
              "       [4],\n",
              "       [9],\n",
              "       [0],\n",
              "       [9],\n",
              "       [7],\n",
              "       [4],\n",
              "       [1],\n",
              "       [1],\n",
              "       [1],\n",
              "       [6],\n",
              "       [4],\n",
              "       [0],\n",
              "       [4],\n",
              "       [9],\n",
              "       [4],\n",
              "       [8],\n",
              "       [9],\n",
              "       [6],\n",
              "       [1],\n",
              "       [6],\n",
              "       [8],\n",
              "       [4],\n",
              "       [7],\n",
              "       [5],\n",
              "       [6],\n",
              "       [5],\n",
              "       [6],\n",
              "       [5],\n",
              "       [8],\n",
              "       [6],\n",
              "       [5],\n",
              "       [4],\n",
              "       [5],\n",
              "       [5],\n",
              "       [0],\n",
              "       [2],\n",
              "       [8],\n",
              "       [0],\n",
              "       [3],\n",
              "       [5],\n",
              "       [3],\n",
              "       [1],\n",
              "       [5],\n",
              "       [0],\n",
              "       [7],\n",
              "       [5],\n",
              "       [6],\n",
              "       [2],\n",
              "       [0],\n",
              "       [2],\n",
              "       [8],\n",
              "       [1],\n",
              "       [1],\n",
              "       [7],\n",
              "       [5],\n",
              "       [1],\n",
              "       [5],\n",
              "       [5],\n",
              "       [4],\n",
              "       [4],\n",
              "       [6],\n",
              "       [5],\n",
              "       [0],\n",
              "       [2],\n",
              "       [7],\n",
              "       [1],\n",
              "       [7],\n",
              "       [7],\n",
              "       [0],\n",
              "       [8],\n",
              "       [0],\n",
              "       [9],\n",
              "       [1],\n",
              "       [1],\n",
              "       [9],\n",
              "       [8],\n",
              "       [0],\n",
              "       [3],\n",
              "       [9],\n",
              "       [7],\n",
              "       [0],\n",
              "       [6],\n",
              "       [9],\n",
              "       [7],\n",
              "       [6],\n",
              "       [6],\n",
              "       [0],\n",
              "       [8],\n",
              "       [6],\n",
              "       [8],\n",
              "       [7],\n",
              "       [1],\n",
              "       [0],\n",
              "       [6],\n",
              "       [7],\n",
              "       [5],\n",
              "       [1],\n",
              "       [6],\n",
              "       [1],\n",
              "       [6],\n",
              "       [4],\n",
              "       [0],\n",
              "       [9],\n",
              "       [4],\n",
              "       [5],\n",
              "       [9],\n",
              "       [2],\n",
              "       [9],\n",
              "       [6],\n",
              "       [3],\n",
              "       [6],\n",
              "       [3],\n",
              "       [3],\n",
              "       [6],\n",
              "       [4],\n",
              "       [5],\n",
              "       [5],\n",
              "       [0],\n",
              "       [2],\n",
              "       [1],\n",
              "       [9],\n",
              "       [6],\n",
              "       [0],\n",
              "       [8],\n",
              "       [3],\n",
              "       [9],\n",
              "       [6],\n",
              "       [9],\n",
              "       [7],\n",
              "       [2],\n",
              "       [1],\n",
              "       [0],\n",
              "       [3],\n",
              "       [6],\n",
              "       [3],\n",
              "       [7],\n",
              "       [1],\n",
              "       [0],\n",
              "       [0],\n",
              "       [7],\n",
              "       [2],\n",
              "       [4],\n",
              "       [0]])"
            ]
          },
          "metadata": {
            "tags": []
          },
          "execution_count": 36
        }
      ]
    },
    {
      "cell_type": "code",
      "metadata": {
        "id": "aYXIi2BGOQRq",
        "colab_type": "code",
        "colab": {}
      },
      "source": [
        "y_test = np.array(np.argmax(y_test, axis=1))"
      ],
      "execution_count": 0,
      "outputs": []
    },
    {
      "cell_type": "markdown",
      "metadata": {
        "id": "hs2zj-atOQRt",
        "colab_type": "text"
      },
      "source": [
        "Finally we can compute the accuracy to see how well our trained network is doing."
      ]
    },
    {
      "cell_type": "code",
      "metadata": {
        "id": "XbFyALGXOQRu",
        "colab_type": "code",
        "colab": {
          "base_uri": "https://localhost:8080/",
          "height": 35
        },
        "outputId": "0a3fe225-b8d0-4242-ba14-fea51960e9f1"
      },
      "source": [
        "correct = [1 if a == b else 0 for (a, b) in zip(y_pred, y_test)]\n",
        "accuracy = sum(correct)/len(correct)\n",
        "print('accuracy = {0}%'.format(accuracy * 100))"
      ],
      "execution_count": 39,
      "outputs": [
        {
          "output_type": "stream",
          "text": [
            "accuracy = 93.30000000000001%\n"
          ],
          "name": "stdout"
        }
      ]
    },
    {
      "cell_type": "markdown",
      "metadata": {
        "id": "Sp0EbQNdOQRx",
        "colab_type": "text"
      },
      "source": [
        "### Optional exercise: complete the same train and test parts for the regualrized version of the model below"
      ]
    },
    {
      "cell_type": "markdown",
      "metadata": {
        "id": "45Qu4ObjOQRy",
        "colab_type": "text"
      },
      "source": [
        "### Regularization:\n",
        "\n",
        "We still have one more modification to make to the backprop function - adding regularization to the gradient calculations.  The final regularized version is below."
      ]
    },
    {
      "cell_type": "code",
      "metadata": {
        "id": "AhSJMGMGOQRz",
        "colab_type": "code",
        "colab": {}
      },
      "source": [
        "def backprop(params, input_size, hidden_size1, num_labels, X, y, learning_rate):\n",
        "    m = X.shape[0]\n",
        "    X = np.matrix(X)\n",
        "    y = np.matrix(y)\n",
        "    \n",
        "    # reshape the parameter array into parameter matrices for each layer\n",
        "    theta1 = np.matrix(np.reshape(params[:hidden_size1 * (input_size + 1)], (hidden_size1, (input_size + 1))))\n",
        "    theta2 = np.matrix(np.reshape(params[hidden_size1 * (input_size + 1):], (num_labels, (hidden_size1 + 1))))\n",
        "    \n",
        "    # run the feed-forward pass\n",
        "    a1, z2, a2, z3, h = forward_propagate(X, theta1, theta2)\n",
        "    \n",
        "    # initializations\n",
        "    J = 0\n",
        "    delta1 = np.zeros(theta1.shape)  # (25, 401)\n",
        "    delta2 = np.zeros(theta2.shape)  # (10, 26)\n",
        "    \n",
        "    # compute the cost\n",
        "    for i in range(m):\n",
        "        first_term = np.multiply(-y[i,:], np.log(h[i,:]))\n",
        "        second_term = np.multiply((1 - y[i,:]), np.log(1 - h[i,:]))\n",
        "        J += np.sum(first_term - second_term)\n",
        "    \n",
        "    J = J / m\n",
        "    \n",
        "    # add the cost regularization term\n",
        "    J += (float(learning_rate) / (2 * m)) * (np.sum(np.power(theta1[:,1:], 2)) + np.sum(np.power(theta2[:,1:], 2)))\n",
        "    \n",
        "    # perform backpropagation\n",
        "    for t in range(m):\n",
        "        a1t = a1[t,:]  # (1, 401)\n",
        "        z2t = z2[t,:]  # (1, 25)\n",
        "        a2t = a2[t,:]  # (1, 26)\n",
        "        ht = h[t,:]  # (1, 10)\n",
        "        yt = y[t,:]  # (1, 10)\n",
        "        \n",
        "        d3t = ht - yt  # (1, 10)\n",
        "        \n",
        "        z2t = np.insert(z2t, 0, values=np.ones(1))  # (1, 26)\n",
        "        d2t = np.multiply((theta2.T * d3t.T).T, sigmoid_gradient(z2t))  # (1, 26)\n",
        "        \n",
        "        delta1 = delta1 + (d2t[:,1:]).T * a1t\n",
        "        delta2 = delta2 + d3t.T * a2t\n",
        "        \n",
        "    delta1 = delta1 / m\n",
        "    delta2 = delta2 / m\n",
        "    \n",
        "    # add the gradient regularization term\n",
        "    delta1[:,1:] = delta1[:,1:] + (theta1[:,1:] * learning_rate) / m\n",
        "    delta2[:,1:] = delta2[:,1:] + (theta2[:,1:] * learning_rate) / m\n",
        "    \n",
        "    # unravel the gradient matrices into a single array\n",
        "    grad = np.concatenate((np.ravel(delta1), np.ravel(delta2)))\n",
        "    \n",
        "    return J, grad"
      ],
      "execution_count": 0,
      "outputs": []
    },
    {
      "cell_type": "code",
      "metadata": {
        "id": "54N1_pTEOQR1",
        "colab_type": "code",
        "colab": {
          "base_uri": "https://localhost:8080/",
          "height": 35
        },
        "outputId": "b13a0bf0-f827-47f0-aa70-5979492487a4"
      },
      "source": [
        "J, grad = backprop(params, input_size, hidden_size1, num_labels, X, y_onehot, learning_rate)\n",
        "J, grad.shape"
      ],
      "execution_count": 41,
      "outputs": [
        {
          "output_type": "execute_result",
          "data": {
            "text/plain": [
              "(7.186795909823177, (20560,))"
            ]
          },
          "metadata": {
            "tags": []
          },
          "execution_count": 41
        }
      ]
    },
    {
      "cell_type": "markdown",
      "metadata": {
        "id": "rCXpZ7-EOQR5",
        "colab_type": "text"
      },
      "source": [
        "We're finally ready to train our network and use it to make predictions.  This is roughly similar to the previous exercise with multi-class logistic regression."
      ]
    },
    {
      "cell_type": "code",
      "metadata": {
        "id": "plgVHuHrOQR5",
        "colab_type": "code",
        "colab": {
          "base_uri": "https://localhost:8080/",
          "height": 233
        },
        "outputId": "e1127dde-941d-4aa5-f2be-d80bd5449b24"
      },
      "source": [
        "from scipy.optimize import minimize\n",
        "\n",
        "# Split data\n",
        "X_train, X_test, y_train, y_test = train_test_split(X,y_onehot,test_size=0.20,random_state=23)\n",
        "\n",
        "# minimize the objective function\n",
        "fmin = minimize(fun=backprop, x0=params, args=(input_size, hidden_size1, num_labels, X_train, y_train, learning_rate), \n",
        "                method='TNC', jac=True, options={'maxiter': 250})\n",
        "fmin"
      ],
      "execution_count": 42,
      "outputs": [
        {
          "output_type": "stream",
          "text": [
            "/usr/local/lib/python3.6/dist-packages/ipykernel_launcher.py:21: RuntimeWarning: divide by zero encountered in log\n",
            "/usr/local/lib/python3.6/dist-packages/ipykernel_launcher.py:21: RuntimeWarning: invalid value encountered in multiply\n"
          ],
          "name": "stderr"
        },
        {
          "output_type": "execute_result",
          "data": {
            "text/plain": [
              "     fun: 0.3941434055801533\n",
              "     jac: array([-6.20456306e-05, -1.33990845e-05, -4.89247339e-06, ...,\n",
              "       -1.48921193e-04, -2.50130878e-05, -8.87865063e-04])\n",
              " message: 'Linear search failed'\n",
              "    nfev: 214\n",
              "     nit: 13\n",
              "  status: 4\n",
              " success: False\n",
              "       x: array([-0.36468762, -0.05359634, -0.01956989, ...,  0.03565038,\n",
              "       -1.84800928,  2.59223785])"
            ]
          },
          "metadata": {
            "tags": []
          },
          "execution_count": 42
        }
      ]
    },
    {
      "cell_type": "markdown",
      "metadata": {
        "id": "SQMsjjCYOQR8",
        "colab_type": "text"
      },
      "source": [
        "We put a bound on the number of iterations since the objective function is not likely to completely converge.  Our total cost has dropped below 0.5 though so that's a good indicator that the algorithm is working.  Let's use the parameters it found and forward-propagate them through the network to get some predictions."
      ]
    },
    {
      "cell_type": "code",
      "metadata": {
        "id": "7Dh2ApPzOQR9",
        "colab_type": "code",
        "colab": {}
      },
      "source": [
        "X = np.matrix(X)\n",
        "theta1 = np.matrix(np.reshape(fmin.x[:hidden_size1 * (input_size + 1)], (hidden_size1, (input_size + 1))))\n",
        "theta2 = np.matrix(np.reshape(fmin.x[hidden_size1 * (input_size + 1):], (num_labels, (hidden_size1 + 1))))\n",
        "\n",
        "a1, z2, a2, z3, h = forward_propagate(X_test, theta1, theta2)\n",
        "y_pred = np.array(np.argmax(h, axis=1))\n",
        "y_pred\n",
        "y_test = np.array(np.argmax(y_test, axis=1))"
      ],
      "execution_count": 0,
      "outputs": []
    },
    {
      "cell_type": "markdown",
      "metadata": {
        "id": "XPRlCVXDOQSA",
        "colab_type": "text"
      },
      "source": [
        "Finally we can compute the accuracy to see how well our trained network is doing."
      ]
    },
    {
      "cell_type": "code",
      "metadata": {
        "id": "cLN8FOsjOQSB",
        "colab_type": "code",
        "colab": {
          "base_uri": "https://localhost:8080/",
          "height": 35
        },
        "outputId": "b0aed135-3019-4a1a-d9ea-a5f79ff80193"
      },
      "source": [
        "correct = [1 if a == b else 0 for (a, b) in zip(y_pred, y_test)]\n",
        "accuracy = sum(correct)/len(correct)\n",
        "print('accuracy = {0}%'.format(accuracy * 100))"
      ],
      "execution_count": 44,
      "outputs": [
        {
          "output_type": "stream",
          "text": [
            "accuracy = 95.19999999999999%\n"
          ],
          "name": "stdout"
        }
      ]
    },
    {
      "cell_type": "markdown",
      "metadata": {
        "id": "luJGhHakOQSE",
        "colab_type": "text"
      },
      "source": [
        "And we're done!  We've successfully implemented a rudimentary feed-forward neural network with backpropagation and used it to classify images of handwritten digits.  In the next exercise we'll look at another power supervised learning algorithm, support vector machines."
      ]
    },
    {
      "cell_type": "code",
      "metadata": {
        "id": "oeXL_NUIOQSF",
        "colab_type": "code",
        "colab": {}
      },
      "source": [
        ""
      ],
      "execution_count": 0,
      "outputs": []
    }
  ]
}