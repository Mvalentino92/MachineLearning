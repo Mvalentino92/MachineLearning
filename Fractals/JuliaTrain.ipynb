{
  "nbformat": 4,
  "nbformat_minor": 0,
  "metadata": {
    "colab": {
      "name": "JuliaTrain.ipynb",
      "provenance": [],
      "collapsed_sections": []
    },
    "kernelspec": {
      "name": "python3",
      "display_name": "Python 3"
    },
    "accelerator": "GPU"
  },
  "cells": [
    {
      "cell_type": "code",
      "metadata": {
        "id": "6R2eIk63KuTQ",
        "colab_type": "code",
        "colab": {}
      },
      "source": [
        "import numpy as np\n",
        "import pandas as pd\n",
        "import matplotlib.pyplot as plt\n",
        "import matplotlib.image as mpimg\n",
        "import cv2"
      ],
      "execution_count": null,
      "outputs": []
    },
    {
      "cell_type": "code",
      "metadata": {
        "id": "ScYSBvDoaQ1k",
        "colab_type": "code",
        "colab": {}
      },
      "source": [
        "%%capture\n",
        "!unzip FRAC_final.zip\n",
        "!unzip FRACTALS_0.zip"
      ],
      "execution_count": null,
      "outputs": []
    },
    {
      "cell_type": "code",
      "metadata": {
        "id": "FvtO68tf4IVh",
        "colab_type": "code",
        "colab": {
          "base_uri": "https://localhost:8080/",
          "height": 36
        },
        "outputId": "6b75cead-65e7-4cb4-eb51-b35ea7d3a26e"
      },
      "source": [
        "all_data1 = np.array([(cv2.imread('FRAC_'+str(i)+'.jpeg',cv2.IMREAD_GRAYSCALE)/255).reshape(400,400,1) for i in range(0,500)])\n",
        "all_data2 = np.array([(cv2.imread('FRAC_final_'+str(i)+'.jpeg',cv2.IMREAD_GRAYSCALE)/255).reshape(400,400,1) for i in range(500,1500)])\n",
        "all_data = np.vstack((all_data1,all_data2))\n",
        "print(all_data.shape)"
      ],
      "execution_count": null,
      "outputs": [
        {
          "output_type": "stream",
          "text": [
            "(1500, 400, 400, 1)\n"
          ],
          "name": "stdout"
        }
      ]
    },
    {
      "cell_type": "code",
      "metadata": {
        "id": "X9kcWQzdpmFn",
        "colab_type": "code",
        "colab": {
          "base_uri": "https://localhost:8080/",
          "height": 414
        },
        "outputId": "3537a064-faab-426c-8350-5ae0f4d65fb9"
      },
      "source": [
        "# Gradient function\n",
        "def mean_abs_grads(X):\n",
        "    row = np.mean(np.array(list(map(lambda x1,x2: np.abs(x1[1:] - x2[0:-1]) ,X,X))))\n",
        "    X = X.T\n",
        "    col = np.mean(np.array(list(map(lambda x1,x2: np.abs(x1[1:] - x2[0:-1]) ,X,X))))\n",
        "    return (row+col)/2\n",
        "    \n",
        "# Get the gradients\n",
        "mean_gradients = np.array([mean_abs_grads(all_data[i].reshape(400,400)) for i in range(0,all_data.shape[0])])\n",
        "print(mean_gradients.shape)\n",
        "print(mean_gradients.min())\n",
        "print(mean_gradients.max())\n",
        "plt.hist(mean_gradients)"
      ],
      "execution_count": null,
      "outputs": [
        {
          "output_type": "stream",
          "text": [
            "(1500,)\n",
            "0.003813651776500073\n",
            "0.036317706029780336\n"
          ],
          "name": "stdout"
        },
        {
          "output_type": "execute_result",
          "data": {
            "text/plain": [
              "(array([501., 241., 192., 114., 113.,  94.,  76.,  70.,  74.,  25.]),\n",
              " array([0.00381365, 0.00706406, 0.01031446, 0.01356487, 0.01681527,\n",
              "        0.02006568, 0.02331608, 0.02656649, 0.0298169 , 0.0330673 ,\n",
              "        0.03631771]),\n",
              " <a list of 10 Patch objects>)"
            ]
          },
          "metadata": {
            "tags": []
          },
          "execution_count": 3
        },
        {
          "output_type": "display_data",
          "data": {
            "image/png": "[encoded data removed]",
            "text/plain": [
              "<Figure size 432x288 with 1 Axes>"
            ]
          },
          "metadata": {
            "tags": [],
            "needs_background": "light"
          }
        }
      ]
    },
    {
      "cell_type": "code",
      "metadata": {
        "id": "p87JaiZ_54H_",
        "colab_type": "code",
        "colab": {
          "base_uri": "https://localhost:8080/",
          "height": 36
        },
        "outputId": "17b9e76b-719d-4d76-8464-319e01d292c9"
      },
      "source": [
        "all_labels1 = np.array(pd.read_csv('cvalues_0.csv')[0:500])\n",
        "all_labels2 = np.array(pd.read_csv('cvalues_final.csv')[500:1500])\n",
        "all_labels = np.vstack((all_labels1,all_labels2))\n",
        "print(all_labels.shape)"
      ],
      "execution_count": null,
      "outputs": [
        {
          "output_type": "stream",
          "text": [
            "(1500, 2)\n"
          ],
          "name": "stdout"
        }
      ]
    },
    {
      "cell_type": "code",
      "metadata": {
        "id": "aUoyLsFfVKp6",
        "colab_type": "code",
        "colab": {}
      },
      "source": [
        "# Split the data into train and test\n",
        "from sklearn.model_selection import train_test_split\n",
        "X_train, X_test, y_train, y_test = train_test_split(all_data,all_labels,test_size=0.2,random_state=21)\n",
        "\n",
        "all_data = None\n",
        "all_data1 = None\n",
        "all_data2 = None\n",
        "all_labels = None\n",
        "all_labels1 = None\n",
        "all_labels2 = None"
      ],
      "execution_count": null,
      "outputs": []
    },
    {
      "cell_type": "code",
      "metadata": {
        "id": "dMEaflO0fy-P",
        "colab_type": "code",
        "colab": {}
      },
      "source": [
        "from keras.preprocessing.image import ImageDataGenerator\n",
        "datagen = ImageDataGenerator(\n",
        "    rotation_range=1/10,\n",
        "    width_shift_range=1/10,\n",
        "    height_shift_range=1/10,\n",
        "    shear_range=1/10,\n",
        "    zoom_range = 1/10,\n",
        "    data_format='channels_last'\n",
        ")\n",
        "datagen.fit(X_train)"
      ],
      "execution_count": null,
      "outputs": []
    },
    {
      "cell_type": "code",
      "metadata": {
        "colab_type": "code",
        "id": "JtCB4ubT72aE",
        "colab": {}
      },
      "source": [
        "# Let's build and train a CNN\n",
        "from keras.models import Model\n",
        "from keras.layers import Input\n",
        "from keras.layers import Dense\n",
        "from keras.layers import Flatten\n",
        "from keras.layers import Dropout\n",
        "from keras.layers.convolutional import Conv2D\n",
        "from keras.layers.pooling import MaxPooling2D\n",
        "from keras.layers.pooling import AveragePooling2D\n",
        "\n",
        "visible = Input(shape=(400,400,1))\n",
        "\n",
        "conv1 = Conv2D(64, kernel_size=5, activation='softsign',padding='same')(visible)\n",
        "conv2 = Conv2D(64, kernel_size=3, activation='softsign',padding='valid')(conv1)\n",
        "pool1 = MaxPooling2D(pool_size=2)(conv2)\n",
        "\n",
        "conv3 = Conv2D(32, kernel_size=5, activation='softsign',padding='same')(pool1)\n",
        "conv4 = Conv2D(32, kernel_size=3, activation='softsign',padding='valid')(conv3)\n",
        "pool2 = MaxPooling2D(pool_size=2)(conv4)\n",
        "\n",
        "conv5 = Conv2D(64, kernel_size=5, activation='softsign',padding='same')(pool2)\n",
        "conv6 = Conv2D(64, kernel_size=3, activation='softsign',padding='valid')(conv5)\n",
        "pool3 = MaxPooling2D(pool_size=2)(conv6)\n",
        "\n",
        "flat = Flatten()(pool3)\n",
        "output = Dense(2, activation='linear')(flat)\n",
        "model = Model(inputs=visible, outputs=output)"
      ],
      "execution_count": null,
      "outputs": []
    },
    {
      "cell_type": "code",
      "metadata": {
        "id": "6h27gQZoXtz9",
        "colab_type": "code",
        "colab": {}
      },
      "source": [
        "import keras.optimizers as ko\n",
        "model.compile(optimizer=ko.Adam(),loss='mean_squared_error')"
      ],
      "execution_count": null,
      "outputs": []
    },
    {
      "cell_type": "code",
      "metadata": {
        "id": "UHIr-qosXyIf",
        "colab_type": "code",
        "colab": {
          "base_uri": "https://localhost:8080/",
          "height": 409
        },
        "outputId": "3874da52-24e8-405e-8482-261a867430fd"
      },
      "source": [
        "l = len(X_train)\n",
        "#model.fit(datagen.flow(X_train,y_train,batch_size=8),steps_per_epoch = l/8,epochs=5,verbose=1)\n",
        "model.fit(datagen.flow(X_train,y_train,batch_size=32),steps_per_epoch = l/32,epochs=10,verbose=1)\n",
        "#model.fit(datagen.flow(X_train,y_train,batch_size=64),steps_per_epoch = l/64,epochs=5,verbose=1)"
      ],
      "execution_count": null,
      "outputs": [
        {
          "output_type": "stream",
          "text": [
            "Epoch 1/10\n",
            "38/37 [==============================] - 16s 434ms/step - loss: 10.1226\n",
            "Epoch 2/10\n",
            "38/37 [==============================] - 16s 426ms/step - loss: 0.0618\n",
            "Epoch 3/10\n",
            "38/37 [==============================] - 16s 426ms/step - loss: 0.0188\n",
            "Epoch 4/10\n",
            "38/37 [==============================] - 16s 428ms/step - loss: 0.0165\n",
            "Epoch 5/10\n",
            "38/37 [==============================] - 16s 427ms/step - loss: 0.0147\n",
            "Epoch 6/10\n",
            "38/37 [==============================] - 16s 426ms/step - loss: 0.0142\n",
            "Epoch 7/10\n",
            "38/37 [==============================] - 16s 423ms/step - loss: 0.0127\n",
            "Epoch 8/10\n",
            "38/37 [==============================] - 16s 422ms/step - loss: 0.0135\n",
            "Epoch 9/10\n",
            "38/37 [==============================] - 16s 427ms/step - loss: 0.0106\n",
            "Epoch 10/10\n",
            "38/37 [==============================] - 16s 426ms/step - loss: 0.0110\n"
          ],
          "name": "stdout"
        },
        {
          "output_type": "execute_result",
          "data": {
            "text/plain": [
              "<keras.callbacks.callbacks.History at 0x7f726dad5588>"
            ]
          },
          "metadata": {
            "tags": []
          },
          "execution_count": 122
        }
      ]
    },
    {
      "cell_type": "code",
      "metadata": {
        "id": "m7qYDunhaYTZ",
        "colab_type": "code",
        "colab": {}
      },
      "source": [
        "y_predict = model.predict(X_test)"
      ],
      "execution_count": null,
      "outputs": []
    },
    {
      "cell_type": "code",
      "metadata": {
        "id": "AyjzX-Moc1qM",
        "colab_type": "code",
        "colab": {}
      },
      "source": [
        "total = 0\n",
        "l = y_test.shape[0]\n",
        "x = None\n",
        "y = None\n",
        "for i in range(0,l):\n",
        "    err = np.abs((y_test[i] - y_predict[i])/y_test[i])*100\n",
        "    total += err\n",
        "    print('real:',err[0],'imag:',err[1])\n",
        "print('Mean absolute error is:',total/l)\n",
        "print('Total Mean:',np.sum(total/l)/2)"
      ],
      "execution_count": null,
      "outputs": []
    },
    {
      "cell_type": "code",
      "metadata": {
        "id": "eMLA8om2De5w",
        "colab_type": "code",
        "colab": {}
      },
      "source": [
        "imgs = np.array([(cv2.imread('f'+str(i+1)+'.jpeg',cv2.IMREAD_GRAYSCALE)/255).reshape(400,400,1) for i in range(0,16)])\n",
        "pred = model.predict(imgs)"
      ],
      "execution_count": null,
      "outputs": []
    },
    {
      "cell_type": "code",
      "metadata": {
        "id": "Fd5W4x7FEQGR",
        "colab_type": "code",
        "colab": {
          "base_uri": "https://localhost:8080/",
          "height": 306
        },
        "outputId": "1ed57937-9848-4302-f155-94543a22d6e0"
      },
      "source": [
        "print(pred[0])\n",
        "plt.imshow(imgs[2].reshape(400,400))"
      ],
      "execution_count": null,
      "outputs": [
        {
          "output_type": "stream",
          "text": [
            "[-0.33125383  0.1467879 ]\n"
          ],
          "name": "stdout"
        },
        {
          "output_type": "execute_result",
          "data": {
            "text/plain": [
              "<matplotlib.image.AxesImage at 0x7f7286591a90>"
            ]
          },
          "metadata": {
            "tags": []
          },
          "execution_count": 13
        },
        {
          "output_type": "display_data",
          "data": {
            "image/png": "[encoded data removed]",
            "text/plain": [
              "<Figure size 432x288 with 1 Axes>"
            ]
          },
          "metadata": {
            "tags": [],
            "needs_background": "light"
          }
        }
      ]
    },
    {
      "cell_type": "code",
      "metadata": {
        "id": "GHAzVeznIrwF",
        "colab_type": "code",
        "colab": {
          "base_uri": "https://localhost:8080/",
          "height": 316
        },
        "outputId": "7b27c7f9-d3bd-40e2-cf1a-9966e213a972"
      },
      "source": [
        "print(pred)"
      ],
      "execution_count": null,
      "outputs": [
        {
          "output_type": "stream",
          "text": [
            "[[-0.6567668   0.05783728]\n",
            " [-0.24822758  0.0237752 ]\n",
            " [-0.4150931   0.29292956]\n",
            " [-0.9236525   0.08690348]\n",
            " [ 0.32501996 -0.1283124 ]\n",
            " [-0.25702098  0.81013346]\n",
            " [-0.5354232   0.3650442 ]\n",
            " [-0.5981243   0.24155162]\n",
            " [-0.88114     0.0980867 ]\n",
            " [-0.15687273  0.63032365]\n",
            " [-0.42676505  0.17767198]\n",
            " [-0.48297867  0.04779891]\n",
            " [-0.5081891   0.03765765]\n",
            " [-1.1024038   0.11133599]\n",
            " [-0.37321928  0.04338038]\n",
            " [-0.59020054 -0.09739026]]\n"
          ],
          "name": "stdout"
        }
      ]
    },
    {
      "cell_type": "code",
      "metadata": {
        "id": "vPFDwCi_g4Bg",
        "colab_type": "code",
        "colab": {}
      },
      "source": [
        ""
      ],
      "execution_count": null,
      "outputs": []
    }
  ]
}