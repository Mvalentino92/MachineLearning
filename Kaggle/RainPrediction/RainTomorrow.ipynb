{
  "nbformat": 4,
  "nbformat_minor": 0,
  "metadata": {
    "colab": {
      "name": "RainTomorrow.ipynb",
      "provenance": [],
      "collapsed_sections": []
    },
    "kernelspec": {
      "name": "python3",
      "display_name": "Python 3"
    }
  },
  "cells": [
    {
      "cell_type": "code",
      "metadata": {
        "id": "9Dw0hIhMw82B",
        "colab_type": "code",
        "colab": {}
      },
      "source": [
        "\"\"\"Importing all the relevant libraries we need.\"\"\"\n",
        "\n",
        "import pandas as pd # For data frames\n",
        "import numpy as np # For math and efficient arrays\n",
        "import matplotlib.pyplot as plt # For plotting and visualizing data\n",
        "\n",
        "# So plots appear in this notebook\n",
        "%matplotlib inline"
      ],
      "execution_count": 0,
      "outputs": []
    },
    {
      "cell_type": "code",
      "metadata": {
        "id": "GFpvH5nRw-8o",
        "colab_type": "code",
        "outputId": "ce9725dd-27ab-49e9-efa5-918e41deb97f",
        "colab": {
          "base_uri": "https://localhost:8080/",
          "height": 310
        }
      },
      "source": [
        "# Import the data from csv\n",
        "rain_data = pd.read_csv('https://raw.githubusercontent.com/Mvalentino92/MachineLearning/master/weatherAUS.csv')\n",
        "rain_data.describe()"
      ],
      "execution_count": 0,
      "outputs": [
        {
          "output_type": "execute_result",
          "data": {
            "text/html": [
              "<div>\n",
              "<style scoped>\n",
              "    .dataframe tbody tr th:only-of-type {\n",
              "        vertical-align: middle;\n",
              "    }\n",
              "\n",
              "    .dataframe tbody tr th {\n",
              "        vertical-align: top;\n",
              "    }\n",
              "\n",
              "    .dataframe thead th {\n",
              "        text-align: right;\n",
              "    }\n",
              "</style>\n",
              "<table border=\"1\" class=\"dataframe\">\n",
              "  <thead>\n",
              "    <tr style=\"text-align: right;\">\n",
              "      <th></th>\n",
              "      <th>MinTemp</th>\n",
              "      <th>MaxTemp</th>\n",
              "      <th>Rainfall</th>\n",
              "      <th>Evaporation</th>\n",
              "      <th>Sunshine</th>\n",
              "      <th>WindGustSpeed</th>\n",
              "      <th>WindSpeed9am</th>\n",
              "      <th>WindSpeed3pm</th>\n",
              "      <th>Humidity9am</th>\n",
              "      <th>Humidity3pm</th>\n",
              "      <th>Pressure9am</th>\n",
              "      <th>Pressure3pm</th>\n",
              "      <th>Cloud9am</th>\n",
              "      <th>Cloud3pm</th>\n",
              "      <th>Temp9am</th>\n",
              "      <th>Temp3pm</th>\n",
              "      <th>RISK_MM</th>\n",
              "    </tr>\n",
              "  </thead>\n",
              "  <tbody>\n",
              "    <tr>\n",
              "      <th>count</th>\n",
              "      <td>141556.000000</td>\n",
              "      <td>141871.000000</td>\n",
              "      <td>140787.000000</td>\n",
              "      <td>81350.000000</td>\n",
              "      <td>74377.000000</td>\n",
              "      <td>132923.000000</td>\n",
              "      <td>140845.000000</td>\n",
              "      <td>139563.000000</td>\n",
              "      <td>140419.000000</td>\n",
              "      <td>138583.000000</td>\n",
              "      <td>128179.000000</td>\n",
              "      <td>128212.000000</td>\n",
              "      <td>88536.000000</td>\n",
              "      <td>85099.000000</td>\n",
              "      <td>141289.000000</td>\n",
              "      <td>139467.000000</td>\n",
              "      <td>142193.000000</td>\n",
              "    </tr>\n",
              "    <tr>\n",
              "      <th>mean</th>\n",
              "      <td>12.186400</td>\n",
              "      <td>23.226784</td>\n",
              "      <td>2.349974</td>\n",
              "      <td>5.469824</td>\n",
              "      <td>7.624853</td>\n",
              "      <td>39.984292</td>\n",
              "      <td>14.001988</td>\n",
              "      <td>18.637576</td>\n",
              "      <td>68.843810</td>\n",
              "      <td>51.482606</td>\n",
              "      <td>1017.653758</td>\n",
              "      <td>1015.258204</td>\n",
              "      <td>4.437189</td>\n",
              "      <td>4.503167</td>\n",
              "      <td>16.987509</td>\n",
              "      <td>21.687235</td>\n",
              "      <td>2.360682</td>\n",
              "    </tr>\n",
              "    <tr>\n",
              "      <th>std</th>\n",
              "      <td>6.403283</td>\n",
              "      <td>7.117618</td>\n",
              "      <td>8.465173</td>\n",
              "      <td>4.188537</td>\n",
              "      <td>3.781525</td>\n",
              "      <td>13.588801</td>\n",
              "      <td>8.893337</td>\n",
              "      <td>8.803345</td>\n",
              "      <td>19.051293</td>\n",
              "      <td>20.797772</td>\n",
              "      <td>7.105476</td>\n",
              "      <td>7.036677</td>\n",
              "      <td>2.887016</td>\n",
              "      <td>2.720633</td>\n",
              "      <td>6.492838</td>\n",
              "      <td>6.937594</td>\n",
              "      <td>8.477969</td>\n",
              "    </tr>\n",
              "    <tr>\n",
              "      <th>min</th>\n",
              "      <td>-8.500000</td>\n",
              "      <td>-4.800000</td>\n",
              "      <td>0.000000</td>\n",
              "      <td>0.000000</td>\n",
              "      <td>0.000000</td>\n",
              "      <td>6.000000</td>\n",
              "      <td>0.000000</td>\n",
              "      <td>0.000000</td>\n",
              "      <td>0.000000</td>\n",
              "      <td>0.000000</td>\n",
              "      <td>980.500000</td>\n",
              "      <td>977.100000</td>\n",
              "      <td>0.000000</td>\n",
              "      <td>0.000000</td>\n",
              "      <td>-7.200000</td>\n",
              "      <td>-5.400000</td>\n",
              "      <td>0.000000</td>\n",
              "    </tr>\n",
              "    <tr>\n",
              "      <th>25%</th>\n",
              "      <td>7.600000</td>\n",
              "      <td>17.900000</td>\n",
              "      <td>0.000000</td>\n",
              "      <td>2.600000</td>\n",
              "      <td>4.900000</td>\n",
              "      <td>31.000000</td>\n",
              "      <td>7.000000</td>\n",
              "      <td>13.000000</td>\n",
              "      <td>57.000000</td>\n",
              "      <td>37.000000</td>\n",
              "      <td>1012.900000</td>\n",
              "      <td>1010.400000</td>\n",
              "      <td>1.000000</td>\n",
              "      <td>2.000000</td>\n",
              "      <td>12.300000</td>\n",
              "      <td>16.600000</td>\n",
              "      <td>0.000000</td>\n",
              "    </tr>\n",
              "    <tr>\n",
              "      <th>50%</th>\n",
              "      <td>12.000000</td>\n",
              "      <td>22.600000</td>\n",
              "      <td>0.000000</td>\n",
              "      <td>4.800000</td>\n",
              "      <td>8.500000</td>\n",
              "      <td>39.000000</td>\n",
              "      <td>13.000000</td>\n",
              "      <td>19.000000</td>\n",
              "      <td>70.000000</td>\n",
              "      <td>52.000000</td>\n",
              "      <td>1017.600000</td>\n",
              "      <td>1015.200000</td>\n",
              "      <td>5.000000</td>\n",
              "      <td>5.000000</td>\n",
              "      <td>16.700000</td>\n",
              "      <td>21.100000</td>\n",
              "      <td>0.000000</td>\n",
              "    </tr>\n",
              "    <tr>\n",
              "      <th>75%</th>\n",
              "      <td>16.800000</td>\n",
              "      <td>28.200000</td>\n",
              "      <td>0.800000</td>\n",
              "      <td>7.400000</td>\n",
              "      <td>10.600000</td>\n",
              "      <td>48.000000</td>\n",
              "      <td>19.000000</td>\n",
              "      <td>24.000000</td>\n",
              "      <td>83.000000</td>\n",
              "      <td>66.000000</td>\n",
              "      <td>1022.400000</td>\n",
              "      <td>1020.000000</td>\n",
              "      <td>7.000000</td>\n",
              "      <td>7.000000</td>\n",
              "      <td>21.600000</td>\n",
              "      <td>26.400000</td>\n",
              "      <td>0.800000</td>\n",
              "    </tr>\n",
              "    <tr>\n",
              "      <th>max</th>\n",
              "      <td>33.900000</td>\n",
              "      <td>48.100000</td>\n",
              "      <td>371.000000</td>\n",
              "      <td>145.000000</td>\n",
              "      <td>14.500000</td>\n",
              "      <td>135.000000</td>\n",
              "      <td>130.000000</td>\n",
              "      <td>87.000000</td>\n",
              "      <td>100.000000</td>\n",
              "      <td>100.000000</td>\n",
              "      <td>1041.000000</td>\n",
              "      <td>1039.600000</td>\n",
              "      <td>9.000000</td>\n",
              "      <td>9.000000</td>\n",
              "      <td>40.200000</td>\n",
              "      <td>46.700000</td>\n",
              "      <td>371.000000</td>\n",
              "    </tr>\n",
              "  </tbody>\n",
              "</table>\n",
              "</div>"
            ],
            "text/plain": [
              "             MinTemp        MaxTemp  ...        Temp3pm        RISK_MM\n",
              "count  141556.000000  141871.000000  ...  139467.000000  142193.000000\n",
              "mean       12.186400      23.226784  ...      21.687235       2.360682\n",
              "std         6.403283       7.117618  ...       6.937594       8.477969\n",
              "min        -8.500000      -4.800000  ...      -5.400000       0.000000\n",
              "25%         7.600000      17.900000  ...      16.600000       0.000000\n",
              "50%        12.000000      22.600000  ...      21.100000       0.000000\n",
              "75%        16.800000      28.200000  ...      26.400000       0.800000\n",
              "max        33.900000      48.100000  ...      46.700000     371.000000\n",
              "\n",
              "[8 rows x 17 columns]"
            ]
          },
          "metadata": {
            "tags": []
          },
          "execution_count": 112
        }
      ]
    },
    {
      "cell_type": "code",
      "metadata": {
        "id": "DagTCqvvxQp7",
        "colab_type": "code",
        "outputId": "1cb87c57-d6c0-4343-f0dc-7a6cba68828e",
        "colab": {
          "base_uri": "https://localhost:8080/",
          "height": 36
        }
      },
      "source": [
        "print('There are',rain_data.shape[0],'rows and',rain_data.shape[1],'columns')"
      ],
      "execution_count": 0,
      "outputs": [
        {
          "output_type": "stream",
          "text": [
            "There are 142193 rows and 24 columns\n"
          ],
          "name": "stdout"
        }
      ]
    },
    {
      "cell_type": "code",
      "metadata": {
        "id": "_dUYodlXxsDi",
        "colab_type": "code",
        "colab": {}
      },
      "source": [
        "# Dropping the Date which seems unimportant, and the RISK_MM. \n",
        "dropped_features = ['Date','RISK_MM']\n",
        "features = rain_data.drop(dropped_features,axis=1)\n",
        "features = features.drop('RainTomorrow',axis=1)\n",
        "label = rain_data['RainTomorrow']"
      ],
      "execution_count": 0,
      "outputs": []
    },
    {
      "cell_type": "code",
      "metadata": {
        "id": "GDRhjdP-1WJB",
        "colab_type": "code",
        "colab": {}
      },
      "source": [
        "# Split the numerical and the categorical data\n",
        "features_dtypes = features.dtypes\n",
        "num_bool = features_dtypes != 'object'\n",
        "cat_bool = features_dtypes == 'object'\n",
        "cols = features.columns\n",
        "num_features = features[cols[num_bool]]\n",
        "cat_features = features[cols[cat_bool]]"
      ],
      "execution_count": 0,
      "outputs": []
    },
    {
      "cell_type": "code",
      "metadata": {
        "id": "c4HRciKY1zAc",
        "colab_type": "code",
        "outputId": "fcdb5e16-39c6-40f6-dbb2-97fbfa80655d",
        "colab": {
          "base_uri": "https://localhost:8080/",
          "height": 521
        }
      },
      "source": [
        "# Check to make sure they were split correctly\n",
        "print('Numerical types:\\n',num_features.dtypes)\n",
        "print('\\n\\nCatergorical types:\\n',cat_features.dtypes)"
      ],
      "execution_count": 0,
      "outputs": [
        {
          "output_type": "stream",
          "text": [
            "Numerical types:\n",
            " MinTemp          float64\n",
            "MaxTemp          float64\n",
            "Rainfall         float64\n",
            "Evaporation      float64\n",
            "Sunshine         float64\n",
            "WindGustSpeed    float64\n",
            "WindSpeed9am     float64\n",
            "WindSpeed3pm     float64\n",
            "Humidity9am      float64\n",
            "Humidity3pm      float64\n",
            "Pressure9am      float64\n",
            "Pressure3pm      float64\n",
            "Cloud9am         float64\n",
            "Cloud3pm         float64\n",
            "Temp9am          float64\n",
            "Temp3pm          float64\n",
            "dtype: object\n",
            "\n",
            "\n",
            "Catergorical types:\n",
            " Location       object\n",
            "WindGustDir    object\n",
            "WindDir9am     object\n",
            "WindDir3pm     object\n",
            "RainToday      object\n",
            "dtype: object\n"
          ],
          "name": "stdout"
        }
      ]
    },
    {
      "cell_type": "code",
      "metadata": {
        "id": "1U5tE4hE5Pfa",
        "colab_type": "code",
        "outputId": "3e8c553b-08d9-495a-d00d-84b46c214bc9",
        "colab": {
          "base_uri": "https://localhost:8080/",
          "height": 428
        }
      },
      "source": [
        "total_rows = features.shape[0]\n",
        "for cfeat in cat_features:\n",
        "    print(cfeat,'has',np.sum(cat_features[cfeat].isna())/total_rows*100,'percent nan values')\n",
        "\n",
        "print()\n",
        "for nfeat in num_features:\n",
        "    print(nfeat,'has',np.sum(num_features[nfeat].isna())/total_rows*100,'percent nan values')"
      ],
      "execution_count": 0,
      "outputs": [
        {
          "output_type": "stream",
          "text": [
            "Location has 0.0 percent nan values\n",
            "WindGustDir has 6.561504434114197 percent nan values\n",
            "WindDir9am has 7.041837502549352 percent nan values\n",
            "WindDir3pm has 2.6569521706413113 percent nan values\n",
            "RainToday has 0.9887969168665124 percent nan values\n",
            "\n",
            "MinTemp has 0.44798267143952236 percent nan values\n",
            "MaxTemp has 0.2264527789694289 percent nan values\n",
            "Rainfall has 0.9887969168665124 percent nan values\n",
            "Evaporation has 42.78902618272348 percent nan values\n",
            "Sunshine has 47.692924405561456 percent nan values\n",
            "WindGustSpeed has 6.5193082641198945 percent nan values\n",
            "WindSpeed9am has 0.948007285872019 percent nan values\n",
            "WindSpeed3pm has 1.8495987847503041 percent nan values\n",
            "Humidity9am has 1.247600092831574 percent nan values\n",
            "Humidity3pm has 2.5388028946572616 percent nan values\n",
            "Pressure9am has 9.85561877166949 percent nan values\n",
            "Pressure3pm has 9.832410878172624 percent nan values\n",
            "Cloud9am has 37.73533155640573 percent nan values\n",
            "Cloud3pm has 40.15246882757942 percent nan values\n",
            "Temp9am has 0.635755627914173 percent nan values\n",
            "Temp3pm has 1.9171126567411898 percent nan values\n"
          ],
          "name": "stdout"
        }
      ]
    },
    {
      "cell_type": "code",
      "metadata": {
        "id": "HVr4__J2-Npe",
        "colab_type": "code",
        "outputId": "6409c30a-133f-4ee9-c1d6-7cde968334ec",
        "colab": {
          "base_uri": "https://localhost:8080/",
          "height": 92
        }
      },
      "source": [
        "drop_nans = ['Sunshine','Cloud9am','Cloud3pm','Evaporation']\n",
        "num_features = num_features.drop(drop_nans,axis=1)\n",
        "dropped_features.extend(drop_nans)\n",
        "num_features.columns"
      ],
      "execution_count": 0,
      "outputs": [
        {
          "output_type": "execute_result",
          "data": {
            "text/plain": [
              "Index(['MinTemp', 'MaxTemp', 'Rainfall', 'WindGustSpeed', 'WindSpeed9am',\n",
              "       'WindSpeed3pm', 'Humidity9am', 'Humidity3pm', 'Pressure9am',\n",
              "       'Pressure3pm', 'Temp9am', 'Temp3pm'],\n",
              "      dtype='object')"
            ]
          },
          "metadata": {
            "tags": []
          },
          "execution_count": 118
        }
      ]
    },
    {
      "cell_type": "code",
      "metadata": {
        "id": "D-7k3KOOERwT",
        "colab_type": "code",
        "outputId": "c0d842f3-44c5-480f-bfd5-b2de1e49181b",
        "colab": {
          "base_uri": "https://localhost:8080/",
          "height": 36
        }
      },
      "source": [
        "master_bool = np.full((total_rows,),False,dtype=bool)\n",
        "for cfeat in cat_features:\n",
        "    master_bool = np.any([master_bool,cat_features[cfeat].isna()],axis=0)\n",
        "print('Would lose',np.sum(master_bool)/total_rows*100,'percent of data')"
      ],
      "execution_count": 0,
      "outputs": [
        {
          "output_type": "stream",
          "text": [
            "Would lose 12.998530166745198 percent of data\n"
          ],
          "name": "stdout"
        }
      ]
    },
    {
      "cell_type": "code",
      "metadata": {
        "id": "mQB5ZCAJHiq8",
        "colab_type": "code",
        "colab": {}
      },
      "source": [
        "# Losing twelve percent is fine, so let's take these rows out of everything first (cat,num,labels)\n",
        "# First let's flip the master_bool, since we want to actually keep the thins that are currently False!\n",
        "master_bool = np.logical_not(master_bool)\n",
        "cat_features = cat_features[master_bool]\n",
        "num_features = num_features[master_bool]\n",
        "label = label[master_bool]"
      ],
      "execution_count": 0,
      "outputs": []
    },
    {
      "cell_type": "code",
      "metadata": {
        "id": "xr1sN3kSIroO",
        "colab_type": "code",
        "colab": {}
      },
      "source": [
        "# Alright, now we are ready to Onehot encode\n",
        "from sklearn.preprocessing import OneHotEncoder\n",
        "onehot = OneHotEncoder(sparse=False)\n",
        "cat_X = onehot.fit_transform(cat_features)\n",
        "\n",
        "# Now we're going to split the categorical features into train and test data\n",
        "from sklearn.model_selection import train_test_split\n",
        "\n",
        "# Create seed to split the same way for each piece of data\n",
        "seed = 23\n",
        "train_cat_X, test_cat_X = train_test_split(cat_X,test_size=0.20,random_state=seed)"
      ],
      "execution_count": 0,
      "outputs": []
    },
    {
      "cell_type": "code",
      "metadata": {
        "id": "FaldP8N6ABFT",
        "colab_type": "code",
        "colab": {}
      },
      "source": [
        "from sklearn.impute import SimpleImputer\n",
        "# Now let's split the numerical features so we can use an imputer.\n",
        "# Fit on train, transform on train/test\n",
        "train_num_features, test_num_features = train_test_split(num_features,test_size=0.20,random_state=seed)\n",
        "\n",
        "# Create the imputer\n",
        "imputer = SimpleImputer(strategy='mean')\n",
        "imputer.fit(train_num_features)\n",
        "\n",
        "# Imputers return matrices, so save as matrices now\n",
        "train_num_X = imputer.transform(train_num_features)\n",
        "test_num_X = imputer.transform(test_num_features)"
      ],
      "execution_count": 0,
      "outputs": []
    },
    {
      "cell_type": "code",
      "metadata": {
        "id": "-Vv6-_D6BSH6",
        "colab_type": "code",
        "colab": {}
      },
      "source": [
        "# Finally let's split the label into train and test. But first, let's convert these 1 and 0\n",
        "# 1 for yes, and 0 for no.\n",
        "y = (label == 'Yes').astype(int)\n",
        "train_y, test_y = train_test_split(y,test_size=0.20,random_state=seed)"
      ],
      "execution_count": 0,
      "outputs": []
    },
    {
      "cell_type": "code",
      "metadata": {
        "id": "h0bOrF3pCFmC",
        "colab_type": "code",
        "colab": {}
      },
      "source": [
        "# Finally we're going to combine all categorical with the numerical for each train and test\n",
        "train_X = np.hstack((train_num_X,train_cat_X))\n",
        "test_X = np.hstack((test_num_X,test_cat_X))"
      ],
      "execution_count": 0,
      "outputs": []
    },
    {
      "cell_type": "code",
      "metadata": {
        "id": "r1PFjT7LLu24",
        "colab_type": "code",
        "outputId": "b613a5b8-038f-4398-a339-4429c9340955",
        "colab": {
          "base_uri": "https://localhost:8080/",
          "height": 92
        }
      },
      "source": [
        "print('Train features shape:',train_X.shape)\n",
        "print('Test features shape:',test_X.shape)\n",
        "print('Train labels shape:',train_y.shape)\n",
        "print('Test labels shape:',test_y.shape)"
      ],
      "execution_count": 0,
      "outputs": [
        {
          "output_type": "stream",
          "text": [
            "Train features shape: (98968, 109)\n",
            "Test features shape: (24742, 109)\n",
            "Train labels shape: (98968,)\n",
            "Test labels shape: (24742,)\n"
          ],
          "name": "stdout"
        }
      ]
    },
    {
      "cell_type": "code",
      "metadata": {
        "id": "jr0KlFBiUrwg",
        "colab_type": "code",
        "colab": {}
      },
      "source": [
        "# Scale the data\n",
        "from sklearn.preprocessing import MinMaxScaler\n",
        "from sklearn.preprocessing import StandardScaler\n",
        "scaler = StandardScaler()\n",
        "scaler.fit(train_X)\n",
        "train_X = scaler.transform(train_X)\n",
        "test_X = scaler.transform(test_X)"
      ],
      "execution_count": 0,
      "outputs": []
    },
    {
      "cell_type": "code",
      "metadata": {
        "id": "h-7TCwtwV2Ij",
        "colab_type": "code",
        "outputId": "0b5d2220-ed93-4115-b979-4cea3b684ab1",
        "colab": {
          "base_uri": "https://localhost:8080/",
          "height": 36
        }
      },
      "source": [
        "# Finally, let's use a naive logistic regression and see how it does!\n",
        "from sklearn.linear_model import LogisticRegression\n",
        "lreg = LogisticRegression(solver='newton-cg',max_iter=1000,random_state=seed)\n",
        "lreg.fit(train_X,train_y)\n",
        "lreg.score(test_X,test_y)"
      ],
      "execution_count": 0,
      "outputs": [
        {
          "output_type": "execute_result",
          "data": {
            "text/plain": [
              "0.8568426157950044"
            ]
          },
          "metadata": {
            "tags": []
          },
          "execution_count": 138
        }
      ]
    },
    {
      "cell_type": "code",
      "metadata": {
        "id": "3-yqiWltYh41",
        "colab_type": "code",
        "outputId": "0afe6bc7-d9d5-4f7a-ba87-c8aa53437576",
        "colab": {
          "base_uri": "https://localhost:8080/",
          "height": 36
        }
      },
      "source": [
        "rand_y = np.random.randint(0,2,size=test_y.size)\n",
        "np.sum(rand_y == test_y)/test_y.size"
      ],
      "execution_count": 0,
      "outputs": [
        {
          "output_type": "execute_result",
          "data": {
            "text/plain": [
              "0.5054563091100154"
            ]
          },
          "metadata": {
            "tags": []
          },
          "execution_count": 153
        }
      ]
    },
    {
      "cell_type": "code",
      "metadata": {
        "id": "YFBYAMBKYvmF",
        "colab_type": "code",
        "colab": {}
      },
      "source": [
        ""
      ],
      "execution_count": 0,
      "outputs": []
    }
  ]
}