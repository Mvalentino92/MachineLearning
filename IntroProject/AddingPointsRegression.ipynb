{
  "nbformat": 4,
  "nbformat_minor": 0,
  "metadata": {
    "colab": {
      "name": "maoaoaoa.ipynb",
      "provenance": [],
      "collapsed_sections": []
    },
    "kernelspec": {
      "name": "python3",
      "display_name": "Python 3"
    }
  },
  "cells": [
    {
      "cell_type": "code",
      "metadata": {
        "id": "h5r1HAScfiKQ",
        "colab_type": "code",
        "colab": {}
      },
      "source": [
        "\"\"\"Importing all the relevant libraries we need.\"\"\"\n",
        "\n",
        "import pandas as pd # For data frames\n",
        "import numpy as np # For math and efficient arrays\n",
        "import matplotlib.pyplot as plt # For plotting and visualizing data\n",
        "\n",
        "from sklearn.linear_model import LinearRegression\n",
        "\n",
        "# So plots appear in this notebook\n",
        "%matplotlib inline"
      ],
      "execution_count": 0,
      "outputs": []
    },
    {
      "cell_type": "code",
      "metadata": {
        "id": "tAW1T27WiNA3",
        "colab_type": "code",
        "outputId": "fb206ba3-9591-4e75-ed1e-34ae5180565b",
        "colab": {
          "base_uri": "https://localhost:8080/",
          "height": 35
        }
      },
      "source": [
        "\"\"\" Grab all the data from github, and read it into dataframes\"\"\"\n",
        "\n",
        "# Get the housing price data\n",
        "housing_data = pd.read_csv('https://raw.githubusercontent.com/Mvalentino92/JAVA/master/train.csv')\n",
        "\n",
        "# Print the shape of the data, to see how many instances and features there are\n",
        "print('There are',housing_data.shape[0],'instances,',housing_data.shape[1]-1,\n",
        "      'features and of course 1 label.')"
      ],
      "execution_count": 352,
      "outputs": [
        {
          "output_type": "stream",
          "text": [
            "There are 1460 instances, 80 features and of course 1 label.\n"
          ],
          "name": "stdout"
        }
      ]
    },
    {
      "cell_type": "code",
      "metadata": {
        "id": "hw8nc2P0xQt7",
        "colab_type": "code",
        "colab": {}
      },
      "source": [
        "# EXERCISE: Is there any feature that should be immediately taken out?\n",
        "# Maybe there's one thats there, but it really doesn't supply any reasonably correlated info to salesprice.\n",
        "# Don't think too hard or far when looking! Just take this out right away!\n",
        "\n",
        "# its the first one! Id\n",
        "housing_data = housing_data.drop('Id',axis=1)"
      ],
      "execution_count": 0,
      "outputs": []
    },
    {
      "cell_type": "code",
      "metadata": {
        "id": "HLTvTlHKgt-M",
        "colab_type": "code",
        "colab": {}
      },
      "source": [
        "# Lets seperate the features from the labels\n",
        "features = housing_data.drop('SalePrice',axis=1)\n",
        "labels = housing_data['SalePrice']"
      ],
      "execution_count": 0,
      "outputs": []
    },
    {
      "cell_type": "code",
      "metadata": {
        "id": "QS7_ywpkezFh",
        "colab_type": "code",
        "colab": {}
      },
      "source": [
        "# Lets split the data between categorical and numerical features so we can operate on each easier, and then recombine\n",
        "features_cat = pd.DataFrame()\n",
        "features_num = pd.DataFrame()\n",
        "for ft in features.columns:\n",
        "    if np.dtype(features[ft]) is np.dtype('O'):\n",
        "        features_cat[ft] = features[ft]\n",
        "    else:\n",
        "        features_num[ft] = features[ft]"
      ],
      "execution_count": 0,
      "outputs": []
    },
    {
      "cell_type": "code",
      "metadata": {
        "id": "n7ABi1L6YFuX",
        "colab_type": "code",
        "colab": {}
      },
      "source": [
        "# Lets replace all the NaNs in the categorical dataframe with Missing\n",
        "for ft in features_cat.columns:\n",
        "        features_cat[ft].fillna('Missing',inplace=True)"
      ],
      "execution_count": 0,
      "outputs": []
    },
    {
      "cell_type": "code",
      "metadata": {
        "id": "rAiJ1pSntzxS",
        "colab_type": "code",
        "colab": {}
      },
      "source": [
        "# Now lets onehot encode this, it will return a matrix, so lets call it X_cat to distinguish from dataframes\n",
        "from sklearn.preprocessing import OneHotEncoder\n",
        "onehot = OneHotEncoder(sparse=False)\n",
        "X_cat = onehot.fit_transform(features_cat)"
      ],
      "execution_count": 0,
      "outputs": []
    },
    {
      "cell_type": "code",
      "metadata": {
        "id": "qZBuf5qRhuKH",
        "colab_type": "code",
        "colab": {}
      },
      "source": [
        "# Alright, now let's split the numerical features\n",
        "# Since we need to combine the numerical and previously-categorical features back,\n",
        "# We need to use a specific seed and test_size\n",
        "test_size = 0.20\n",
        "random_state=21\n",
        "\n",
        "from sklearn.model_selection import train_test_split\n",
        "train_features_num, test_features_num = train_test_split(features_num,test_size=test_size,random_state=random_state)"
      ],
      "execution_count": 0,
      "outputs": []
    },
    {
      "cell_type": "code",
      "metadata": {
        "id": "q_vVpHXhjrYg",
        "colab_type": "code",
        "outputId": "f05336d9-aca5-44a0-af24-2c7b5e9f0594",
        "colab": {
          "base_uri": "https://localhost:8080/",
          "height": 53
        }
      },
      "source": [
        "# Okay, now lets use an imputer to replace the NaNs for the numerical features\n",
        "from sklearn.impute import SimpleImputer\n",
        "imputer = SimpleImputer(strategy='mean')\n",
        "imputer.fit(train_features_num)"
      ],
      "execution_count": 359,
      "outputs": [
        {
          "output_type": "execute_result",
          "data": {
            "text/plain": [
              "SimpleImputer(add_indicator=False, copy=True, fill_value=None,\n",
              "              missing_values=nan, strategy='mean', verbose=0)"
            ]
          },
          "metadata": {
            "tags": []
          },
          "execution_count": 359
        }
      ]
    },
    {
      "cell_type": "code",
      "metadata": {
        "id": "xgPP8iSHkmUH",
        "colab_type": "code",
        "colab": {}
      },
      "source": [
        "# The imputer will return a matrix, so we'll call is X_num\n",
        "# Let's fit it to both train and test data\n",
        "X_train_num = imputer.transform(train_features_num)\n",
        "X_test_num = imputer.transform(test_features_num)"
      ],
      "execution_count": 0,
      "outputs": []
    },
    {
      "cell_type": "code",
      "metadata": {
        "id": "YyoE80Sqk5lg",
        "colab_type": "code",
        "colab": {}
      },
      "source": [
        "# Now let's split the previously-categorical feature matrix\n",
        "X_train_cat, X_test_cat = train_test_split(X_cat,test_size=test_size,random_state=random_state)"
      ],
      "execution_count": 0,
      "outputs": []
    },
    {
      "cell_type": "code",
      "metadata": {
        "id": "PltnK83It-S_",
        "colab_type": "code",
        "colab": {}
      },
      "source": [
        "# Lets make polynomial features out of the nums\n",
        "from sklearn.preprocessing import PolynomialFeatures\n",
        "\n",
        "poly = PolynomialFeatures(2)\n",
        "poly.fit(X_train_num)\n",
        "X_train_num_poly = poly.transform(X_train_num)\n",
        "X_test_num_poly = poly.transform(X_test_num)"
      ],
      "execution_count": 0,
      "outputs": []
    },
    {
      "cell_type": "code",
      "metadata": {
        "colab_type": "code",
        "id": "hFTpWTPPIsib",
        "colab": {}
      },
      "source": [
        "# And let's combine all the training and test data now\n",
        "X_train = np.hstack((X_train_num_poly,X_train_cat))\n",
        "X_test = np.hstack((X_test_num_poly,X_test_cat))"
      ],
      "execution_count": 0,
      "outputs": []
    },
    {
      "cell_type": "code",
      "metadata": {
        "colab_type": "code",
        "id": "lvdCZvNSq-vG",
        "colab": {}
      },
      "source": [
        "# Finally, let's actually split the labels! \n",
        "y_train,y_test = train_test_split(np.array(labels),test_size=test_size,random_state=random_state)"
      ],
      "execution_count": 0,
      "outputs": []
    },
    {
      "cell_type": "code",
      "metadata": {
        "id": "kQ1qQ-ATrAzN",
        "colab_type": "code",
        "colab": {}
      },
      "source": [
        "# Functions for adding more meaningful data points\n",
        "def recur(X,avgs,col,minsamples,coldices):\n",
        "\n",
        "    # Base cases, if X is empty or completed columns, return X\n",
        "    if X.shape[0] < minsamples or col == avgs.size:\n",
        "        return X if isinstance(X,list) else [X] \n",
        "\n",
        "    # Split into two parts\n",
        "    less = X[:,coldices[col]] < avgs[coldices[col]]\n",
        "    L = X[less]\n",
        "    GE = X[np.logical_not(less)]\n",
        "\n",
        "    # Recursively call for each\n",
        "    P1 = recur(L,avgs,col+1,minsamples,coldices)\n",
        "    P2 = recur(GE,avgs,col+1,minsamples,coldices)\n",
        "\n",
        "    # Add to list and return\n",
        "    P1.extend(P2)\n",
        "    return P1\n",
        "\n",
        "def addpoints(X,minsamples):\n",
        "\n",
        "    # Column indices to be mixed up\n",
        "    coldices = np.arange(0,X.shape[1])\n",
        "\n",
        "    # Master list of points to return\n",
        "    retval = np.empty((0,X.shape[1]))\n",
        "    size = -1\n",
        "\n",
        "    # List of submatrices to go through\n",
        "    subspaces = [X]\n",
        "\n",
        "    # For maxiter\n",
        "    while retval.shape[0] > size:\n",
        "\n",
        "        # Update size\n",
        "        size = retval.shape[0]\n",
        "\n",
        "        # New subspaces of points list\n",
        "        nextsubspaces = []\n",
        "\n",
        "        # Go through every subspace of points\n",
        "        for ss in subspaces:\n",
        "\n",
        "            # If subspace is empty, continue\n",
        "            if len(ss) == 0:\n",
        "               continue\n",
        "\n",
        "            # Get the average and add these points to master (only unique, could use Sets but whatever)\n",
        "            avgs = np.mean(ss,axis=0)\n",
        "            retval = np.unique(np.vstack((retval,avgs)),axis=0)\n",
        "\n",
        "            # Get all the new points and add to subspaces\n",
        "            np.random.shuffle(coldices)\n",
        "            nextsubspaces.extend(recur(ss,avgs,0,minsamples,coldices))\n",
        "\n",
        "        # next is now subspaces\n",
        "        subspaces = nextsubspaces\n",
        "\n",
        "    # Return retval\n",
        "    return retval\n"
      ],
      "execution_count": 0,
      "outputs": []
    },
    {
      "cell_type": "code",
      "metadata": {
        "id": "PexDnsSurkDg",
        "colab_type": "code",
        "colab": {}
      },
      "source": [
        "# Create new matrix with X and y col appeneded to it\n",
        "M = np.hstack((X_train,y_train.reshape(y_train.shape[0],-1)))"
      ],
      "execution_count": 0,
      "outputs": []
    },
    {
      "cell_type": "code",
      "metadata": {
        "id": "IbQEIY9dsclo",
        "colab_type": "code",
        "colab": {}
      },
      "source": [
        "# Generate new points\n",
        "newM = addpoints(M,65)"
      ],
      "execution_count": 0,
      "outputs": []
    },
    {
      "cell_type": "code",
      "metadata": {
        "id": "E0CmES83smiK",
        "colab_type": "code",
        "colab": {
          "base_uri": "https://localhost:8080/",
          "height": 35
        },
        "outputId": "626c8f52-c807-4975-e8ed-73d28586b767"
      },
      "source": [
        "# Add these to both X_train and y_train\n",
        "newX = newM[:,0:-1]\n",
        "newy = newM[:,-1]\n",
        "\n",
        "# Stack em up\n",
        "X_train_extra = np.vstack((X_train,newX))\n",
        "y_train_extra = np.append(y_train,newy)\n",
        "\n",
        "# How many points did we add?\n",
        "print('Added ',len(newy),'more points')"
      ],
      "execution_count": 368,
      "outputs": [
        {
          "output_type": "stream",
          "text": [
            "Added  45 more points\n"
          ],
          "name": "stdout"
        }
      ]
    },
    {
      "cell_type": "code",
      "metadata": {
        "colab_type": "code",
        "id": "5pnLt_dvIuL6",
        "colab": {}
      },
      "source": [
        "# Now since the values are all over the place, let's use a scaler on the data\n",
        "# Once again, you fit with training data, and transform on training and test data\n",
        "from sklearn.preprocessing import MinMaxScaler\n",
        "\n",
        "# Extra\n",
        "scaler_extra = MinMaxScaler()\n",
        "scaler.fit(X_train_extra)\n",
        "X_train_extra = scaler.transform(X_train_extra)\n",
        "X_test_extra = scaler.transform(X_test)\n",
        "\n",
        "# Original\n",
        "scaler = MinMaxScaler()\n",
        "scaler.fit(X_train)\n",
        "X_train = scaler.transform(X_train)\n",
        "X_test = scaler.transform(X_test)"
      ],
      "execution_count": 0,
      "outputs": []
    },
    {
      "cell_type": "code",
      "metadata": {
        "id": "BmBBJ0H2odvx",
        "colab_type": "code",
        "colab": {}
      },
      "source": [
        "# And compare to the actual values using some accuracy metric\n",
        "# Im going to wrap this in a function\n",
        "import sklearn.metrics as mt\n",
        "\n",
        "def print_accuracies(y_test,y_predict,plot_it=True):\n",
        "    # Mean squared error\n",
        "    print('The MSE is: ',mt.mean_squared_error(y_test,y_predict))\n",
        "\n",
        "    # Mean log squared error, but lets check for negatives first!\n",
        "    hasneg = any([ele < 0 for ele in y_predict])\n",
        "    if not(hasneg):\n",
        "        print('The MSLE is: ',mt.mean_squared_log_error(y_test,y_predict))\n",
        "\n",
        "    # Mean absolute error \n",
        "    print('The MAE is: ',mt.mean_absolute_error(y_test,y_predict))\n",
        "\n",
        "    # mean absolute percfent error\n",
        "    MAPE = np.sum(np.abs((y_test - y_predict)/y_test))*100/len(y_test)\n",
        "    print('The MAPE is: ',MAPE)\n",
        "\n",
        "    # Plot it\n",
        "    if plot_it:\n",
        "        plt.scatter(y_test,y_predict)\n",
        "        plt.scatter(y_test,y_test)"
      ],
      "execution_count": 0,
      "outputs": []
    },
    {
      "cell_type": "code",
      "metadata": {
        "id": "-ITT12yEthrw",
        "colab_type": "code",
        "outputId": "3cfb4f81-8290-4630-93d5-0522e2965d27",
        "colab": {
          "base_uri": "https://localhost:8080/",
          "height": 337
        }
      },
      "source": [
        "from sklearn.linear_model import Ridge\n",
        "\n",
        "# Extra\n",
        "reg = Ridge(alpha=35)\n",
        "reg.fit(X_train_extra,y_train_extra)\n",
        "y_predict = reg.predict(X_test_extra)\n",
        "print_accuracies(y_test,y_predict)"
      ],
      "execution_count": 371,
      "outputs": [
        {
          "output_type": "stream",
          "text": [
            "The MSE is:  1169427844.2787127\n",
            "The MSLE is:  0.018773587580897276\n",
            "The MAE is:  17068.179169079594\n",
            "The MAPE is:  9.504517943351502\n"
          ],
          "name": "stdout"
        },
        {
          "output_type": "display_data",
          "data": {
            "image/png": "[encoded data removed]",
            "text/plain": [
              "<Figure size 432x288 with 1 Axes>"
            ]
          },
          "metadata": {
            "tags": [],
            "needs_background": "light"
          }
        }
      ]
    },
    {
      "cell_type": "code",
      "metadata": {
        "id": "tw4l31FYoO81",
        "colab_type": "code",
        "colab": {
          "base_uri": "https://localhost:8080/",
          "height": 337
        },
        "outputId": "53c9a962-86d8-4a1b-84fa-aba8effade47"
      },
      "source": [
        "# Original\n",
        "reg = Ridge(alpha=35)\n",
        "reg.fit(X_train,y_train)\n",
        "y_predict = reg.predict(X_test)\n",
        "print_accuracies(y_test,y_predict)"
      ],
      "execution_count": 372,
      "outputs": [
        {
          "output_type": "stream",
          "text": [
            "The MSE is:  1170451436.0067265\n",
            "The MSLE is:  0.01880979148753034\n",
            "The MAE is:  17077.588043222153\n",
            "The MAPE is:  9.515607889344473\n"
          ],
          "name": "stdout"
        },
        {
          "output_type": "display_data",
          "data": {
            "image/png": "[encoded data removed]",
            "text/plain": [
              "<Figure size 432x288 with 1 Axes>"
            ]
          },
          "metadata": {
            "tags": [],
            "needs_background": "light"
          }
        }
      ]
    }
  ]
}