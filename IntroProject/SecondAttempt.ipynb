{
  "nbformat": 4,
  "nbformat_minor": 0,
  "metadata": {
    "colab": {
      "name": "Project_Again.ipynb",
      "provenance": [],
      "collapsed_sections": []
    },
    "kernelspec": {
      "name": "python3",
      "display_name": "Python 3"
    }
  },
  "cells": [
    {
      "cell_type": "code",
      "metadata": {
        "id": "h5r1HAScfiKQ",
        "colab_type": "code",
        "colab": {}
      },
      "source": [
        "\"\"\"Importing all the relevant libraries we need.\"\"\"\n",
        "\n",
        "import pandas as pd # For data frames\n",
        "import numpy as np # For math and efficient arrays\n",
        "import matplotlib.pyplot as plt # For plotting and visualizing data\n",
        "\n",
        "# So plots appear in this notebook\n",
        "%matplotlib inline"
      ],
      "execution_count": 0,
      "outputs": []
    },
    {
      "cell_type": "code",
      "metadata": {
        "id": "tAW1T27WiNA3",
        "colab_type": "code",
        "outputId": "ef94cc8c-2959-487b-ac00-1f7bbf15d3e6",
        "colab": {
          "base_uri": "https://localhost:8080/",
          "height": 35
        }
      },
      "source": [
        "\"\"\" Grab all the data from github, and read it into dataframes\"\"\"\n",
        "\n",
        "# Get the housing price data\n",
        "housing_data = pd.read_csv('https://raw.githubusercontent.com/Mvalentino92/JAVA/master/train.csv')\n",
        "\n",
        "# Print the shape of the data, to see how many instances and features there are\n",
        "print('There are',housing_data.shape[0],'instances,',housing_data.shape[1]-1,\n",
        "      'features and of course 1 label.')"
      ],
      "execution_count": 0,
      "outputs": [
        {
          "output_type": "stream",
          "text": [
            "There are 1460 instances, 80 features and of course 1 label.\n"
          ],
          "name": "stdout"
        }
      ]
    },
    {
      "cell_type": "code",
      "metadata": {
        "id": "hw8nc2P0xQt7",
        "colab_type": "code",
        "colab": {}
      },
      "source": [
        "# EXERCISE: Is there any feature that should be immediately taken out?\n",
        "# Maybe there's one thats there, but it really doesn't supply any reasonably correlated info to salesprice.\n",
        "# Don't think too hard or far when looking! Just take this out right away!\n",
        "\n",
        "# its the first one! Id\n",
        "housing_data = housing_data.drop('Id',axis=1)"
      ],
      "execution_count": 0,
      "outputs": []
    },
    {
      "cell_type": "code",
      "metadata": {
        "id": "HLTvTlHKgt-M",
        "colab_type": "code",
        "colab": {}
      },
      "source": [
        "# Lets seperate the features from the labels\n",
        "features = housing_data.drop('SalePrice',axis=1)\n",
        "labels = housing_data['SalePrice']"
      ],
      "execution_count": 0,
      "outputs": []
    },
    {
      "cell_type": "code",
      "metadata": {
        "id": "QS7_ywpkezFh",
        "colab_type": "code",
        "colab": {}
      },
      "source": [
        "# Lets split the data between categorical and numerical features so we can operate on each easier, and then recombine\n",
        "features_cat = pd.DataFrame()\n",
        "features_num = pd.DataFrame()\n",
        "for ft in features.columns:\n",
        "    if np.dtype(features[ft]) is np.dtype('O'):\n",
        "        features_cat[ft] = features[ft]\n",
        "    else:\n",
        "        features_num[ft] = features[ft]"
      ],
      "execution_count": 0,
      "outputs": []
    },
    {
      "cell_type": "code",
      "metadata": {
        "id": "n7ABi1L6YFuX",
        "colab_type": "code",
        "colab": {}
      },
      "source": [
        "# Lets replace all the NaNs in the categorical dataframe with Missing\n",
        "for ft in features_cat.columns:\n",
        "        features_cat[ft].fillna('Missing',inplace=True)"
      ],
      "execution_count": 0,
      "outputs": []
    },
    {
      "cell_type": "code",
      "metadata": {
        "id": "rAiJ1pSntzxS",
        "colab_type": "code",
        "colab": {}
      },
      "source": [
        "# Now lets onehot encode this, it will return a matrix, so lets call it X_cat to distinguish from dataframes\n",
        "from sklearn.preprocessing import OneHotEncoder\n",
        "onehot = OneHotEncoder(sparse=False)\n",
        "X_cat = onehot.fit_transform(features_cat)"
      ],
      "execution_count": 0,
      "outputs": []
    },
    {
      "cell_type": "code",
      "metadata": {
        "id": "qZBuf5qRhuKH",
        "colab_type": "code",
        "colab": {}
      },
      "source": [
        "# Alright, now let's split the numerical features\n",
        "# Since we need to combine the numerical and previously-categorical features back,\n",
        "# We need to use a specific seed and test_size\n",
        "test_size = 0.20\n",
        "random_state=23\n",
        "\n",
        "from sklearn.model_selection import train_test_split\n",
        "train_features_num, test_features_num = train_test_split(features_num,test_size=test_size,random_state=random_state)"
      ],
      "execution_count": 0,
      "outputs": []
    },
    {
      "cell_type": "code",
      "metadata": {
        "id": "q_vVpHXhjrYg",
        "colab_type": "code",
        "outputId": "ab3beed9-44dd-48b1-e1de-14bfbbd27976",
        "colab": {
          "base_uri": "https://localhost:8080/",
          "height": 53
        }
      },
      "source": [
        "# Okay, now lets use an imputer to replace the NaNs for the numerical features\n",
        "from sklearn.impute import SimpleImputer\n",
        "imputer = SimpleImputer(strategy='mean')\n",
        "imputer.fit(train_features_num)"
      ],
      "execution_count": 0,
      "outputs": [
        {
          "output_type": "execute_result",
          "data": {
            "text/plain": [
              "SimpleImputer(add_indicator=False, copy=True, fill_value=None,\n",
              "              missing_values=nan, strategy='mean', verbose=0)"
            ]
          },
          "metadata": {
            "tags": []
          },
          "execution_count": 163
        }
      ]
    },
    {
      "cell_type": "code",
      "metadata": {
        "id": "xgPP8iSHkmUH",
        "colab_type": "code",
        "colab": {}
      },
      "source": [
        "# The imputer will return a matrix, so we'll call is X_num\n",
        "# Let's fit it to both train and test data\n",
        "X_train_num = imputer.transform(train_features_num)\n",
        "X_test_num = imputer.transform(test_features_num)"
      ],
      "execution_count": 0,
      "outputs": []
    },
    {
      "cell_type": "code",
      "metadata": {
        "id": "YyoE80Sqk5lg",
        "colab_type": "code",
        "colab": {}
      },
      "source": [
        "# Now let's split the previously-categorical feature matrix\n",
        "X_train_cat, X_test_cat = train_test_split(X_cat,test_size=test_size,random_state=random_state)"
      ],
      "execution_count": 0,
      "outputs": []
    },
    {
      "cell_type": "code",
      "metadata": {
        "id": "-sLM7mrzliAQ",
        "colab_type": "code",
        "colab": {}
      },
      "source": [
        "# And let's combine all the training and test data now\n",
        "X_train = np.hstack((X_train_num,X_train_cat))\n",
        "X_test = np.hstack((X_test_num,X_test_cat))"
      ],
      "execution_count": 0,
      "outputs": []
    },
    {
      "cell_type": "code",
      "metadata": {
        "id": "ifAoOnytmdHg",
        "colab_type": "code",
        "colab": {}
      },
      "source": [
        "# Finally, let's actually split the labels! \n",
        "y_train,y_test = train_test_split(np.array(labels),test_size=test_size,random_state=random_state)"
      ],
      "execution_count": 0,
      "outputs": []
    },
    {
      "cell_type": "code",
      "metadata": {
        "id": "0ckD-X7BnRa6",
        "colab_type": "code",
        "colab": {}
      },
      "source": [
        "# Now since the values are all over the place, let's use a scaler on the data\n",
        "# Once again, you fit with training data, and transform on training and test data\n",
        "from sklearn.preprocessing import MinMaxScaler\n",
        "scaler = MinMaxScaler()\n",
        "scaler.fit(X_train)\n",
        "X_train = scaler.transform(X_train)\n",
        "X_test = scaler.transform(X_test)\n",
        "\n",
        "# EXERCISEEEE:  Maybe try a different Scaler, or change the parameters for Minmax?"
      ],
      "execution_count": 0,
      "outputs": []
    },
    {
      "cell_type": "code",
      "metadata": {
        "id": "K2oezDyhoJZ4",
        "colab_type": "code",
        "outputId": "c6aed9a0-ae66-4eab-e3d5-134396b8603e",
        "colab": {
          "base_uri": "https://localhost:8080/",
          "height": 35
        }
      },
      "source": [
        "# Time to build a simple linear regression and see how it works!\n",
        "from sklearn.linear_model import LinearRegression\n",
        "reg = LinearRegression()\n",
        "reg.fit(X_train,y_train)"
      ],
      "execution_count": 0,
      "outputs": [
        {
          "output_type": "execute_result",
          "data": {
            "text/plain": [
              "LinearRegression(copy_X=True, fit_intercept=True, n_jobs=None, normalize=False)"
            ]
          },
          "metadata": {
            "tags": []
          },
          "execution_count": 169
        }
      ]
    },
    {
      "cell_type": "code",
      "metadata": {
        "colab_type": "code",
        "id": "TXraDfRxq70F",
        "colab": {}
      },
      "source": [
        "# lets use it predict values\n",
        "y_predict = reg.predict(X_test)"
      ],
      "execution_count": 0,
      "outputs": []
    },
    {
      "cell_type": "code",
      "metadata": {
        "id": "BmBBJ0H2odvx",
        "colab_type": "code",
        "colab": {}
      },
      "source": [
        "# And compare to the actual values using some accuracy metric\n",
        "# Im going to wrap this in a function\n",
        "import sklearn.metrics as mt\n",
        "\n",
        "def print_accuracies(y_test,y_predict):\n",
        "    # Mean squared error\n",
        "    print('The MSE is: ',mt.mean_squared_error(y_test,y_predict))\n",
        "\n",
        "    # Mean log squared error, but lets check for negatives first!\n",
        "    hasneg = any([ele < 0 for ele in y_predict])\n",
        "    if not(hasneg):\n",
        "        print('The MSLE is: ',mt.mean_squared_log_error(y_test,y_predict))\n",
        "\n",
        "    # Mean absolute error \n",
        "    print('The MAE is: ',mt.mean_absolute_error(y_test,y_predict))\n",
        "\n",
        "    # mean absolute percfent error\n",
        "    MAPE = np.sum(np.abs((y_test - y_predict)/y_test))*100/len(y_test)\n",
        "    print('The MAPE is: ',MAPE)\n",
        "\n",
        "    # Plot it\n",
        "    plt.scatter(y_test,y_predict)\n",
        "    plt.scatter(y_test,y_test)"
      ],
      "execution_count": 0,
      "outputs": []
    },
    {
      "cell_type": "code",
      "metadata": {
        "id": "xTMdgp33o3Jx",
        "colab_type": "code",
        "outputId": "fbe6fe2a-505a-43b7-92de-0d57fb83c5c4",
        "colab": {
          "base_uri": "https://localhost:8080/",
          "height": 330
        }
      },
      "source": [
        "print_accuracies(y_test,y_predict)"
      ],
      "execution_count": 0,
      "outputs": [
        {
          "output_type": "stream",
          "text": [
            "The MSE is:  1.117341477391939e+26\n",
            "The MAE is:  933003099755.9812\n",
            "The MAPE is:  1269793428.6079714\n"
          ],
          "name": "stdout"
        },
        {
          "output_type": "display_data",
          "data": {
            "image/png": "[encoded data removed]",
            "text/plain": [
              "<Figure size 432x288 with 1 Axes>"
            ]
          },
          "metadata": {
            "tags": [],
            "needs_background": "light"
          }
        }
      ]
    },
    {
      "cell_type": "code",
      "metadata": {
        "id": "vmjFINSbuudn",
        "colab_type": "code",
        "outputId": "6bd78906-858e-4abe-abc1-a76241834f34",
        "colab": {
          "base_uri": "https://localhost:8080/",
          "height": 355
        }
      },
      "source": [
        "# Lets see what these coefficient are. I'm curious how with linear regression, a value can get to the magnitue of e14\n",
        "print(np.max(reg.coef_))\n",
        "\n",
        "# Hmm, lets drop a regularized model.\n",
        "from sklearn.linear_model import Ridge\n",
        "\n",
        "# Lets just set Alpha to 1, which is the default anyway\n",
        "ridge = Ridge(alpha=8)\n",
        "\n",
        "# Fit it\n",
        "ridge.fit(X_train,y_train)\n",
        "\n",
        "# And predict\n",
        "y_predict = ridge.predict(X_test)\n",
        "\n",
        "print_accuracies(y_test,y_predict)"
      ],
      "execution_count": 0,
      "outputs": [
        {
          "output_type": "stream",
          "text": [
            "814879785631267.4\n",
            "The MSE is:  542747320.4197364\n",
            "The MSLE is:  0.020901397100307865\n",
            "The MAE is:  17254.876004055855\n",
            "The MAPE is:  10.916812681613132\n"
          ],
          "name": "stdout"
        },
        {
          "output_type": "display_data",
          "data": {
            "image/png": "[encoded data removed]",
            "text/plain": [
              "<Figure size 432x288 with 1 Axes>"
            ]
          },
          "metadata": {
            "tags": [],
            "needs_background": "light"
          }
        }
      ]
    },
    {
      "cell_type": "code",
      "metadata": {
        "id": "FzsvYSeWuRam",
        "colab_type": "code",
        "outputId": "b89df23c-ed2e-4731-e47b-bef19674d7cf",
        "colab": {
          "base_uri": "https://localhost:8080/",
          "height": 337
        }
      },
      "source": [
        "# EXERCISE TIME. So the original linear regression is pretty awful right? There's only 6 values that are INSANELY off.\n",
        "# Could you change the limits of the plot so we can check out if all the other predictions were good?\n",
        "# Despite the coefficients being too large and needing to be regularized.\n",
        "# Or filter out these outlier predictions from the predictions (and corresponding label) to see what the accuracies are \n",
        "# without them? Try below!!\n",
        "\n",
        "# Lets check it out, by just pulling out values that greater than say double the most expensive house.\n",
        "most_expensive = np.max(y_test)\n",
        "indices_to_keep = np.array([],dtype=int)\n",
        "\n",
        "for i in range(0,len(y_test)):\n",
        "    if np.abs(y_predict[i]) < most_expensive*2:\n",
        "        indices_to_keep = np.append(indices_to_keep,i) \n",
        "\n",
        "print_accuracies(y_test[indices_to_keep],y_predict[indices_to_keep])"
      ],
      "execution_count": 0,
      "outputs": [
        {
          "output_type": "stream",
          "text": [
            "The MSE is:  542747320.4197364\n",
            "The MSLE is:  0.020901397100307865\n",
            "The MAE is:  17254.876004055855\n",
            "The MAPE is:  10.916812681613132\n"
          ],
          "name": "stdout"
        },
        {
          "output_type": "display_data",
          "data": {
            "image/png": "[encoded data removed]",
            "text/plain": [
              "<Figure size 432x288 with 1 Axes>"
            ]
          },
          "metadata": {
            "tags": [],
            "needs_background": "light"
          }
        }
      ]
    },
    {
      "cell_type": "code",
      "metadata": {
        "id": "mGEVyHz5umn7",
        "colab_type": "code",
        "outputId": "64ed6c89-8f06-4ff3-ebd5-55261103583a",
        "colab": {
          "base_uri": "https://localhost:8080/",
          "height": 35
        }
      },
      "source": [
        "# Okay, let's try some polynomial features. Although, I don't want to use the onehot encoded features\n",
        "# When I generate this. It's just going to multiply a lot of things by 0 and 1, and not really introduce \n",
        "# new information. Plus it saves us on A LOT of features!\n",
        "# Let's only use the numerical features, luckily we have all that saved\n",
        "from sklearn.preprocessing import PolynomialFeatures\n",
        "poly = PolynomialFeatures(2) # Do quadratic only\n",
        "poly.fit(X_train_num) # We can just fit it with the train data, and transform both\n",
        "X_train_num_poly = poly.transform(X_train_num)\n",
        "X_test_num_poly = poly.transform(X_test_num)"
      ],
      "execution_count": 0,
      "outputs": [
        {
          "output_type": "execute_result",
          "data": {
            "text/plain": [
              "(292, 703)"
            ]
          },
          "metadata": {
            "tags": []
          },
          "execution_count": 227
        }
      ]
    },
    {
      "cell_type": "code",
      "metadata": {
        "id": "GQMMnBVSu6xv",
        "colab_type": "code",
        "colab": {}
      },
      "source": [
        "# Now we're just going redo the last couple cells again below, they should look familiar!"
      ],
      "execution_count": 0,
      "outputs": []
    },
    {
      "cell_type": "code",
      "metadata": {
        "colab_type": "code",
        "id": "QuVyOv8gwA_t",
        "outputId": "3886d2ab-7fbd-4d1f-abcd-ab8806ec23fc",
        "colab": {
          "base_uri": "https://localhost:8080/",
          "height": 35
        }
      },
      "source": [
        "# And let's combine all the training and test data now\n",
        "X_train_poly = np.hstack((X_train_num_poly,X_train_cat))\n",
        "X_test_poly = np.hstack((X_test_num_poly,X_test_cat))"
      ],
      "execution_count": 0,
      "outputs": [
        {
          "output_type": "execute_result",
          "data": {
            "text/plain": [
              "(1168, 971)"
            ]
          },
          "metadata": {
            "tags": []
          },
          "execution_count": 226
        }
      ]
    },
    {
      "cell_type": "code",
      "metadata": {
        "colab_type": "code",
        "id": "ZX5gS_CLwINX",
        "colab": {}
      },
      "source": [
        "# Now since the values are all over the place, let's use a scaler on the data\n",
        "# Once again, you fit with training data, and transform on training and test data\n",
        "from sklearn.preprocessing import MinMaxScaler\n",
        "scaler = MinMaxScaler()\n",
        "scaler.fit(X_train_poly)\n",
        "X_train_poly = scaler.transform(X_train_poly)\n",
        "X_test_poly = scaler.transform(X_test_poly)"
      ],
      "execution_count": 0,
      "outputs": []
    },
    {
      "cell_type": "code",
      "metadata": {
        "colab_type": "code",
        "outputId": "15687f77-6cf1-4577-9d86-6e68222363da",
        "id": "ac_exb02wL42",
        "colab": {
          "base_uri": "https://localhost:8080/",
          "height": 35
        }
      },
      "source": [
        "# Time to build a polynomial regression and see how it works!\n",
        "from sklearn.linear_model import LinearRegression\n",
        "reg = LinearRegression()\n",
        "reg.fit(X_train_poly,y_train)"
      ],
      "execution_count": 0,
      "outputs": [
        {
          "output_type": "execute_result",
          "data": {
            "text/plain": [
              "LinearRegression(copy_X=True, fit_intercept=True, n_jobs=None, normalize=False)"
            ]
          },
          "metadata": {
            "tags": []
          },
          "execution_count": 179
        }
      ]
    },
    {
      "cell_type": "code",
      "metadata": {
        "colab_type": "code",
        "id": "3v_jSpjawNpN",
        "colab": {}
      },
      "source": [
        "# Lets use it predict values\n",
        "y_predict = reg.predict(X_test_poly)"
      ],
      "execution_count": 0,
      "outputs": []
    },
    {
      "cell_type": "code",
      "metadata": {
        "colab_type": "code",
        "outputId": "87c21567-579d-4b21-d062-0497809e32bd",
        "id": "IRR6AwHvwP9c",
        "colab": {
          "base_uri": "https://localhost:8080/",
          "height": 330
        }
      },
      "source": [
        "print_accuracies(y_test,y_predict)"
      ],
      "execution_count": 0,
      "outputs": [
        {
          "output_type": "stream",
          "text": [
            "The MSE is:  5.372108840385226e+25\n",
            "The MAE is:  1221018299660.749\n",
            "The MAPE is:  1044327294.6228932\n"
          ],
          "name": "stdout"
        },
        {
          "output_type": "display_data",
          "data": {
            "image/png": "[encoded data removed]",
            "text/plain": [
              "<Figure size 432x288 with 1 Axes>"
            ]
          },
          "metadata": {
            "tags": [],
            "needs_background": "light"
          }
        }
      ]
    },
    {
      "cell_type": "code",
      "metadata": {
        "id": "GcxgiqWIwsRA",
        "colab_type": "code",
        "colab": {}
      },
      "source": [
        "# Alright, let's use regularization on this polynomial too, to prevent overfitting.\n",
        "# We'll use ridge regression for this!\n",
        "# Basically it's going to be the same stuff, but instead of LinearRegression model, we use Ridge!\n",
        "\n",
        "# Dont need to redo any variables, they are all good where we left off.\n",
        "\n",
        "# Lets just set Alpha to 1, which is the default anyway\n",
        "ridge = Ridge(alpha=35)\n",
        "\n",
        "# Fit it\n",
        "ridge.fit(X_train_poly,y_train)\n",
        "\n",
        "# And predict\n",
        "y_predict = ridge.predict(X_test_poly)"
      ],
      "execution_count": 0,
      "outputs": []
    },
    {
      "cell_type": "code",
      "metadata": {
        "id": "zyVlPg2Vymfu",
        "colab_type": "code",
        "outputId": "a2ab0cf8-21b9-4aa1-a766-8a2c2e3545cf",
        "colab": {
          "base_uri": "https://localhost:8080/",
          "height": 337
        }
      },
      "source": [
        "# And measure accuracy again\n",
        "print_accuracies(y_test,y_predict)"
      ],
      "execution_count": 0,
      "outputs": [
        {
          "output_type": "stream",
          "text": [
            "The MSE is:  445776949.09805256\n",
            "The MSLE is:  0.016763316477890516\n",
            "The MAE is:  15080.577358702389\n",
            "The MAPE is:  9.467714393509702\n"
          ],
          "name": "stdout"
        },
        {
          "output_type": "display_data",
          "data": {
            "image/png": "[encoded data removed]",
            "text/plain": [
              "<Figure size 432x288 with 1 Axes>"
            ]
          },
          "metadata": {
            "tags": [],
            "needs_background": "light"
          }
        }
      ]
    },
    {
      "cell_type": "code",
      "metadata": {
        "id": "BGuI_p5jywFo",
        "colab_type": "code",
        "outputId": "f617df2d-6aab-489f-f61c-2524c3dfeef7",
        "colab": {
          "base_uri": "https://localhost:8080/",
          "height": 337
        }
      },
      "source": [
        "# THERE WE, THATS WHAT IM TALKING ABOUT.\n",
        "# Not bad I guess 10 percent error. \n",
        "\n",
        "\n",
        "# EXERCIIIIISEEEE: Experiment with Alpha, try changing it to see what happens\n",
        "\n",
        "# Lets impose a greater alpha\n",
        "# Dont need to redo any variables, they are all good where we left off.\n",
        "from sklearn.linear_model import Ridge\n",
        "\n",
        "# Lets try alpha 50\n",
        "ridge = Ridge(alpha=50)\n",
        "\n",
        "# Fit it\n",
        "ridge.fit(X_train_poly,y_train)\n",
        "\n",
        "# And predict\n",
        "y_predict = ridge.predict(X_test_poly)\n",
        "\n",
        "# And measure accuracy again\n",
        "print_accuracies(y_test,y_predict)"
      ],
      "execution_count": 0,
      "outputs": [
        {
          "output_type": "stream",
          "text": [
            "The MSE is:  452934342.1431993\n",
            "The MSLE is:  0.016640081452700486\n",
            "The MAE is:  15092.372095816814\n",
            "The MAPE is:  9.435879158068383\n"
          ],
          "name": "stdout"
        },
        {
          "output_type": "display_data",
          "data": {
            "image/png": "[encoded data removed]",
            "text/plain": [
              "<Figure size 432x288 with 1 Axes>"
            ]
          },
          "metadata": {
            "tags": [],
            "needs_background": "light"
          }
        }
      ]
    },
    {
      "cell_type": "code",
      "metadata": {
        "id": "rpmoWjYMKhNS",
        "colab_type": "code",
        "colab": {}
      },
      "source": [
        "# Alright, let's use a random forest now.\n",
        "# But first let's redo our training and test data, because I want to use the original\n",
        "# and not the result of polynomial features. Also, we don't need scaling for decision trees.\n",
        "\n",
        "# Actually, using Poly features for this works better and just keep scaling, makes no difference\n",
        "from sklearn.ensemble import RandomForestRegressor\n",
        "\n",
        "# Regularization of a decision tree is achieved by reducing the max depth. The default is None,\n",
        "# We have 80 features, so let's try a depht of 10, with 256 trees.\n",
        "rf = RandomForestRegressor(n_estimators=256,max_depth=15,min_samples_leaf=5,random_state=23)\n",
        "\n",
        "# Fit the random forest\n",
        "rf.fit(X_train_poly,y_train)\n",
        "\n",
        "# And predict\n",
        "y_predict = rf.predict(X_test_poly)"
      ],
      "execution_count": 0,
      "outputs": []
    },
    {
      "cell_type": "code",
      "metadata": {
        "id": "fXVAGIQ-Ne21",
        "colab_type": "code",
        "outputId": "0b7f2a93-e55b-4864-cbf6-6eabea365761",
        "colab": {
          "base_uri": "https://localhost:8080/",
          "height": 337
        }
      },
      "source": [
        "# And measure accuracy again\n",
        "print_accuracies(y_test,y_predict)"
      ],
      "execution_count": 0,
      "outputs": [
        {
          "output_type": "stream",
          "text": [
            "The MSE is:  481296447.2610429\n",
            "The MSLE is:  0.020023333069183212\n",
            "The MAE is:  15227.992612580258\n",
            "The MAPE is:  9.860175727837687\n"
          ],
          "name": "stdout"
        },
        {
          "output_type": "display_data",
          "data": {
            "image/png": "[encoded data removed]",
            "text/plain": [
              "<Figure size 432x288 with 1 Axes>"
            ]
          },
          "metadata": {
            "tags": [],
            "needs_background": "light"
          }
        }
      ]
    },
    {
      "cell_type": "code",
      "metadata": {
        "id": "5eQI_CNRNfmu",
        "colab_type": "code",
        "colab": {}
      },
      "source": [
        "# Hey pretty good!\n",
        "# Alright lets try pythons gradient boosting, again we don't need scaling because it uses trees\n",
        "from sklearn.ensemble import GradientBoostingRegressor\n",
        "\n",
        "# Try with some default parameters\n",
        "bst = GradientBoostingRegressor(subsample=0.65,learning_rate=0.025,n_estimators=512)\n",
        "\n",
        "# Train it\n",
        "bst.fit(X_train_poly,y_train)\n",
        "\n",
        "# Get predictions\n",
        "y_predict = bst.predict(X_test_poly)"
      ],
      "execution_count": 0,
      "outputs": []
    },
    {
      "cell_type": "code",
      "metadata": {
        "id": "zgeS8GmQN-q2",
        "colab_type": "code",
        "outputId": "16fcfc32-6202-48b6-db1f-727b09a1df1b",
        "colab": {
          "base_uri": "https://localhost:8080/",
          "height": 337
        }
      },
      "source": [
        "# And measure accuracy again\n",
        "print_accuracies(y_test,y_predict)"
      ],
      "execution_count": 0,
      "outputs": [
        {
          "output_type": "stream",
          "text": [
            "The MSE is:  381098721.7751767\n",
            "The MSLE is:  0.015421152859103495\n",
            "The MAE is:  13339.264436234787\n",
            "The MAPE is:  8.492316173423573\n"
          ],
          "name": "stdout"
        },
        {
          "output_type": "display_data",
          "data": {
            "image/png": "[encoded data removed]",
            "text/plain": [
              "<Figure size 432x288 with 1 Axes>"
            ]
          },
          "metadata": {
            "tags": [],
            "needs_background": "light"
          }
        }
      ]
    },
    {
      "cell_type": "code",
      "metadata": {
        "id": "RanT7qgaOBZr",
        "colab_type": "code",
        "outputId": "11cf40af-6f86-4fb5-dd43-67a7ad4020be",
        "colab": {
          "base_uri": "https://localhost:8080/",
          "height": 499
        }
      },
      "source": [
        "# Alright similar performance, would we get more of a return for changing the number of estimators?\n",
        "# We do! (I changed it from 64 to 256 and the MSLE went from 0.022 to 0.015!!!) A new record!\n",
        "# Will change if you run this, not setting seed.\n",
        "\n",
        "# Now, let's try neural networks, but first lets check something from the random forest regressor.\n",
        "# Theres a variable bound to the predictor called feature_importances_ which breaks down the importance\n",
        "# Of each feature percent wise (all add up to 1).\n",
        "# We first need to create an array of all the feature lables.\n",
        "# Luckily we can do this easily by grabbing the column names from features_num,\n",
        "# And from building the feature names from the onehot encoder.\n",
        "rf = RandomForestRegressor(n_estimators=256,max_depth=15,min_samples_leaf=5,random_state=23)\n",
        "rf.fit(X_train,y_train)\n",
        "y_predict = rf.predict(X_test)\n",
        "\n",
        "category_names = features_num.columns.copy()\n",
        "for cat in onehot.categories_:\n",
        "    category_names = np.append(category_names,cat)\n",
        "\n",
        "# Lets confirm the dimensions agree\n",
        "if len(category_names == X_train.shape[1]):\n",
        "    print(\"Agree!\\n\")\n",
        "\n",
        "# Now lets argsort and list the top 10 features and their contribution\n",
        "index_sort =  np.argsort(rf.feature_importances_)\n",
        "index_sort = index_sort[::-1]\n",
        "category_names = category_names[index_sort]\n",
        "feat_imp = rf.feature_importances_[index_sort]\n",
        "\n",
        "for i in range(0,10):\n",
        "    print(category_names[i],\": \",feat_imp[i])\n",
        "\n",
        "# WOW, overall quality has the most impact on the data BY FAR. According to random forest.\n",
        "# Lets plot the correlation with that real quick\n",
        "plt.scatter(housing_data['OverallQual'],housing_data['SalePrice'])\n",
        "\n",
        "# Its hard to tell the relationship since it has ordinal values.\n",
        "# It looks like it might a higher order than linear.\n",
        "# Regardless, lets make a custom polynomial fitter to add a few extra features\n",
        "# using OverallQual. Lets add extra columns, this feature multiplied by every other feature\n",
        "\n",
        "# Lets print the index of this X_train and X_test\n",
        "print(\"Index is: \",index_sort[0])"
      ],
      "execution_count": 0,
      "outputs": [
        {
          "output_type": "stream",
          "text": [
            "Agree!\n",
            "\n",
            "OverallQual :  0.6281180342132159\n",
            "GrLivArea :  0.11709943048024106\n",
            "TotalBsmtSF :  0.03502756052917746\n",
            "BsmtFinSF1 :  0.028698081348085446\n",
            "1stFlrSF :  0.02192043065330044\n",
            "GarageCars :  0.015623212819577745\n",
            "GarageArea :  0.01476457824178977\n",
            "2ndFlrSF :  0.013526275918403025\n",
            "FullBath :  0.01037248122998587\n",
            "YearBuilt :  0.010368725361987036\n",
            "Index is:  3\n"
          ],
          "name": "stdout"
        },
        {
          "output_type": "display_data",
          "data": {
            "image/png": "[encoded data removed]",
            "text/plain": [
              "<Figure size 432x288 with 1 Axes>"
            ]
          },
          "metadata": {
            "tags": [],
            "needs_background": "light"
          }
        }
      ]
    },
    {
      "cell_type": "code",
      "metadata": {
        "id": "Ue6opYixcC64",
        "colab_type": "code",
        "colab": {}
      },
      "source": [
        "# Custom base to achieve the above\n",
        "from sklearn.base import BaseEstimator,TransformerMixin\n",
        "class CustomPolyFeatures(BaseEstimator,TransformerMixin):\n",
        "    def __init__(self,index):\n",
        "        self.index = index\n",
        "    def fit(self, X, y = None):\n",
        "        return self\n",
        "    def transform(self,X, y = None):\n",
        "        target = X[:,self.index].reshape(-1,1)\n",
        "        for coldex in range(0,X.shape[1]):\n",
        "            X = np.hstack((X,X[:,coldex].reshape(-1,1)*target))\n",
        "        return X"
      ],
      "execution_count": 0,
      "outputs": []
    },
    {
      "cell_type": "code",
      "metadata": {
        "id": "9MbIByWcdBqj",
        "colab_type": "code",
        "colab": {}
      },
      "source": [
        "# Apply it. \n",
        "custom_poly = CustomPolyFeatures(index_sort[0])\n",
        "X_train_cp = custom_poly.fit_transform(X_train)\n",
        "X_test_cp = custom_poly.fit_transform(X_test)"
      ],
      "execution_count": 0,
      "outputs": []
    },
    {
      "cell_type": "code",
      "metadata": {
        "id": "v2zxBsiTeQ5e",
        "colab_type": "code",
        "outputId": "3be0bd28-4d46-44fa-f255-1245f3c9c918",
        "colab": {
          "base_uri": "https://localhost:8080/",
          "height": 337
        }
      },
      "source": [
        "# Lets try ridge regression again\n",
        "scaler = MinMaxScaler()\n",
        "scaler.fit(X_train_cp)\n",
        "X_train_cp = scaler.transform(X_train_cp)\n",
        "X_test_cp = scaler.transform(X_test_cp)\n",
        "\n",
        "ridge = Ridge(alpha=32)\n",
        "ridge.fit(X_train_cp,y_train)\n",
        "\n",
        "y_predict = ridge.predict(X_test_cp)\n",
        "\n",
        "print_accuracies(y_test,y_predict)"
      ],
      "execution_count": 0,
      "outputs": [
        {
          "output_type": "stream",
          "text": [
            "The MSE is:  521362408.545238\n",
            "The MSLE is:  0.019553673599262168\n",
            "The MAE is:  16625.035674073988\n",
            "The MAPE is:  10.418409699880648\n"
          ],
          "name": "stdout"
        },
        {
          "output_type": "display_data",
          "data": {
            "image/png": "[encoded data removed]",
            "text/plain": [
              "<Figure size 432x288 with 1 Axes>"
            ]
          },
          "metadata": {
            "tags": [],
            "needs_background": "light"
          }
        }
      ]
    },
    {
      "cell_type": "code",
      "metadata": {
        "id": "ncRlnlePgrJv",
        "colab_type": "code",
        "outputId": "287c3d4d-8179-4dd8-e503-815e511a7ec0",
        "colab": {
          "base_uri": "https://localhost:8080/",
          "height": 337
        }
      },
      "source": [
        "# Across all the accuracy tests, more or less the same results as the original\n",
        "# Okay, lets do neural networks, so far our winner is gradient boosting\n",
        "\n",
        "# lets quickly get and scale fresh values again\n",
        "X_train = np.hstack((X_train_num,X_train_cat))\n",
        "X_test = np.hstack((X_test_num,X_test_cat))\n",
        "scaler = MinMaxScaler()\n",
        "scaler.fit(X_train)\n",
        "X_train = scaler.transform(X_train)\n",
        "X_test = scaler.transform(X_test)\n",
        "\n",
        "import tensorflow as tf\n",
        "from tensorflow import keras\n",
        "\n",
        "# Change these like how I have them.\n",
        "# You can use any of the activation functions found here\n",
        "# https://keras.io/activations\n",
        "# Change the activation, or change the number in the layers. Or add a new layer \n",
        "# Just make sure it still matches.\n",
        "input_ = keras.layers.Input(shape=X_train.shape[1:])\n",
        "layer1 = keras.layers.Dense(128,activation='relu')(input_)\n",
        "layer2 = keras.layers.Dense(256,activation='exponential')(layer1)\n",
        "layer3 = keras.layers.Dense(100,activation='elu')(layer2)\n",
        "layer4 = keras.layers.Dense(256,activation='exponential')(layer3)\n",
        "layer5 = keras.layers.Dense(128,activation='relu')(layer4)\n",
        "output_ = keras.layers.Dense(1)(layer5)\n",
        "\n",
        "model = keras.Model(inputs=input_,outputs=output_)\n",
        "model.compile(loss='mean_squared_error',optimizer='adam')\n",
        "model.fit(X_train,y_train,epochs=256,verbose=0)\n",
        "\n",
        "y_predict = model.predict(X_test).T[0]\n",
        "\n",
        "print_accuracies(y_test,y_predict)"
      ],
      "execution_count": 0,
      "outputs": [
        {
          "output_type": "stream",
          "text": [
            "The MSE is:  628162006.2777566\n",
            "The MSLE is:  0.02161877566000603\n",
            "The MAE is:  17563.314025042808\n",
            "The MAPE is:  10.731750621276376\n"
          ],
          "name": "stdout"
        },
        {
          "output_type": "display_data",
          "data": {
            "image/png": "[encoded data removed]",
            "text/plain": [
              "<Figure size 432x288 with 1 Axes>"
            ]
          },
          "metadata": {
            "tags": [],
            "needs_background": "light"
          }
        }
      ]
    },
    {
      "cell_type": "code",
      "metadata": {
        "id": "atVUrxcM917R",
        "colab_type": "code",
        "colab": {}
      },
      "source": [
        "# Let's get python to optimize the parameters of a neural network for us. \n",
        "# Too much work to manually do. \n",
        "# Going to use the dual annealing optimizer (simulated annelaing), but i'm going to throw in some\n",
        "# rounding to the objective function, since this sim anneal implementation is for real values\n",
        "# It's not ideal at all, but it's a quick way to let me use the function even if paramters I have are \n",
        "# categorical (all the activation function)\n",
        "# This in general will be essentially a random search. The amount of max function calls\n",
        "# I will impose on this process, really won't allow the algorithms mechanisms to work.\n",
        "# but hey, it's quicker than writing a random search myself! (maybe)\n",
        "\n",
        "# First we need to define our objective function\n",
        "count = 0\n",
        "def obj(x, *args):\n",
        "\n",
        "    # The elements of x, hold our values for the neural network\n",
        "    # The first 3 represent the number of neurons for each layer (we're building 3 layers)\n",
        "    # The next 3, are the integer encodings for what activation function to use (where args will handle)\n",
        "    # And finally the number of epochs.\n",
        "    # Also, args actually has all  the training and test data too.\n",
        "    # Let's begin to build the neural network\n",
        "    X_train,y_train,X_test,y_test = args[5:] # (0 through 4 are the encodings for activation layers)\n",
        "\n",
        "    # Round everything\n",
        "    x = list(map(lambda x: np.int(np.round(x)),x))\n",
        "\n",
        "    # Get activation functions from args\n",
        "    act1 = args[x[3]]\n",
        "    act2 = args[x[4]]\n",
        "    act3 = args[x[5]]\n",
        "\n",
        "    # Build the layers\n",
        "    input_ = keras.layers.Input(shape=X_train.shape[1:])\n",
        "    layer1 = keras.layers.Dense(x[0],activation=act1)(input_)\n",
        "    layer2 = keras.layers.Dense(x[1],activation=act2)(layer1)\n",
        "    layer3 = keras.layers.Dense(x[2],activation=act3)(layer2)\n",
        "    output_ = keras.layers.Dense(1)(layer3)\n",
        "\n",
        "    # Build model\n",
        "    model = keras.Model(inputs=input_,outputs=output_)\n",
        "    model.compile(loss='mean_squared_error',optimizer='adam')\n",
        "    model.fit(X_train,y_train,epochs=x[6],verbose=0)\n",
        "\n",
        "    # Get prediction\n",
        "    y_predict = np.nan_to_num(model.predict(X_test).T[0])\n",
        "\n",
        "    # Use mean absolute value\n",
        "    val = mt.mean_absolute_error(y_test,y_predict)\n",
        "    global count\n",
        "    print('Finished function call: ',count)\n",
        "    print('With parameters: ',x)\n",
        "    print('And MAE: ',val,'\\n')\n",
        "    count = count + 1\n",
        "    return val"
      ],
      "execution_count": 0,
      "outputs": []
    },
    {
      "cell_type": "code",
      "metadata": {
        "id": "hB1So4qZHDt-",
        "colab_type": "code",
        "outputId": "5242f5e3-de74-4917-c9ee-3a99b6ab0351",
        "colab": {
          "base_uri": "https://localhost:8080/",
          "height": 1000
        }
      },
      "source": [
        "# Lets import scipy and set it up\n",
        "from scipy.optimize import dual_annealing\n",
        "bounds = [(16,256),(16,256),(16,256),(0,4),(0,4),(0,4),(64,512)]\n",
        "args = ('exponential','relu','sigmoid','elu','tanh',X_train,y_train,X_test,y_test)\n",
        "retval = dual_annealing(obj,bounds=bounds,args=args,maxfun=250,no_local_search=True)\n",
        "\n",
        "# Will print out parameter for neural net, and function call. (See how its moving through values)"
      ],
      "execution_count": 0,
      "outputs": [
        {
          "output_type": "stream",
          "text": [
            "Finished function call:  0\n",
            "With parameters:  [97, 108, 185, 2, 1, 2, 135]\n",
            "And MAE:  175522.83761972922 \n",
            "\n",
            "Finished function call:  1\n",
            "With parameters:  [82, 169, 169, 3, 2, 2, 327]\n",
            "And MAE:  174655.64731211204 \n",
            "\n",
            "Finished function call:  2\n",
            "With parameters:  [207, 54, 55, 1, 3, 1, 325]\n",
            "And MAE:  16809.671005458047 \n",
            "\n",
            "Finished function call:  3\n",
            "With parameters:  [35, 176, 123, 2, 3, 4, 360]\n",
            "And MAE:  174410.1166724636 \n",
            "\n",
            "Finished function call:  4\n",
            "With parameters:  [111, 198, 199, 0, 3, 0, 420]\n",
            "And MAE:  176072.48630136985 \n",
            "\n",
            "Finished function call:  5\n",
            "With parameters:  [28, 77, 78, 2, 2, 3, 188]\n",
            "And MAE:  53536.76038099315 \n",
            "\n",
            "Finished function call:  6\n",
            "With parameters:  [202, 108, 109, 3, 2, 3, 223]\n",
            "And MAE:  18312.622859589042 \n",
            "\n",
            "Finished function call:  7\n",
            "With parameters:  [168, 211, 256, 2, 4, 1, 418]\n",
            "And MAE:  17172.57736916738 \n",
            "\n",
            "Finished function call:  8\n",
            "With parameters:  [98, 54, 55, 1, 3, 1, 325]\n",
            "And MAE:  17911.88032427226 \n",
            "\n",
            "Finished function call:  9\n",
            "With parameters:  [207, 54, 55, 1, 3, 1, 325]\n",
            "And MAE:  17311.18590806935 \n",
            "\n",
            "Finished function call:  10\n",
            "With parameters:  [207, 54, 112, 1, 3, 1, 325]\n",
            "And MAE:  17370.694523223458 \n",
            "\n",
            "Finished function call:  11\n",
            "With parameters:  [207, 54, 55, 2, 3, 1, 325]\n",
            "And MAE:  15683.93253692209 \n",
            "\n",
            "Finished function call:  12\n",
            "With parameters:  [207, 54, 55, 2, 2, 1, 325]\n",
            "And MAE:  42981.480254708906 \n",
            "\n",
            "Finished function call:  13\n",
            "With parameters:  [207, 54, 55, 2, 3, 4, 325]\n",
            "And MAE:  175391.6258887722 \n",
            "\n",
            "Finished function call:  14\n",
            "With parameters:  [207, 54, 55, 2, 3, 1, 245]\n",
            "And MAE:  15387.887401005994 \n",
            "\n",
            "Finished function call:  15\n",
            "With parameters:  [129, 216, 216, 3, 2, 2, 287]\n",
            "And MAE:  174546.70199961204 \n",
            "\n",
            "Finished function call:  16\n",
            "With parameters:  [114, 174, 144, 1, 3, 4, 156]\n",
            "And MAE:  175222.26517099875 \n",
            "\n",
            "Finished function call:  17\n",
            "With parameters:  [141, 228, 109, 4, 1, 2, 386]\n",
            "And MAE:  174966.8833960964 \n",
            "\n",
            "Finished function call:  18\n",
            "With parameters:  [78, 165, 171, 4, 1, 1, 355]\n",
            "And MAE:  17164.139461151542 \n",
            "\n",
            "Finished function call:  19\n",
            "With parameters:  [142, 229, 230, 0, 2, 3, 491]\n",
            "And MAE:  16967.443747324487 \n",
            "\n",
            "Finished function call:  20\n",
            "With parameters:  [63, 150, 151, 3, 3, 0, 86]\n",
            "And MAE:  16098.717251712329 \n",
            "\n",
            "Finished function call:  21\n",
            "With parameters:  [53, 140, 204, 3, 0, 2, 505]\n",
            "And MAE:  174096.18918222922 \n",
            "\n",
            "Finished function call:  22\n",
            "With parameters:  [240, 54, 55, 2, 3, 1, 245]\n",
            "And MAE:  15292.992080479453 \n",
            "\n",
            "Finished function call:  23\n",
            "With parameters:  [240, 138, 55, 2, 3, 1, 245]\n",
            "And MAE:  15557.796299764555 \n",
            "\n",
            "Finished function call:  24\n",
            "With parameters:  [240, 54, 216, 2, 3, 1, 245]\n",
            "And MAE:  15995.878839362158 \n",
            "\n",
            "Finished function call:  25\n",
            "With parameters:  [240, 54, 55, 2, 3, 1, 245]\n",
            "And MAE:  15426.800446810788 \n",
            "\n",
            "Finished function call:  26\n",
            "With parameters:  [240, 54, 55, 2, 3, 1, 245]\n",
            "And MAE:  15677.216194884419 \n",
            "\n",
            "Finished function call:  27\n",
            "With parameters:  [240, 54, 55, 2, 3, 1, 245]\n",
            "And MAE:  15412.66387521404 \n",
            "\n",
            "Finished function call:  28\n",
            "With parameters:  [240, 54, 55, 2, 3, 1, 122]\n",
            "And MAE:  15482.699125107021 \n",
            "\n",
            "Finished function call:  29\n",
            "With parameters:  [176, 116, 232, 4, 1, 3, 501]\n",
            "And MAE:  16506.637815710616 \n",
            "\n",
            "Finished function call:  30\n",
            "With parameters:  [121, 245, 246, 0, 4, 1, 163]\n",
            "And MAE:  18463.809530179795 \n",
            "\n",
            "Finished function call:  31\n",
            "With parameters:  [219, 33, 107, 2, 2, 4, 376]\n",
            "And MAE:  174557.0862769558 \n",
            "\n",
            "Finished function call:  32\n",
            "With parameters:  [172, 51, 227, 2, 4, 0, 421]\n",
            "And MAE:  17352.291229666094 \n",
            "\n",
            "Finished function call:  33\n",
            "With parameters:  [156, 210, 211, 1, 2, 4, 435]\n",
            "And MAE:  172654.94260019797 \n",
            "\n",
            "Finished function call:  34\n",
            "With parameters:  [192, 246, 252, 3, 1, 1, 186]\n",
            "And MAE:  16172.091947372646 \n",
            "\n",
            "Finished function call:  35\n",
            "With parameters:  [23, 25, 25, 4, 1, 3, 107]\n",
            "And MAE:  19095.80440657106 \n",
            "\n",
            "Finished function call:  36\n",
            "With parameters:  [161, 54, 55, 2, 3, 1, 245]\n",
            "And MAE:  15516.65971479024 \n",
            "\n",
            "Finished function call:  37\n",
            "With parameters:  [240, 44, 55, 2, 3, 1, 245]\n",
            "And MAE:  15517.872658925513 \n",
            "\n",
            "Finished function call:  38\n",
            "With parameters:  [240, 54, 72, 2, 3, 1, 245]\n",
            "And MAE:  15260.148383989726 \n",
            "\n",
            "Finished function call:  39\n",
            "With parameters:  [240, 54, 72, 1, 3, 1, 245]\n",
            "And MAE:  17501.59500749144 \n",
            "\n",
            "Finished function call:  40\n",
            "With parameters:  [240, 54, 72, 2, 1, 1, 245]\n",
            "And MAE:  15592.870063677226 \n",
            "\n",
            "Finished function call:  41\n",
            "With parameters:  [240, 54, 72, 2, 3, 2, 245]\n",
            "And MAE:  175686.36633677024 \n",
            "\n",
            "Finished function call:  42\n",
            "With parameters:  [240, 54, 72, 2, 3, 1, 435]\n",
            "And MAE:  16579.04370451627 \n",
            "\n",
            "Finished function call:  43\n",
            "With parameters:  [66, 118, 38, 2, 2, 1, 393]\n",
            "And MAE:  18104.361916738013 \n",
            "\n",
            "Finished function call:  44\n",
            "With parameters:  [64, 189, 243, 1, 2, 3, 235]\n",
            "And MAE:  17054.208569670376 \n",
            "\n",
            "Finished function call:  45\n",
            "With parameters:  [185, 75, 16, 2, 4, 1, 429]\n",
            "And MAE:  35475.80947666952 \n",
            "\n",
            "Finished function call:  46\n",
            "With parameters:  [125, 133, 150, 4, 4, 3, 403]\n",
            "And MAE:  17433.978114297945 \n",
            "\n",
            "Finished function call:  47\n",
            "With parameters:  [174, 228, 246, 3, 1, 3, 210]\n",
            "And MAE:  16064.720061001712 \n",
            "\n",
            "Finished function call:  48\n",
            "With parameters:  [52, 57, 17, 1, 2, 3, 147]\n",
            "And MAE:  164475.2567523277 \n",
            "\n",
            "Finished function call:  49\n",
            "With parameters:  [169, 223, 206, 2, 2, 0, 507]\n",
            "And MAE:  17789.82902129709 \n",
            "\n",
            "Finished function call:  50\n",
            "With parameters:  [178, 54, 72, 2, 3, 1, 245]\n",
            "And MAE:  15558.013912671233 \n",
            "\n",
            "Finished function call:  51\n",
            "With parameters:  [240, 234, 72, 2, 3, 1, 245]\n",
            "And MAE:  16019.262668557363 \n",
            "\n",
            "Finished function call:  52\n",
            "With parameters:  [240, 54, 98, 2, 3, 1, 245]\n",
            "And MAE:  15426.085776969177 \n",
            "\n",
            "Finished function call:  53\n",
            "With parameters:  [240, 54, 72, 2, 3, 1, 245]\n",
            "And MAE:  15460.423413420376 \n",
            "\n",
            "Finished function call:  54\n",
            "With parameters:  [240, 54, 72, 2, 2, 1, 245]\n",
            "And MAE:  47575.65291898545 \n",
            "\n",
            "Finished function call:  55\n",
            "With parameters:  [240, 54, 72, 2, 3, 3, 245]\n",
            "And MAE:  15560.252167166096 \n",
            "\n",
            "Finished function call:  56\n",
            "With parameters:  [240, 54, 72, 2, 3, 1, 269]\n",
            "And MAE:  15455.220087756848 \n",
            "\n",
            "Finished function call:  57\n",
            "With parameters:  [63, 101, 119, 2, 1, 4, 259]\n",
            "And MAE:  174911.39047617454 \n",
            "\n",
            "Finished function call:  58\n",
            "With parameters:  [216, 70, 79, 1, 1, 2, 156]\n",
            "And MAE:  175842.41720957297 \n",
            "\n",
            "Finished function call:  59\n",
            "With parameters:  [195, 48, 27, 0, 1, 3, 470]\n",
            "And MAE:  19643.67639661815 \n",
            "\n",
            "Finished function call:  60\n",
            "With parameters:  [185, 109, 71, 3, 0, 1, 301]\n",
            "And MAE:  15767.895360659246 \n",
            "\n",
            "Finished function call:  61\n",
            "With parameters:  [64, 200, 136, 1, 3, 1, 213]\n",
            "And MAE:  18046.95935894692 \n",
            "\n",
            "Finished function call:  62\n",
            "With parameters:  [35, 109, 126, 0, 0, 3, 111]\n",
            "And MAE:  21792.805623929795 \n",
            "\n",
            "Finished function call:  63\n",
            "With parameters:  [209, 101, 119, 1, 2, 3, 104]\n",
            "And MAE:  60012.56098833476 \n",
            "\n",
            "Finished function call:  64\n",
            "With parameters:  [129, 54, 72, 2, 3, 1, 245]\n",
            "And MAE:  15582.919520547945 \n",
            "\n",
            "Finished function call:  65\n",
            "With parameters:  [240, 146, 72, 2, 3, 1, 245]\n",
            "And MAE:  15935.651072880994 \n",
            "\n",
            "Finished function call:  66\n",
            "With parameters:  [240, 54, 126, 2, 3, 1, 245]\n",
            "And MAE:  15735.920443600171 \n",
            "\n",
            "Finished function call:  67\n",
            "With parameters:  [240, 54, 72, 1, 3, 1, 245]\n",
            "And MAE:  17856.829422624145 \n",
            "\n",
            "Finished function call:  68\n",
            "With parameters:  [240, 54, 72, 2, 1, 1, 245]\n",
            "And MAE:  15512.759083369006 \n",
            "\n",
            "Finished function call:  69\n",
            "With parameters:  [240, 54, 72, 2, 3, 3, 245]\n",
            "And MAE:  15736.77113655822 \n",
            "\n",
            "Finished function call:  70\n",
            "With parameters:  [240, 54, 72, 2, 3, 1, 477]\n",
            "And MAE:  16319.71804098887 \n",
            "\n",
            "Finished function call:  71\n",
            "With parameters:  [108, 29, 180, 1, 1, 1, 176]\n",
            "And MAE:  18115.19743953339 \n",
            "\n",
            "Finished function call:  72\n",
            "With parameters:  [239, 67, 38, 2, 1, 1, 441]\n",
            "And MAE:  16371.68234963613 \n",
            "\n",
            "Finished function call:  73\n",
            "With parameters:  [90, 20, 59, 2, 1, 2, 207]\n",
            "And MAE:  175798.52344126243 \n",
            "\n",
            "Finished function call:  74\n",
            "With parameters:  [75, 72, 100, 1, 2, 3, 383]\n",
            "And MAE:  16407.275163206337 \n",
            "\n",
            "Finished function call:  75\n",
            "With parameters:  [200, 143, 31, 0, 3, 3, 365]\n",
            "And MAE:  21235.936643835616 \n",
            "\n",
            "Finished function call:  76\n",
            "With parameters:  [195, 120, 232, 1, 4, 1, 473]\n",
            "And MAE:  16694.199432791094 \n",
            "\n",
            "Finished function call:  77\n",
            "With parameters:  [164, 62, 54, 3, 2, 4, 458]\n",
            "And MAE:  175132.8626441433 \n",
            "\n",
            "Finished function call:  78\n",
            "With parameters:  [138, 54, 72, 2, 3, 1, 245]\n",
            "And MAE:  15279.807857983733 \n",
            "\n",
            "Finished function call:  79\n",
            "With parameters:  [240, 230, 72, 2, 3, 1, 245]\n",
            "And MAE:  15493.130765732021 \n",
            "\n",
            "Finished function call:  80\n",
            "With parameters:  [240, 54, 52, 2, 3, 1, 245]\n",
            "And MAE:  15367.151541095891 \n",
            "\n",
            "Finished function call:  81\n",
            "With parameters:  [240, 54, 72, 2, 3, 1, 245]\n",
            "And MAE:  15290.199593321919 \n",
            "\n",
            "Finished function call:  82\n",
            "With parameters:  [240, 54, 72, 2, 3, 1, 245]\n",
            "And MAE:  15488.393193493152 \n",
            "\n",
            "Finished function call:  83\n",
            "With parameters:  [240, 54, 72, 2, 3, 2, 245]\n",
            "And MAE:  175741.9852637722 \n",
            "\n",
            "Finished function call:  84\n",
            "With parameters:  [240, 54, 72, 2, 3, 1, 475]\n",
            "And MAE:  16045.088613013699 \n",
            "\n",
            "Finished function call:  85\n",
            "With parameters:  [90, 194, 193, 2, 3, 1, 190]\n",
            "And MAE:  15811.813356164384 \n",
            "\n",
            "Finished function call:  86\n",
            "With parameters:  [199, 55, 31, 0, 2, 3, 408]\n",
            "And MAE:  60573.47233518836 \n",
            "\n",
            "Finished function call:  87\n",
            "With parameters:  [113, 19, 52, 2, 0, 1, 305]\n",
            "And MAE:  16426.317570098458 \n",
            "\n",
            "Finished function call:  88\n",
            "With parameters:  [64, 179, 196, 1, 2, 0, 272]\n",
            "And MAE:  17893.85961579623 \n",
            "\n",
            "Finished function call:  89\n",
            "With parameters:  [29, 251, 28, 2, 4, 4, 361]\n",
            "And MAE:  175679.53610605735 \n",
            "\n",
            "Finished function call:  90\n",
            "With parameters:  [240, 25, 42, 1, 0, 1, 100]\n",
            "And MAE:  21181.422196061645 \n",
            "\n",
            "Finished function call:  91\n",
            "With parameters:  [255, 69, 232, 2, 0, 3, 348]\n",
            "And MAE:  15856.824686964897 \n",
            "\n",
            "Finished function call:  92\n",
            "With parameters:  [79, 54, 72, 2, 3, 1, 245]\n",
            "And MAE:  15490.799925085616 \n",
            "\n",
            "Finished function call:  93\n",
            "With parameters:  [240, 222, 72, 2, 3, 1, 245]\n",
            "And MAE:  15646.97382009846 \n",
            "\n",
            "Finished function call:  94\n",
            "With parameters:  [240, 54, 256, 2, 3, 1, 245]\n",
            "And MAE:  15727.944764019692 \n",
            "\n",
            "Finished function call:  95\n",
            "With parameters:  [240, 54, 72, 1, 3, 1, 245]\n",
            "And MAE:  17897.027276862158 \n",
            "\n",
            "Finished function call:  96\n",
            "With parameters:  [240, 54, 72, 2, 1, 1, 245]\n",
            "And MAE:  15590.44956656678 \n",
            "\n",
            "Finished function call:  97\n",
            "With parameters:  [240, 54, 72, 2, 3, 3, 245]\n",
            "And MAE:  15145.278119648972 \n",
            "\n",
            "Finished function call:  98\n",
            "With parameters:  [240, 54, 72, 2, 3, 3, 273]\n",
            "And MAE:  15735.10821115154 \n",
            "\n",
            "Finished function call:  99\n",
            "With parameters:  [104, 75, 144, 1, 2, 3, 125]\n",
            "And MAE:  45196.8635354238 \n",
            "\n",
            "Finished function call:  100\n",
            "With parameters:  [54, 123, 123, 3, 4, 4, 281]\n",
            "And MAE:  174772.40817636985 \n",
            "\n",
            "Finished function call:  101\n",
            "With parameters:  [119, 134, 163, 1, 2, 1, 432]\n",
            "And MAE:  16475.330626605308 \n",
            "\n",
            "Finished function call:  102\n",
            "With parameters:  [156, 204, 228, 4, 2, 1, 372]\n",
            "And MAE:  16677.562607020547 \n",
            "\n",
            "Finished function call:  103\n",
            "With parameters:  [55, 203, 71, 4, 2, 2, 510]\n",
            "And MAE:  175202.06412119407 \n",
            "\n",
            "Finished function call:  104\n",
            "With parameters:  [170, 147, 37, 3, 1, 0, 283]\n",
            "And MAE:  17240.58494755993 \n",
            "\n",
            "Finished function call:  105\n",
            "With parameters:  [22, 116, 202, 3, 0, 3, 101]\n",
            "And MAE:  16484.02315657106 \n",
            "\n",
            "Finished function call:  106\n",
            "With parameters:  [51, 54, 72, 2, 3, 3, 245]\n",
            "And MAE:  15883.783443921233 \n",
            "\n",
            "Finished function call:  107\n",
            "With parameters:  [240, 242, 72, 2, 3, 3, 245]\n",
            "And MAE:  15650.328941031677 \n",
            "\n",
            "Finished function call:  108\n",
            "With parameters:  [240, 54, 221, 2, 3, 3, 245]\n",
            "And MAE:  15522.498568600171 \n",
            "\n",
            "Finished function call:  109\n",
            "With parameters:  [240, 54, 72, 1, 3, 3, 245]\n",
            "And MAE:  17453.670965325342 \n",
            "\n",
            "Finished function call:  110\n",
            "With parameters:  [240, 54, 72, 2, 0, 3, 245]\n",
            "And MAE:  15262.311403039384 \n",
            "\n",
            "Finished function call:  111\n",
            "With parameters:  [240, 54, 72, 2, 3, 1, 245]\n",
            "And MAE:  15583.292366759419 \n",
            "\n",
            "Finished function call:  112\n",
            "With parameters:  [240, 54, 72, 2, 3, 3, 442]\n",
            "And MAE:  16349.841368792808 \n",
            "\n",
            "Finished function call:  113\n",
            "With parameters:  [32, 86, 103, 2, 1, 3, 189]\n",
            "And MAE:  15677.997364619006 \n",
            "\n",
            "Finished function call:  114\n",
            "With parameters:  [202, 82, 118, 4, 2, 2, 457]\n",
            "And MAE:  174362.40414804954 \n",
            "\n",
            "Finished function call:  115\n",
            "With parameters:  [119, 23, 40, 2, 0, 4, 301]\n",
            "And MAE:  175611.27927011985 \n",
            "\n",
            "Finished function call:  116\n",
            "With parameters:  [86, 85, 179, 2, 2, 2, 163]\n",
            "And MAE:  175249.61923594016 \n",
            "\n",
            "Finished function call:  117\n",
            "With parameters:  [256, 248, 25, 1, 2, 0, 131]\n",
            "And MAE:  16553.418758026542 \n",
            "\n",
            "Finished function call:  118\n",
            "With parameters:  [38, 95, 28, 1, 1, 2, 336]\n",
            "And MAE:  175909.1783332302 \n",
            "\n",
            "Finished function call:  119\n",
            "With parameters:  [149, 89, 173, 1, 1, 3, 231]\n",
            "And MAE:  17164.05211900685 \n",
            "\n",
            "Finished function call:  120\n",
            "With parameters:  [175, 54, 72, 2, 3, 3, 245]\n",
            "And MAE:  15602.715994220891 \n",
            "\n",
            "Finished function call:  121\n",
            "With parameters:  [240, 29, 72, 2, 3, 3, 245]\n",
            "And MAE:  15553.185185680652 \n",
            "\n",
            "Finished function call:  122\n",
            "With parameters:  [240, 54, 200, 2, 3, 3, 245]\n",
            "And MAE:  15422.372003424658 \n",
            "\n",
            "Finished function call:  123\n",
            "With parameters:  [240, 54, 72, 2, 3, 3, 245]\n",
            "And MAE:  15250.510220462329 \n",
            "\n",
            "Finished function call:  124\n",
            "With parameters:  [240, 54, 72, 2, 2, 3, 245]\n",
            "And MAE:  26608.895547945205 \n",
            "\n",
            "Finished function call:  125\n",
            "With parameters:  [240, 54, 72, 2, 3, 4, 245]\n",
            "And MAE:  175403.69595713157 \n",
            "\n",
            "Finished function call:  126\n",
            "With parameters:  [240, 54, 72, 2, 3, 3, 459]\n",
            "And MAE:  16693.258989726026 \n",
            "\n",
            "Finished function call:  127\n",
            "With parameters:  [52, 55, 111, 4, 3, 4, 510]\n",
            "And MAE:  173950.46994394797 \n",
            "\n",
            "Finished function call:  128\n",
            "With parameters:  [154, 100, 31, 4, 0, 3, 455]\n",
            "And MAE:  16611.842920590752 \n",
            "\n",
            "Finished function call:  129\n",
            "With parameters:  [93, 169, 96, 2, 1, 4, 145]\n",
            "And MAE:  175539.50108086574 \n",
            "\n",
            "Finished function call:  130\n",
            "With parameters:  [18, 184, 175, 1, 2, 3, 372]\n",
            "And MAE:  17545.529791845034 \n",
            "\n",
            "Finished function call:  131\n",
            "With parameters:  [81, 240, 169, 4, 2, 1, 447]\n",
            "And MAE:  17023.978702910958 \n",
            "\n",
            "Finished function call:  132\n",
            "With parameters:  [146, 148, 241, 2, 3, 2, 224]\n",
            "And MAE:  174892.03097910422 \n",
            "\n",
            "Finished function call:  133\n",
            "With parameters:  [130, 34, 52, 0, 3, 0, 89]\n",
            "And MAE:  17769.16105254709 \n",
            "\n",
            "Finished function call:  134\n",
            "With parameters:  [182, 54, 72, 2, 3, 3, 245]\n",
            "And MAE:  15557.417794841609 \n",
            "\n",
            "Finished function call:  135\n",
            "With parameters:  [240, 53, 72, 2, 3, 3, 245]\n",
            "And MAE:  15163.81801155822 \n",
            "\n",
            "Finished function call:  136\n",
            "With parameters:  [240, 54, 224, 2, 3, 3, 245]\n",
            "And MAE:  16013.494635595034 \n",
            "\n",
            "Finished function call:  137\n",
            "With parameters:  [240, 54, 72, 3, 3, 3, 245]\n",
            "And MAE:  17197.64053135702 \n",
            "\n",
            "Finished function call:  138\n",
            "With parameters:  [240, 54, 72, 2, 2, 3, 245]\n",
            "And MAE:  31615.35673961901 \n",
            "\n",
            "Finished function call:  139\n",
            "With parameters:  [240, 54, 72, 2, 3, 4, 245]\n",
            "And MAE:  175402.99832529563 \n",
            "\n",
            "Finished function call:  140\n",
            "With parameters:  [240, 54, 72, 2, 3, 3, 291]\n",
            "And MAE:  15632.211593000857 \n",
            "\n",
            "Finished function call:  141\n",
            "With parameters:  [243, 189, 140, 4, 3, 2, 508]\n",
            "And MAE:  174634.10324472922 \n",
            "\n",
            "Finished function call:  142\n",
            "With parameters:  [27, 54, 51, 2, 3, 3, 231]\n",
            "And MAE:  16256.687446489726 \n",
            "\n",
            "Finished function call:  143\n",
            "With parameters:  [237, 148, 196, 3, 3, 3, 186]\n",
            "And MAE:  17395.333389073203 \n",
            "\n",
            "Finished function call:  144\n",
            "With parameters:  [137, 101, 243, 1, 2, 1, 476]\n",
            "And MAE:  16611.084211793663 \n",
            "\n",
            "Finished function call:  145\n",
            "With parameters:  [125, 159, 39, 4, 1, 2, 185]\n",
            "And MAE:  175924.43545913696 \n",
            "\n",
            "Finished function call:  146\n",
            "With parameters:  [151, 27, 135, 2, 2, 1, 93]\n",
            "And MAE:  150437.36326787242 \n",
            "\n",
            "Finished function call:  147\n",
            "With parameters:  [214, 153, 133, 1, 2, 3, 325]\n",
            "And MAE:  17152.949285637842 \n",
            "\n",
            "Finished function call:  148\n",
            "With parameters:  [47, 54, 72, 2, 3, 3, 245]\n",
            "And MAE:  15877.546834867295 \n",
            "\n",
            "Finished function call:  149\n",
            "With parameters:  [240, 247, 72, 2, 3, 3, 245]\n",
            "And MAE:  15829.299376605308 \n",
            "\n",
            "Finished function call:  150\n",
            "With parameters:  [240, 54, 233, 2, 3, 3, 245]\n",
            "And MAE:  15509.641989511987 \n",
            "\n",
            "Finished function call:  151\n",
            "With parameters:  [240, 54, 72, 4, 3, 3, 245]\n",
            "And MAE:  16892.96460295377 \n",
            "\n",
            "Finished function call:  152\n",
            "With parameters:  [240, 54, 72, 2, 1, 3, 245]\n",
            "And MAE:  15213.279631314212 \n",
            "\n",
            "Finished function call:  153\n",
            "With parameters:  [240, 54, 72, 2, 3, 0, 245]\n",
            "And MAE:  15201.680704195205 \n",
            "\n",
            "Finished function call:  154\n",
            "With parameters:  [240, 54, 72, 2, 3, 3, 120]\n",
            "And MAE:  15287.118311215754 \n",
            "\n",
            "Finished function call:  155\n",
            "With parameters:  [189, 232, 191, 4, 2, 0, 259]\n",
            "And MAE:  16137.295751284246 \n",
            "\n",
            "Finished function call:  156\n",
            "With parameters:  [110, 170, 192, 4, 3, 3, 494]\n",
            "And MAE:  17488.935760916094 \n",
            "\n",
            "Finished function call:  157\n",
            "With parameters:  [232, 55, 158, 3, 1, 3, 66]\n",
            "And MAE:  18330.857087435787 \n",
            "\n",
            "Finished function call:  158\n",
            "With parameters:  [183, 137, 237, 2, 3, 1, 115]\n",
            "And MAE:  16036.210094713186 \n",
            "\n",
            "Finished function call:  159\n",
            "With parameters:  [64, 52, 136, 1, 3, 3, 118]\n",
            "And MAE:  18860.371026862158 \n",
            "\n",
            "Finished function call:  160\n",
            "With parameters:  [138, 67, 108, 4, 0, 3, 449]\n",
            "And MAE:  18382.03312285959 \n",
            "\n",
            "Finished function call:  161\n",
            "With parameters:  [53, 101, 124, 0, 1, 3, 260]\n",
            "And MAE:  21007.87455854024 \n",
            "\n",
            "Finished function call:  162\n",
            "With parameters:  [60, 54, 72, 2, 3, 3, 245]\n",
            "And MAE:  15906.70143942637 \n",
            "\n",
            "Finished function call:  163\n",
            "With parameters:  [240, 30, 72, 2, 3, 3, 245]\n",
            "And MAE:  15523.047209439212 \n",
            "\n",
            "Finished function call:  164\n",
            "With parameters:  [240, 54, 220, 2, 3, 3, 245]\n",
            "And MAE:  15795.169279751712 \n",
            "\n",
            "Finished function call:  165\n",
            "With parameters:  [240, 54, 72, 1, 3, 3, 245]\n",
            "And MAE:  17643.410263270547 \n",
            "\n",
            "Finished function call:  166\n",
            "With parameters:  [240, 54, 72, 2, 3, 3, 245]\n",
            "And MAE:  15332.441927975171 \n",
            "\n",
            "Finished function call:  167\n",
            "With parameters:  [240, 54, 72, 2, 3, 4, 245]\n",
            "And MAE:  175401.48550791282 \n",
            "\n",
            "Finished function call:  168\n",
            "With parameters:  [240, 54, 72, 2, 3, 3, 376]\n",
            "And MAE:  16248.615515303938 \n",
            "\n",
            "Finished function call:  169\n",
            "With parameters:  [65, 79, 124, 2, 1, 3, 179]\n",
            "And MAE:  15460.794360017124 \n",
            "\n",
            "Finished function call:  170\n",
            "With parameters:  [153, 87, 104, 1, 0, 4, 130]\n",
            "And MAE:  175557.55545420188 \n",
            "\n",
            "Finished function call:  171\n",
            "With parameters:  [61, 35, 63, 2, 3, 2, 510]\n",
            "And MAE:  175446.31583017844 \n",
            "\n",
            "Finished function call:  172\n",
            "With parameters:  [167, 213, 207, 2, 3, 4, 438]\n",
            "And MAE:  172695.74582285422 \n",
            "\n",
            "Finished function call:  173\n",
            "With parameters:  [173, 165, 252, 3, 0, 2, 133]\n",
            "And MAE:  175310.06570810813 \n",
            "\n",
            "Finished function call:  174\n",
            "With parameters:  [39, 75, 19, 2, 4, 2, 176]\n",
            "And MAE:  176005.3463335168 \n",
            "\n",
            "Finished function call:  175\n",
            "With parameters:  [223, 105, 233, 3, 4, 3, 313]\n",
            "And MAE:  18862.70539249786 \n",
            "\n",
            "Finished function call:  176\n",
            "With parameters:  [128, 54, 72, 2, 3, 3, 245]\n",
            "And MAE:  15729.806132277397 \n",
            "\n",
            "Finished function call:  177\n",
            "With parameters:  [240, 30, 72, 2, 3, 3, 245]\n",
            "And MAE:  15633.164370184075 \n",
            "\n",
            "Finished function call:  178\n",
            "With parameters:  [240, 54, 104, 2, 3, 3, 245]\n",
            "And MAE:  15558.633949593323 \n",
            "\n",
            "Finished function call:  179\n",
            "With parameters:  [240, 54, 72, 4, 3, 3, 245]\n",
            "And MAE:  17590.503879494863 \n",
            "\n",
            "Finished function call:  180\n",
            "With parameters:  [240, 54, 72, 2, 1, 3, 245]\n",
            "And MAE:  15539.65962114726 \n",
            "\n",
            "Finished function call:  181\n",
            "With parameters:  [240, 54, 72, 2, 3, 1, 245]\n",
            "And MAE:  15836.278601241438 \n",
            "\n",
            "Finished function call:  182\n",
            "With parameters:  [240, 54, 72, 2, 3, 3, 445]\n",
            "And MAE:  16332.480602525686 \n",
            "\n",
            "Finished function call:  183\n",
            "With parameters:  [110, 34, 131, 3, 2, 1, 402]\n",
            "And MAE:  19390.18572078339 \n",
            "\n",
            "Finished function call:  184\n",
            "With parameters:  [75, 245, 37, 0, 2, 2, 368]\n",
            "And MAE:  175768.25824350852 \n",
            "\n",
            "Finished function call:  185\n",
            "With parameters:  [143, 251, 112, 2, 3, 3, 405]\n",
            "And MAE:  16678.676784567637 \n",
            "\n",
            "Finished function call:  186\n",
            "With parameters:  [164, 103, 36, 3, 4, 1, 69]\n",
            "And MAE:  150206.5781183112 \n",
            "\n",
            "Finished function call:  187\n",
            "With parameters:  [234, 168, 152, 3, 3, 1, 387]\n",
            "And MAE:  16197.819225154512 \n",
            "\n",
            "Finished function call:  188\n",
            "With parameters:  [161, 139, 83, 4, 4, 2, 95]\n",
            "And MAE:  175882.4897199657 \n",
            "\n",
            "Finished function call:  189\n",
            "With parameters:  [77, 203, 118, 2, 4, 3, 314]\n",
            "And MAE:  17898.586980950342 \n",
            "\n",
            "Finished function call:  190\n",
            "With parameters:  [193, 54, 72, 2, 3, 3, 245]\n",
            "And MAE:  15511.075623394692 \n",
            "\n",
            "Finished function call:  191\n",
            "With parameters:  [240, 43, 72, 2, 3, 3, 245]\n",
            "And MAE:  15522.762026434075 \n",
            "\n",
            "Finished function call:  192\n",
            "With parameters:  [240, 54, 96, 2, 3, 3, 245]\n",
            "And MAE:  15817.656731592466 \n",
            "\n",
            "Finished function call:  193\n",
            "With parameters:  [240, 54, 72, 1, 3, 3, 245]\n",
            "And MAE:  17725.24677600599 \n",
            "\n",
            "Finished function call:  194\n",
            "With parameters:  [240, 54, 72, 2, 4, 3, 245]\n",
            "And MAE:  26979.56427921661 \n",
            "\n",
            "Finished function call:  195\n",
            "With parameters:  [240, 54, 72, 2, 3, 3, 245]\n",
            "And MAE:  15406.71030875428 \n",
            "\n",
            "Finished function call:  196\n",
            "With parameters:  [240, 54, 72, 2, 3, 3, 291]\n",
            "And MAE:  15722.894812178938 \n",
            "\n",
            "Finished function call:  197\n",
            "With parameters:  [220, 178, 95, 1, 3, 0, 280]\n",
            "And MAE:  17856.332151648116 \n",
            "\n",
            "Finished function call:  198\n",
            "With parameters:  [216, 208, 110, 2, 3, 0, 468]\n",
            "And MAE:  16211.961793664384 \n",
            "\n",
            "Finished function call:  199\n",
            "With parameters:  [163, 21, 251, 2, 4, 3, 373]\n",
            "And MAE:  17963.869608839897 \n",
            "\n",
            "Finished function call:  200\n",
            "With parameters:  [118, 196, 106, 4, 4, 2, 302]\n",
            "And MAE:  175407.58743662375 \n",
            "\n",
            "Finished function call:  201\n",
            "With parameters:  [90, 214, 62, 0, 0, 2, 432]\n",
            "And MAE:  175493.18875519218 \n",
            "\n",
            "Finished function call:  202\n",
            "With parameters:  [237, 145, 90, 1, 1, 0, 66]\n",
            "And MAE:  18244.419721211474 \n",
            "\n",
            "Finished function call:  203\n",
            "With parameters:  [138, 180, 84, 4, 2, 1, 166]\n",
            "And MAE:  25861.346264982876 \n",
            "\n",
            "Finished function call:  204\n",
            "With parameters:  [159, 54, 72, 2, 3, 3, 245]\n",
            "And MAE:  15443.778012628425 \n",
            "\n",
            "Finished function call:  205\n",
            "With parameters:  [240, 160, 72, 2, 3, 3, 245]\n",
            "And MAE:  15647.781838613013 \n",
            "\n",
            "Finished function call:  206\n",
            "With parameters:  [240, 54, 152, 2, 3, 3, 245]\n",
            "And MAE:  15950.086766909246 \n",
            "\n",
            "Finished function call:  207\n",
            "With parameters:  [240, 54, 72, 3, 3, 3, 245]\n",
            "And MAE:  17164.896852258134 \n",
            "\n",
            "Finished function call:  208\n",
            "With parameters:  [240, 54, 72, 2, 0, 3, 245]\n",
            "And MAE:  16369.724301690925 \n",
            "\n",
            "Finished function call:  209\n",
            "With parameters:  [240, 54, 72, 2, 3, 1, 245]\n",
            "And MAE:  15391.524186643835 \n",
            "\n",
            "Finished function call:  210\n",
            "With parameters:  [240, 54, 72, 2, 3, 3, 281]\n",
            "And MAE:  15984.860953553081 \n",
            "\n",
            "Finished function call:  211\n",
            "With parameters:  [224, 62, 126, 2, 0, 1, 309]\n",
            "And MAE:  15520.001632063357 \n",
            "\n",
            "Finished function call:  212\n",
            "With parameters:  [116, 118, 69, 2, 3, 1, 367]\n",
            "And MAE:  16614.716756742295 \n",
            "\n",
            "Finished function call:  213\n",
            "With parameters:  [55, 117, 64, 0, 0, 1, 219]\n",
            "And MAE:  53445.38947452911 \n",
            "\n",
            "Finished function call:  214\n",
            "With parameters:  [76, 63, 58, 2, 1, 3, 455]\n",
            "And MAE:  16514.586419092466 \n",
            "\n",
            "Finished function call:  215\n",
            "With parameters:  [218, 144, 47, 1, 3, 0, 339]\n",
            "And MAE:  18663.05557041952 \n",
            "\n",
            "Finished function call:  216\n",
            "With parameters:  [110, 66, 124, 2, 2, 1, 120]\n",
            "And MAE:  93960.40004280822 \n",
            "\n",
            "Finished function call:  217\n",
            "With parameters:  [241, 122, 211, 0, 1, 3, 467]\n",
            "And MAE:  21011.220596104453 \n",
            "\n",
            "Finished function call:  218\n",
            "With parameters:  [160, 54, 72, 2, 3, 3, 245]\n",
            "And MAE:  15387.65385541524 \n",
            "\n",
            "Finished function call:  219\n",
            "With parameters:  [240, 189, 72, 2, 3, 3, 245]\n",
            "And MAE:  15545.86789651113 \n",
            "\n",
            "Finished function call:  220\n",
            "With parameters:  [240, 54, 246, 2, 3, 3, 245]\n",
            "And MAE:  15777.757009845891 \n",
            "\n",
            "Finished function call:  221\n",
            "With parameters:  [240, 54, 72, 2, 3, 3, 245]\n",
            "And MAE:  15766.576787243152 \n",
            "\n",
            "Finished function call:  222\n",
            "With parameters:  [240, 54, 72, 2, 2, 3, 245]\n",
            "And MAE:  27838.700837435787 \n",
            "\n",
            "Finished function call:  223\n",
            "With parameters:  [240, 54, 72, 2, 3, 3, 245]\n",
            "And MAE:  15498.27032052654 \n",
            "\n",
            "Finished function call:  224\n",
            "With parameters:  [240, 54, 72, 2, 3, 3, 208]\n",
            "And MAE:  15369.120719178081 \n",
            "\n",
            "Finished function call:  225\n",
            "With parameters:  [203, 114, 156, 4, 1, 1, 430]\n",
            "And MAE:  16098.386036494006 \n",
            "\n",
            "Finished function call:  226\n",
            "With parameters:  [56, 238, 107, 2, 3, 4, 268]\n",
            "And MAE:  174991.5844459011 \n",
            "\n",
            "Finished function call:  227\n",
            "With parameters:  [163, 55, 151, 2, 2, 1, 276]\n",
            "And MAE:  22417.24145173373 \n",
            "\n",
            "Finished function call:  228\n",
            "With parameters:  [49, 232, 224, 1, 1, 2, 70]\n",
            "And MAE:  175689.28097910422 \n",
            "\n",
            "Finished function call:  229\n",
            "With parameters:  [151, 214, 201, 3, 1, 2, 495]\n",
            "And MAE:  174049.7308082058 \n",
            "\n",
            "Finished function call:  230\n",
            "With parameters:  [132, 200, 39, 3, 1, 1, 500]\n",
            "And MAE:  15869.464195169814 \n",
            "\n",
            "Finished function call:  231\n",
            "With parameters:  [57, 188, 137, 1, 4, 3, 412]\n",
            "And MAE:  17421.21848244863 \n",
            "\n",
            "Finished function call:  232\n",
            "With parameters:  [70, 54, 72, 2, 3, 3, 245]\n",
            "And MAE:  16006.200222067637 \n",
            "\n",
            "Finished function call:  233\n",
            "With parameters:  [240, 52, 72, 2, 3, 3, 245]\n",
            "And MAE:  15665.073817422945 \n",
            "\n",
            "Finished function call:  234\n",
            "With parameters:  [240, 54, 254, 2, 3, 3, 245]\n",
            "And MAE:  15644.18731271404 \n",
            "\n",
            "Finished function call:  235\n",
            "With parameters:  [240, 54, 72, 2, 3, 3, 245]\n",
            "And MAE:  15527.92348030822 \n",
            "\n",
            "Finished function call:  236\n",
            "With parameters:  [240, 54, 72, 2, 1, 3, 245]\n",
            "And MAE:  15583.54571115154 \n",
            "\n",
            "Finished function call:  237\n",
            "With parameters:  [240, 54, 72, 2, 3, 4, 245]\n",
            "And MAE:  175400.39401642265 \n",
            "\n",
            "Finished function call:  238\n",
            "With parameters:  [240, 54, 72, 2, 3, 3, 118]\n",
            "And MAE:  15797.348378638699 \n",
            "\n",
            "Finished function call:  239\n",
            "With parameters:  [182, 160, 161, 2, 1, 0, 123]\n",
            "And MAE:  15619.043838291953 \n",
            "\n",
            "Finished function call:  240\n",
            "With parameters:  [254, 53, 214, 3, 2, 2, 292]\n",
            "And MAE:  173845.41403574485 \n",
            "\n",
            "Finished function call:  241\n",
            "With parameters:  [34, 195, 76, 4, 4, 0, 395]\n",
            "And MAE:  17420.49744488442 \n",
            "\n",
            "Finished function call:  242\n",
            "With parameters:  [179, 88, 60, 2, 1, 4, 408]\n",
            "And MAE:  175143.865268655 \n",
            "\n",
            "Finished function call:  243\n",
            "With parameters:  [21, 242, 20, 0, 3, 1, 302]\n",
            "And MAE:  20128.189854452055 \n",
            "\n",
            "Finished function call:  244\n",
            "With parameters:  [131, 44, 114, 3, 2, 4, 496]\n",
            "And MAE:  173952.24924082297 \n",
            "\n",
            "Finished function call:  245\n",
            "With parameters:  [59, 138, 156, 2, 1, 3, 307]\n",
            "And MAE:  16260.313543450342 \n",
            "\n",
            "Finished function call:  246\n",
            "With parameters:  [204, 54, 72, 2, 3, 3, 245]\n",
            "And MAE:  15476.399133133562 \n",
            "\n",
            "Finished function call:  247\n",
            "With parameters:  [240, 120, 72, 2, 3, 3, 245]\n",
            "And MAE:  15919.861180971746 \n",
            "\n",
            "Finished function call:  248\n",
            "With parameters:  [240, 54, 88, 2, 3, 3, 245]\n",
            "And MAE:  15699.330532962329 \n",
            "\n",
            "Finished function call:  249\n",
            "With parameters:  [240, 54, 72, 1, 3, 3, 245]\n",
            "And MAE:  17687.985940175513 \n",
            "\n"
          ],
          "name": "stdout"
        }
      ]
    },
    {
      "cell_type": "code",
      "metadata": {
        "id": "RYBS-vMJHKPi",
        "colab_type": "code",
        "outputId": "4c72b40e-6945-4d3c-ce54-277148b66892",
        "colab": {
          "base_uri": "https://localhost:8080/",
          "height": 427
        }
      },
      "source": [
        "# Let's grab the parameters and construct the neural network with them\n",
        "x = list(map(lambda x: np.int(np.round(x)),retval.x))\n",
        "\n",
        "# Same code as before\n",
        "\n",
        "act1 = args[x[3]]\n",
        "act2 = args[x[4]]\n",
        "act3 = args[x[5]]\n",
        "\n",
        "# Build the layers\n",
        "input_ = keras.layers.Input(shape=X_train.shape[1:])\n",
        "layer1 = keras.layers.Dense(x[0],activation=act1)(input_)\n",
        "layer2 = keras.layers.Dense(x[1],activation=act2)(layer1)\n",
        "layer3 = keras.layers.Dense(x[2],activation=act3)(layer2)\n",
        "output_ = keras.layers.Dense(1)(layer3)\n",
        "\n",
        "# Build model\n",
        "model = keras.Model(inputs=input_,outputs=output_)\n",
        "model.compile(loss='mean_squared_error',optimizer='adam')\n",
        "model.fit(X_train,y_train,epochs=x[6],verbose=0)\n",
        "y_predict = model.predict(X_test).T[0]\n",
        "\n",
        "print('Layer1 has',x[0],'neurons with activation',act1)\n",
        "print('Layer1 has',x[1],'neurons with activation',act2)\n",
        "print('Layer1 has',x[2],'neurons with activation',act3)\n",
        "print('And',x[6],'epochs\\n')\n",
        "print_accuracies(y_test,y_predict)"
      ],
      "execution_count": 0,
      "outputs": [
        {
          "output_type": "stream",
          "text": [
            "Layer1 has 240 neurons with activation sigmoid\n",
            "Layer1 has 54 neurons with activation elu\n",
            "Layer1 has 72 neurons with activation elu\n",
            "And 245 epochs\n",
            "\n",
            "The MSE is:  473730955.0598383\n",
            "The MSLE is:  0.018044680369075496\n",
            "The MAE is:  15500.460455907534\n",
            "The MAPE is:  9.69925449230254\n"
          ],
          "name": "stdout"
        },
        {
          "output_type": "display_data",
          "data": {
            "image/png": "[encoded data removed]",
            "text/plain": [
              "<Figure size 432x288 with 1 Axes>"
            ]
          },
          "metadata": {
            "tags": [],
            "needs_background": "light"
          }
        }
      ]
    }
  ]
}