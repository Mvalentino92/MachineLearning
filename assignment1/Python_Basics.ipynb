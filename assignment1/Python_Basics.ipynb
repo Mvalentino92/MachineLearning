{
  "nbformat": 4,
  "nbformat_minor": 0,
  "metadata": {
    "kernelspec": {
      "display_name": "Python 3",
      "language": "python",
      "name": "python3"
    },
    "language_info": {
      "codemirror_mode": {
        "name": "ipython",
        "version": 3
      },
      "file_extension": ".py",
      "mimetype": "text/x-python",
      "name": "python",
      "nbconvert_exporter": "python",
      "pygments_lexer": "ipython3",
      "version": "3.7.3"
    },
    "colab": {
      "name": "Python_Basics.ipynb",
      "provenance": []
    }
  },
  "cells": [
    {
      "cell_type": "markdown",
      "metadata": {
        "id": "cmaURryBPeWA",
        "colab_type": "text"
      },
      "source": [
        "# This is our first jupyter notebook"
      ]
    },
    {
      "cell_type": "markdown",
      "metadata": {
        "id": "isuP4M1MPeWG",
        "colab_type": "text"
      },
      "source": [
        "### Markdown cell example:\n",
        "$x = \\frac{-b\\pm\\sqrt{b^2-4ac}}{2a}$"
      ]
    },
    {
      "cell_type": "markdown",
      "metadata": {
        "id": "17SJOFIIPeWM",
        "colab_type": "text"
      },
      "source": [
        "## Basic programming aspects of Python"
      ]
    },
    {
      "cell_type": "code",
      "metadata": {
        "id": "SFxw3S5FPeWQ",
        "colab_type": "code",
        "colab": {},
        "outputId": "3e11a2fb-b1fe-4d89-d5ae-b424edd5fb26"
      },
      "source": [
        "#print the version of python you are using:\n",
        "import sys\n",
        "print(\"Python version\")\n",
        "print (sys.version)"
      ],
      "execution_count": 0,
      "outputs": [
        {
          "output_type": "stream",
          "text": [
            "Python version\n",
            "3.7.3 (default, Mar 27 2019, 17:13:21) [MSC v.1915 64 bit (AMD64)]\n"
          ],
          "name": "stdout"
        }
      ]
    },
    {
      "cell_type": "markdown",
      "metadata": {
        "id": "vlJyCh_WPeWd",
        "colab_type": "text"
      },
      "source": [
        "#### Variables"
      ]
    },
    {
      "cell_type": "code",
      "metadata": {
        "id": "aPIrZ10FPeWh",
        "colab_type": "code",
        "colab": {},
        "outputId": "09a591d6-4249-4558-8de2-2476357c12ad"
      },
      "source": [
        "#Two types of key variables: numerical and string\n",
        "x = 10  # Integer variable\n",
        "y = \"Hello World\"  # String variable\n",
        " \n",
        "# Displaying variables value using **print** statement\n",
        "print(x)\n",
        "print(y)"
      ],
      "execution_count": 0,
      "outputs": [
        {
          "output_type": "stream",
          "text": [
            "10\n",
            "Hello World\n"
          ],
          "name": "stdout"
        }
      ]
    },
    {
      "cell_type": "code",
      "metadata": {
        "id": "BBGARkOqPeWv",
        "colab_type": "code",
        "colab": {},
        "outputId": "65713de9-10b3-4194-d8cc-f4b6a2cf4907"
      },
      "source": [
        "#Checking type of variable\n",
        "var1 = 'Hello World'\n",
        "print(type(var1))\n",
        " \n",
        "var2 = 100\n",
        "if type(var2) == int:\n",
        "    print('Integer')"
      ],
      "execution_count": 0,
      "outputs": [
        {
          "output_type": "stream",
          "text": [
            "<class 'str'>\n",
            "Integer\n"
          ],
          "name": "stdout"
        }
      ]
    },
    {
      "cell_type": "markdown",
      "metadata": {
        "id": "t3L3_XiHPeW2",
        "colab_type": "text"
      },
      "source": [
        "### Execise 1:\n",
        "\n",
        "Write a Python program to print the following string in a specific format using \\n and \\t (see the output). Go to the editor\n",
        "Sample String : \"Twinkle, twinkle, little star, How I wonder what you are! Up above the world so high, Like a diamond in the sky. Twinkle, twinkle, little star, How I wonder what you are\" Output :"
      ]
    },
    {
      "cell_type": "code",
      "metadata": {
        "id": "VZbnHyRSPeW7",
        "colab_type": "code",
        "colab": {
          "base_uri": "https://localhost:8080/",
          "height": 124
        },
        "outputId": "fc285dd9-9dc4-4891-a9bd-ca14b0af9056"
      },
      "source": [
        "print(\"\"\"Twinkle, twinkle, little star,\n",
        "    How I wonder what you are! \n",
        "        Up above the world so high,\n",
        "        Like a diamond in the sky. \n",
        "Twinkle, twinkle, little star, \n",
        "    How I wonder what you are\"\"\")"
      ],
      "execution_count": 1,
      "outputs": [
        {
          "output_type": "stream",
          "text": [
            "Twinkle, twinkle, little star,\n",
            "    How I wonder what you are! \n",
            "        Up above the world so high,\n",
            "        Like a diamond in the sky. \n",
            "Twinkle, twinkle, little star, \n",
            "    How I wonder what you are\n"
          ],
          "name": "stdout"
        }
      ]
    },
    {
      "cell_type": "code",
      "metadata": {
        "id": "V2fA6fmgQKJ4",
        "colab_type": "code",
        "colab": {
          "base_uri": "https://localhost:8080/",
          "height": 124
        },
        "outputId": "3f7d1323-f5fe-4b93-b1d8-6c9d3eb7fb56"
      },
      "source": [
        "print(\"Twinkle, twinkle, little start,\\n    How I wonder what you are!\\n\\tUp above the world so high,\\n\\tLike a diamong in the sky.\\nTwinkle, twinkle, little start,\\n    How I wonder what you are\")"
      ],
      "execution_count": 6,
      "outputs": [
        {
          "output_type": "stream",
          "text": [
            "Twinkle, twinkle, little start,\n",
            "    How I wonder what you are!\n",
            "\tUp above the world so high,\n",
            "\tLike a diamong in the sky.\n",
            "Twinkle, twinkle, little start,\n",
            "    How I wonder what you are\n"
          ],
          "name": "stdout"
        }
      ]
    },
    {
      "cell_type": "markdown",
      "metadata": {
        "id": "MhbOgwsqPeXH",
        "colab_type": "text"
      },
      "source": [
        "#### Functions"
      ]
    },
    {
      "cell_type": "code",
      "metadata": {
        "id": "yxv9mqNAPeXJ",
        "colab_type": "code",
        "colab": {},
        "outputId": "da40651f-fe7a-41f9-91ea-90428994ea92"
      },
      "source": [
        "#Here is an example of a basic function\n",
        "def square(x):\n",
        "    \"\"\"This program calculates the square\n",
        "    input is x\n",
        "    returns the square of x\"\"\"\n",
        "    out = x*x\n",
        "    return out\n",
        "\n",
        "print(square(10))"
      ],
      "execution_count": 0,
      "outputs": [
        {
          "output_type": "stream",
          "text": [
            "100\n"
          ],
          "name": "stdout"
        }
      ]
    },
    {
      "cell_type": "code",
      "metadata": {
        "id": "-9lyT8GoPeXP",
        "colab_type": "code",
        "colab": {},
        "outputId": "09022013-258d-4dfa-b3f7-7f18bf315539"
      },
      "source": [
        "a = int(input(\"Input an integer : \"))\n",
        "print(square(a))"
      ],
      "execution_count": 0,
      "outputs": [
        {
          "output_type": "stream",
          "text": [
            "Input an integer : 57\n",
            "3249\n"
          ],
          "name": "stdout"
        }
      ]
    },
    {
      "cell_type": "markdown",
      "metadata": {
        "id": "CNRAz2gaPeXU",
        "colab_type": "text"
      },
      "source": [
        "### Exercise 2:\n",
        "Write a Python program that accepts an integer (n) and computes the value of n+nn+nnn."
      ]
    },
    {
      "cell_type": "code",
      "metadata": {
        "id": "RKuyrVKuRZ1t",
        "colab_type": "code",
        "colab": {
          "base_uri": "https://localhost:8080/",
          "height": 53
        },
        "outputId": "95cb69a8-8a7f-44d8-c9e8-132876531086"
      },
      "source": [
        "\"\"\"This is how I read it initially\"\"\"\n",
        "def comp(n):\n",
        "    sq = n*n\n",
        "    return n+sq+sq*n\n",
        "\n",
        "print(comp(3))\n",
        "\n",
        "\"\"\"Version with 5\"\"\"\n",
        "def comp2(n):\n",
        "    i = str(n)\n",
        "    ii = i+i\n",
        "    iii = ii+i\n",
        "    return int(i) + int(ii) + int(iii)\n",
        "\n",
        "print(comp2(5))"
      ],
      "execution_count": 15,
      "outputs": [
        {
          "output_type": "stream",
          "text": [
            "39\n",
            "615\n"
          ],
          "name": "stdout"
        }
      ]
    },
    {
      "cell_type": "markdown",
      "metadata": {
        "id": "pusi_NaBPeXV",
        "colab_type": "text"
      },
      "source": [
        "#### Conditionals"
      ]
    },
    {
      "cell_type": "code",
      "metadata": {
        "id": "jD_dmYhBPeXW",
        "colab_type": "code",
        "colab": {},
        "outputId": "ed10492b-acea-4529-dd2f-f6132061ce21"
      },
      "source": [
        "#if statement\n",
        "x = 10\n",
        "y = 20\n",
        " \n",
        "if x < y:\n",
        "    print(\"x is less than y\")"
      ],
      "execution_count": 0,
      "outputs": [
        {
          "output_type": "stream",
          "text": [
            "x is less than y\n"
          ],
          "name": "stdout"
        }
      ]
    },
    {
      "cell_type": "code",
      "metadata": {
        "id": "hQZrKdruPeXa",
        "colab_type": "code",
        "colab": {},
        "outputId": "ebd5e40d-f39c-4f5e-cab3-7e37badec729"
      },
      "source": [
        "#if-then-else\n",
        "x = 10\n",
        "y = 5\n",
        " \n",
        "if x < y:\n",
        "    print(\"x is less than y\")\n",
        "else:\n",
        "    print(\"y is less than x\")"
      ],
      "execution_count": 0,
      "outputs": [
        {
          "output_type": "stream",
          "text": [
            "y is less than x\n"
          ],
          "name": "stdout"
        }
      ]
    },
    {
      "cell_type": "markdown",
      "metadata": {
        "id": "7Qop0dabPeXd",
        "colab_type": "text"
      },
      "source": [
        "### Exercise 3:\n",
        "Write a Python program to find whether a given number (accept from the user) is even or odd, print out an appropriate message to the user"
      ]
    },
    {
      "cell_type": "code",
      "metadata": {
        "id": "WubRx1YGPeXf",
        "colab_type": "code",
        "colab": {},
        "outputId": "e1da8590-5f1d-437d-cc40-e6d83365decf"
      },
      "source": [
        "#extension\n",
        "x = 10\n",
        "y = 10\n",
        "z = 15\n",
        " \n",
        "if x < y:\n",
        "    print(\"x is less than y\")\n",
        "elif x < z:\n",
        "    print(\"x is less than z\")\n",
        "else:\n",
        "    print(\"x is equal to y\")"
      ],
      "execution_count": 0,
      "outputs": [
        {
          "output_type": "stream",
          "text": [
            "x is less than z\n"
          ],
          "name": "stdout"
        }
      ]
    },
    {
      "cell_type": "code",
      "metadata": {
        "id": "xlsfIJw0RxRb",
        "colab_type": "code",
        "colab": {
          "base_uri": "https://localhost:8080/",
          "height": 53
        },
        "outputId": "a11f09cc-8200-42e0-b846-e7cd27ee9e81"
      },
      "source": [
        "val = int(input(\"Enter a number: \"))\n",
        "if val % 2 == 0:\n",
        "    print(\"THe number is even\")\n",
        "else:\n",
        "    print(\"The number is odd\")\n"
      ],
      "execution_count": 9,
      "outputs": [
        {
          "output_type": "stream",
          "text": [
            "Enter a number: 7\n",
            "The number is odd\n"
          ],
          "name": "stdout"
        }
      ]
    },
    {
      "cell_type": "markdown",
      "metadata": {
        "id": "qcLZak8WPeXl",
        "colab_type": "text"
      },
      "source": [
        "### Exercise 4:\n",
        "Write a Python program to test and print whether the input number is within 100 of 1000."
      ]
    },
    {
      "cell_type": "code",
      "metadata": {
        "id": "vs_9uqfRSWui",
        "colab_type": "code",
        "colab": {
          "base_uri": "https://localhost:8080/",
          "height": 53
        },
        "outputId": "1630fae9-7bdf-4fa5-ea09-cd8a58e926a5"
      },
      "source": [
        "val = float(input(\"Enter a number: \"))\n",
        "if val <= 1100 and val >= 900:\n",
        "    print(\"It is within range\")\n",
        "else:\n",
        "    print(\"Not within range\")"
      ],
      "execution_count": 18,
      "outputs": [
        {
          "output_type": "stream",
          "text": [
            "Enter a number: 956\n",
            "It is within range\n"
          ],
          "name": "stdout"
        }
      ]
    },
    {
      "cell_type": "markdown",
      "metadata": {
        "id": "Nygu-lscPeXm",
        "colab_type": "text"
      },
      "source": [
        "#### For loops"
      ]
    },
    {
      "cell_type": "code",
      "metadata": {
        "id": "EB7EWMg3PeXn",
        "colab_type": "code",
        "colab": {},
        "outputId": "bc1806bc-2ee2-4eb5-d69f-82cf9aab4be9"
      },
      "source": [
        "for number in [1, 2, 3, 4, 5]:\n",
        "    print(number)"
      ],
      "execution_count": 0,
      "outputs": [
        {
          "output_type": "stream",
          "text": [
            "1\n",
            "2\n",
            "3\n",
            "4\n",
            "5\n"
          ],
          "name": "stdout"
        }
      ]
    },
    {
      "cell_type": "code",
      "metadata": {
        "id": "1DWRWAb6PeX0",
        "colab_type": "code",
        "colab": {},
        "outputId": "ea418acb-d5c0-47fa-c706-8f37cc0c88e8"
      },
      "source": [
        "for number in range(5):\n",
        "    print(\"Python\")"
      ],
      "execution_count": 0,
      "outputs": [
        {
          "output_type": "stream",
          "text": [
            "Python\n",
            "Python\n",
            "Python\n",
            "Python\n",
            "Python\n"
          ],
          "name": "stdout"
        }
      ]
    },
    {
      "cell_type": "markdown",
      "metadata": {
        "id": "g_KIwOtfPeX3",
        "colab_type": "text"
      },
      "source": [
        "#### Data structures"
      ]
    },
    {
      "cell_type": "code",
      "metadata": {
        "id": "auOlJMmnPeX4",
        "colab_type": "code",
        "colab": {},
        "outputId": "35eca50c-7242-415b-85c3-8a6b0a3af5bb"
      },
      "source": [
        "#List of various entities\n",
        "intList = [10, 20, 30, 40]\n",
        "strList = [\"Canada\", \"Japan\", \"London\"]\n",
        "mixList = [\"Canada\", 20, True, 500.50]\n",
        "generate = [x + 6 for x in [4, 5, 6]]  # Generate from loop: list comprehension\n",
        "listfromtuple = list((5, 13, 15, 17, 29))  # List from a tuple\n",
        "python = list('python')  # List from a string\n",
        " \n",
        "print(intList)\n",
        "print(strList)\n",
        "print(mixList)\n",
        "print(generate)\n",
        "print(listfromtuple)\n",
        "print(python)"
      ],
      "execution_count": 0,
      "outputs": [
        {
          "output_type": "stream",
          "text": [
            "[10, 20, 30, 40]\n",
            "['Canada', 'Japan', 'London']\n",
            "['Canada', 20, True, 500.5]\n",
            "[10, 11, 12]\n",
            "[5, 13, 15, 17, 29]\n",
            "['p', 'y', 't', 'h', 'o', 'n']\n"
          ],
          "name": "stdout"
        }
      ]
    },
    {
      "cell_type": "code",
      "metadata": {
        "id": "KLuY8sUGPeX7",
        "colab_type": "code",
        "colab": {},
        "outputId": "3622c49d-b604-4d3d-d8df-c6fbef971857"
      },
      "source": [
        "#Accessing list items by index\n",
        "testList = [\"Canada\", \"Japan\", \"London\"]\n",
        "print(testList[1])\n",
        "print(testList[-2])"
      ],
      "execution_count": 0,
      "outputs": [
        {
          "output_type": "stream",
          "text": [
            "Japan\n",
            "Japan\n"
          ],
          "name": "stdout"
        }
      ]
    },
    {
      "cell_type": "code",
      "metadata": {
        "id": "fVAedz7OPeX-",
        "colab_type": "code",
        "colab": {},
        "outputId": "80445eeb-c1fb-440a-97b0-2b4f6e816e2f"
      },
      "source": [
        "#Changing list items directly\n",
        "testList = [\"Canada\", \"Japan\", \"London\"]\n",
        "print(testList)\n",
        " \n",
        "testList[0] = \"Germany\"\n",
        "testList[1] = 100\n",
        "print(testList)"
      ],
      "execution_count": 0,
      "outputs": [
        {
          "output_type": "stream",
          "text": [
            "['Canada', 'Japan', 'London']\n",
            "['Germany', 100, 'London']\n"
          ],
          "name": "stdout"
        }
      ]
    },
    {
      "cell_type": "code",
      "metadata": {
        "id": "qHWI35GQPeYC",
        "colab_type": "code",
        "colab": {},
        "outputId": "dc26ac31-052e-4b97-aa80-72cfab222092"
      },
      "source": [
        "#Removing duplicate entries in a list:\n",
        "testList = [\"Canada\", \"Japan\", \"Canada\", \"Germany\", \"Japan\", \"Italy\"]\n",
        "\n",
        "print(testList)\n",
        " \n",
        "cleanlist = []\n",
        "#The following is an example if a powerful Python utility called \"list comprehension\"\n",
        "[cleanlist.append(x) for x in testList if x not in cleanlist]\n",
        "\n",
        "print(cleanlist)"
      ],
      "execution_count": 0,
      "outputs": [
        {
          "output_type": "stream",
          "text": [
            "['Canada', 'Japan', 'Canada', 'Germany', 'Japan', 'Italy']\n",
            "['Canada', 'Japan', 'Germany', 'Italy']\n"
          ],
          "name": "stdout"
        }
      ]
    },
    {
      "cell_type": "code",
      "metadata": {
        "id": "gwB6it6mPeYF",
        "colab_type": "code",
        "colab": {},
        "outputId": "d39e8753-9adb-4351-b41d-cb40a285c116"
      },
      "source": [
        "#The difference between two lists:\n",
        "list1 = [\"Canada\", \"Japan\", \"Canada\", \"Germany\", \"Japan\", \"Italy\"]\n",
        "list2 = [\"Germany\", \"France\", \"Poland\", \"Italy\", \"India\", \"London\"]\n",
        "\n",
        "#when chaning a list to a set, only unique entries are kept and in no specific order \n",
        "sub1 = list(set(list1) - set(list2))\n",
        "print(sub1)\n",
        " \n",
        "sub2 = list(set(list2) - set(list1))\n",
        "print(sub2)"
      ],
      "execution_count": 0,
      "outputs": [
        {
          "output_type": "stream",
          "text": [
            "['Canada', 'Japan']\n",
            "['Poland', 'London', 'India', 'France']\n"
          ],
          "name": "stdout"
        }
      ]
    },
    {
      "cell_type": "markdown",
      "metadata": {
        "id": "Wp6HQWenPeYP",
        "colab_type": "text"
      },
      "source": [
        "### Exercise 5\n",
        "Write a Python program to print out a set containing all the colors from color_list_1 which are not present in color_list_2.    Here is an example:  \n",
        "\n",
        "Test Data :  \n",
        "color_list_1 = set([\"White\", \"Black\", \"Red\"])  \n",
        "color_list_2 = set([\"Red\", \"Green\"])  \n",
        "Expected Output :  \n",
        "{'Black', 'White'}  "
      ]
    },
    {
      "cell_type": "code",
      "metadata": {
        "id": "jvykEXPnS577",
        "colab_type": "code",
        "colab": {
          "base_uri": "https://localhost:8080/",
          "height": 35
        },
        "outputId": "72d1fd7a-9202-4673-8a7c-4ce046ea2da1"
      },
      "source": [
        "clist1 = set([\"White\",\"Black\",\"Red\"])\n",
        "clist2 = set([\"Red\",\"Green\"])\n",
        "\n",
        "print(clist1 - clist2)"
      ],
      "execution_count": 11,
      "outputs": [
        {
          "output_type": "stream",
          "text": [
            "{'Black', 'White'}\n"
          ],
          "name": "stdout"
        }
      ]
    },
    {
      "cell_type": "markdown",
      "metadata": {
        "id": "XYekeu__PeYR",
        "colab_type": "text"
      },
      "source": [
        "#### Dictionaries are a more general type of list, where each entry is a key:value pair\n",
        "#There are many ways to generate dictionaries"
      ]
    },
    {
      "cell_type": "code",
      "metadata": {
        "id": "mug-pIcmPeYS",
        "colab_type": "code",
        "colab": {},
        "outputId": "f79001ac-3fb2-44de-f467-20119285bff0"
      },
      "source": [
        "#The follwoing are all equivalent ways of creating the same dictionary\n",
        "\n",
        "d1 = dict(Canada=100, Japan=500)\n",
        "d2 = {'Canada': 100, 'Japan': 500}\n",
        "d3 = dict(zip(['Canada', 'Japan'], [100, 500]))\n",
        "d4 = dict([('Canada', 100), ('Japan', 500)])\n",
        "d5 = dict({'Japan': 500, 'Canada': 100})\n",
        "print(d1)\n",
        "print(d2)\n",
        "print(d3)\n",
        "print(d4)\n",
        "print(d5)   "
      ],
      "execution_count": 0,
      "outputs": [
        {
          "output_type": "stream",
          "text": [
            "{'Canada': 100, 'Japan': 500}\n",
            "{'Canada': 100, 'Japan': 500}\n",
            "{'Canada': 100, 'Japan': 500}\n",
            "{'Canada': 100, 'Japan': 500}\n",
            "{'Japan': 500, 'Canada': 100}\n"
          ],
          "name": "stdout"
        }
      ]
    },
    {
      "cell_type": "code",
      "metadata": {
        "id": "Qitdq0ANPeYV",
        "colab_type": "code",
        "colab": {},
        "outputId": "78a3751a-174b-4bc6-ce4a-41d9c5948205"
      },
      "source": [
        "#here are ways to get values of keys from a dictionary:\n",
        "d1 = {'Canada': 100, 'Japan': 500}\n",
        "x = d1[\"Canada\"]\n",
        "y = d1.get(\"Japan\")\n",
        "print(x)\n",
        "print(y)"
      ],
      "execution_count": 0,
      "outputs": [
        {
          "output_type": "stream",
          "text": [
            "100\n",
            "500\n"
          ],
          "name": "stdout"
        }
      ]
    },
    {
      "cell_type": "markdown",
      "metadata": {
        "id": "xPUv1GLjPeYY",
        "colab_type": "text"
      },
      "source": [
        "#### to retrieve keys and values as lists"
      ]
    },
    {
      "cell_type": "code",
      "metadata": {
        "id": "xjaCXe1mPeYZ",
        "colab_type": "code",
        "colab": {},
        "outputId": "4cab777b-5bbc-4e2e-a0bb-1df786574c84"
      },
      "source": [
        "for item in d1.keys():\n",
        "    print(item)"
      ],
      "execution_count": 0,
      "outputs": [
        {
          "output_type": "stream",
          "text": [
            "Canada\n",
            "Japan\n"
          ],
          "name": "stdout"
        }
      ]
    },
    {
      "cell_type": "code",
      "metadata": {
        "id": "QAt0mzfOPeYb",
        "colab_type": "code",
        "colab": {},
        "outputId": "86482ff0-b2bd-4072-94a3-df18cd1f52f7"
      },
      "source": [
        "##values as a list\n",
        "list(d1.values())"
      ],
      "execution_count": 0,
      "outputs": [
        {
          "output_type": "execute_result",
          "data": {
            "text/plain": [
              "[100, 500]"
            ]
          },
          "metadata": {
            "tags": []
          },
          "execution_count": 31
        }
      ]
    },
    {
      "cell_type": "markdown",
      "metadata": {
        "id": "mfpHmqn7PeYe",
        "colab_type": "text"
      },
      "source": [
        "### Exercise 6\n",
        "Print each of the keys and corresponding values, one per line, in a dictionary (say d3) in the format: key = value"
      ]
    },
    {
      "cell_type": "code",
      "metadata": {
        "id": "fqQqTfIBTGjH",
        "colab_type": "code",
        "colab": {
          "base_uri": "https://localhost:8080/",
          "height": 70
        },
        "outputId": "a1844128-a0de-45e2-8671-6b323b146745"
      },
      "source": [
        "d3 = dict(Tv=100,Radio=50,Xbox=250)\n",
        "for item in d3.keys():\n",
        "    print(item,\":\",d3.get(item))\n"
      ],
      "execution_count": 13,
      "outputs": [
        {
          "output_type": "stream",
          "text": [
            "Tv : 100\n",
            "Radio : 50\n",
            "Xbox : 250\n"
          ],
          "name": "stdout"
        }
      ]
    },
    {
      "cell_type": "markdown",
      "metadata": {
        "id": "NzKBb5wTPeYf",
        "colab_type": "text"
      },
      "source": [
        "#### Classes and Objects"
      ]
    },
    {
      "cell_type": "code",
      "metadata": {
        "id": "_e_d3QTmPeYg",
        "colab_type": "code",
        "colab": {}
      },
      "source": [
        "#A class is an abstraction of an entity\n",
        "class Employee:\n",
        "    name = \"John\"\n",
        "    age = 26"
      ],
      "execution_count": 0,
      "outputs": []
    },
    {
      "cell_type": "code",
      "metadata": {
        "id": "VOD0amRqPeYj",
        "colab_type": "code",
        "colab": {},
        "outputId": "bbe3b5a1-4ef7-4365-d03b-724665df1477"
      },
      "source": [
        "#Here is how to create an object of the class Employee\n",
        "e = Employee()\n",
        "print(e.name, e.age)\n",
        "print(type(e))  # <class '__main__.Employee'>"
      ],
      "execution_count": 0,
      "outputs": [
        {
          "output_type": "stream",
          "text": [
            "John 26\n",
            "<class '__main__.Employee'>\n"
          ],
          "name": "stdout"
        }
      ]
    },
    {
      "cell_type": "code",
      "metadata": {
        "id": "MlyGqeAPPeYl",
        "colab_type": "code",
        "colab": {},
        "outputId": "dd8202cb-b826-400a-bbce-40cc28e1b909"
      },
      "source": [
        "#Typically a class object will have initializer to set initial value to its attributes, as in this example:\n",
        "class Employee:\n",
        "    def __init__(self, name, age):\n",
        "        self.name = name\n",
        "        self.age = age\n",
        " \n",
        " \n",
        "e = Employee(\"Sam\", 36)\n",
        "print(e.name, e.age)"
      ],
      "execution_count": 0,
      "outputs": [
        {
          "output_type": "stream",
          "text": [
            "Sam 36\n"
          ],
          "name": "stdout"
        }
      ]
    },
    {
      "cell_type": "code",
      "metadata": {
        "id": "v3scv5QEPeYp",
        "colab_type": "code",
        "colab": {},
        "outputId": "2b22d9ef-2ac4-4e1a-e408-a4dfbe0b82de"
      },
      "source": [
        "#Another important part of a class object are its methods\n",
        "class Employee:\n",
        "    def __init__(self, name, age):\n",
        "        self.name = name\n",
        "        self.age = age\n",
        "    \n",
        "    #method \"details\"\n",
        "    def details(self):\n",
        "        print(\"Employee Name:\",  self.name)\n",
        "        print(\"Employee Age:\", self.age)\n",
        " \n",
        " \n",
        "emp = Employee(\"Sam\", 36)\n",
        "emp.details()"
      ],
      "execution_count": 0,
      "outputs": [
        {
          "output_type": "stream",
          "text": [
            "Employee Name: Sam\n",
            "Employee Age: 36\n"
          ],
          "name": "stdout"
        }
      ]
    },
    {
      "cell_type": "markdown",
      "metadata": {
        "id": "ILAMla4GPeYs",
        "colab_type": "text"
      },
      "source": [
        "### Exercise 7:\n",
        "Create a python class \"Student\" with \n",
        "\n",
        "- attributes: name, age, major, year in college\n",
        "- methods: \n",
        "           1. __init__ that allows to initialize the each Student instance with attributes when created\n",
        "           2. details that prints out name, age and major when called"
      ]
    },
    {
      "cell_type": "code",
      "metadata": {
        "id": "kxCufcLxUFw2",
        "colab_type": "code",
        "colab": {
          "base_uri": "https://localhost:8080/",
          "height": 70
        },
        "outputId": "eb408aad-fee7-4c2f-e258-a1ef962eb54f"
      },
      "source": [
        "class Student:\n",
        "    def __init__(self,name,age,major):\n",
        "        self.name = name\n",
        "        self.age = age\n",
        "        self.major = major\n",
        "    \n",
        "    def details(self):\n",
        "        print(\"Name:\",self.name)\n",
        "        print(\"Age:\",self.age)\n",
        "        print(\"Major:\",self.major)\n",
        "\n",
        "\n",
        "student = Student(\"Mike\",99,\"Comp Math\")\n",
        "student.details()"
      ],
      "execution_count": 14,
      "outputs": [
        {
          "output_type": "stream",
          "text": [
            "Name: Mike\n",
            "Age: 99\n",
            "Major: Comp Math\n"
          ],
          "name": "stdout"
        }
      ]
    },
    {
      "cell_type": "code",
      "metadata": {
        "id": "u22YcDI9PeYt",
        "colab_type": "code",
        "colab": {}
      },
      "source": [
        ""
      ],
      "execution_count": 0,
      "outputs": []
    }
  ]
}